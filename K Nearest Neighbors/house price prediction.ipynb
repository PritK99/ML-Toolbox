{
 "cells": [
  {
   "cell_type": "markdown",
   "metadata": {},
   "source": [
    "## Mumbai House Price Prediction using K Nearest Neighbors (KNN)"
   ]
  },
  {
   "cell_type": "code",
   "execution_count": 1,
   "metadata": {},
   "outputs": [],
   "source": [
    "# Import all the required libraries\n",
    "import numpy as np\n",
    "import pandas as pd"
   ]
  },
  {
   "cell_type": "code",
   "execution_count": 2,
   "metadata": {},
   "outputs": [],
   "source": [
    "# Obtain the modified csv \n",
    "# Refer assets/scripts/house-price-dataset.py for preprocessing steps\n",
    "data = \"../assets/data/modified_mumbai_house_prices.csv\"\n",
    "house_price = pd.read_csv(data)"
   ]
  },
  {
   "cell_type": "code",
   "execution_count": 3,
   "metadata": {},
   "outputs": [
    {
     "name": "stdout",
     "output_type": "stream",
     "text": [
      "<class 'pandas.core.frame.DataFrame'>\n",
      "RangeIndex: 76038 entries, 0 to 76037\n",
      "Data columns (total 8 columns):\n",
      " #   Column     Non-Null Count  Dtype  \n",
      "---  ------     --------------  -----  \n",
      " 0   bhk        76038 non-null  int64  \n",
      " 1   type       76038 non-null  float64\n",
      " 2   area       76038 non-null  int64  \n",
      " 3   price      76038 non-null  float64\n",
      " 4   status     76038 non-null  int64  \n",
      " 5   age        76038 non-null  float64\n",
      " 6   latitude   76038 non-null  float64\n",
      " 7   longitude  76038 non-null  float64\n",
      "dtypes: float64(5), int64(3)\n",
      "memory usage: 4.6 MB\n",
      "None\n"
     ]
    }
   ],
   "source": [
    "# printing the info for dataset\n",
    "print(house_price.info())"
   ]
  },
  {
   "cell_type": "code",
   "execution_count": 4,
   "metadata": {},
   "outputs": [
    {
     "data": {
      "text/html": [
       "<div>\n",
       "<style scoped>\n",
       "    .dataframe tbody tr th:only-of-type {\n",
       "        vertical-align: middle;\n",
       "    }\n",
       "\n",
       "    .dataframe tbody tr th {\n",
       "        vertical-align: top;\n",
       "    }\n",
       "\n",
       "    .dataframe thead th {\n",
       "        text-align: right;\n",
       "    }\n",
       "</style>\n",
       "<table border=\"1\" class=\"dataframe\">\n",
       "  <thead>\n",
       "    <tr style=\"text-align: right;\">\n",
       "      <th></th>\n",
       "      <th>bhk</th>\n",
       "      <th>type</th>\n",
       "      <th>area</th>\n",
       "      <th>price</th>\n",
       "      <th>status</th>\n",
       "      <th>age</th>\n",
       "      <th>latitude</th>\n",
       "      <th>longitude</th>\n",
       "    </tr>\n",
       "  </thead>\n",
       "  <tbody>\n",
       "    <tr>\n",
       "      <th>0</th>\n",
       "      <td>3</td>\n",
       "      <td>0.25</td>\n",
       "      <td>685</td>\n",
       "      <td>2.5000</td>\n",
       "      <td>1</td>\n",
       "      <td>1.0</td>\n",
       "      <td>19.112122</td>\n",
       "      <td>72.867676</td>\n",
       "    </tr>\n",
       "    <tr>\n",
       "      <th>1</th>\n",
       "      <td>2</td>\n",
       "      <td>0.25</td>\n",
       "      <td>640</td>\n",
       "      <td>0.5251</td>\n",
       "      <td>0</td>\n",
       "      <td>1.0</td>\n",
       "      <td>18.969048</td>\n",
       "      <td>72.821182</td>\n",
       "    </tr>\n",
       "    <tr>\n",
       "      <th>2</th>\n",
       "      <td>2</td>\n",
       "      <td>0.25</td>\n",
       "      <td>610</td>\n",
       "      <td>1.7300</td>\n",
       "      <td>0</td>\n",
       "      <td>1.0</td>\n",
       "      <td>18.563005</td>\n",
       "      <td>73.906578</td>\n",
       "    </tr>\n",
       "    <tr>\n",
       "      <th>3</th>\n",
       "      <td>2</td>\n",
       "      <td>0.25</td>\n",
       "      <td>876</td>\n",
       "      <td>0.5998</td>\n",
       "      <td>0</td>\n",
       "      <td>1.0</td>\n",
       "      <td>18.999653</td>\n",
       "      <td>73.126328</td>\n",
       "    </tr>\n",
       "    <tr>\n",
       "      <th>4</th>\n",
       "      <td>2</td>\n",
       "      <td>0.25</td>\n",
       "      <td>659</td>\n",
       "      <td>0.9411</td>\n",
       "      <td>0</td>\n",
       "      <td>1.0</td>\n",
       "      <td>18.969048</td>\n",
       "      <td>72.821182</td>\n",
       "    </tr>\n",
       "  </tbody>\n",
       "</table>\n",
       "</div>"
      ],
      "text/plain": [
       "   bhk  type  area   price  status  age   latitude  longitude\n",
       "0    3  0.25   685  2.5000       1  1.0  19.112122  72.867676\n",
       "1    2  0.25   640  0.5251       0  1.0  18.969048  72.821182\n",
       "2    2  0.25   610  1.7300       0  1.0  18.563005  73.906578\n",
       "3    2  0.25   876  0.5998       0  1.0  18.999653  73.126328\n",
       "4    2  0.25   659  0.9411       0  1.0  18.969048  72.821182"
      ]
     },
     "execution_count": 4,
     "metadata": {},
     "output_type": "execute_result"
    }
   ],
   "source": [
    "house_price.head()"
   ]
  },
  {
   "cell_type": "code",
   "execution_count": 5,
   "metadata": {},
   "outputs": [
    {
     "data": {
      "text/plain": [
       "(76038, 8)"
      ]
     },
     "execution_count": 5,
     "metadata": {},
     "output_type": "execute_result"
    }
   ],
   "source": [
    "house_price.shape"
   ]
  },
  {
   "cell_type": "code",
   "execution_count": 6,
   "metadata": {},
   "outputs": [
    {
     "name": "stdout",
     "output_type": "stream",
     "text": [
      "The size of X_train is:  (72237, 7)\n",
      "The size of X_test is:  (3801, 7)\n",
      "The size of y_train is:  72237\n",
      "The size of y_test is:  3801\n",
      "   bhk  type  area  status  age   latitude  longitude\n",
      "0    3  0.25   685       1  1.0  19.112122  72.867676\n",
      "1    2  0.25   640       0  1.0  18.969048  72.821182\n",
      "2    2  0.25   610       0  1.0  18.563005  73.906578\n",
      "3    2  0.25   876       0  1.0  18.999653  73.126328\n",
      "4    2  0.25   659       0  1.0  18.969048  72.821182\n",
      "[2.5, 0.5251, 1.73, 0.5998, 0.9411]\n",
      "   bhk  type  area  status  age   latitude  longitude\n",
      "0    1  0.25   650       0  1.0  19.064692  73.129295\n",
      "1    3  0.25  1800       1  0.0  19.110324  73.006050\n",
      "2    1  0.25   650       0  1.0  18.969048  72.821182\n",
      "3    1  0.25   916       1  1.0  18.969048  72.821182\n",
      "4    2  0.25   811       1  1.0  18.969048  72.821182\n",
      "[0.41, 2.8, 0.27, 0.537, 1.4]\n"
     ]
    }
   ],
   "source": [
    "# split into train and test dataset\n",
    "test_ratio = 0.05\n",
    "test_size = int(test_ratio*len(house_price))\n",
    "test_indices = house_price.sample(test_size, random_state=42).index\n",
    "X_train = house_price.drop(test_indices)\n",
    "X_test = house_price.loc[test_indices]\n",
    "X_train = X_train.reset_index(drop=True)\n",
    "X_test = X_test.reset_index(drop=True)\n",
    "y_train = X_train.pop(\"price\").tolist()\n",
    "y_test = X_test.pop(\"price\").tolist()\n",
    "print(\"The size of X_train is: \", X_train.shape)\n",
    "print(\"The size of X_test is: \", X_test.shape)\n",
    "print(\"The size of y_train is: \", len(y_train))\n",
    "print(\"The size of y_test is: \", len(y_test))\n",
    "print(X_train.head())\n",
    "print(y_train[0:5])\n",
    "print(X_test.head())\n",
    "print(y_test[0:5])"
   ]
  },
  {
   "cell_type": "code",
   "execution_count": 7,
   "metadata": {},
   "outputs": [
    {
     "name": "stdout",
     "output_type": "stream",
     "text": [
      "        bhk      type      area    status       age  latitude  longitude\n",
      "0  1.068390  0.028729 -0.506153  0.830872  0.919331  0.475835  -0.132442\n",
      "1 -0.016673  0.028729 -0.573139 -1.203556  0.919331 -0.575141  -0.439650\n",
      "2 -0.016673  0.028729 -0.617797 -1.203556  0.919331 -3.557795   6.732132\n",
      "3 -0.016673  0.028729 -0.221833 -1.203556  0.919331 -0.350324   1.576606\n",
      "4 -0.016673  0.028729 -0.544856 -1.203556  0.919331 -0.575141  -0.439650\n"
     ]
    }
   ],
   "source": [
    "X_mean = np.mean(X_train, axis=0)\n",
    "X_std = np.std(X_train, axis=0)\n",
    "\n",
    "# Normalizing the data\n",
    "X_train = (X_train - X_mean)/X_std\n",
    "X_test = (X_test - X_mean)/X_std\n",
    "\n",
    "print(X_train.head())"
   ]
  },
  {
   "cell_type": "code",
   "execution_count": 8,
   "metadata": {},
   "outputs": [
    {
     "name": "stdout",
     "output_type": "stream",
     "text": [
      "Test instance 0/3801 completed\n",
      "Test instance 1000/3801 completed\n",
      "Test instance 2000/3801 completed\n",
      "Test instance 3000/3801 completed\n",
      "Mean Absolute Error in Cr is: 0.30653924057122495\n"
     ]
    }
   ],
   "source": [
    "# Set hyperparameter k\n",
    "K = 17\n",
    "MEA = 0\n",
    "\n",
    "# Testing\n",
    "for i in range(X_test.shape[0]):\n",
    "    # Calculate distances for all instances in X_train and instance i from X_test\n",
    "    distances = np.sum(np.abs(X_train - X_test.loc[i]), axis=1)\n",
    "    \n",
    "    # Get indices of k nearest neighbors\n",
    "    nearest_indices = np.argsort(distances)[:K]\n",
    "    \n",
    "    # Calculate weighted average price of k nearest neighbors using inverse distances as weights\n",
    "    weights = 1 / (distances[nearest_indices] + 1e-6) \n",
    "    \n",
    "    test_price = np.sum(np.array(y_train)[nearest_indices] * weights) / np.sum(weights)\n",
    "\n",
    "    MEA += abs(test_price - y_test[i])\n",
    "\n",
    "    if (i % 1000 == 0):\n",
    "        print(f'Test instance {i}/{X_test.shape[0]} completed')\n",
    "\n",
    "# Calculate Mean Absolute Error\n",
    "MEA /= X_test.shape[0]\n",
    "print(\"Mean Absolute Error in Cr is:\", MEA)"
   ]
  },
  {
   "cell_type": "code",
   "execution_count": 9,
   "metadata": {},
   "outputs": [],
   "source": [
    "def test_instance(instance, k, X_train, y_train):\n",
    "    epsilon = 1e-6\n",
    "    distances = np.sum(np.abs(X_train - instance), axis=1)\n",
    "    \n",
    "    # Get indices of k nearest neighbors\n",
    "    nearest_indices = np.argsort(distances)[:k]\n",
    "    \n",
    "    # Calculate inverse distances as weights\n",
    "    weights = 1 / (distances[nearest_indices] + epsilon) \n",
    "    \n",
    "    # Calculate weighted average of labels of k nearest neighbors\n",
    "    test_price = np.sum(np.array(y_train)[nearest_indices] * weights) / np.sum(weights)\n",
    "    \n",
    "    return test_price"
   ]
  },
  {
   "cell_type": "code",
   "execution_count": 10,
   "metadata": {},
   "outputs": [
    {
     "name": "stdout",
     "output_type": "stream",
     "text": [
      "The price of house in Cr:  6.238\n"
     ]
    }
   ],
   "source": [
    "# Testing with our own data\n",
    "X_test.loc[0, \"bhk\"] = 4\n",
    "X_test.loc[0, \"type\"] = 0.2\n",
    "X_test.loc[0, \"area\"] = 1620\n",
    "X_test.loc[0, \"age\"] = 1\n",
    "X_test.loc[0, \"status\"] = 1\n",
    "X_test.loc[0, \"latitude\"] = 19.1386\n",
    "X_test.loc[0, \"longitude\"] = 72.8429\n",
    "\n",
    "# Normalizing the sample\n",
    "X_test.loc[0] = (X_test.loc[0] - X_mean) / X_std\n",
    "\n",
    "test_price = test_instance(X_test.loc[0], K, X_train, y_train)\n",
    "print(\"The price of house in Cr: \", round(test_price, 3))"
   ]
  },
  {
   "cell_type": "code",
   "execution_count": 11,
   "metadata": {},
   "outputs": [
    {
     "name": "stdout",
     "output_type": "stream",
     "text": [
      "Mean Absolute Error using KNN: 0.3111747897894902\n"
     ]
    }
   ],
   "source": [
    "# Verifying implementation using scikit learn\n",
    "from sklearn.neighbors import KNeighborsRegressor\n",
    "from sklearn.metrics import mean_absolute_error\n",
    "\n",
    "# Initialize the KNN model\n",
    "knn_model = KNeighborsRegressor(n_neighbors=K, weights='distance')\n",
    "knn_model.fit(X_train.values, y_train)\n",
    "y_pred_knn = knn_model.predict(X_test.values)\n",
    "\n",
    "# Evaluate the KNN model\n",
    "mae_knn = mean_absolute_error(y_test, y_pred_knn)\n",
    "\n",
    "print(\"Mean Absolute Error using KNN:\", mae_knn)\n"
   ]
  }
 ],
 "metadata": {
  "kernelspec": {
   "display_name": "Python 3",
   "language": "python",
   "name": "python3"
  },
  "language_info": {
   "codemirror_mode": {
    "name": "ipython",
    "version": 3
   },
   "file_extension": ".py",
   "mimetype": "text/x-python",
   "name": "python",
   "nbconvert_exporter": "python",
   "pygments_lexer": "ipython3",
   "version": "3.13.3"
  }
 },
 "nbformat": 4,
 "nbformat_minor": 2
}
