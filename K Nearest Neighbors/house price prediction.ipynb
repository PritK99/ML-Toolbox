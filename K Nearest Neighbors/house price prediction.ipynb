{
 "cells": [
  {
   "cell_type": "markdown",
   "metadata": {},
   "source": [
    "## Mumbai House Price Prediction using K Nearest Neighbors (KNN)"
   ]
  },
  {
   "cell_type": "code",
   "execution_count": 1,
   "metadata": {},
   "outputs": [],
   "source": [
    "# import all the required libraries\n",
    "import numpy as np\n",
    "import pandas as pd\n",
    "from geopy.geocoders import Nominatim"
   ]
  },
  {
   "cell_type": "code",
   "execution_count": 2,
   "metadata": {},
   "outputs": [],
   "source": [
    "# obtain the raw csv \n",
    "data = \"../assets/data/mumbai_house_prices.csv\"\n",
    "house_price = pd.read_csv(data)"
   ]
  },
  {
   "cell_type": "code",
   "execution_count": 3,
   "metadata": {},
   "outputs": [
    {
     "name": "stdout",
     "output_type": "stream",
     "text": [
      "<class 'pandas.core.frame.DataFrame'>\n",
      "RangeIndex: 76038 entries, 0 to 76037\n",
      "Data columns (total 9 columns):\n",
      " #   Column      Non-Null Count  Dtype  \n",
      "---  ------      --------------  -----  \n",
      " 0   bhk         76038 non-null  int64  \n",
      " 1   type        76038 non-null  object \n",
      " 2   locality    76038 non-null  object \n",
      " 3   area        76038 non-null  int64  \n",
      " 4   price       76038 non-null  float64\n",
      " 5   price_unit  76038 non-null  object \n",
      " 6   region      76038 non-null  object \n",
      " 7   status      76038 non-null  object \n",
      " 8   age         76038 non-null  object \n",
      "dtypes: float64(1), int64(2), object(6)\n",
      "memory usage: 5.2+ MB\n",
      "None\n"
     ]
    }
   ],
   "source": [
    "# printing the info for dataset\n",
    "print(house_price.info())"
   ]
  },
  {
   "cell_type": "code",
   "execution_count": 4,
   "metadata": {},
   "outputs": [
    {
     "data": {
      "text/html": [
       "<div>\n",
       "<style scoped>\n",
       "    .dataframe tbody tr th:only-of-type {\n",
       "        vertical-align: middle;\n",
       "    }\n",
       "\n",
       "    .dataframe tbody tr th {\n",
       "        vertical-align: top;\n",
       "    }\n",
       "\n",
       "    .dataframe thead th {\n",
       "        text-align: right;\n",
       "    }\n",
       "</style>\n",
       "<table border=\"1\" class=\"dataframe\">\n",
       "  <thead>\n",
       "    <tr style=\"text-align: right;\">\n",
       "      <th></th>\n",
       "      <th>bhk</th>\n",
       "      <th>type</th>\n",
       "      <th>locality</th>\n",
       "      <th>area</th>\n",
       "      <th>price</th>\n",
       "      <th>price_unit</th>\n",
       "      <th>region</th>\n",
       "      <th>status</th>\n",
       "      <th>age</th>\n",
       "    </tr>\n",
       "  </thead>\n",
       "  <tbody>\n",
       "    <tr>\n",
       "      <th>0</th>\n",
       "      <td>3</td>\n",
       "      <td>Apartment</td>\n",
       "      <td>Lak And Hanware The Residency Tower</td>\n",
       "      <td>685</td>\n",
       "      <td>2.50</td>\n",
       "      <td>Cr</td>\n",
       "      <td>Andheri West</td>\n",
       "      <td>Ready to move</td>\n",
       "      <td>New</td>\n",
       "    </tr>\n",
       "    <tr>\n",
       "      <th>1</th>\n",
       "      <td>2</td>\n",
       "      <td>Apartment</td>\n",
       "      <td>Radheya Sai Enclave Building No 2</td>\n",
       "      <td>640</td>\n",
       "      <td>52.51</td>\n",
       "      <td>L</td>\n",
       "      <td>Naigaon East</td>\n",
       "      <td>Under Construction</td>\n",
       "      <td>New</td>\n",
       "    </tr>\n",
       "    <tr>\n",
       "      <th>2</th>\n",
       "      <td>2</td>\n",
       "      <td>Apartment</td>\n",
       "      <td>Romell Serene</td>\n",
       "      <td>610</td>\n",
       "      <td>1.73</td>\n",
       "      <td>Cr</td>\n",
       "      <td>Borivali West</td>\n",
       "      <td>Under Construction</td>\n",
       "      <td>New</td>\n",
       "    </tr>\n",
       "    <tr>\n",
       "      <th>3</th>\n",
       "      <td>2</td>\n",
       "      <td>Apartment</td>\n",
       "      <td>Soundlines Codename Urban Rainforest</td>\n",
       "      <td>876</td>\n",
       "      <td>59.98</td>\n",
       "      <td>L</td>\n",
       "      <td>Panvel</td>\n",
       "      <td>Under Construction</td>\n",
       "      <td>New</td>\n",
       "    </tr>\n",
       "    <tr>\n",
       "      <th>4</th>\n",
       "      <td>2</td>\n",
       "      <td>Apartment</td>\n",
       "      <td>Origin Oriana</td>\n",
       "      <td>659</td>\n",
       "      <td>94.11</td>\n",
       "      <td>L</td>\n",
       "      <td>Mira Road East</td>\n",
       "      <td>Under Construction</td>\n",
       "      <td>New</td>\n",
       "    </tr>\n",
       "  </tbody>\n",
       "</table>\n",
       "</div>"
      ],
      "text/plain": [
       "   bhk       type                              locality  area  price  \\\n",
       "0    3  Apartment   Lak And Hanware The Residency Tower   685   2.50   \n",
       "1    2  Apartment     Radheya Sai Enclave Building No 2   640  52.51   \n",
       "2    2  Apartment                         Romell Serene   610   1.73   \n",
       "3    2  Apartment  Soundlines Codename Urban Rainforest   876  59.98   \n",
       "4    2  Apartment                         Origin Oriana   659  94.11   \n",
       "\n",
       "  price_unit          region              status  age  \n",
       "0         Cr    Andheri West       Ready to move  New  \n",
       "1          L    Naigaon East  Under Construction  New  \n",
       "2         Cr   Borivali West  Under Construction  New  \n",
       "3          L          Panvel  Under Construction  New  \n",
       "4          L  Mira Road East  Under Construction  New  "
      ]
     },
     "execution_count": 4,
     "metadata": {},
     "output_type": "execute_result"
    }
   ],
   "source": [
    "house_price.head()"
   ]
  },
  {
   "cell_type": "code",
   "execution_count": 5,
   "metadata": {},
   "outputs": [
    {
     "name": "stdout",
     "output_type": "stream",
     "text": [
      "Total number of unique values:  228\n",
      "Geopy could not find the following regions:  ['Mira Road East', 'Badlapur East', 'Badlapur West', 'Ambernath West', 'Ulhasnagar', 'Kewale', 'Nala Sopara', 'Karanjade', 'Neral', 'Karjat', 'Dronagiri', 'Navade', 'Owale', 'Ville Parle East', 'Vangani', 'Bhayandar East', 'Ambernath East', 'Nilje Gaon', 'Titwala', 'Koper Khairane', 'Napeansea Road', 'Koproli', 'Anjurdive', 'Taloje', 'Vasai West', 'Vasai east', 'Nalasopara East', 'Saphale', 'Kasheli', 'Panch Pakhdi', 'Hiranandani Estates', 'Vichumbe', 'Sector 17 Ulwe', 'Sector 23 Ulwe', 'Sector 20 Kamothe', 'Sector 30 Kharghar', 'Virar East', 'Sector 8 New panvel', 'Bhayandar West', 'Sector 20 Ulwe', 'Virar West', 'Palava', 'Greater Khanda', 'Sector-35D Kharghar', 'Umroli', 'Sector-9 Ulwe', 'Sector-3 Ulwe', 'kasaradavali thane west', 'Sector 19 Kharghar', 'Kalher', 'Sector 21 Kharghar', 'Usarghar Gaon', 'Patlipada', 'Vevoor', 'Sector 7 Kharghar', 'Badlapur', 'Khanda Colony', 'Gauripada', 'Warai', 'Khatiwali', 'Manjarli', 'Sector 18 Kharghar', 'Palidevad', 'Adaigaon', 'Sector-4 New Panvel', 'Pen', 'Maneklal Estate'] 67\n"
     ]
    }
   ],
   "source": [
    "# create a dictionary to map region to their latitude and longitude\n",
    "geo = Nominatim(user_agent=\"Geopy Library\", timeout=10)  # Adjust timeout value if error is raised\n",
    "unique_regions = house_price[\"region\"].unique()\n",
    "print(\"Total number of unique values: \", len(unique_regions))\n",
    "lat_long_dict = {}\n",
    "unknown_regions = []\n",
    "\n",
    "for r in unique_regions:\n",
    "    loc = geo.geocode(r + \", Mumbai\")\n",
    "    if (loc == None):\n",
    "        unknown_regions.append(r)\n",
    "        continue\n",
    "    else:\n",
    "        latitude = loc.latitude\n",
    "        longitude = loc.longitude\n",
    "        lat_long_dict[r] = [latitude, longitude]\n",
    "\n",
    "print(\"Geopy could not find the following regions: \", unknown_regions, len(unknown_regions))\n",
    "\n",
    "# This cell might take about 2 minutes to execute as it is geocoding each region"
   ]
  },
  {
   "cell_type": "code",
   "execution_count": 6,
   "metadata": {},
   "outputs": [],
   "source": [
    "# we remove all rows which contain unidentified regions and for all rows with identified regions, we add their latitiude and longitude to the data set.\n",
    "del_idx = []\n",
    "for i in range(len(house_price)):\n",
    "    region = house_price.loc[i, \"region\"]\n",
    "    if region in unknown_regions:\n",
    "        del_idx.append(i)\n",
    "    else:\n",
    "        lat_long = lat_long_dict[region]\n",
    "        house_price.at[i, \"latitude\"] = lat_long[0] \n",
    "        house_price.at[i, \"longitude\"] = lat_long[1]\n"
   ]
  },
  {
   "cell_type": "code",
   "execution_count": 7,
   "metadata": {},
   "outputs": [],
   "source": [
    "house_price.drop(del_idx, inplace=True)\n",
    "house_price = house_price.reset_index(drop=True)"
   ]
  },
  {
   "cell_type": "code",
   "execution_count": 8,
   "metadata": {},
   "outputs": [
    {
     "data": {
      "text/html": [
       "<div>\n",
       "<style scoped>\n",
       "    .dataframe tbody tr th:only-of-type {\n",
       "        vertical-align: middle;\n",
       "    }\n",
       "\n",
       "    .dataframe tbody tr th {\n",
       "        vertical-align: top;\n",
       "    }\n",
       "\n",
       "    .dataframe thead th {\n",
       "        text-align: right;\n",
       "    }\n",
       "</style>\n",
       "<table border=\"1\" class=\"dataframe\">\n",
       "  <thead>\n",
       "    <tr style=\"text-align: right;\">\n",
       "      <th></th>\n",
       "      <th>bhk</th>\n",
       "      <th>type</th>\n",
       "      <th>locality</th>\n",
       "      <th>area</th>\n",
       "      <th>price</th>\n",
       "      <th>price_unit</th>\n",
       "      <th>region</th>\n",
       "      <th>status</th>\n",
       "      <th>age</th>\n",
       "      <th>latitude</th>\n",
       "      <th>longitude</th>\n",
       "    </tr>\n",
       "  </thead>\n",
       "  <tbody>\n",
       "    <tr>\n",
       "      <th>0</th>\n",
       "      <td>3</td>\n",
       "      <td>Apartment</td>\n",
       "      <td>Lak And Hanware The Residency Tower</td>\n",
       "      <td>685</td>\n",
       "      <td>2.50</td>\n",
       "      <td>Cr</td>\n",
       "      <td>Andheri West</td>\n",
       "      <td>Ready to move</td>\n",
       "      <td>New</td>\n",
       "      <td>19.117249</td>\n",
       "      <td>72.833968</td>\n",
       "    </tr>\n",
       "    <tr>\n",
       "      <th>1</th>\n",
       "      <td>2</td>\n",
       "      <td>Apartment</td>\n",
       "      <td>Radheya Sai Enclave Building No 2</td>\n",
       "      <td>640</td>\n",
       "      <td>52.51</td>\n",
       "      <td>L</td>\n",
       "      <td>Naigaon East</td>\n",
       "      <td>Under Construction</td>\n",
       "      <td>New</td>\n",
       "      <td>19.013755</td>\n",
       "      <td>72.846294</td>\n",
       "    </tr>\n",
       "    <tr>\n",
       "      <th>2</th>\n",
       "      <td>2</td>\n",
       "      <td>Apartment</td>\n",
       "      <td>Romell Serene</td>\n",
       "      <td>610</td>\n",
       "      <td>1.73</td>\n",
       "      <td>Cr</td>\n",
       "      <td>Borivali West</td>\n",
       "      <td>Under Construction</td>\n",
       "      <td>New</td>\n",
       "      <td>19.229456</td>\n",
       "      <td>72.847990</td>\n",
       "    </tr>\n",
       "    <tr>\n",
       "      <th>3</th>\n",
       "      <td>2</td>\n",
       "      <td>Apartment</td>\n",
       "      <td>Soundlines Codename Urban Rainforest</td>\n",
       "      <td>876</td>\n",
       "      <td>59.98</td>\n",
       "      <td>L</td>\n",
       "      <td>Panvel</td>\n",
       "      <td>Under Construction</td>\n",
       "      <td>New</td>\n",
       "      <td>18.990978</td>\n",
       "      <td>73.065553</td>\n",
       "    </tr>\n",
       "    <tr>\n",
       "      <th>4</th>\n",
       "      <td>2</td>\n",
       "      <td>Apartment</td>\n",
       "      <td>Bhoomi Simana Wing A Phase 1</td>\n",
       "      <td>826</td>\n",
       "      <td>3.30</td>\n",
       "      <td>Cr</td>\n",
       "      <td>Parel</td>\n",
       "      <td>Under Construction</td>\n",
       "      <td>New</td>\n",
       "      <td>19.009482</td>\n",
       "      <td>72.837661</td>\n",
       "    </tr>\n",
       "  </tbody>\n",
       "</table>\n",
       "</div>"
      ],
      "text/plain": [
       "   bhk       type                              locality  area  price  \\\n",
       "0    3  Apartment   Lak And Hanware The Residency Tower   685   2.50   \n",
       "1    2  Apartment     Radheya Sai Enclave Building No 2   640  52.51   \n",
       "2    2  Apartment                         Romell Serene   610   1.73   \n",
       "3    2  Apartment  Soundlines Codename Urban Rainforest   876  59.98   \n",
       "4    2  Apartment          Bhoomi Simana Wing A Phase 1   826   3.30   \n",
       "\n",
       "  price_unit         region              status  age   latitude  longitude  \n",
       "0         Cr   Andheri West       Ready to move  New  19.117249  72.833968  \n",
       "1          L   Naigaon East  Under Construction  New  19.013755  72.846294  \n",
       "2         Cr  Borivali West  Under Construction  New  19.229456  72.847990  \n",
       "3          L         Panvel  Under Construction  New  18.990978  73.065553  \n",
       "4         Cr          Parel  Under Construction  New  19.009482  72.837661  "
      ]
     },
     "execution_count": 8,
     "metadata": {},
     "output_type": "execute_result"
    }
   ],
   "source": [
    "house_price.head()"
   ]
  },
  {
   "cell_type": "code",
   "execution_count": 9,
   "metadata": {},
   "outputs": [
    {
     "data": {
      "text/plain": [
       "(61217, 11)"
      ]
     },
     "execution_count": 9,
     "metadata": {},
     "output_type": "execute_result"
    }
   ],
   "source": [
    "house_price.shape"
   ]
  },
  {
   "cell_type": "code",
   "execution_count": 10,
   "metadata": {},
   "outputs": [],
   "source": [
    "# remove columns type, locality and region since they are not meaningful for distance metric\n",
    "house_price.drop(['locality', 'region'], axis=1, inplace=True)"
   ]
  },
  {
   "cell_type": "code",
   "execution_count": 11,
   "metadata": {},
   "outputs": [
    {
     "name": "stdout",
     "output_type": "stream",
     "text": [
      "['Apartment' 'Villa' 'Independent House' 'Studio Apartment' 'Penthouse']\n",
      "['New' 'Resale' 'Unknown']\n",
      "['Ready to move' 'Under Construction']\n"
     ]
    }
   ],
   "source": [
    "# print all unique values of categorical columns\n",
    "print(house_price.type.unique())\n",
    "print(house_price.age.unique())\n",
    "print(house_price.status.unique())"
   ]
  },
  {
   "cell_type": "code",
   "execution_count": 12,
   "metadata": {},
   "outputs": [],
   "source": [
    "# dealing with categorical data\n",
    "house_price[\"type\"].replace({\"Studio Apartment\":0, \"Apartment\":0.2, \"Independent House\":0.4, \"Villa\": 0.6, \"Penthouse\": 1}, inplace=True)\n",
    "house_price[\"age\"].replace({\"New\":0, \"Resale\":1, \"Unknown\": 0.5}, inplace=True)\n",
    "house_price[\"status\"].replace({\"Ready to move\":0, \"Under Construction\":1}, inplace=True)"
   ]
  },
  {
   "cell_type": "code",
   "execution_count": 13,
   "metadata": {},
   "outputs": [],
   "source": [
    "# calculating price in Crores for each using price and price_unit\n",
    "for i in range(len(house_price)):  \n",
    "    price_unit = house_price.loc[i, \"price_unit\"]\n",
    "\n",
    "    if price_unit == \"L\":\n",
    "        house_price.at[i, \"price\"] = (house_price.at[i, \"price\"] / 100)\n",
    "  \n",
    "house_price.drop([\"price_unit\"], axis=1, inplace=True)"
   ]
  },
  {
   "cell_type": "code",
   "execution_count": 14,
   "metadata": {},
   "outputs": [
    {
     "data": {
      "text/html": [
       "<div>\n",
       "<style scoped>\n",
       "    .dataframe tbody tr th:only-of-type {\n",
       "        vertical-align: middle;\n",
       "    }\n",
       "\n",
       "    .dataframe tbody tr th {\n",
       "        vertical-align: top;\n",
       "    }\n",
       "\n",
       "    .dataframe thead th {\n",
       "        text-align: right;\n",
       "    }\n",
       "</style>\n",
       "<table border=\"1\" class=\"dataframe\">\n",
       "  <thead>\n",
       "    <tr style=\"text-align: right;\">\n",
       "      <th></th>\n",
       "      <th>bhk</th>\n",
       "      <th>type</th>\n",
       "      <th>area</th>\n",
       "      <th>price</th>\n",
       "      <th>status</th>\n",
       "      <th>age</th>\n",
       "      <th>latitude</th>\n",
       "      <th>longitude</th>\n",
       "    </tr>\n",
       "  </thead>\n",
       "  <tbody>\n",
       "    <tr>\n",
       "      <th>0</th>\n",
       "      <td>3</td>\n",
       "      <td>0.2</td>\n",
       "      <td>685</td>\n",
       "      <td>2.5000</td>\n",
       "      <td>0</td>\n",
       "      <td>0.0</td>\n",
       "      <td>19.117249</td>\n",
       "      <td>72.833968</td>\n",
       "    </tr>\n",
       "    <tr>\n",
       "      <th>1</th>\n",
       "      <td>2</td>\n",
       "      <td>0.2</td>\n",
       "      <td>640</td>\n",
       "      <td>0.5251</td>\n",
       "      <td>1</td>\n",
       "      <td>0.0</td>\n",
       "      <td>19.013755</td>\n",
       "      <td>72.846294</td>\n",
       "    </tr>\n",
       "    <tr>\n",
       "      <th>2</th>\n",
       "      <td>2</td>\n",
       "      <td>0.2</td>\n",
       "      <td>610</td>\n",
       "      <td>1.7300</td>\n",
       "      <td>1</td>\n",
       "      <td>0.0</td>\n",
       "      <td>19.229456</td>\n",
       "      <td>72.847990</td>\n",
       "    </tr>\n",
       "    <tr>\n",
       "      <th>3</th>\n",
       "      <td>2</td>\n",
       "      <td>0.2</td>\n",
       "      <td>876</td>\n",
       "      <td>0.5998</td>\n",
       "      <td>1</td>\n",
       "      <td>0.0</td>\n",
       "      <td>18.990978</td>\n",
       "      <td>73.065553</td>\n",
       "    </tr>\n",
       "    <tr>\n",
       "      <th>4</th>\n",
       "      <td>2</td>\n",
       "      <td>0.2</td>\n",
       "      <td>826</td>\n",
       "      <td>3.3000</td>\n",
       "      <td>1</td>\n",
       "      <td>0.0</td>\n",
       "      <td>19.009482</td>\n",
       "      <td>72.837661</td>\n",
       "    </tr>\n",
       "  </tbody>\n",
       "</table>\n",
       "</div>"
      ],
      "text/plain": [
       "   bhk  type  area   price  status  age   latitude  longitude\n",
       "0    3   0.2   685  2.5000       0  0.0  19.117249  72.833968\n",
       "1    2   0.2   640  0.5251       1  0.0  19.013755  72.846294\n",
       "2    2   0.2   610  1.7300       1  0.0  19.229456  72.847990\n",
       "3    2   0.2   876  0.5998       1  0.0  18.990978  73.065553\n",
       "4    2   0.2   826  3.3000       1  0.0  19.009482  72.837661"
      ]
     },
     "execution_count": 14,
     "metadata": {},
     "output_type": "execute_result"
    }
   ],
   "source": [
    "house_price.head()"
   ]
  },
  {
   "cell_type": "code",
   "execution_count": 15,
   "metadata": {},
   "outputs": [
    {
     "name": "stdout",
     "output_type": "stream",
     "text": [
      "The size of X_train is:  (55096, 7)\n",
      "The size of X_test is:  (6121, 7)\n",
      "The size of y_train is:  55096\n",
      "The size of y_test is:  6121\n",
      "   bhk  type  area  status  age   latitude  longitude\n",
      "0    3   0.2   685       0  0.0  19.117249  72.833968\n",
      "1    2   0.2   640       1  0.0  19.013755  72.846294\n",
      "2    2   0.2   610       1  0.0  19.229456  72.847990\n",
      "3    2   0.2   876       1  0.0  18.990978  73.065553\n",
      "4    2   0.2   826       1  0.0  19.009482  72.837661\n",
      "[2.5, 0.5251, 1.73, 0.5998, 3.3]\n",
      "   bhk  type  area  status  age   latitude  longitude\n",
      "0    3   0.2  1480       0  0.5  19.026011  73.010167\n",
      "1    3   0.2  1640       0  1.0  19.021368  73.018939\n",
      "2    2   0.2   556       1  0.0  19.118720  72.907348\n",
      "3    1   0.2   569       1  0.5  19.026011  73.010167\n",
      "4    2   0.2  1100       1  0.0  19.046521  72.863283\n",
      "[1.8, 3.0, 1.53, 0.66, 1.42]\n"
     ]
    }
   ],
   "source": [
    "# split into train and test dataset\n",
    "test_ratio = 0.1\n",
    "test_size = int(test_ratio*len(house_price))\n",
    "test_indices = house_price.sample(test_size).index\n",
    "X_train = house_price.drop(test_indices)\n",
    "X_test = house_price.loc[test_indices]\n",
    "X_train = X_train.reset_index(drop=True)\n",
    "X_test = X_test.reset_index(drop=True)\n",
    "y_train = X_train.pop(\"price\").tolist()\n",
    "y_test = X_test.pop(\"price\").tolist()\n",
    "print(\"The size of X_train is: \", X_train.shape)\n",
    "print(\"The size of X_test is: \", X_test.shape)\n",
    "print(\"The size of y_train is: \", len(y_train))\n",
    "print(\"The size of y_test is: \", len(y_test))\n",
    "print(X_train.head())\n",
    "print(y_train[0:5])\n",
    "print(X_test.head())\n",
    "print(y_test[0:5])"
   ]
  },
  {
   "cell_type": "code",
   "execution_count": 16,
   "metadata": {},
   "outputs": [
    {
     "name": "stdout",
     "output_type": "stream",
     "text": [
      "        bhk      type      area    status       age  latitude  longitude\n",
      "0  0.934887  0.015356 -0.539377 -0.831511 -0.984436  0.133046  -1.290505\n",
      "1 -0.123500  0.015356 -0.601767  1.202630 -0.984436 -0.990866  -1.159361\n",
      "2 -0.123500  0.015356 -0.643360  1.202630 -0.984436  1.351573  -1.141314\n",
      "3 -0.123500  0.015356 -0.274566  1.202630 -0.984436 -1.238220   1.173420\n",
      "4 -0.123500  0.015356 -0.343888  1.202630 -0.984436 -1.037277  -1.251210\n"
     ]
    }
   ],
   "source": [
    "X_mean = np.mean(X_train, axis=0)\n",
    "X_std = np.std(X_train, axis=0)\n",
    "\n",
    "# Normalizing the data\n",
    "X_train = (X_train - X_mean)/X_std\n",
    "X_test = (X_test - X_mean)/X_std\n",
    "\n",
    "print(X_train.head())"
   ]
  },
  {
   "cell_type": "code",
   "execution_count": 22,
   "metadata": {},
   "outputs": [
    {
     "name": "stdout",
     "output_type": "stream",
     "text": [
      "Iteration 0 Completed\n",
      "Iteration 1000 Completed\n",
      "Iteration 2000 Completed\n",
      "Iteration 3000 Completed\n",
      "Iteration 4000 Completed\n",
      "Iteration 5000 Completed\n",
      "Iteration 6000 Completed\n",
      "Mean Absolute Error is: 0.2584603324219878\n"
     ]
    }
   ],
   "source": [
    "# Set hyperparameter k\n",
    "K = 4\n",
    "MEA = 0\n",
    "\n",
    "# Testing\n",
    "for i in range(X_test.shape[0]):\n",
    "    # Calculate distances for all instances in X_train and instance i from X_test\n",
    "    distances = np.sum(np.abs(X_train - X_test.loc[i]), axis=1)\n",
    "    \n",
    "    # Get indices of k nearest neighbors\n",
    "    nearest_indices = np.argsort(distances)[:K]\n",
    "    \n",
    "    # Calculate weighted average price of k nearest neighbors using inverse distances as weights\n",
    "    weights = 1 / (distances[nearest_indices] + 1e-6) \n",
    "    \n",
    "    test_price = np.sum(np.array(y_train)[nearest_indices] * weights) / np.sum(weights)\n",
    "\n",
    "    MEA += abs(test_price - y_test[i])\n",
    "\n",
    "    if (i % 1000 == 0):\n",
    "        print(f'Iteration {i} Completed')\n",
    "\n",
    "# Calculate Mean Absolute Error\n",
    "MEA /= X_test.shape[0]\n",
    "print(\"Mean Absolute Error is:\", MEA)\n"
   ]
  },
  {
   "cell_type": "code",
   "execution_count": 20,
   "metadata": {},
   "outputs": [],
   "source": [
    "import numpy as np\n",
    "\n",
    "def test_instance(instance, k, X_train, y_train):\n",
    "    epsilon = 1e-6\n",
    "    distances = np.sum(np.abs(X_train - instance), axis=1)\n",
    "    \n",
    "    # Get indices of k nearest neighbors\n",
    "    nearest_indices = np.argsort(distances)[:k]\n",
    "    \n",
    "    # Calculate inverse distances as weights\n",
    "    weights = 1 / (distances[nearest_indices] + epsilon) \n",
    "    \n",
    "    # Calculate weighted average of labels of k nearest neighbors\n",
    "    test_price = np.sum(np.array(y_train)[nearest_indices] * weights) / np.sum(weights)\n",
    "    \n",
    "    return test_price"
   ]
  },
  {
   "cell_type": "code",
   "execution_count": 21,
   "metadata": {},
   "outputs": [
    {
     "name": "stdout",
     "output_type": "stream",
     "text": [
      "The price of house in Cr:  1.055\n"
     ]
    }
   ],
   "source": [
    "# Testing with our own data\n",
    "X_test.loc[0, \"bhk\"] = 1\n",
    "X_test.loc[0, \"type\"] = 0.2\n",
    "X_test.loc[0, \"area\"] = 460\n",
    "X_test.loc[0, \"age\"] = 0\n",
    "X_test.loc[0, \"status\"] = 0\n",
    "X_test.loc[0, \"latitude\"] = 19.18226\n",
    "X_test.loc[0, \"longitude\"] = 72.9512\n",
    "\n",
    "# Normalizing the sample\n",
    "X_test.loc[0] = (X_test.loc[0] - X_mean) / X_std\n",
    "\n",
    "test_price = test_instance(X_test.loc[0], K, X_train, y_train)\n",
    "print(\"The price of house in Cr: \", round(test_price, 3))"
   ]
  }
 ],
 "metadata": {
  "kernelspec": {
   "display_name": "Python 3",
   "language": "python",
   "name": "python3"
  },
  "language_info": {
   "codemirror_mode": {
    "name": "ipython",
    "version": 3
   },
   "file_extension": ".py",
   "mimetype": "text/x-python",
   "name": "python",
   "nbconvert_exporter": "python",
   "pygments_lexer": "ipython3",
   "version": "3.11.0"
  }
 },
 "nbformat": 4,
 "nbformat_minor": 2
}
