{
 "cells": [
  {
   "cell_type": "code",
   "execution_count": 1,
   "metadata": {},
   "outputs": [],
   "source": [
    "# import all the required libraries\n",
    "import numpy as np\n",
    "import pandas as pd\n",
    "from Levenshtein import distance"
   ]
  },
  {
   "cell_type": "code",
   "execution_count": 2,
   "metadata": {},
   "outputs": [],
   "source": [
    "# Read the dataset\n",
    "df = pd.read_csv(\"../assets/data/gender.csv\")"
   ]
  },
  {
   "cell_type": "code",
   "execution_count": 3,
   "metadata": {},
   "outputs": [
    {
     "name": "stdout",
     "output_type": "stream",
     "text": [
      "<class 'pandas.core.frame.DataFrame'>\n",
      "RangeIndex: 1296 entries, 0 to 1295\n",
      "Data columns (total 2 columns):\n",
      " #   Column  Non-Null Count  Dtype \n",
      "---  ------  --------------  ----- \n",
      " 0   Name    1296 non-null   object\n",
      " 1   Target  1296 non-null   int64 \n",
      "dtypes: int64(1), object(1)\n",
      "memory usage: 20.4+ KB\n"
     ]
    }
   ],
   "source": [
    "df.info()"
   ]
  },
  {
   "cell_type": "code",
   "execution_count": 4,
   "metadata": {},
   "outputs": [
    {
     "data": {
      "text/html": [
       "<div>\n",
       "<style scoped>\n",
       "    .dataframe tbody tr th:only-of-type {\n",
       "        vertical-align: middle;\n",
       "    }\n",
       "\n",
       "    .dataframe tbody tr th {\n",
       "        vertical-align: top;\n",
       "    }\n",
       "\n",
       "    .dataframe thead th {\n",
       "        text-align: right;\n",
       "    }\n",
       "</style>\n",
       "<table border=\"1\" class=\"dataframe\">\n",
       "  <thead>\n",
       "    <tr style=\"text-align: right;\">\n",
       "      <th></th>\n",
       "      <th>Name</th>\n",
       "      <th>Target</th>\n",
       "    </tr>\n",
       "  </thead>\n",
       "  <tbody>\n",
       "    <tr>\n",
       "      <th>0</th>\n",
       "      <td>Yash</td>\n",
       "      <td>1</td>\n",
       "    </tr>\n",
       "    <tr>\n",
       "      <th>1</th>\n",
       "      <td>Prit</td>\n",
       "      <td>1</td>\n",
       "    </tr>\n",
       "    <tr>\n",
       "      <th>2</th>\n",
       "      <td>Meet</td>\n",
       "      <td>1</td>\n",
       "    </tr>\n",
       "    <tr>\n",
       "      <th>3</th>\n",
       "      <td>Drashti</td>\n",
       "      <td>0</td>\n",
       "    </tr>\n",
       "    <tr>\n",
       "      <th>4</th>\n",
       "      <td>Saloni</td>\n",
       "      <td>0</td>\n",
       "    </tr>\n",
       "  </tbody>\n",
       "</table>\n",
       "</div>"
      ],
      "text/plain": [
       "      Name  Target\n",
       "0     Yash       1\n",
       "1     Prit       1\n",
       "2     Meet       1\n",
       "3  Drashti       0\n",
       "4   Saloni       0"
      ]
     },
     "execution_count": 4,
     "metadata": {},
     "output_type": "execute_result"
    }
   ],
   "source": [
    "df.head()"
   ]
  },
  {
   "cell_type": "code",
   "execution_count": 5,
   "metadata": {},
   "outputs": [
    {
     "name": "stdout",
     "output_type": "stream",
     "text": [
      "Number of girls: 679\n",
      "Number of boys: 617\n"
     ]
    }
   ],
   "source": [
    "female_count = df[df['Target'] == 0].shape[0]\n",
    "male_count = df[df['Target'] == 1].shape[0]  \n",
    "\n",
    "print(f\"Number of girls: {female_count}\")\n",
    "print(f\"Number of boys: {male_count}\")"
   ]
  },
  {
   "cell_type": "code",
   "execution_count": 6,
   "metadata": {},
   "outputs": [
    {
     "name": "stdout",
     "output_type": "stream",
     "text": [
      "Training set size: 1036\n",
      "Validation set size: 129\n",
      "Test set size: 131\n"
     ]
    }
   ],
   "source": [
    "# Split data into train, val and test sets\n",
    "train_size = 0.8\n",
    "test_size = 0.1\n",
    "val_size = 0.1\n",
    "\n",
    "num_rows = len(df)\n",
    "\n",
    "train_rows = int(num_rows * train_size)\n",
    "val_rows = int(num_rows * val_size)\n",
    "test_rows = num_rows - train_rows - val_rows\n",
    "\n",
    "# Create separate DataFrames for each set\n",
    "train_df = df.iloc[:train_rows]\n",
    "val_df = df.iloc[train_rows:train_rows + val_rows]\n",
    "test_df = df.iloc[train_rows + val_rows:]\n",
    "\n",
    "print(\"Training set size:\", len(train_df))\n",
    "print(\"Validation set size:\", len(val_df))\n",
    "print(\"Test set size:\", len(test_df))\n"
   ]
  },
  {
   "cell_type": "code",
   "execution_count": 7,
   "metadata": {},
   "outputs": [],
   "source": [
    "def get_accuracy(train_df, test_df, k):\n",
    "    correct = 0\n",
    "    m = len(test_df)\n",
    "    # print(f\"Total number of samples: {m}\")\n",
    "\n",
    "    for i in range(len(test_df)):\n",
    "        test_name = test_df.iloc[i][0]\n",
    "\n",
    "        distances = []\n",
    "        for j in range(len(train_df)):\n",
    "            train_name = train_df.iloc[j][0]\n",
    "            # Calculate minimum edit distance\n",
    "            edit_dist = distance(test_name, train_name)\n",
    "            distances.append((edit_dist, train_df.iloc[j][0], train_df.iloc[j][1]))\n",
    "\n",
    "        # Sorting based on distance only\n",
    "        distances.sort(key=lambda x: x[0]) \n",
    "\n",
    "        neighbors = distances[:k]\n",
    "        votes = [neighbor[2] for neighbor in neighbors]\n",
    "        prediction = max(set(votes), key=votes.count)\n",
    "        if (prediction == test_df.iloc[i][1]):\n",
    "            correct += 1\n",
    "\n",
    "    # print(f\"Number of correct predictions: {correct}\")\n",
    "    accuracy = correct / len(test_df)\n",
    "    return accuracy"
   ]
  },
  {
   "cell_type": "code",
   "execution_count": 8,
   "metadata": {},
   "outputs": [
    {
     "name": "stdout",
     "output_type": "stream",
     "text": [
      "Accuracy for k=1: 0.7674418604651163\n",
      "Accuracy for k=3: 0.8217054263565892\n",
      "Accuracy for k=5: 0.8372093023255814\n",
      "Accuracy for k=7: 0.8527131782945736\n",
      "Accuracy for k=9: 0.8527131782945736\n",
      "Accuracy for k=11: 0.8604651162790697\n",
      "Accuracy for k=13: 0.8449612403100775\n",
      "Accuracy for k=15: 0.8604651162790697\n",
      "Accuracy for k=17: 0.8682170542635659\n",
      "Accuracy for k=19: 0.8604651162790697\n",
      "Accuracy for k=21: 0.8837209302325582\n"
     ]
    }
   ],
   "source": [
    "for k in range(1,22,2):\n",
    "    test_names = test_df.iloc[:, 0]\n",
    "    test_labels = test_df.iloc[:, 1]\n",
    "    val_accuracy = get_accuracy(train_df, val_df, k)\n",
    "    print(f'Accuracy for k={k}: {val_accuracy}')"
   ]
  },
  {
   "cell_type": "code",
   "execution_count": 13,
   "metadata": {},
   "outputs": [
    {
     "name": "stdout",
     "output_type": "stream",
     "text": [
      "Accuracy on test set: 0.8244274809160306\n"
     ]
    }
   ],
   "source": [
    "# Training on both train and validation dataset\n",
    "K = 9\n",
    "train_merged_df = pd.concat([train_df, val_df], ignore_index=True, sort=False)\n",
    "accuracy = get_accuracy(train_merged_df, test_df, K)\n",
    "print(f\"Accuracy on test set: {accuracy}\")"
   ]
  },
  {
   "cell_type": "code",
   "execution_count": 84,
   "metadata": {},
   "outputs": [],
   "source": [
    "def predict(name):\n",
    "    correct = 0\n",
    "    K = 9\n",
    "\n",
    "    distances = []\n",
    "    for j in range(len(train_df)):\n",
    "        train_name = train_df.iloc[j][0]\n",
    "        # Calculate minimum edit distance\n",
    "        edit_dist = distance(name, train_name)\n",
    "        distances.append((edit_dist, train_df.iloc[j][0], train_df.iloc[j][1]))\n",
    "\n",
    "    # Sorting based on distance only\n",
    "    distances.sort(key=lambda x: x[0]) \n",
    "\n",
    "    neighbors = distances[:K]\n",
    "    votes = [neighbor[2] for neighbor in neighbors]\n",
    "    prediction = max(set(votes), key=votes.count)\n",
    "    \n",
    "    if prediction == 1:\n",
    "        print(\"I am sure \" + name + \" is a boy.\")\n",
    "    else:\n",
    "        print(\"I am sure \" + name + \" is a girl.\")\n",
    "    \n",
    "    print(\"Names with minimum edit distance are:\", [neighbor[1] for neighbor in neighbors])"
   ]
  },
  {
   "cell_type": "code",
   "execution_count": 85,
   "metadata": {},
   "outputs": [
    {
     "name": "stdout",
     "output_type": "stream",
     "text": [
      "I am sure chandan is a boy.\n",
      "Names with minimum edit distance are: ['Chandani', 'Vandan', 'Chintan', 'Shantanu', 'Nanda', 'Chand', 'Ranjan']\n",
      "I am sure chandanbala is a girl.\n",
      "Names with minimum edit distance are: ['Chandani', 'Shantanu', 'Vandna', 'Chitranjali', 'Vandan', 'Sanjana', 'Chanchal']\n"
     ]
    }
   ],
   "source": [
    "# Testing with our own example\n",
    "predict(\"chandan\")\n",
    "predict(\"chandanbala\")"
   ]
  }
 ],
 "metadata": {
  "kernelspec": {
   "display_name": "Python 3",
   "language": "python",
   "name": "python3"
  },
  "language_info": {
   "codemirror_mode": {
    "name": "ipython",
    "version": 3
   },
   "file_extension": ".py",
   "mimetype": "text/x-python",
   "name": "python",
   "nbconvert_exporter": "python",
   "pygments_lexer": "ipython3",
   "version": "3.11.0"
  }
 },
 "nbformat": 4,
 "nbformat_minor": 2
}
