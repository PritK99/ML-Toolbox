{
 "cells": [
  {
   "cell_type": "markdown",
   "metadata": {},
   "source": [
    "## Gender Classification using K Nearest Neighbors (KNN)"
   ]
  },
  {
   "cell_type": "code",
   "execution_count": 1,
   "metadata": {},
   "outputs": [],
   "source": [
    "# import all the required libraries\n",
    "import numpy as np\n",
    "import pandas as pd\n",
    "from Levenshtein import distance\n",
    "import matplotlib.pyplot as plt"
   ]
  },
  {
   "cell_type": "code",
   "execution_count": 2,
   "metadata": {},
   "outputs": [],
   "source": [
    "# Read the dataset\n",
    "df = pd.read_csv(\"../assets/data/gender.csv\")"
   ]
  },
  {
   "cell_type": "code",
   "execution_count": 3,
   "metadata": {},
   "outputs": [
    {
     "name": "stdout",
     "output_type": "stream",
     "text": [
      "<class 'pandas.core.frame.DataFrame'>\n",
      "RangeIndex: 1294 entries, 0 to 1293\n",
      "Data columns (total 2 columns):\n",
      " #   Column  Non-Null Count  Dtype \n",
      "---  ------  --------------  ----- \n",
      " 0   Name    1294 non-null   object\n",
      " 1   Target  1294 non-null   int64 \n",
      "dtypes: int64(1), object(1)\n",
      "memory usage: 20.3+ KB\n"
     ]
    }
   ],
   "source": [
    "df.info()"
   ]
  },
  {
   "cell_type": "code",
   "execution_count": 4,
   "metadata": {},
   "outputs": [
    {
     "data": {
      "text/html": [
       "<div>\n",
       "<style scoped>\n",
       "    .dataframe tbody tr th:only-of-type {\n",
       "        vertical-align: middle;\n",
       "    }\n",
       "\n",
       "    .dataframe tbody tr th {\n",
       "        vertical-align: top;\n",
       "    }\n",
       "\n",
       "    .dataframe thead th {\n",
       "        text-align: right;\n",
       "    }\n",
       "</style>\n",
       "<table border=\"1\" class=\"dataframe\">\n",
       "  <thead>\n",
       "    <tr style=\"text-align: right;\">\n",
       "      <th></th>\n",
       "      <th>Name</th>\n",
       "      <th>Target</th>\n",
       "    </tr>\n",
       "  </thead>\n",
       "  <tbody>\n",
       "    <tr>\n",
       "      <th>0</th>\n",
       "      <td>Yash</td>\n",
       "      <td>1</td>\n",
       "    </tr>\n",
       "    <tr>\n",
       "      <th>1</th>\n",
       "      <td>Prit</td>\n",
       "      <td>1</td>\n",
       "    </tr>\n",
       "    <tr>\n",
       "      <th>2</th>\n",
       "      <td>Meet</td>\n",
       "      <td>1</td>\n",
       "    </tr>\n",
       "    <tr>\n",
       "      <th>3</th>\n",
       "      <td>Drashti</td>\n",
       "      <td>0</td>\n",
       "    </tr>\n",
       "    <tr>\n",
       "      <th>4</th>\n",
       "      <td>Saloni</td>\n",
       "      <td>0</td>\n",
       "    </tr>\n",
       "  </tbody>\n",
       "</table>\n",
       "</div>"
      ],
      "text/plain": [
       "      Name  Target\n",
       "0     Yash       1\n",
       "1     Prit       1\n",
       "2     Meet       1\n",
       "3  Drashti       0\n",
       "4   Saloni       0"
      ]
     },
     "execution_count": 4,
     "metadata": {},
     "output_type": "execute_result"
    }
   ],
   "source": [
    "df.head()"
   ]
  },
  {
   "cell_type": "code",
   "execution_count": 6,
   "metadata": {},
   "outputs": [
    {
     "data": {
      "text/html": [
       "<div>\n",
       "<style scoped>\n",
       "    .dataframe tbody tr th:only-of-type {\n",
       "        vertical-align: middle;\n",
       "    }\n",
       "\n",
       "    .dataframe tbody tr th {\n",
       "        vertical-align: top;\n",
       "    }\n",
       "\n",
       "    .dataframe thead th {\n",
       "        text-align: right;\n",
       "    }\n",
       "</style>\n",
       "<table border=\"1\" class=\"dataframe\">\n",
       "  <thead>\n",
       "    <tr style=\"text-align: right;\">\n",
       "      <th></th>\n",
       "      <th>Name</th>\n",
       "      <th>Target</th>\n",
       "    </tr>\n",
       "  </thead>\n",
       "  <tbody>\n",
       "    <tr>\n",
       "      <th>0</th>\n",
       "      <td>yash</td>\n",
       "      <td>1</td>\n",
       "    </tr>\n",
       "    <tr>\n",
       "      <th>1</th>\n",
       "      <td>prit</td>\n",
       "      <td>1</td>\n",
       "    </tr>\n",
       "    <tr>\n",
       "      <th>2</th>\n",
       "      <td>meet</td>\n",
       "      <td>1</td>\n",
       "    </tr>\n",
       "    <tr>\n",
       "      <th>3</th>\n",
       "      <td>drashti</td>\n",
       "      <td>0</td>\n",
       "    </tr>\n",
       "    <tr>\n",
       "      <th>4</th>\n",
       "      <td>saloni</td>\n",
       "      <td>0</td>\n",
       "    </tr>\n",
       "  </tbody>\n",
       "</table>\n",
       "</div>"
      ],
      "text/plain": [
       "      Name  Target\n",
       "0     yash       1\n",
       "1     prit       1\n",
       "2     meet       1\n",
       "3  drashti       0\n",
       "4   saloni       0"
      ]
     },
     "execution_count": 6,
     "metadata": {},
     "output_type": "execute_result"
    }
   ],
   "source": [
    "# Converting all names to lowercase\n",
    "df['Name'] = df['Name'].str.lower()\n",
    "df.head()"
   ]
  },
  {
   "cell_type": "code",
   "execution_count": 7,
   "metadata": {},
   "outputs": [
    {
     "name": "stdout",
     "output_type": "stream",
     "text": [
      "Number of girls: 679\n",
      "Number of boys: 615\n"
     ]
    }
   ],
   "source": [
    "female_count = df[df['Target'] == 0].shape[0]\n",
    "male_count = df[df['Target'] == 1].shape[0]  \n",
    "\n",
    "print(f\"Number of girls: {female_count}\")\n",
    "print(f\"Number of boys: {male_count}\")"
   ]
  },
  {
   "cell_type": "code",
   "execution_count": 8,
   "metadata": {},
   "outputs": [
    {
     "name": "stdout",
     "output_type": "stream",
     "text": [
      "Training set size: 1035\n",
      "Validation set size: 129\n",
      "Test set size: 130\n"
     ]
    }
   ],
   "source": [
    "# Split data into train, validation and test sets\n",
    "train_size = 0.8\n",
    "test_size = 0.1\n",
    "val_size = 0.1\n",
    "\n",
    "num_rows = len(df)\n",
    "\n",
    "train_rows = int(num_rows * train_size)\n",
    "val_rows = int(num_rows * val_size)\n",
    "test_rows = num_rows - train_rows - val_rows\n",
    "\n",
    "# Create separate DataFrames for each set\n",
    "train_df = df.iloc[:train_rows]\n",
    "val_df = df.iloc[train_rows:train_rows + val_rows]\n",
    "test_df = df.iloc[train_rows + val_rows:]\n",
    "\n",
    "print(\"Training set size:\", len(train_df))\n",
    "print(\"Validation set size:\", len(val_df))\n",
    "print(\"Test set size:\", len(test_df))\n"
   ]
  },
  {
   "cell_type": "code",
   "execution_count": 9,
   "metadata": {},
   "outputs": [],
   "source": [
    "\"\"\"\n",
    "Distance Metric: The distance metric used here is the edit distance, also known as Levenshtein distance, which measures the number of character insertions, deletions, or substitutions required to change one string into another. A special adjustment is made when the edit distance is 1 and the names only differ by a vowel at the end (e.g., \"Shrey\" and \"Shreya\"). In such cases, based on domain knowledge, the labels of the training samples are swapped (using XOR on the label), which might represent handling specific domain nuances.\n",
    "\"\"\"\n",
    "def get_accuracy(train_df, test_df, k):\n",
    "    correct = 0\n",
    "    m = len(test_df)\n",
    "    # print(f\"Total number of samples: {m}\")\n",
    "\n",
    "    for i in range(len(test_df)):\n",
    "        test_name = test_df.iloc[i][0]\n",
    "\n",
    "        distances = []\n",
    "        for j in range(len(train_df)):\n",
    "            train_name = train_df.iloc[j][0]\n",
    "            # Calculate minimum edit distance\n",
    "            edit_dist = distance(test_name, train_name)\n",
    "\n",
    "            # Special case if the edit distance is one and names differ by a vowel in end. For example, Shrey and Shreya.\n",
    "            if ((edit_dist == 1) and ((len(train_name) > len(test_name) and train_name[:-1] == test_name) or (len(train_name) < len(test_name) and test_name[:-1] == train_name))):\n",
    "                    # We swap the label in this case due to domain knowledge\n",
    "                    distances.append((edit_dist, train_df.iloc[j][0], train_df.iloc[j][1]^1))\n",
    "            else:\n",
    "                distances.append((edit_dist, train_df.iloc[j][0], train_df.iloc[j][1]))\n",
    "\n",
    "        # Sorting based on distance only\n",
    "        distances.sort(key=lambda x: x[0]) \n",
    "\n",
    "        neighbors = distances[:k]\n",
    "        votes = [neighbor[2] for neighbor in neighbors]\n",
    "        prediction = max(set(votes), key=votes.count)\n",
    "        if (prediction == test_df.iloc[i][1]):\n",
    "            correct += 1\n",
    "\n",
    "    # print(f\"Number of correct predictions: {correct}\")\n",
    "    accuracy = correct / len(test_df)\n",
    "    return accuracy"
   ]
  },
  {
   "cell_type": "code",
   "execution_count": 10,
   "metadata": {},
   "outputs": [],
   "source": [
    "def get_weighted_accuracy(train_df, test_df, k):\n",
    "\n",
    "    correct = 0\n",
    "    m = len(test_df)\n",
    "\n",
    "    for i in range(len(test_df)):\n",
    "        test_name = test_df.iloc[i][0]\n",
    "\n",
    "        distances = []\n",
    "        for j in range(len(train_df)):\n",
    "            train_name = train_df.iloc[j][0]\n",
    "            # Calculate minimum edit distance (Levenshtein distance)\n",
    "            edit_dist = distance(test_name, train_name)\n",
    "\n",
    "            # Special case handling for names differing by a vowel at the end\n",
    "            if ((edit_dist == 1) and ((len(train_name) > len(test_name) and train_name[:-1] == test_name) or (len(train_name) < len(test_name) and test_name[:-1] == train_name))):\n",
    "                    # We swap the label in this case due to domain knowledge\n",
    "                    distances.append((edit_dist, train_df.iloc[j][0], train_df.iloc[j][1]^1))\n",
    "            else:\n",
    "                distances.append((edit_dist, train_df.iloc[j][0], train_df.iloc[j][1]))\n",
    "\n",
    "        # Sorting neighbors based on distance only\n",
    "        distances.sort(key=lambda x: x[0])\n",
    "        neighbors = distances[:k]\n",
    "        \n",
    "        # Weighted voting: weights are inverse of the distance\n",
    "        votes = {}\n",
    "        for neighbor in neighbors:\n",
    "            weight = 1 / (neighbor[0] + 0.001)  # Assign weight inversely proportional to distance\n",
    "            label = neighbor[2]  # Neighbor's label (0 or 1)\n",
    "            if label in votes:\n",
    "                votes[label] += weight\n",
    "            else:\n",
    "                votes[label] = weight\n",
    "\n",
    "        prediction = max(votes, key=votes.get)\n",
    "        if prediction == test_df.iloc[i][1]:\n",
    "            correct += 1\n",
    "\n",
    "    # Calculate accuracy\n",
    "    accuracy = correct / len(test_df)\n",
    "    return accuracy"
   ]
  },
  {
   "cell_type": "code",
   "execution_count": 28,
   "metadata": {},
   "outputs": [
    {
     "name": "stdout",
     "output_type": "stream",
     "text": [
      "Accuracy for k=3: 0.8294573643410853\n",
      "Accuracy for k=5: 0.8372093023255814\n",
      "Accuracy for k=7: 0.8527131782945736\n",
      "Accuracy for k=9: 0.8527131782945736\n",
      "Accuracy for k=11: 0.8604651162790697\n",
      "Accuracy for k=13: 0.8372093023255814\n",
      "Accuracy for k=15: 0.8604651162790697\n",
      "Accuracy for k=17: 0.8682170542635659\n",
      "Accuracy for k=19: 0.8604651162790697\n",
      "Accuracy for k=21: 0.8837209302325582\n",
      "Accuracy for k=23: 0.8837209302325582\n",
      "Accuracy for k=25: 0.8682170542635659\n",
      "Accuracy for k=27: 0.875968992248062\n",
      "Accuracy for k=29: 0.875968992248062\n"
     ]
    },
    {
     "data": {
      "image/png": "[encoded data removed]",
      "text/plain": [
       "<Figure size 640x480 with 1 Axes>"
      ]
     },
     "metadata": {},
     "output_type": "display_data"
    }
   ],
   "source": [
    "# Finding the optimal K for validation set\n",
    "accuracies = []\n",
    "for k in range(3, 30, 2):\n",
    "    val_accuracy = get_accuracy(train_df, val_df, k)\n",
    "    accuracies.append(val_accuracy)\n",
    "    print(f'Accuracy for k={k}: {val_accuracy}')\n",
    "\n",
    "# Create the plot\n",
    "plt.plot(range(3, 30, 2), accuracies, marker='o', linestyle='-', color='b')\n",
    "plt.xlabel('K (Number of Neighbors)')\n",
    "plt.ylabel('Validation Accuracy')\n",
    "plt.title('K vs Accuracy for KNN')\n",
    "\n",
    "plt.grid(True)\n",
    "plt.show()"
   ]
  },
  {
   "cell_type": "code",
   "execution_count": 29,
   "metadata": {},
   "outputs": [
    {
     "name": "stdout",
     "output_type": "stream",
     "text": [
      "Accuracy for k=3: 0.8294573643410853\n",
      "Accuracy for k=5: 0.8372093023255814\n",
      "Accuracy for k=7: 0.8527131782945736\n",
      "Accuracy for k=9: 0.8527131782945736\n",
      "Accuracy for k=11: 0.8604651162790697\n",
      "Accuracy for k=13: 0.8449612403100775\n",
      "Accuracy for k=15: 0.8682170542635659\n",
      "Accuracy for k=17: 0.875968992248062\n",
      "Accuracy for k=19: 0.8682170542635659\n",
      "Accuracy for k=21: 0.875968992248062\n",
      "Accuracy for k=23: 0.8682170542635659\n",
      "Accuracy for k=25: 0.8682170542635659\n",
      "Accuracy for k=27: 0.8682170542635659\n",
      "Accuracy for k=29: 0.8682170542635659\n"
     ]
    },
    {
     "data": {
      "image/png": "[encoded data removed]",
      "text/plain": [
       "<Figure size 640x480 with 1 Axes>"
      ]
     },
     "metadata": {},
     "output_type": "display_data"
    }
   ],
   "source": [
    "# Finding the optimal K for validation set\n",
    "accuracies = []\n",
    "for k in range(3, 30, 2):\n",
    "    val_accuracy = get_weighted_accuracy(train_df, val_df, k)\n",
    "    accuracies.append(val_accuracy)\n",
    "    print(f'Accuracy for k={k}: {val_accuracy}')\n",
    "\n",
    "# Create the plot\n",
    "plt.plot(range(3, 30, 2), accuracies, marker='o', linestyle='-', color='b')\n",
    "plt.xlabel('K (Number of Neighbors)')\n",
    "plt.ylabel('Validation Accuracy')\n",
    "plt.title('K vs Accuracy for Weighted KNN')\n",
    "\n",
    "plt.grid(True)\n",
    "plt.show()"
   ]
  },
  {
   "cell_type": "code",
   "execution_count": 37,
   "metadata": {},
   "outputs": [
    {
     "name": "stdout",
     "output_type": "stream",
     "text": [
      "Accuracy on test set: 0.8384615384615385\n"
     ]
    }
   ],
   "source": [
    "# Training on both train and validation dataset\n",
    "K = 21\n",
    "train_merged_df = pd.concat([train_df, val_df], ignore_index=True, sort=False)\n",
    "accuracy = get_accuracy(train_merged_df, test_df, K)\n",
    "print(f\"Accuracy on test set: {accuracy}\")"
   ]
  },
  {
   "cell_type": "code",
   "execution_count": 31,
   "metadata": {},
   "outputs": [
    {
     "name": "stdout",
     "output_type": "stream",
     "text": [
      "Accuracy on test set: 0.8769230769230769\n"
     ]
    }
   ],
   "source": [
    "# Training on both train and validation dataset\n",
    "K = 17\n",
    "train_merged_df = pd.concat([train_df, val_df], ignore_index=True, sort=False)\n",
    "accuracy = get_weighted_accuracy(train_merged_df, test_df, K)\n",
    "print(f\"Accuracy on test set: {accuracy}\")"
   ]
  },
  {
   "cell_type": "code",
   "execution_count": 13,
   "metadata": {},
   "outputs": [],
   "source": [
    "def predict(name):\n",
    "    name = name.lower()\n",
    "    K = 21\n",
    "\n",
    "    distances = []\n",
    "    for j in range(len(train_df)):\n",
    "        train_name = train_df.iloc[j][0]\n",
    "        # Calculate minimum edit distance\n",
    "        edit_dist = distance(name, train_name)\n",
    "        \n",
    "        # Special case if the edit distance is one and names differ by a vowel in end. For example, Shrey and Shreya.\n",
    "        if ((edit_dist == 1) and ((len(train_name) > len(name) and train_name[:-1] == name) or (len(train_name) < len(name) and name[:-1] == train_name))):\n",
    "                    # We swap the label in this case due to domain knowledge\n",
    "                distances.append((edit_dist, train_df.iloc[j][0], train_df.iloc[j][1]^1))\n",
    "        else:\n",
    "            distances.append((edit_dist, train_df.iloc[j][0], train_df.iloc[j][1]))\n",
    "\n",
    "    # Sorting based on distance only\n",
    "    distances.sort(key=lambda x: x[0]) \n",
    "\n",
    "    neighbors = distances[:K]\n",
    "    votes = [neighbor[2] for neighbor in neighbors]\n",
    "    prediction = max(set(votes), key=votes.count)\n",
    "    \n",
    "    if prediction == 1:\n",
    "        print(\"I am sure \" + name + \" is a boy.\")\n",
    "    else:\n",
    "        print(\"I am sure \" + name + \" is a girl.\")\n",
    "    \n",
    "    print(\"Names with minimum edit distance are:\", [neighbor[1] for neighbor in neighbors])"
   ]
  },
  {
   "cell_type": "code",
   "execution_count": 14,
   "metadata": {},
   "outputs": [],
   "source": [
    "def weighted_predict(name):\n",
    "    K = 17\n",
    "    mame = name.lower()\n",
    "\n",
    "    distances = []\n",
    "    for j in range(len(train_df)):\n",
    "        train_name = train_df.iloc[j][0]\n",
    "        # Calculate minimum edit distance\n",
    "        edit_dist = distance(name, train_name)\n",
    "        \n",
    "        # Special case if the edit distance is one and names differ by a vowel in end. For example, Shrey and Shreya.\n",
    "        if ((edit_dist == 1) and ((len(train_name) > len(name) and train_name[:-1] == name) or (len(train_name) < len(name) and name[:-1] == train_name))):\n",
    "                    # We swap the label in this case due to domain knowledge\n",
    "                distances.append((edit_dist, train_df.iloc[j][0], train_df.iloc[j][1]^1))\n",
    "        else:\n",
    "            distances.append((edit_dist, train_df.iloc[j][0], train_df.iloc[j][1]))\n",
    "\n",
    "    # Sorting based on distance only\n",
    "    distances.sort(key=lambda x: x[0]) \n",
    "\n",
    "    neighbors = distances[:K]\n",
    "    # Weighted voting: weights are inverse of the distance\n",
    "    votes = {}\n",
    "    for neighbor in neighbors:\n",
    "        weight = 1 / (neighbor[0] + 0.001)  # Assign weight inversely proportional to distance\n",
    "        label = neighbor[2]  # Neighbor's label (0 or 1)\n",
    "        if label in votes:\n",
    "            votes[label] += weight\n",
    "        else:\n",
    "            votes[label] = weight\n",
    "        \n",
    "    prediction = max(set(votes), key=votes.get)\n",
    "    if prediction == 1:\n",
    "        print(\"I am sure \" + name + \" is a boy.\")\n",
    "    else:\n",
    "        print(\"I am sure \" + name + \" is a girl.\")\n",
    "    \n",
    "    print(\"Names with minimum edit distance are:\", [neighbor[1] for neighbor in neighbors])"
   ]
  },
  {
   "cell_type": "code",
   "execution_count": 15,
   "metadata": {},
   "outputs": [
    {
     "name": "stdout",
     "output_type": "stream",
     "text": [
      "I am sure chandan is a boy.\n",
      "Names with minimum edit distance are: ['chandani', 'chintan', 'vandan', 'charan', 'chandni', 'shaan', 'champa', 'hanuman', 'shadab', 'chahat', 'manan', 'chaya', 'kundan', 'ranjan', 'chanchal', 'hinal', 'hardik', 'naman', 'bhavya', 'nayan', 'manthan']\n",
      "I am sure raavan is a boy.\n",
      "Names with minimum edit distance are: ['rajan', 'pavan', 'raavi', 'raman', 'rajan', 'savan', 'ranjan', 'naman', 'ravina', 'raghav', 'nayan', 'shaan', 'rohan', 'rehan', 'salman', 'roshan', 'pravin', 'ravi', 'tarjan', 'nayan', 'farhan']\n",
      "I am sure chandanbala is a girl.\n",
      "Names with minimum edit distance are: ['chandani', 'chitranjali', 'chandni', 'chanchal', 'ananya', 'sanjana', 'kadambari', 'shadab', 'dhanvarsha', 'vandna', 'chintan', 'vandan', 'charan', 'bhavana', 'shabana', 'vandna', 'hinal', 'anjali', 'shaan', 'shaila', 'hanshika']\n",
      "I am sure mandodari is a girl.\n",
      "Names with minimum edit distance are: ['manhar', 'manoj', 'manthan', 'anjali', 'manisha', 'chandani', 'mansi', 'mazida', 'kadambari', 'anushri', 'madhura', 'manoj', 'mahendra', 'monark', 'sandhya', 'madhvi', 'manan', 'vandna', 'mansi', 'mansi', 'anandi']\n"
     ]
    }
   ],
   "source": [
    "# Testing with our own example\n",
    "predict(\"Chandan\")\n",
    "predict(\"Raavan\")\n",
    "predict(\"Chandanbala\")\n",
    "predict(\"Mandodari\")"
   ]
  },
  {
   "cell_type": "code",
   "execution_count": 16,
   "metadata": {},
   "outputs": [
    {
     "name": "stdout",
     "output_type": "stream",
     "text": [
      "I am sure Chandan is a boy.\n",
      "Names with minimum edit distance are: ['chandani', 'vandan', 'shaan', 'hanuman', 'shadab', 'manan', 'chintan', 'charan', 'kundan', 'ranjan', 'chandni', 'hinal', 'hardik', 'naman', 'bhavya', 'nayan', 'manthan']\n",
      "I am sure Raavan is a boy.\n",
      "Names with minimum edit distance are: ['pavan', 'savan', 'naman', 'nayan', 'shaan', 'salman', 'pravin', 'rajan', 'raavi', 'tarjan', 'nayan', 'farhan', 'manan', 'raman', 'dhaval', 'bhavin', 'karan']\n",
      "I am sure Chandanbala is a girl.\n",
      "Names with minimum edit distance are: ['chandani', 'ananya', 'sanjana', 'kadambari', 'shadab', 'dhanvarsha', 'vandna', 'chitranjali', 'vandan', 'bhavana', 'chandni', 'shabana', 'chanchal', 'vandna', 'hinal', 'anjali', 'shaan']\n",
      "I am sure Mandodari is a girl.\n",
      "Names with minimum edit distance are: ['anjali', 'chandani', 'kadambari', 'anushri', 'sandhya', 'vandna', 'anandi', 'sanskar', 'banasri', 'vandan', 'nandini', 'manhar', 'vandna', 'saloni', 'janvi', 'akshar', 'manoj']\n"
     ]
    }
   ],
   "source": [
    "# Testing with our own example\n",
    "weighted_predict(\"Chandan\")\n",
    "weighted_predict(\"Raavan\")\n",
    "weighted_predict(\"Chandanbala\")\n",
    "weighted_predict(\"Mandodari\")"
   ]
  }
 ],
 "metadata": {
  "kernelspec": {
   "display_name": "Python 3",
   "language": "python",
   "name": "python3"
  },
  "language_info": {
   "codemirror_mode": {
    "name": "ipython",
    "version": 3
   },
   "file_extension": ".py",
   "mimetype": "text/x-python",
   "name": "python",
   "nbconvert_exporter": "python",
   "pygments_lexer": "ipython3",
   "version": "3.11.0"
  }
 },
 "nbformat": 4,
 "nbformat_minor": 2
}
