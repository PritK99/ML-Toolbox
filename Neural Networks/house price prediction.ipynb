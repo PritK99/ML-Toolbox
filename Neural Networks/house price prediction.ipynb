{
 "cells": [
  {
   "cell_type": "markdown",
   "metadata": {},
   "source": [
    "## Mumbai House Price Prediction using Linear Regression"
   ]
  },
  {
   "cell_type": "code",
   "execution_count": 91,
   "metadata": {},
   "outputs": [],
   "source": [
    "# Import all the required libraries\n",
    "import numpy as np\n",
    "import pandas as pd\n",
    "import random\n",
    "import matplotlib.pyplot as plt"
   ]
  },
  {
   "cell_type": "code",
   "execution_count": 92,
   "metadata": {},
   "outputs": [],
   "source": [
    "# Obtain the modified csv \n",
    "data = \"../assets/data/modified_mumbai_house_prices.csv\"\n",
    "house_price = pd.read_csv(data)\n",
    "\n",
    "# Refer assets/scripts/house-price-dataset.py for preprocessing steps"
   ]
  },
  {
   "cell_type": "code",
   "execution_count": 93,
   "metadata": {},
   "outputs": [
    {
     "name": "stdout",
     "output_type": "stream",
     "text": [
      "<class 'pandas.core.frame.DataFrame'>\n",
      "RangeIndex: 76038 entries, 0 to 76037\n",
      "Data columns (total 8 columns):\n",
      " #   Column     Non-Null Count  Dtype  \n",
      "---  ------     --------------  -----  \n",
      " 0   bhk        76038 non-null  int64  \n",
      " 1   type       76038 non-null  float64\n",
      " 2   area       76038 non-null  int64  \n",
      " 3   price      76038 non-null  float64\n",
      " 4   status     76038 non-null  int64  \n",
      " 5   age        76038 non-null  float64\n",
      " 6   latitude   76038 non-null  float64\n",
      " 7   longitude  76038 non-null  float64\n",
      "dtypes: float64(5), int64(3)\n",
      "memory usage: 4.6 MB\n",
      "None\n"
     ]
    }
   ],
   "source": [
    "# printing the info for dataset\n",
    "print(house_price.info())"
   ]
  },
  {
   "cell_type": "code",
   "execution_count": 94,
   "metadata": {},
   "outputs": [
    {
     "data": {
      "text/html": [
       "<div>\n",
       "<style scoped>\n",
       "    .dataframe tbody tr th:only-of-type {\n",
       "        vertical-align: middle;\n",
       "    }\n",
       "\n",
       "    .dataframe tbody tr th {\n",
       "        vertical-align: top;\n",
       "    }\n",
       "\n",
       "    .dataframe thead th {\n",
       "        text-align: right;\n",
       "    }\n",
       "</style>\n",
       "<table border=\"1\" class=\"dataframe\">\n",
       "  <thead>\n",
       "    <tr style=\"text-align: right;\">\n",
       "      <th></th>\n",
       "      <th>bhk</th>\n",
       "      <th>type</th>\n",
       "      <th>area</th>\n",
       "      <th>price</th>\n",
       "      <th>status</th>\n",
       "      <th>age</th>\n",
       "      <th>latitude</th>\n",
       "      <th>longitude</th>\n",
       "    </tr>\n",
       "  </thead>\n",
       "  <tbody>\n",
       "    <tr>\n",
       "      <th>0</th>\n",
       "      <td>3</td>\n",
       "      <td>0.25</td>\n",
       "      <td>685</td>\n",
       "      <td>2.5000</td>\n",
       "      <td>1</td>\n",
       "      <td>1.0</td>\n",
       "      <td>19.112122</td>\n",
       "      <td>72.867676</td>\n",
       "    </tr>\n",
       "    <tr>\n",
       "      <th>1</th>\n",
       "      <td>2</td>\n",
       "      <td>0.25</td>\n",
       "      <td>640</td>\n",
       "      <td>0.5251</td>\n",
       "      <td>0</td>\n",
       "      <td>1.0</td>\n",
       "      <td>18.969048</td>\n",
       "      <td>72.821182</td>\n",
       "    </tr>\n",
       "    <tr>\n",
       "      <th>2</th>\n",
       "      <td>2</td>\n",
       "      <td>0.25</td>\n",
       "      <td>610</td>\n",
       "      <td>1.7300</td>\n",
       "      <td>0</td>\n",
       "      <td>1.0</td>\n",
       "      <td>18.563005</td>\n",
       "      <td>73.906578</td>\n",
       "    </tr>\n",
       "    <tr>\n",
       "      <th>3</th>\n",
       "      <td>2</td>\n",
       "      <td>0.25</td>\n",
       "      <td>876</td>\n",
       "      <td>0.5998</td>\n",
       "      <td>0</td>\n",
       "      <td>1.0</td>\n",
       "      <td>18.999653</td>\n",
       "      <td>73.126328</td>\n",
       "    </tr>\n",
       "    <tr>\n",
       "      <th>4</th>\n",
       "      <td>2</td>\n",
       "      <td>0.25</td>\n",
       "      <td>659</td>\n",
       "      <td>0.9411</td>\n",
       "      <td>0</td>\n",
       "      <td>1.0</td>\n",
       "      <td>18.969048</td>\n",
       "      <td>72.821182</td>\n",
       "    </tr>\n",
       "  </tbody>\n",
       "</table>\n",
       "</div>"
      ],
      "text/plain": [
       "   bhk  type  area   price  status  age   latitude  longitude\n",
       "0    3  0.25   685  2.5000       1  1.0  19.112122  72.867676\n",
       "1    2  0.25   640  0.5251       0  1.0  18.969048  72.821182\n",
       "2    2  0.25   610  1.7300       0  1.0  18.563005  73.906578\n",
       "3    2  0.25   876  0.5998       0  1.0  18.999653  73.126328\n",
       "4    2  0.25   659  0.9411       0  1.0  18.969048  72.821182"
      ]
     },
     "execution_count": 94,
     "metadata": {},
     "output_type": "execute_result"
    }
   ],
   "source": [
    "house_price.head()"
   ]
  },
  {
   "cell_type": "code",
   "execution_count": 95,
   "metadata": {},
   "outputs": [
    {
     "data": {
      "text/plain": [
       "(76038, 8)"
      ]
     },
     "execution_count": 95,
     "metadata": {},
     "output_type": "execute_result"
    }
   ],
   "source": [
    "house_price.shape"
   ]
  },
  {
   "cell_type": "code",
   "execution_count": 96,
   "metadata": {},
   "outputs": [
    {
     "name": "stdout",
     "output_type": "stream",
     "text": [
      "The size of X_train is:  (68436, 7)\n",
      "The size of X_val is:  (3801, 7)\n",
      "The size of X_test is:  (3801, 7)\n",
      "The size of y_train is:  68436\n",
      "The size of y_val is:  3801\n",
      "The size of y_test is:  3801\n"
     ]
    }
   ],
   "source": [
    "# Define the ratios for train, test, and validation sets\n",
    "test_ratio = 0.05\n",
    "val_ratio = 0.05\n",
    "\n",
    "indices = list(house_price.index)\n",
    "\n",
    "# Calculate the number of samples for the testing and validation sets\n",
    "test_size = int(test_ratio * len(house_price))\n",
    "val_size = int(val_ratio * len(house_price))\n",
    "\n",
    "# Split the indices into training, testing, and validation sets\n",
    "test_indices = indices[:test_size]\n",
    "val_indices = indices[test_size:test_size+val_size]\n",
    "train_indices = indices[test_size+val_size:]\n",
    "\n",
    "# Create training, validation, and testing sets\n",
    "X_train = house_price.loc[train_indices]\n",
    "X_val = house_price.loc[val_indices]\n",
    "X_test = house_price.loc[test_indices]\n",
    "\n",
    "# Extract target variable and convert to NumPy arrays\n",
    "y_train = X_train.pop(\"price\").to_numpy()\n",
    "y_val = X_val.pop(\"price\").to_numpy()\n",
    "y_test = X_test.pop(\"price\").to_numpy()\n",
    "\n",
    "# Convert feature sets to NumPy arrays\n",
    "X_train = X_train.to_numpy()\n",
    "X_val = X_val.to_numpy()\n",
    "X_test = X_test.to_numpy()\n",
    "\n",
    "print(\"The size of X_train is: \", X_train.shape)\n",
    "print(\"The size of X_val is: \", X_val.shape)\n",
    "print(\"The size of X_test is: \", X_test.shape)\n",
    "print(\"The size of y_train is: \", len(y_train))\n",
    "print(\"The size of y_val is: \", len(y_val))\n",
    "print(\"The size of y_test is: \", len(y_test))"
   ]
  },
  {
   "cell_type": "code",
   "execution_count": 97,
   "metadata": {},
   "outputs": [],
   "source": [
    "X_mean = np.mean(X_train, axis=0)\n",
    "X_std = np.std(X_train, axis=0)\n",
    "\n",
    "# Normalizing the data\n",
    "X_train = (X_train - X_mean)/X_std\n",
    "X_val = (X_val - X_mean)/X_std\n",
    "X_test = (X_test - X_mean)/X_std"
   ]
  },
  {
   "cell_type": "code",
   "execution_count": 126,
   "metadata": {},
   "outputs": [],
   "source": [
    "# Computes the sigmoid function\n",
    "def relu(z):\n",
    "    return np.maximum(0, z)\n",
    "\n",
    "# Computes derivative of activation with respect to z\n",
    "def relu_prime(z):\n",
    "    return np.where(z > 0, 1, 0)"
   ]
  },
  {
   "cell_type": "code",
   "execution_count": 127,
   "metadata": {},
   "outputs": [],
   "source": [
    "# Computes the MSE Loss\n",
    "\n",
    "# This loss is for a point only\n",
    "def loss(y, a):\n",
    "    return 0.5*np.square(y-a)\n",
    "\n",
    "# Computes derivative of loss with respect to activations\n",
    "def loss_prime(y, a):\n",
    "    return (y-a)"
   ]
  },
  {
   "cell_type": "code",
   "execution_count": 128,
   "metadata": {},
   "outputs": [],
   "source": [
    "# Defining architecture with name vector as input and single output\n",
    "architecture = [7, 100, 1]"
   ]
  },
  {
   "cell_type": "code",
   "execution_count": 129,
   "metadata": {},
   "outputs": [
    {
     "name": "stdout",
     "output_type": "stream",
     "text": [
      "weight matrix 0 shape: (100, 7)\n",
      "weight matrix 1 shape: (1, 100)\n",
      "bias matrix 0 shape: (100, 1)\n",
      "bias matrix 1 shape: (1, 1)\n"
     ]
    }
   ],
   "source": [
    "# Initializing randomly\n",
    "weights = [np.random.randn(x,y) for x,y in zip(architecture[1:], architecture[:-1])]\n",
    "biases = [np.random.randn(y,1) for y in architecture[1:]]\n",
    "\n",
    "for i in range(len(weights)):\n",
    "    print(f'weight matrix {i} shape: {weights[i].shape}')\n",
    "\n",
    "for i in range(len(biases)):\n",
    "    print(f'bias matrix {i} shape: {biases[i].shape}')"
   ]
  },
  {
   "cell_type": "code",
   "execution_count": 130,
   "metadata": {},
   "outputs": [],
   "source": [
    "# Feedforward and Backpropogation phase\n",
    "def feedforward_and_backprop(X, y, weights, biases):\n",
    "    X = X.reshape(-1, 1)\n",
    "    a = X\n",
    "    z_cache = []\n",
    "    activation_cache = [X]\n",
    "\n",
    "    for i in range(len(weights)):\n",
    "        z = np.dot(weights[i], a) + biases[i]\n",
    "        z_cache.append(z)\n",
    "        a = relu(z)\n",
    "        activation_cache.append(a)\n",
    "\n",
    "    point_loss = loss(y, a[0][0])    \n",
    "    \n",
    "    # Define delta_nabla_w and delta_nabla_b\n",
    "    delta_nabla_w = []\n",
    "    delta_nabla_b = []\n",
    "\n",
    "    # For output layer\n",
    "    delta = loss_prime(y, a)*relu_prime(z_cache[-1])\n",
    "    delta_nabla_w.append(np.dot(delta, activation_cache[-2].transpose()))\n",
    "    delta_nabla_b.append(delta)\n",
    "\n",
    "    # For hidden layers\n",
    "    for i in range(len(weights)-1):\n",
    "        delta = np.dot(weights[-i-1].transpose(), delta)*relu_prime(z_cache[-i-2])\n",
    "        delta_nabla_w.append(np.dot(delta, activation_cache[-i-3].transpose()))\n",
    "        delta_nabla_b.append(delta)\n",
    "\n",
    "    delta_nabla_w.reverse()\n",
    "    delta_nabla_b.reverse()\n",
    "    \n",
    "    return delta_nabla_w, delta_nabla_b, point_loss"
   ]
  },
  {
   "cell_type": "code",
   "execution_count": 131,
   "metadata": {},
   "outputs": [],
   "source": [
    "# Updating one data point\n",
    "def update_point(X, y, weights, biases, learning_rate=0.005):\n",
    "    delta_w, delta_b, point_loss = feedforward_and_backprop(X, y, weights, biases)\n",
    "\n",
    "    for i in range(len(weights)):\n",
    "        weights[i] = weights[i] - learning_rate*delta_w[i]\n",
    "        biases[i] = biases[i] - learning_rate*delta_b[i]\n",
    "\n",
    "    return weights, biases, point_loss"
   ]
  },
  {
   "cell_type": "code",
   "execution_count": 137,
   "metadata": {},
   "outputs": [],
   "source": [
    "def evaluate(X, y, weights, biases):\n",
    "    a = np.squeeze(X).transpose()\n",
    "    for i in range(len(weights)):\n",
    "        z = np.dot(weights[i], a) + biases[i]\n",
    "        a = relu(z)\n",
    "    \n",
    "    error = loss(y, a)\n",
    "    print(error)\n",
    "    return error"
   ]
  },
  {
   "cell_type": "code",
   "execution_count": 138,
   "metadata": {},
   "outputs": [],
   "source": [
    "# Performing stochastic gradient descent\n",
    "def sgd(X_train, y_train, weights, biases, num_epochs=10, X_val=None, y_val=None):\n",
    "    loss_list = []\n",
    "    \n",
    "    for epoch in range(num_epochs):\n",
    "        epoch_loss = 0\n",
    "        # First we randomly shuffle data\n",
    "        temp = list(zip(X_train, y_train))\n",
    "        random.shuffle(temp)\n",
    "        temp_X_train, temp_y_train = zip(*temp)\n",
    "        temp_X_train = list(temp_X_train)\n",
    "        temp_y_train = list(temp_y_train)\n",
    "\n",
    "        # Now we iterate over each point in data\n",
    "        for i in range(len(temp_X_train)):\n",
    "            weights, biases, point_loss = update_point(temp_X_train[i], temp_y_train[i], weights, biases)\n",
    "            epoch_loss += point_loss\n",
    "            loss_list.append(point_loss)\n",
    "\n",
    "        epoch_loss = epoch_loss / len(temp_X_train)\n",
    "        # loss_list.append(epoch_loss)\n",
    "        if (epoch % 20 == 0):\n",
    "            # Test accuracy over validation data \n",
    "            print(f'Training loss for epoch {epoch}: {epoch_loss:.4f}')\n",
    "            if (X_val is not None):\n",
    "                val_accuracy = evaluate(X_val, y_val, weights, biases)\n",
    "                print(f'Validation Accuracy for epoch {epoch}: {val_accuracy:.4f}')\n",
    "    \n",
    "    # Visualize loss\n",
    "    plt.figure(figsize=(10, 6))\n",
    "    plt.plot(loss_list)\n",
    "    plt.title('Training Loss Over Epochs')\n",
    "    plt.xlabel('Epoch')\n",
    "    plt.ylabel('Loss')\n",
    "    plt.show()"
   ]
  },
  {
   "cell_type": "code",
   "execution_count": 139,
   "metadata": {},
   "outputs": [
    {
     "name": "stdout",
     "output_type": "stream",
     "text": [
      "Training loss for epoch 0: nan\n",
      "[[nan nan nan ... nan nan nan]]\n"
     ]
    },
    {
     "ename": "TypeError",
     "evalue": "unsupported format string passed to numpy.ndarray.__format__",
     "output_type": "error",
     "traceback": [
      "\u001b[1;31m---------------------------------------------------------------------------\u001b[0m",
      "\u001b[1;31mTypeError\u001b[0m                                 Traceback (most recent call last)",
      "Cell \u001b[1;32mIn[139], line 1\u001b[0m\n\u001b[1;32m----> 1\u001b[0m \u001b[43msgd\u001b[49m\u001b[43m(\u001b[49m\u001b[43mX_train\u001b[49m\u001b[43m,\u001b[49m\u001b[43m \u001b[49m\u001b[43my_train\u001b[49m\u001b[43m,\u001b[49m\u001b[43m \u001b[49m\u001b[43mweights\u001b[49m\u001b[43m,\u001b[49m\u001b[43m \u001b[49m\u001b[43mbiases\u001b[49m\u001b[43m,\u001b[49m\u001b[43m \u001b[49m\u001b[38;5;241;43m10\u001b[39;49m\u001b[43m,\u001b[49m\u001b[43m \u001b[49m\u001b[43mX_val\u001b[49m\u001b[43m,\u001b[49m\u001b[43m \u001b[49m\u001b[43my_val\u001b[49m\u001b[43m)\u001b[49m\n",
      "Cell \u001b[1;32mIn[138], line 27\u001b[0m, in \u001b[0;36msgd\u001b[1;34m(X_train, y_train, weights, biases, num_epochs, X_val, y_val)\u001b[0m\n\u001b[0;32m     25\u001b[0m         \u001b[38;5;28;01mif\u001b[39;00m (X_val \u001b[38;5;129;01mis\u001b[39;00m \u001b[38;5;129;01mnot\u001b[39;00m \u001b[38;5;28;01mNone\u001b[39;00m):\n\u001b[0;32m     26\u001b[0m             val_accuracy \u001b[38;5;241m=\u001b[39m evaluate(X_val, y_val, weights, biases)\n\u001b[1;32m---> 27\u001b[0m             \u001b[38;5;28mprint\u001b[39m(\u001b[38;5;124mf\u001b[39m\u001b[38;5;124m'\u001b[39m\u001b[38;5;124mValidation Accuracy for epoch \u001b[39m\u001b[38;5;132;01m{\u001b[39;00mepoch\u001b[38;5;132;01m}\u001b[39;00m\u001b[38;5;124m: \u001b[39m\u001b[38;5;132;01m{\u001b[39;00mval_accuracy\u001b[38;5;132;01m:\u001b[39;00m\u001b[38;5;124m.4f\u001b[39m\u001b[38;5;132;01m}\u001b[39;00m\u001b[38;5;124m'\u001b[39m)\n\u001b[0;32m     29\u001b[0m \u001b[38;5;66;03m# Visualize loss\u001b[39;00m\n\u001b[0;32m     30\u001b[0m plt\u001b[38;5;241m.\u001b[39mfigure(figsize\u001b[38;5;241m=\u001b[39m(\u001b[38;5;241m10\u001b[39m, \u001b[38;5;241m6\u001b[39m))\n",
      "\u001b[1;31mTypeError\u001b[0m: unsupported format string passed to numpy.ndarray.__format__"
     ]
    }
   ],
   "source": [
    "sgd(X_train, y_train, weights, biases, 10, X_val, y_val)"
   ]
  },
  {
   "cell_type": "code",
   "execution_count": null,
   "metadata": {},
   "outputs": [],
   "source": []
  },
  {
   "cell_type": "code",
   "execution_count": null,
   "metadata": {},
   "outputs": [],
   "source": []
  }
 ],
 "metadata": {
  "kernelspec": {
   "display_name": "Python 3",
   "language": "python",
   "name": "python3"
  },
  "language_info": {
   "codemirror_mode": {
    "name": "ipython",
    "version": 3
   },
   "file_extension": ".py",
   "mimetype": "text/x-python",
   "name": "python",
   "nbconvert_exporter": "python",
   "pygments_lexer": "ipython3",
   "version": "3.11.0"
  }
 },
 "nbformat": 4,
 "nbformat_minor": 2
}
