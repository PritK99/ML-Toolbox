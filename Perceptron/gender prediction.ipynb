{
 "cells": [
  {
   "cell_type": "markdown",
   "metadata": {},
   "source": [
    "## Gender Classification with Perceptron using First Names"
   ]
  },
  {
   "cell_type": "code",
   "execution_count": 58,
   "metadata": {},
   "outputs": [],
   "source": [
    "# import all the required libraries\n",
    "import numpy as np\n",
    "import pandas as pd\n",
    "import matplotlib.pyplot as plt"
   ]
  },
  {
   "cell_type": "code",
   "execution_count": 59,
   "metadata": {},
   "outputs": [],
   "source": [
    "# Read the dataset\n",
    "df = pd.read_csv(\"../assets/data/gender.csv\")"
   ]
  },
  {
   "cell_type": "code",
   "execution_count": 60,
   "metadata": {},
   "outputs": [
    {
     "name": "stdout",
     "output_type": "stream",
     "text": [
      "<class 'pandas.core.frame.DataFrame'>\n",
      "RangeIndex: 1294 entries, 0 to 1293\n",
      "Data columns (total 2 columns):\n",
      " #   Column  Non-Null Count  Dtype \n",
      "---  ------  --------------  ----- \n",
      " 0   Name    1294 non-null   object\n",
      " 1   Target  1294 non-null   int64 \n",
      "dtypes: int64(1), object(1)\n",
      "memory usage: 20.3+ KB\n"
     ]
    }
   ],
   "source": [
    "df.info()"
   ]
  },
  {
   "cell_type": "code",
   "execution_count": 61,
   "metadata": {},
   "outputs": [
    {
     "data": {
      "text/html": [
       "<div>\n",
       "<style scoped>\n",
       "    .dataframe tbody tr th:only-of-type {\n",
       "        vertical-align: middle;\n",
       "    }\n",
       "\n",
       "    .dataframe tbody tr th {\n",
       "        vertical-align: top;\n",
       "    }\n",
       "\n",
       "    .dataframe thead th {\n",
       "        text-align: right;\n",
       "    }\n",
       "</style>\n",
       "<table border=\"1\" class=\"dataframe\">\n",
       "  <thead>\n",
       "    <tr style=\"text-align: right;\">\n",
       "      <th></th>\n",
       "      <th>Name</th>\n",
       "      <th>Target</th>\n",
       "    </tr>\n",
       "  </thead>\n",
       "  <tbody>\n",
       "    <tr>\n",
       "      <th>0</th>\n",
       "      <td>Yash</td>\n",
       "      <td>1</td>\n",
       "    </tr>\n",
       "    <tr>\n",
       "      <th>1</th>\n",
       "      <td>Prit</td>\n",
       "      <td>1</td>\n",
       "    </tr>\n",
       "    <tr>\n",
       "      <th>2</th>\n",
       "      <td>Meet</td>\n",
       "      <td>1</td>\n",
       "    </tr>\n",
       "    <tr>\n",
       "      <th>3</th>\n",
       "      <td>Drashti</td>\n",
       "      <td>0</td>\n",
       "    </tr>\n",
       "    <tr>\n",
       "      <th>4</th>\n",
       "      <td>Saloni</td>\n",
       "      <td>0</td>\n",
       "    </tr>\n",
       "  </tbody>\n",
       "</table>\n",
       "</div>"
      ],
      "text/plain": [
       "      Name  Target\n",
       "0     Yash       1\n",
       "1     Prit       1\n",
       "2     Meet       1\n",
       "3  Drashti       0\n",
       "4   Saloni       0"
      ]
     },
     "execution_count": 61,
     "metadata": {},
     "output_type": "execute_result"
    }
   ],
   "source": [
    "df.head()"
   ]
  },
  {
   "cell_type": "code",
   "execution_count": 62,
   "metadata": {},
   "outputs": [
    {
     "data": {
      "text/html": [
       "<div>\n",
       "<style scoped>\n",
       "    .dataframe tbody tr th:only-of-type {\n",
       "        vertical-align: middle;\n",
       "    }\n",
       "\n",
       "    .dataframe tbody tr th {\n",
       "        vertical-align: top;\n",
       "    }\n",
       "\n",
       "    .dataframe thead th {\n",
       "        text-align: right;\n",
       "    }\n",
       "</style>\n",
       "<table border=\"1\" class=\"dataframe\">\n",
       "  <thead>\n",
       "    <tr style=\"text-align: right;\">\n",
       "      <th></th>\n",
       "      <th>Name</th>\n",
       "      <th>Target</th>\n",
       "    </tr>\n",
       "  </thead>\n",
       "  <tbody>\n",
       "    <tr>\n",
       "      <th>0</th>\n",
       "      <td>yash</td>\n",
       "      <td>1</td>\n",
       "    </tr>\n",
       "    <tr>\n",
       "      <th>1</th>\n",
       "      <td>prit</td>\n",
       "      <td>1</td>\n",
       "    </tr>\n",
       "    <tr>\n",
       "      <th>2</th>\n",
       "      <td>meet</td>\n",
       "      <td>1</td>\n",
       "    </tr>\n",
       "    <tr>\n",
       "      <th>3</th>\n",
       "      <td>drashti</td>\n",
       "      <td>0</td>\n",
       "    </tr>\n",
       "    <tr>\n",
       "      <th>4</th>\n",
       "      <td>saloni</td>\n",
       "      <td>0</td>\n",
       "    </tr>\n",
       "  </tbody>\n",
       "</table>\n",
       "</div>"
      ],
      "text/plain": [
       "      Name  Target\n",
       "0     yash       1\n",
       "1     prit       1\n",
       "2     meet       1\n",
       "3  drashti       0\n",
       "4   saloni       0"
      ]
     },
     "execution_count": 62,
     "metadata": {},
     "output_type": "execute_result"
    }
   ],
   "source": [
    "# Converting all names to lowercase\n",
    "df['Name'] = df['Name'].str.lower()\n",
    "df.head()"
   ]
  },
  {
   "cell_type": "code",
   "execution_count": 63,
   "metadata": {},
   "outputs": [
    {
     "name": "stdout",
     "output_type": "stream",
     "text": [
      "(18279, 1)\n",
      "1\n"
     ]
    }
   ],
   "source": [
    "# Convert each name to feature vector\n",
    "X = []\n",
    "y = []\n",
    "\n",
    "# Considering the last character, unigrams, bigrams, and trigrams in name\n",
    "num_feats = 26 + 26*26 + 26*26*26 + 1  # 26 letters + 26*26 bigrams + 26*26*26 trigrams + 1 bias = 18279 features\n",
    "\n",
    "for i in range(len(df)):\n",
    "    name = df.iloc[i]['Name']\n",
    "    target = df.iloc[i]['Target']\n",
    "    name = name.lower()\n",
    "\n",
    "    vec = np.zeros(num_feats)\n",
    "    vec[num_feats-1] = 1   # Initialize bias term as 1\n",
    "\n",
    "    # Consider last character of name\n",
    "    vec[ord(name[-1]) - 97] += 1\n",
    "\n",
    "    # Consider all bigrams\n",
    "    for j in range(len(name)-1):\n",
    "        bigram = name[j:j+2]\n",
    "        index = 26 + (ord(bigram[0]) - 97)*26 + (ord(bigram[1]) - 97)\n",
    "        vec[index] += 1\n",
    "\n",
    "    # Consider all trigrams\n",
    "    for k in range(len(name)-2):\n",
    "        trigram = name[k:k+3]\n",
    "        index = 26*26 + (ord(trigram[0]) - 97)*26*26 + (ord(trigram[1]) - 97)*26 + (ord(trigram[2]) - 97)\n",
    "        vec[index] += 1\n",
    "\n",
    "    vec = vec.reshape(-1, 1)\n",
    "    X.append(vec)\n",
    "\n",
    "    if target == 0:\n",
    "        # -1 represents girl\n",
    "        y.append(-1)\n",
    "    else:\n",
    "        # 1 represents boy\n",
    "        y.append(1)\n",
    "\n",
    "# Printing sample feature vector and label\n",
    "print(X[0].shape)\n",
    "print(y[0])\n"
   ]
  },
  {
   "cell_type": "code",
   "execution_count": 64,
   "metadata": {},
   "outputs": [
    {
     "name": "stdout",
     "output_type": "stream",
     "text": [
      "Number of training examples: 1164\n",
      "Number of test examples: 130\n"
     ]
    }
   ],
   "source": [
    "# Split data into train and test sets\n",
    "test_size = 0.1\n",
    "\n",
    "data = list(zip(X, y))\n",
    "\n",
    "split_index = int(len(data) * (1 - test_size))\n",
    "train_data = data[:split_index]\n",
    "test_data = data[split_index:]\n",
    "\n",
    "X_train, y_train = zip(*train_data)\n",
    "X_test, y_test = zip(*test_data)\n",
    "\n",
    "X_train, X_test = np.array(X_train), np.array(X_test)\n",
    "y_train, y_test = np.array(y_train), np.array(y_test)\n",
    "\n",
    "y_train = y_train.reshape(-1, 1)\n",
    "y_test = y_test.reshape(-1, 1)\n",
    "\n",
    "print(f'Number of training examples: {len(X_train)}')\n",
    "print(f'Number of test examples: {len(X_test)}')"
   ]
  },
  {
   "cell_type": "code",
   "execution_count": 65,
   "metadata": {},
   "outputs": [],
   "source": [
    "# Defining weights for perceptron\n",
    "W = np.zeros((num_feats, 1))"
   ]
  },
  {
   "cell_type": "code",
   "execution_count": 66,
   "metadata": {},
   "outputs": [],
   "source": [
    "def fit(X, y, W, threshold=1000):\n",
    "    m = X.shape[0]\n",
    "    misclassifications = []  # List to store misclassifications at each iteration\n",
    "\n",
    "    num_iterations = 0\n",
    "\n",
    "    # Continue till labels are classified\n",
    "    while True:\n",
    "        miss = 0\n",
    "        for j in range(m):\n",
    "            Z = y[j]*(np.dot(W.T, X[j]))\n",
    "            if (Z[0][0] <= 0):\n",
    "                W = W + y[j]*X[j]\n",
    "                miss += 1\n",
    "        \n",
    "        misclassifications.append(miss)\n",
    "\n",
    "        if (num_iterations % 10 == 0):\n",
    "            print(f\"Iteration {num_iterations}: {miss} misclassifications\")\n",
    "            \n",
    "        num_iterations += 1\n",
    "\n",
    "        if (miss == 0):\n",
    "            print(f\"Iteration {num_iterations}: Converged!\")\n",
    "            break\n",
    "            \n",
    "        if (num_iterations > threshold):\n",
    "            print(\"Algorithm did not converge!\")\n",
    "            break\n",
    "        \n",
    "    return W, misclassifications"
   ]
  },
  {
   "cell_type": "code",
   "execution_count": 67,
   "metadata": {},
   "outputs": [
    {
     "name": "stdout",
     "output_type": "stream",
     "text": [
      "Iteration 0: 247 misclassifications\n",
      "Iteration 10: 47 misclassifications\n",
      "Iteration 20: 18 misclassifications\n",
      "Iteration 30: 15 misclassifications\n",
      "Iteration 40: 6 misclassifications\n",
      "Iteration 50: 1 misclassifications\n",
      "Iteration 52: Converged!\n"
     ]
    }
   ],
   "source": [
    "W, misclassifications = fit(X_train, y_train, W)"
   ]
  },
  {
   "cell_type": "code",
   "execution_count": 68,
   "metadata": {},
   "outputs": [
    {
     "data": {
      "image/png": "[encoded data removed]",
      "text/plain": [
       "<Figure size 640x480 with 1 Axes>"
      ]
     },
     "metadata": {},
     "output_type": "display_data"
    }
   ],
   "source": [
    "# Plotting missclassifications against the number of iterations\n",
    "plt.plot(range(1, len(misclassifications) + 1), misclassifications)\n",
    "plt.xlabel('Number of Iterations')\n",
    "plt.ylabel('Misclassifications')\n",
    "plt.title('Misclassifications vs Number of Iterations')\n",
    "plt.grid(True)\n",
    "plt.show()"
   ]
  },
  {
   "cell_type": "code",
   "execution_count": 69,
   "metadata": {},
   "outputs": [
    {
     "name": "stdout",
     "output_type": "stream",
     "text": [
      "Total number of test samples: 130\n",
      "Number of misclassified samples: 19\n",
      "Accuracy on test set: 0.8538461538461538\n"
     ]
    }
   ],
   "source": [
    "def get_accuracy(X, y, W):\n",
    "\n",
    "    m = X.shape[0]\n",
    "    print(f\"Total number of test samples: {m}\")\n",
    "\n",
    "    miss = 0\n",
    "    for j in range(m):\n",
    "        Z = y[j]*(np.dot(W.T, X[j]))\n",
    "        if (Z[0][0] <= 0):\n",
    "            miss += 1\n",
    "    \n",
    "    print(f\"Number of misclassified samples: {miss}\")\n",
    "\n",
    "    return (m-miss)/m\n",
    "\n",
    "accuracy = get_accuracy(X_test, y_test, W)\n",
    "print(f\"Accuracy on test set: {accuracy}\")"
   ]
  },
  {
   "cell_type": "code",
   "execution_count": 70,
   "metadata": {},
   "outputs": [],
   "source": [
    "def predict(test_name):\n",
    "    # Convert name to feature vector\n",
    "\n",
    "    name = test_name.lower()\n",
    "    \n",
    "    # Considering all unigrams, bigrams, trigrams, and bias term\n",
    "    num_feats = 703 + 26*26*26  # 26^2 bigrams + 26^3 trigrams + 1 bias term = 18279 features\n",
    "\n",
    "    vec = np.zeros(num_feats)\n",
    "    vec[num_feats-1] = 1   # Initialize bias term as 1\n",
    "\n",
    "    # Consider last character of name\n",
    "    vec[ord(name[-1]) - 97] += 1\n",
    "\n",
    "    # Consider all bigrams\n",
    "    for i in range(len(name)-1):\n",
    "        bigram = name[i:i+2]\n",
    "        if not bigram.isalpha() or len(bigram) != 2:\n",
    "            continue\n",
    "        vec[26 + (ord(bigram[0]) - 97)*26 + (ord(bigram[1]) - 97)] += 1\n",
    "\n",
    "    # Consider all trigrams\n",
    "    for j in range(len(name)-2):\n",
    "        trigram = name[j:j+3]\n",
    "        if not trigram.isalpha() or len(trigram) != 3:\n",
    "            continue\n",
    "        vec[703 + (ord(trigram[0]) - 97)*26*26 + (ord(trigram[1]) - 97)*26 + (ord(trigram[2]) - 97)] += 1\n",
    "\n",
    "    vec = vec.reshape(-1, 1)\n",
    "    \n",
    "    z = np.dot(W.T, vec)\n",
    "\n",
    "    if z > 0:\n",
    "        print(\"I am sure \" + test_name + \" is a boy.\")\n",
    "    elif z < 0:\n",
    "        print(\"I am sure \" + test_name + \" is a girl.\")\n",
    "    else:\n",
    "        print(\"I am not sure if \" + test_name + \" is a boy or a girl.\")"
   ]
  },
  {
   "cell_type": "code",
   "execution_count": 71,
   "metadata": {},
   "outputs": [
    {
     "name": "stdout",
     "output_type": "stream",
     "text": [
      "I am sure Chandan is a boy.\n",
      "I am sure Chandanbala is a girl.\n"
     ]
    }
   ],
   "source": [
    "# Testing with our own example\n",
    "predict(\"Chandan\")\n",
    "predict(\"Chandanbala\")"
   ]
  },
  {
   "cell_type": "code",
   "execution_count": 72,
   "metadata": {},
   "outputs": [
    {
     "name": "stdout",
     "output_type": "stream",
     "text": [
      "Accuracy using scikit learn: 0.8846153846153846\n"
     ]
    }
   ],
   "source": [
    "# Verifying implementation using scikit learn\n",
    "from sklearn.linear_model import Perceptron\n",
    "\n",
    "# Removing the extra dimension\n",
    "X_train = np.squeeze(X_train)\n",
    "y_train = np.squeeze(y_train)\n",
    "X_test = np.squeeze(X_test)\n",
    "y_test = np.squeeze(y_test)\n",
    "\n",
    "# Initialize the Linear Regression model\n",
    "model = Perceptron()\n",
    "model.fit(X_train, y_train)\n",
    "\n",
    "# Evaluate the model\n",
    "accuracy = model.score(X_test, y_test)\n",
    "\n",
    "print(\"Accuracy using scikit learn:\", accuracy)"
   ]
  }
 ],
 "metadata": {
  "kernelspec": {
   "display_name": "Python 3",
   "language": "python",
   "name": "python3"
  },
  "language_info": {
   "codemirror_mode": {
    "name": "ipython",
    "version": 3
   },
   "file_extension": ".py",
   "mimetype": "text/x-python",
   "name": "python",
   "nbconvert_exporter": "python",
   "pygments_lexer": "ipython3",
   "version": "3.11.0"
  }
 },
 "nbformat": 4,
 "nbformat_minor": 2
}
