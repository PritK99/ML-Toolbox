{
 "cells": [
  {
   "cell_type": "markdown",
   "metadata": {},
   "source": [
    "## Gender Classification with SVMs using First Names"
   ]
  },
  {
   "cell_type": "code",
   "execution_count": 28,
   "metadata": {},
   "outputs": [],
   "source": [
    "# import all the required libraries\n",
    "import numpy as np\n",
    "import pandas as pd"
   ]
  },
  {
   "cell_type": "code",
   "execution_count": 29,
   "metadata": {},
   "outputs": [],
   "source": [
    "# Read the dataset\n",
    "df = pd.read_csv(\"../assets/data/gender.csv\")"
   ]
  },
  {
   "cell_type": "code",
   "execution_count": 30,
   "metadata": {},
   "outputs": [
    {
     "name": "stdout",
     "output_type": "stream",
     "text": [
      "<class 'pandas.core.frame.DataFrame'>\n",
      "RangeIndex: 1298 entries, 0 to 1297\n",
      "Data columns (total 2 columns):\n",
      " #   Column  Non-Null Count  Dtype \n",
      "---  ------  --------------  ----- \n",
      " 0   Name    1298 non-null   object\n",
      " 1   Target  1298 non-null   int64 \n",
      "dtypes: int64(1), object(1)\n",
      "memory usage: 20.4+ KB\n"
     ]
    }
   ],
   "source": [
    "df.info()"
   ]
  },
  {
   "cell_type": "code",
   "execution_count": 31,
   "metadata": {},
   "outputs": [
    {
     "data": {
      "text/html": [
       "<div>\n",
       "<style scoped>\n",
       "    .dataframe tbody tr th:only-of-type {\n",
       "        vertical-align: middle;\n",
       "    }\n",
       "\n",
       "    .dataframe tbody tr th {\n",
       "        vertical-align: top;\n",
       "    }\n",
       "\n",
       "    .dataframe thead th {\n",
       "        text-align: right;\n",
       "    }\n",
       "</style>\n",
       "<table border=\"1\" class=\"dataframe\">\n",
       "  <thead>\n",
       "    <tr style=\"text-align: right;\">\n",
       "      <th></th>\n",
       "      <th>Name</th>\n",
       "      <th>Target</th>\n",
       "    </tr>\n",
       "  </thead>\n",
       "  <tbody>\n",
       "    <tr>\n",
       "      <th>0</th>\n",
       "      <td>Yash</td>\n",
       "      <td>1</td>\n",
       "    </tr>\n",
       "    <tr>\n",
       "      <th>1</th>\n",
       "      <td>Prit</td>\n",
       "      <td>1</td>\n",
       "    </tr>\n",
       "    <tr>\n",
       "      <th>2</th>\n",
       "      <td>Meet</td>\n",
       "      <td>1</td>\n",
       "    </tr>\n",
       "    <tr>\n",
       "      <th>3</th>\n",
       "      <td>Drashti</td>\n",
       "      <td>0</td>\n",
       "    </tr>\n",
       "    <tr>\n",
       "      <th>4</th>\n",
       "      <td>Saloni</td>\n",
       "      <td>0</td>\n",
       "    </tr>\n",
       "  </tbody>\n",
       "</table>\n",
       "</div>"
      ],
      "text/plain": [
       "      Name  Target\n",
       "0     Yash       1\n",
       "1     Prit       1\n",
       "2     Meet       1\n",
       "3  Drashti       0\n",
       "4   Saloni       0"
      ]
     },
     "execution_count": 31,
     "metadata": {},
     "output_type": "execute_result"
    }
   ],
   "source": [
    "df.head()"
   ]
  },
  {
   "cell_type": "code",
   "execution_count": 32,
   "metadata": {},
   "outputs": [
    {
     "name": "stdout",
     "output_type": "stream",
     "text": [
      "(18279, 1)\n",
      "1\n"
     ]
    }
   ],
   "source": [
    "# Convert each name to feature vector\n",
    "X = []\n",
    "y = []\n",
    "\n",
    "# Considering the last character, unigrams, bigrams, and trigrams in name\n",
    "num_feats = 18279  # 26 letters + 26*26 bigrams + 26*26*26 trigrams + 1 bias = 18279 features\n",
    "\n",
    "for i in range(len(df)):\n",
    "    name = df.iloc[i]['Name']\n",
    "    target = df.iloc[i]['Target']\n",
    "    name = name.lower()\n",
    "\n",
    "    vec = np.zeros(num_feats)\n",
    "    vec[num_feats-1] = 1   # Initialize bias term as 1\n",
    "\n",
    "    # Consider last character of name\n",
    "    vec[ord(name[-1]) - 97] += 1\n",
    "\n",
    "    # Consider all bigrams\n",
    "    for j in range(len(name)-1):\n",
    "        bigram = name[j:j+2]\n",
    "        if not bigram.isalpha() or len(bigram) != 2:\n",
    "            continue\n",
    "        index = 26 + (ord(bigram[0]) - 97)*26 + (ord(bigram[1]) - 97)\n",
    "        vec[index] += 1\n",
    "\n",
    "    # Consider all trigrams\n",
    "    for k in range(len(name)-2):\n",
    "        trigram = name[k:k+3]\n",
    "        if not trigram.isalpha() or len(trigram) != 3:\n",
    "            continue\n",
    "        index = 26*26 + (ord(trigram[0]) - 97)*26*26 + (ord(trigram[1]) - 97)*26 + (ord(trigram[2]) - 97)\n",
    "        vec[index] += 1\n",
    "\n",
    "    vec = vec.reshape(-1, 1)\n",
    "    X.append(vec)\n",
    "\n",
    "    if target == 0:\n",
    "        # -1 represents girl\n",
    "        y.append(-1)\n",
    "    else:\n",
    "        # 1 represents boy\n",
    "        y.append(1)\n",
    "\n",
    "# Printing sample feature vector and label\n",
    "print(X[0].shape)\n",
    "print(y[0])\n"
   ]
  },
  {
   "cell_type": "code",
   "execution_count": 33,
   "metadata": {},
   "outputs": [
    {
     "name": "stdout",
     "output_type": "stream",
     "text": [
      "Number of training examples: 1038\n",
      "Number of test examples: 131\n",
      "Number of val examples: 129\n"
     ]
    }
   ],
   "source": [
    "# Split data into train and test sets\n",
    "train_size = 0.8\n",
    "test_size = 0.1\n",
    "val_size = 0.1\n",
    "\n",
    "data = list(zip(X, y))\n",
    "\n",
    "split_index_train = int(len(data) * (1 - test_size - val_size))\n",
    "split_index_val = split_index_train + int(len(data)*test_size)\n",
    "\n",
    "train_data = data[:split_index_train]\n",
    "val_data = data[split_index_train:split_index_val]\n",
    "test_data = data[split_index_val:]\n",
    "\n",
    "X_train, y_train = zip(*train_data)\n",
    "X_test, y_test = zip(*test_data)\n",
    "X_val, y_val = zip(*val_data)\n",
    "\n",
    "X_train, X_test, X_val = np.array(X_train), np.array(X_test), np.array(X_val)\n",
    "y_train, y_test, y_val = np.array(y_train), np.array(y_test), np.array(y_val)\n",
    "\n",
    "\n",
    "y_train = y_train.reshape(-1, 1)\n",
    "y_test = y_test.reshape(-1, 1)\n",
    "y_val = y_test.reshape(-1, 1)\n",
    "\n",
    "print(f'Number of training examples: {len(X_train)}')\n",
    "print(f'Number of test examples: {len(X_test)}')\n",
    "print(f'Number of val examples: {len(X_val)}')"
   ]
  },
  {
   "cell_type": "code",
   "execution_count": 34,
   "metadata": {},
   "outputs": [],
   "source": [
    "# Defining weights and bias for SVM. Unlike perceptron, we can not absorb the bias term in W.\n",
    "W = np.zeros((num_feats, 1))\n",
    "b = 0"
   ]
  },
  {
   "cell_type": "code",
   "execution_count": 53,
   "metadata": {},
   "outputs": [],
   "source": [
    "def train(X, y, W, b, learning_rate=0.01, num_iterations=1000, tr_lamda=0.01):\n",
    "    m = X.shape[0]\n",
    "\n",
    "    for i in range(m):\n",
    "        z = y[i]*(np.dot(W.T, X[i]) + b)\n",
    "        \n",
    "        if (z[0][0] >= 1):\n",
    "            W = W - learning_rate*(2*tr_lamda*W)\n",
    "        # else:\n",
    "        #     W = W - learning_rate*(2*tr_lamda*W - np.dot(y[i], X[i].T)) \n",
    "        #     b = b - learning_rate*(y[i])\n",
    "\n",
    "    return W, b"
   ]
  },
  {
   "cell_type": "code",
   "execution_count": 54,
   "metadata": {},
   "outputs": [],
   "source": [
    "W, b = train(X_train, y_train, W, b)"
   ]
  }
 ],
 "metadata": {
  "kernelspec": {
   "display_name": "Python 3",
   "language": "python",
   "name": "python3"
  },
  "language_info": {
   "codemirror_mode": {
    "name": "ipython",
    "version": 3
   },
   "file_extension": ".py",
   "mimetype": "text/x-python",
   "name": "python",
   "nbconvert_exporter": "python",
   "pygments_lexer": "ipython3",
   "version": "3.11.0"
  }
 },
 "nbformat": 4,
 "nbformat_minor": 2
}
