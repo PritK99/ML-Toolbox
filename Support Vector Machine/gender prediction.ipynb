{
 "cells": [
  {
   "cell_type": "markdown",
   "metadata": {},
   "source": [
    "## Gender Classification with SVMs using First Names"
   ]
  },
  {
   "cell_type": "code",
   "execution_count": 1,
   "metadata": {},
   "outputs": [],
   "source": [
    "# import all the required libraries\n",
    "import numpy as np\n",
    "import pandas as pd"
   ]
  },
  {
   "cell_type": "code",
   "execution_count": 2,
   "metadata": {},
   "outputs": [],
   "source": [
    "# Read the dataset\n",
    "df = pd.read_csv(\"../assets/data/gender.csv\")"
   ]
  },
  {
   "cell_type": "code",
   "execution_count": 3,
   "metadata": {},
   "outputs": [
    {
     "name": "stdout",
     "output_type": "stream",
     "text": [
      "<class 'pandas.core.frame.DataFrame'>\n",
      "RangeIndex: 1294 entries, 0 to 1293\n",
      "Data columns (total 2 columns):\n",
      " #   Column  Non-Null Count  Dtype \n",
      "---  ------  --------------  ----- \n",
      " 0   Name    1294 non-null   object\n",
      " 1   Target  1294 non-null   int64 \n",
      "dtypes: int64(1), object(1)\n",
      "memory usage: 20.3+ KB\n"
     ]
    }
   ],
   "source": [
    "df.info()"
   ]
  },
  {
   "cell_type": "code",
   "execution_count": 4,
   "metadata": {},
   "outputs": [
    {
     "data": {
      "text/html": [
       "<div>\n",
       "<style scoped>\n",
       "    .dataframe tbody tr th:only-of-type {\n",
       "        vertical-align: middle;\n",
       "    }\n",
       "\n",
       "    .dataframe tbody tr th {\n",
       "        vertical-align: top;\n",
       "    }\n",
       "\n",
       "    .dataframe thead th {\n",
       "        text-align: right;\n",
       "    }\n",
       "</style>\n",
       "<table border=\"1\" class=\"dataframe\">\n",
       "  <thead>\n",
       "    <tr style=\"text-align: right;\">\n",
       "      <th></th>\n",
       "      <th>Name</th>\n",
       "      <th>Target</th>\n",
       "    </tr>\n",
       "  </thead>\n",
       "  <tbody>\n",
       "    <tr>\n",
       "      <th>0</th>\n",
       "      <td>Yash</td>\n",
       "      <td>1</td>\n",
       "    </tr>\n",
       "    <tr>\n",
       "      <th>1</th>\n",
       "      <td>Prit</td>\n",
       "      <td>1</td>\n",
       "    </tr>\n",
       "    <tr>\n",
       "      <th>2</th>\n",
       "      <td>Meet</td>\n",
       "      <td>1</td>\n",
       "    </tr>\n",
       "    <tr>\n",
       "      <th>3</th>\n",
       "      <td>Drashti</td>\n",
       "      <td>0</td>\n",
       "    </tr>\n",
       "    <tr>\n",
       "      <th>4</th>\n",
       "      <td>Saloni</td>\n",
       "      <td>0</td>\n",
       "    </tr>\n",
       "  </tbody>\n",
       "</table>\n",
       "</div>"
      ],
      "text/plain": [
       "      Name  Target\n",
       "0     Yash       1\n",
       "1     Prit       1\n",
       "2     Meet       1\n",
       "3  Drashti       0\n",
       "4   Saloni       0"
      ]
     },
     "execution_count": 4,
     "metadata": {},
     "output_type": "execute_result"
    }
   ],
   "source": [
    "df.head()"
   ]
  },
  {
   "cell_type": "code",
   "execution_count": 5,
   "metadata": {},
   "outputs": [
    {
     "name": "stdout",
     "output_type": "stream",
     "text": [
      "(702,)\n",
      "1\n"
     ]
    }
   ],
   "source": [
    "# Convert each name to feature vector\n",
    "X = []\n",
    "y = []\n",
    "\n",
    "# Considering the last character and bigrams in name\n",
    "num_feats = 702    # 26 letters + 26*26 bigrams = 702 features\n",
    "\n",
    "for i in range(len(df)):\n",
    "  name = df.iloc[i]['Name']\n",
    "  target = df.iloc[i]['Target']\n",
    "\n",
    "  vec = np.zeros(num_feats)\n",
    "\n",
    "  # Consider last character\n",
    "  key = name[-1]\n",
    "  if (ord(key) < 97 or ord(key) > 122):\n",
    "    continue\n",
    "  vec[ord(key)-97] +=1\n",
    "\n",
    "  # Consider all bigrams\n",
    "  for i in range(len(name)-1):\n",
    "    bigram = name[i:i+2]\n",
    "    # Skipping whitespace and extra characters if any\n",
    "    if (ord(bigram[0]) < 97 or ord(bigram[0]) > 122 or ord(bigram[0]) < 97 or ord(bigram[1]) > 122):\n",
    "      continue\n",
    "    vec[26 + (ord(bigram[0]) - 97)*26 + (ord(bigram[1]) - 97)] += 1\n",
    "\n",
    "  X.append(vec)\n",
    "\n",
    "  if target == 0:\n",
    "    # 0 represents girl\n",
    "    y.append(-1)\n",
    "  else:\n",
    "    # 1 represents boy\n",
    "    y.append(1)\n",
    "\n",
    "# Printing sample feature vector and label\n",
    "print(X[0].shape)\n",
    "print(y[0])"
   ]
  },
  {
   "cell_type": "code",
   "execution_count": 6,
   "metadata": {},
   "outputs": [
    {
     "name": "stdout",
     "output_type": "stream",
     "text": [
      "Number of training examples: ((1034, 702), (1034, 1))\n",
      "Number of test examples: ((130, 702), (130, 1))\n",
      "Number of val examples: ((129, 702), (129, 1))\n"
     ]
    }
   ],
   "source": [
    "# Split data into train and test sets\n",
    "train_size = 0.8\n",
    "test_size = 0.1\n",
    "val_size = 0.1\n",
    "\n",
    "data = list(zip(X, y))\n",
    "\n",
    "# Split for training set\n",
    "split_index_train = int(len(data) * (1 - test_size - val_size))\n",
    "# Split for val set\n",
    "split_index_val = int(len(data)*val_size)\n",
    "\n",
    "train_data = data[:split_index_train]\n",
    "val_data = data[split_index_train:split_index_train+split_index_val]\n",
    "test_data = data[split_index_train+split_index_val:]\n",
    "\n",
    "X_train, y_train = zip(*train_data)\n",
    "X_test, y_test = zip(*test_data)\n",
    "X_val, y_val = zip(*val_data)\n",
    "\n",
    "X_train, X_test, X_val = np.array(X_train), np.array(X_test), np.array(X_val)\n",
    "y_train, y_test, y_val = np.array(y_train), np.array(y_test), np.array(y_val)\n",
    "\n",
    "y_train = y_train.reshape(-1, 1)\n",
    "y_test = y_test.reshape(-1, 1)\n",
    "y_val = y_val.reshape(-1, 1)\n",
    "\n",
    "print(f'Number of training examples: {X_train.shape, y_train.shape}')\n",
    "print(f'Number of test examples: {X_test.shape, y_test.shape}')\n",
    "print(f'Number of val examples: {X_val.shape, y_val.shape}')"
   ]
  },
  {
   "cell_type": "code",
   "execution_count": 7,
   "metadata": {},
   "outputs": [],
   "source": [
    "# Defining weights and bias for SVM. Unlike perceptron, we can not absorb the bias term in W.\n",
    "W = np.zeros((num_feats, 1))\n",
    "b = 0"
   ]
  },
  {
   "cell_type": "code",
   "execution_count": 8,
   "metadata": {},
   "outputs": [],
   "source": [
    "# If C is very small, it will allow some points to fall inside the margin or classify them incorrectly in order to increase the margin. One the other hand if C is very large, it will try to classify each and every point correctly, but will produce a thin margin.\n",
    "def train(X, y, W, b, learning_rate=0.1, C=0.1, num_iterations=500):\n",
    "    m = X.shape[0]\n",
    "\n",
    "    for iteration in range(num_iterations):\n",
    "        z = y * (np.dot(X, W) + b)\n",
    "\n",
    "        # margin_mask is set to true for all z < 1\n",
    "        margin_mask = z < 1\n",
    "\n",
    "        # Calculate gradients\n",
    "        dW = (1/m)*((2*W) + C*(1-np.dot(X.T, y*margin_mask)))\n",
    "        db = (1/m)*np.sum((C*margin_mask*(-y)))\n",
    "\n",
    "        if (iteration%100 == 0):\n",
    "            hinge_loss =  C*np.sum(1-np.dot(X.T, y*margin_mask))\n",
    "            regularization_loss = np.sum(W * W)\n",
    "            total_loss = hinge_loss + regularization_loss\n",
    "            print(f'Iteration: {round(iteration, 4)}, Total Loss: {round(total_loss, 4)}, Hinge Loss: {round(hinge_loss, 4)}, Regularization Loss: {round(regularization_loss, 4)}')\n",
    "\n",
    "\n",
    "        W = W - learning_rate*dW\n",
    "        b = b - learning_rate*db\n",
    "\n",
    "    return W, b\n"
   ]
  },
  {
   "cell_type": "code",
   "execution_count": 9,
   "metadata": {},
   "outputs": [
    {
     "name": "stdout",
     "output_type": "stream",
     "text": [
      "Iteration: 0, Total Loss: 71.7, Hinge Loss: 71.7, Regularization Loss: 0.0\n",
      "Iteration: 100, Total Loss: 71.7961, Hinge Loss: 71.7, Regularization Loss: 0.0961\n",
      "Iteration: 200, Total Loss: 72.0772, Hinge Loss: 71.7, Regularization Loss: 0.3772\n",
      "Iteration: 300, Total Loss: 71.8326, Hinge Loss: 71.0, Regularization Loss: 0.8326\n",
      "Iteration: 400, Total Loss: 39.9157, Hinge Loss: 38.5, Regularization Loss: 1.4157\n"
     ]
    }
   ],
   "source": [
    "W, b = train(X_train, y_train, W, b)"
   ]
  },
  {
   "cell_type": "code",
   "execution_count": 10,
   "metadata": {},
   "outputs": [
    {
     "name": "stdout",
     "output_type": "stream",
     "text": [
      "Total number of test samples: 129\n",
      "Number of misclassified samples: 16\n",
      "Accuracy on Validation set: 0.875968992248062\n"
     ]
    }
   ],
   "source": [
    "def get_accuracy(X, y, W, b):\n",
    "    m = X.shape[0]\n",
    "    print(f\"Total number of test samples: {m}\")\n",
    "\n",
    "    z = y * (np.dot(X, W) + b)  # Compute all z values at once\n",
    "\n",
    "    # mask is set to true for all misses i.e. z < 0\n",
    "    mask = z < 0\n",
    "    miss = np.sum(mask)\n",
    "\n",
    "    print(f\"Number of misclassified samples: {miss}\")\n",
    "\n",
    "    # Calculate and return accuracy\n",
    "    accuracy = (m - miss) / m\n",
    "    return accuracy\n",
    "\n",
    "val_accuracy = get_accuracy(X_val, y_val, W, b)\n",
    "print(f\"Accuracy on Validation set: {val_accuracy}\")\n"
   ]
  },
  {
   "cell_type": "code",
   "execution_count": 11,
   "metadata": {},
   "outputs": [],
   "source": [
    "# Reset parameters for training again on combined dataset\n",
    "W = np.zeros((num_feats, 1))\n",
    "b = 0"
   ]
  },
  {
   "cell_type": "code",
   "execution_count": 12,
   "metadata": {},
   "outputs": [
    {
     "name": "stdout",
     "output_type": "stream",
     "text": [
      "Iteration: 0, Total Loss: 74.0, Hinge Loss: 74.0, Regularization Loss: 0.0\n",
      "Iteration: 100, Total Loss: 74.0994, Hinge Loss: 74.0, Regularization Loss: 0.0994\n",
      "Iteration: 200, Total Loss: 74.3907, Hinge Loss: 74.0, Regularization Loss: 0.3907\n",
      "Iteration: 300, Total Loss: 74.1639, Hinge Loss: 73.3, Regularization Loss: 0.8639\n",
      "Iteration: 400, Total Loss: 28.9384, Hinge Loss: 27.5, Regularization Loss: 1.4384\n"
     ]
    }
   ],
   "source": [
    "# Training on both train and validation dataset\n",
    "X_train_val = np.concatenate((X_train, X_val))\n",
    "y_train_val = np.concatenate((y_train, y_val))\n",
    "W, b = train(X_train_val, y_train_val, W, b)"
   ]
  },
  {
   "cell_type": "code",
   "execution_count": 13,
   "metadata": {},
   "outputs": [
    {
     "name": "stdout",
     "output_type": "stream",
     "text": [
      "Total number of test samples: 130\n",
      "Number of misclassified samples: 15\n",
      "Accuracy on test set: 0.8846153846153846\n"
     ]
    }
   ],
   "source": [
    "accuracy = get_accuracy(X_test, y_test, W, b)\n",
    "print(f\"Accuracy on test set: {accuracy}\")"
   ]
  },
  {
   "cell_type": "code",
   "execution_count": 14,
   "metadata": {},
   "outputs": [],
   "source": [
    "def predict(test_name):\n",
    "    # Convert name to feature vector\n",
    "    name = test_name.lower()\n",
    "\n",
    "    vec = np.zeros(num_feats)\n",
    "\n",
    "    key = name[-1]\n",
    "    vec[ord(key)-97] +=1\n",
    "\n",
    "    # Consider all bigrams\n",
    "    for i in range(len(name)-1):\n",
    "        bigram = name[i:i+2]\n",
    "        if (ord(bigram[0]) < 97 or ord(bigram[0]) > 122 or ord(bigram[0]) < 97 or ord(bigram[1]) > 122):\n",
    "            continue\n",
    "        vec[26 + (ord(bigram[0]) - 97)*26 + (ord(bigram[1]) - 97)] += 1\n",
    "\n",
    "    z = (np.dot(vec, W) + b) \n",
    "\n",
    "    if z > 0:\n",
    "        print(\"I am sure \" + test_name + \" is a boy.\")\n",
    "    elif z < 0:\n",
    "        print(\"I am sure \" + test_name + \" is a girl.\")"
   ]
  },
  {
   "cell_type": "code",
   "execution_count": 15,
   "metadata": {},
   "outputs": [
    {
     "name": "stdout",
     "output_type": "stream",
     "text": [
      "I am sure Chandan is a boy.\n",
      "I am sure Chandanbala is a girl.\n"
     ]
    }
   ],
   "source": [
    "# Testing with our own example\n",
    "predict(\"Chandan\")\n",
    "predict(\"Chandanbala\")"
   ]
  }
 ],
 "metadata": {
  "kernelspec": {
   "display_name": "Python 3",
   "language": "python",
   "name": "python3"
  },
  "language_info": {
   "codemirror_mode": {
    "name": "ipython",
    "version": 3
   },
   "file_extension": ".py",
   "mimetype": "text/x-python",
   "name": "python",
   "nbconvert_exporter": "python",
   "pygments_lexer": "ipython3",
   "version": "3.11.0"
  }
 },
 "nbformat": 4,
 "nbformat_minor": 2
}
