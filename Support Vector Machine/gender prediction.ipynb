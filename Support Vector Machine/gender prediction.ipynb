{
 "cells": [
  {
   "cell_type": "markdown",
   "metadata": {},
   "source": [
    "## Gender Classification with SVMs using First Names"
   ]
  },
  {
   "cell_type": "code",
   "execution_count": 3,
   "metadata": {},
   "outputs": [],
   "source": [
    "# import all the required libraries\n",
    "import numpy as np\n",
    "import pandas as pd"
   ]
  },
  {
   "cell_type": "code",
   "execution_count": 4,
   "metadata": {},
   "outputs": [],
   "source": [
    "# Read the dataset\n",
    "df = pd.read_csv(\"../assets/data/gender.csv\")"
   ]
  },
  {
   "cell_type": "code",
   "execution_count": 5,
   "metadata": {},
   "outputs": [
    {
     "name": "stdout",
     "output_type": "stream",
     "text": [
      "<class 'pandas.core.frame.DataFrame'>\n",
      "RangeIndex: 1298 entries, 0 to 1297\n",
      "Data columns (total 2 columns):\n",
      " #   Column  Non-Null Count  Dtype \n",
      "---  ------  --------------  ----- \n",
      " 0   Name    1298 non-null   object\n",
      " 1   Target  1298 non-null   int64 \n",
      "dtypes: int64(1), object(1)\n",
      "memory usage: 20.4+ KB\n"
     ]
    }
   ],
   "source": [
    "df.info()"
   ]
  },
  {
   "cell_type": "code",
   "execution_count": 6,
   "metadata": {},
   "outputs": [
    {
     "data": {
      "text/html": [
       "<div>\n",
       "<style scoped>\n",
       "    .dataframe tbody tr th:only-of-type {\n",
       "        vertical-align: middle;\n",
       "    }\n",
       "\n",
       "    .dataframe tbody tr th {\n",
       "        vertical-align: top;\n",
       "    }\n",
       "\n",
       "    .dataframe thead th {\n",
       "        text-align: right;\n",
       "    }\n",
       "</style>\n",
       "<table border=\"1\" class=\"dataframe\">\n",
       "  <thead>\n",
       "    <tr style=\"text-align: right;\">\n",
       "      <th></th>\n",
       "      <th>Name</th>\n",
       "      <th>Target</th>\n",
       "    </tr>\n",
       "  </thead>\n",
       "  <tbody>\n",
       "    <tr>\n",
       "      <th>0</th>\n",
       "      <td>Yash</td>\n",
       "      <td>1</td>\n",
       "    </tr>\n",
       "    <tr>\n",
       "      <th>1</th>\n",
       "      <td>Prit</td>\n",
       "      <td>1</td>\n",
       "    </tr>\n",
       "    <tr>\n",
       "      <th>2</th>\n",
       "      <td>Meet</td>\n",
       "      <td>1</td>\n",
       "    </tr>\n",
       "    <tr>\n",
       "      <th>3</th>\n",
       "      <td>Drashti</td>\n",
       "      <td>0</td>\n",
       "    </tr>\n",
       "    <tr>\n",
       "      <th>4</th>\n",
       "      <td>Saloni</td>\n",
       "      <td>0</td>\n",
       "    </tr>\n",
       "  </tbody>\n",
       "</table>\n",
       "</div>"
      ],
      "text/plain": [
       "      Name  Target\n",
       "0     Yash       1\n",
       "1     Prit       1\n",
       "2     Meet       1\n",
       "3  Drashti       0\n",
       "4   Saloni       0"
      ]
     },
     "execution_count": 6,
     "metadata": {},
     "output_type": "execute_result"
    }
   ],
   "source": [
    "df.head()"
   ]
  },
  {
   "cell_type": "code",
   "execution_count": 7,
   "metadata": {},
   "outputs": [
    {
     "name": "stdout",
     "output_type": "stream",
     "text": [
      "(702,)\n",
      "1\n"
     ]
    }
   ],
   "source": [
    "# Convert each name to feature vector\n",
    "X = []\n",
    "y = []\n",
    "\n",
    "# Considering the last character and bigrams in name\n",
    "num_feats = 702    # 26 letters + 26*26 bigrams = 702 features\n",
    "\n",
    "for i in range(len(df)):\n",
    "  name = df.iloc[i]['Name']\n",
    "  target = df.iloc[i]['Target']\n",
    "\n",
    "  vec = np.zeros(num_feats)\n",
    "\n",
    "  # Consider last character\n",
    "  key = name[-1]\n",
    "  if (ord(key) < 97 or ord(key) > 122):\n",
    "    continue\n",
    "  vec[ord(key)-97] +=1\n",
    "\n",
    "  # Consider all bigrams\n",
    "  for i in range(len(name)-1):\n",
    "    bigram = name[i:i+2]\n",
    "    # Skipping whitespace and extra characters if any\n",
    "    if (ord(bigram[0]) < 97 or ord(bigram[0]) > 122 or ord(bigram[0]) < 97 or ord(bigram[1]) > 122):\n",
    "      continue\n",
    "    vec[26 + (ord(bigram[0]) - 97)*26 + (ord(bigram[1]) - 97)] += 1\n",
    "\n",
    "  X.append(vec)\n",
    "\n",
    "  if target == 0:\n",
    "    # 0 represents girl\n",
    "    y.append(-1)\n",
    "  else:\n",
    "    # 1 represents boy\n",
    "    y.append(1)\n",
    "\n",
    "# Printing sample feature vector and label\n",
    "print(X[0].shape)\n",
    "print(y[0])"
   ]
  },
  {
   "cell_type": "code",
   "execution_count": 8,
   "metadata": {},
   "outputs": [
    {
     "name": "stdout",
     "output_type": "stream",
     "text": [
      "Number of training examples: ((1036, 702), (1036, 1))\n",
      "Number of test examples: ((131, 702), (131, 1))\n",
      "Number of val examples: ((129, 702), (129, 1))\n"
     ]
    }
   ],
   "source": [
    "# Split data into train and test sets\n",
    "train_size = 0.8\n",
    "test_size = 0.1\n",
    "val_size = 0.1\n",
    "\n",
    "data = list(zip(X, y))\n",
    "\n",
    "# Split for training set\n",
    "split_index_train = int(len(data) * (1 - test_size - val_size))\n",
    "# Split for val set\n",
    "split_index_val = int(len(data)*val_size)\n",
    "\n",
    "train_data = data[:split_index_train]\n",
    "val_data = data[split_index_train:split_index_train+split_index_val]\n",
    "test_data = data[split_index_train+split_index_val:]\n",
    "\n",
    "X_train, y_train = zip(*train_data)\n",
    "X_test, y_test = zip(*test_data)\n",
    "X_val, y_val = zip(*val_data)\n",
    "\n",
    "X_train, X_test, X_val = np.array(X_train), np.array(X_test), np.array(X_val)\n",
    "y_train, y_test, y_val = np.array(y_train), np.array(y_test), np.array(y_val)\n",
    "\n",
    "y_train = y_train.reshape(-1, 1)\n",
    "y_test = y_test.reshape(-1, 1)\n",
    "y_val = y_val.reshape(-1, 1)\n",
    "\n",
    "print(f'Number of training examples: {X_train.shape, y_train.shape}')\n",
    "print(f'Number of test examples: {X_test.shape, y_test.shape}')\n",
    "print(f'Number of val examples: {X_val.shape, y_val.shape}')"
   ]
  },
  {
   "cell_type": "code",
   "execution_count": 58,
   "metadata": {},
   "outputs": [],
   "source": [
    "# Defining weights and bias for SVM. Unlike perceptron, we can not absorb the bias term in W.\n",
    "W = np.zeros((num_feats, 1))\n",
    "b = 0"
   ]
  },
  {
   "cell_type": "code",
   "execution_count": 59,
   "metadata": {},
   "outputs": [],
   "source": [
    "# If C is very small, it will allow some points to fall inside the margin or classify them incorrectly in order to increase the margin. One the other hand if C is very large, it will try to classify each and every point correctly, but will produce a thin margin.\n",
    "def train(X, y, W, b, learning_rate=0.1, C=0.5, num_iterations=1000):\n",
    "    m = X.shape[0]\n",
    "\n",
    "    for iteration in range(num_iterations):\n",
    "        z = y * (np.dot(X, W) + b)\n",
    "\n",
    "        # margin_mask is set to true for all z < 1\n",
    "        margin_mask = z < 1\n",
    "\n",
    "        # Calculate gradients\n",
    "        dW = (1/m)*((2*W) + C*(1-np.dot(X.T, y*margin_mask)))\n",
    "        db = (1/m)*np.sum((C*margin_mask*(-y)))\n",
    "\n",
    "        if (iteration%100 == 0):\n",
    "            hinge_loss =  C*np.sum(1-np.dot(X.T, y*margin_mask))\n",
    "            regularization_loss = np.sum(W * W)\n",
    "            total_loss = hinge_loss + regularization_loss\n",
    "            print(f'Iteration: {round(iteration, 4)}, Total Loss: {round(total_loss, 4)}, Hinge Loss: {round(hinge_loss, 4)}, Regularization Loss: {round(regularization_loss, 4)}')\n",
    "\n",
    "\n",
    "        W = W - learning_rate*dW\n",
    "        b = b - learning_rate*db\n",
    "\n",
    "    return W, b\n"
   ]
  },
  {
   "cell_type": "code",
   "execution_count": 60,
   "metadata": {},
   "outputs": [
    {
     "name": "stdout",
     "output_type": "stream",
     "text": [
      "Iteration: 0, Total Loss: 363.5, Hinge Loss: 363.5, Regularization Loss: 0.0\n",
      "Iteration: 100, Total Loss: 109.112, Hinge Loss: 107.0, Regularization Loss: 2.112\n",
      "Iteration: 200, Total Loss: 230.1356, Hinge Loss: 225.0, Regularization Loss: 5.1356\n",
      "Iteration: 300, Total Loss: 285.4427, Hinge Loss: 278.5, Regularization Loss: 6.9427\n",
      "Iteration: 400, Total Loss: 339.6516, Hinge Loss: 332.0, Regularization Loss: 7.6516\n",
      "Iteration: 500, Total Loss: 332.038, Hinge Loss: 324.0, Regularization Loss: 8.038\n",
      "Iteration: 600, Total Loss: 332.8731, Hinge Loss: 324.5, Regularization Loss: 8.3731\n",
      "Iteration: 700, Total Loss: 338.2068, Hinge Loss: 329.5, Regularization Loss: 8.7068\n",
      "Iteration: 800, Total Loss: 337.0718, Hinge Loss: 328.0, Regularization Loss: 9.0718\n",
      "Iteration: 900, Total Loss: 263.4637, Hinge Loss: 254.0, Regularization Loss: 9.4637\n"
     ]
    }
   ],
   "source": [
    "W, b = train(X_train, y_train, W, b)"
   ]
  },
  {
   "cell_type": "code",
   "execution_count": 61,
   "metadata": {},
   "outputs": [
    {
     "name": "stdout",
     "output_type": "stream",
     "text": [
      "Total number of test samples: 129\n",
      "Number of misclassified samples: 14\n",
      "Accuracy on test set: 0.8914728682170543\n"
     ]
    }
   ],
   "source": [
    "def get_accuracy(X, y, W, b):\n",
    "    m = X.shape[0]\n",
    "    print(f\"Total number of test samples: {m}\")\n",
    "\n",
    "    z = y * (np.dot(X, W) + b)  # Compute all z values at once\n",
    "\n",
    "    # mask is set to true for all misses i.e. z < 0\n",
    "    mask = z < 0\n",
    "    miss = np.sum(mask)\n",
    "\n",
    "    print(f\"Number of misclassified samples: {miss}\")\n",
    "\n",
    "    # Calculate and return accuracy\n",
    "    accuracy = (m - miss) / m\n",
    "    return accuracy\n",
    "\n",
    "val_accuracy = get_accuracy(X_val, y_val, W, b)\n",
    "print(f\"Accuracy on Validation set: {val_accuracy}\")\n"
   ]
  },
  {
   "cell_type": "code",
   "execution_count": 62,
   "metadata": {},
   "outputs": [],
   "source": [
    "# Reset parameters for training again on combined dataset\n",
    "W = np.zeros((num_feats, 1))\n",
    "b = 0"
   ]
  },
  {
   "cell_type": "code",
   "execution_count": 63,
   "metadata": {},
   "outputs": [
    {
     "name": "stdout",
     "output_type": "stream",
     "text": [
      "Iteration: 0, Total Loss: 375.5, Hinge Loss: 375.5, Regularization Loss: 0.0\n",
      "Iteration: 100, Total Loss: 58.114, Hinge Loss: 56.0, Regularization Loss: 2.114\n",
      "Iteration: 200, Total Loss: 243.1362, Hinge Loss: 238.0, Regularization Loss: 5.1362\n",
      "Iteration: 300, Total Loss: 289.4351, Hinge Loss: 282.5, Regularization Loss: 6.9351\n",
      "Iteration: 400, Total Loss: 320.1193, Hinge Loss: 312.5, Regularization Loss: 7.6193\n",
      "Iteration: 500, Total Loss: 307.9687, Hinge Loss: 300.0, Regularization Loss: 7.9687\n",
      "Iteration: 600, Total Loss: 329.7222, Hinge Loss: 321.5, Regularization Loss: 8.2222\n",
      "Iteration: 700, Total Loss: 348.4962, Hinge Loss: 340.0, Regularization Loss: 8.4962\n",
      "Iteration: 800, Total Loss: 261.7987, Hinge Loss: 253.0, Regularization Loss: 8.7987\n",
      "Iteration: 900, Total Loss: 292.1235, Hinge Loss: 283.0, Regularization Loss: 9.1235\n"
     ]
    }
   ],
   "source": [
    "# Training on both train and validation dataset\n",
    "X_train_val = np.concatenate((X_train, X_val))\n",
    "y_train_val = np.concatenate((y_train, y_val))\n",
    "W, b = train(X_train_val, y_train_val, W, b)"
   ]
  },
  {
   "cell_type": "code",
   "execution_count": 64,
   "metadata": {},
   "outputs": [
    {
     "name": "stdout",
     "output_type": "stream",
     "text": [
      "Total number of test samples: 131\n",
      "Number of misclassified samples: 19\n",
      "Accuracy on test set: 0.8549618320610687\n"
     ]
    }
   ],
   "source": [
    "accuracy = get_accuracy(X_test, y_test, W, b)\n",
    "print(f\"Accuracy on test set: {accuracy}\")"
   ]
  },
  {
   "cell_type": "code",
   "execution_count": 65,
   "metadata": {},
   "outputs": [],
   "source": [
    "def predict(name):\n",
    "    # Convert name to feature vector\n",
    "    name = name.lower()\n",
    "\n",
    "    vec = np.zeros(num_feats)\n",
    "\n",
    "    key = name[-1]\n",
    "    vec[ord(key)-97] +=1\n",
    "\n",
    "    # Consider all bigrams\n",
    "    for i in range(len(name)-1):\n",
    "        bigram = name[i:i+2]\n",
    "        if (ord(bigram[0]) < 97 or ord(bigram[0]) > 122 or ord(bigram[0]) < 97 or ord(bigram[1]) > 122):\n",
    "            continue\n",
    "        vec[26 + (ord(bigram[0]) - 97)*26 + (ord(bigram[1]) - 97)] += 1\n",
    "\n",
    "    z = (np.dot(vec, W) + b) \n",
    "\n",
    "    if z > 0:\n",
    "        print(\"I am sure \" + name + \" is a boy.\")\n",
    "    elif z < 0:\n",
    "        print(\"I am sure \" + name + \" is a girl.\")"
   ]
  },
  {
   "cell_type": "code",
   "execution_count": 68,
   "metadata": {},
   "outputs": [
    {
     "name": "stdout",
     "output_type": "stream",
     "text": [
      "I am sure chandan is a boy.\n",
      "I am sure chandanbala is a girl.\n"
     ]
    }
   ],
   "source": [
    "# Testing with our own example\n",
    "predict(\"Chandan\")\n",
    "predict(\"Chandanbala\")"
   ]
  }
 ],
 "metadata": {
  "kernelspec": {
   "display_name": "Python 3",
   "language": "python",
   "name": "python3"
  },
  "language_info": {
   "codemirror_mode": {
    "name": "ipython",
    "version": 3
   },
   "file_extension": ".py",
   "mimetype": "text/x-python",
   "name": "python",
   "nbconvert_exporter": "python",
   "pygments_lexer": "ipython3",
   "version": "3.11.0"
  }
 },
 "nbformat": 4,
 "nbformat_minor": 2
}
