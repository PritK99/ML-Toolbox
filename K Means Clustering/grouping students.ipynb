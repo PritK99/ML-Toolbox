{
 "cells": [
  {
   "cell_type": "markdown",
   "metadata": {},
   "source": [
    "## Grouping students based on marksheets using K Means Clustering"
   ]
  },
  {
   "cell_type": "code",
   "execution_count": 630,
   "metadata": {},
   "outputs": [],
   "source": [
    "# import all the required libraries\n",
    "import numpy as np\n",
    "import pandas as pd\n",
    "import matplotlib.pyplot as plt\n",
    "import random\n",
    "random.seed(42)"
   ]
  },
  {
   "cell_type": "code",
   "execution_count": 631,
   "metadata": {},
   "outputs": [],
   "source": [
    "# obtain the raw csv \n",
    "data = \"../assets/data/student_marksheet.csv\"\n",
    "marksheet_df = pd.read_csv(data)"
   ]
  },
  {
   "cell_type": "code",
   "execution_count": 632,
   "metadata": {},
   "outputs": [
    {
     "name": "stdout",
     "output_type": "stream",
     "text": [
      "<class 'pandas.core.frame.DataFrame'>\n",
      "RangeIndex: 250 entries, 0 to 249\n",
      "Data columns (total 9 columns):\n",
      " #   Column   Non-Null Count  Dtype \n",
      "---  ------   --------------  ----- \n",
      " 0   id       250 non-null    int64 \n",
      " 1   Name     250 non-null    object\n",
      " 2   Gender   250 non-null    object\n",
      " 3   Age      250 non-null    int64 \n",
      " 4   Section  250 non-null    object\n",
      " 5   Science  250 non-null    int64 \n",
      " 6   English  250 non-null    int64 \n",
      " 7   History  250 non-null    int64 \n",
      " 8   Maths    250 non-null    int64 \n",
      "dtypes: int64(6), object(3)\n",
      "memory usage: 17.7+ KB\n",
      "None\n"
     ]
    }
   ],
   "source": [
    "print(marksheet_df.info())"
   ]
  },
  {
   "cell_type": "code",
   "execution_count": 633,
   "metadata": {},
   "outputs": [
    {
     "name": "stdout",
     "output_type": "stream",
     "text": [
      "   id     Name  Gender  Age Section  Science  English  History  Maths\n",
      "0   1  Bronnie  Female   13       C       21       81       62     49\n",
      "1   2   Lemmie    Male   15       B       29       41       17     40\n",
      "2   3    Danya  Female   14       C       12       87       16     96\n",
      "3   4    Denna  Female   14       B       15       53       82     33\n",
      "4   5  Jocelin    Male   14       A       43        6        3     21\n"
     ]
    }
   ],
   "source": [
    "print(marksheet_df.head())\n",
    "marksheet_df_copy = marksheet_df.copy()"
   ]
  },
  {
   "cell_type": "code",
   "execution_count": 634,
   "metadata": {},
   "outputs": [
    {
     "name": "stdout",
     "output_type": "stream",
     "text": [
      "['Female' 'Male']\n",
      "['C' 'B' 'A']\n",
      "[13 15 14]\n"
     ]
    }
   ],
   "source": [
    "# Identifying categorical features\n",
    "print(marksheet_df[\"Gender\"].unique())\n",
    "print(marksheet_df[\"Section\"].unique())\n",
    "print(marksheet_df[\"Age\"].unique())"
   ]
  },
  {
   "cell_type": "code",
   "execution_count": 635,
   "metadata": {},
   "outputs": [],
   "source": [
    "# Converting categorical data to numeric data\n",
    "marksheet_df[\"Gender\"].replace({\"Female\": 0, \"Male\": 1}, inplace=True)\n",
    "marksheet_df[\"Section\"].replace({\"A\": 0, \"B\": 1, \"C\": 2}, inplace=True)\n",
    "marksheet_df[\"Age\"].replace({13: 0, 14: 0.5, 15: 1}, inplace=True)"
   ]
  },
  {
   "cell_type": "code",
   "execution_count": 636,
   "metadata": {},
   "outputs": [],
   "source": [
    "# Dropping name and id column because it will not be used for clustering\n",
    "marksheet_df.drop([\"Name\"], axis=1, inplace=True)\n",
    "marksheet_df.drop([\"id\"], axis=1, inplace=True)"
   ]
  },
  {
   "cell_type": "code",
   "execution_count": 637,
   "metadata": {},
   "outputs": [
    {
     "name": "stdout",
     "output_type": "stream",
     "text": [
      "(250, 7)\n",
      "   Gender  Age  Section  Science  English  History  Maths\n",
      "0       0  0.0        2       21       81       62     49\n",
      "1       1  1.0        1       29       41       17     40\n",
      "2       0  0.5        2       12       87       16     96\n",
      "3       0  0.5        1       15       53       82     33\n",
      "4       1  0.5        0       43        6        3     21\n"
     ]
    }
   ],
   "source": [
    "print(marksheet_df.shape)\n",
    "print(marksheet_df.head())"
   ]
  },
  {
   "cell_type": "code",
   "execution_count": 638,
   "metadata": {},
   "outputs": [
    {
     "name": "stdout",
     "output_type": "stream",
     "text": [
      "     Gender       Age   Section   Science   English   History     Maths\n",
      "0 -1.055542 -1.238469  1.146226 -1.038394  1.102541  0.362059 -0.146642\n",
      "1  0.943591  1.189901 -0.062873 -0.765492 -0.233063 -1.312763 -0.475272\n",
      "2 -1.055542 -0.024284  1.146226 -1.345409  1.302881 -1.349981  1.569537\n",
      "3 -1.055542 -0.024284 -0.062873 -1.243071  0.167618  1.106425 -0.730873\n",
      "4  0.943591 -0.024284 -1.271972 -0.287912 -1.401716 -1.833819 -1.169047\n"
     ]
    }
   ],
   "source": [
    "X_mean = marksheet_df.mean(axis=0, numeric_only=True)\n",
    "X_std = marksheet_df.std(axis=0, numeric_only=True)\n",
    "\n",
    "# Normalizing the data\n",
    "marksheet_df = (marksheet_df - X_mean) / X_std\n",
    "\n",
    "print(marksheet_df.head())"
   ]
  },
  {
   "cell_type": "code",
   "execution_count": 639,
   "metadata": {},
   "outputs": [],
   "source": [
    "def get_distance(x, y):\n",
    "    dist = 0\n",
    "    dist += 0.5*(np.abs(x[0] - y[0]))\n",
    "    if (x[1] != y[1]):\n",
    "        dist += 0.5\n",
    "    dist += 10*np.abs(x[2] - y[2])\n",
    "    dist += 10*np.abs(x[3] - y[3])\n",
    "    dist += 10*np.abs(x[4] - y[4])\n",
    "    dist += 10*np.abs(x[5] - y[5])\n",
    "\n",
    "    return dist"
   ]
  },
  {
   "cell_type": "code",
   "execution_count": 640,
   "metadata": {},
   "outputs": [],
   "source": [
    "# Initialize the centroids randomly\n",
    "def init_centroids(K, marksheet_df):\n",
    "    centroids = set()\n",
    "\n",
    "    while(len(centroids) != K):\n",
    "        random_index = random.randint(0, len(marksheet_df)-1)\n",
    "        z = tuple(marksheet_df.iloc[random_index, -7:])\n",
    "        centroids.add(z)\n",
    "\n",
    "    # Convert the set to a list\n",
    "    centroids = list(centroids)\n",
    "\n",
    "    return centroids"
   ]
  },
  {
   "cell_type": "code",
   "execution_count": 641,
   "metadata": {},
   "outputs": [],
   "source": [
    "# Clusters are assigned with the prior knowledge of centroids\n",
    "def assign_clusters(K, centroids, marksheet_df):\n",
    "    clusters = [[] for _ in range(K)]\n",
    "    \n",
    "    # Assign each data point to its closest centroid\n",
    "    for i in range(len(marksheet_df)):\n",
    "        min_dist = float(\"inf\")\n",
    "        idx = 0\n",
    "        \n",
    "        for j in range(len(centroids)):\n",
    "            dist = get_distance(centroids[j], marksheet_df.loc[i])\n",
    "            if dist < min_dist:\n",
    "                min_dist = dist\n",
    "                idx = j\n",
    "\n",
    "        clusters[idx].append(i)  # Append index of data point\n",
    "    \n",
    "    return clusters"
   ]
  },
  {
   "cell_type": "code",
   "execution_count": 642,
   "metadata": {},
   "outputs": [],
   "source": [
    "# Centroids of each cluster are updated with the prior knowledge of clusters\n",
    "def update_centroids(K, clusters):\n",
    "    centroids = []\n",
    "    for i in range(K):\n",
    "        sum = 0\n",
    "        for j in range(len(clusters[i])):\n",
    "            sum += np.array(marksheet_df.iloc[clusters[i][j]])\n",
    "        sum /= len(clusters[i])\n",
    "        centroids.append(sum)\n",
    "    \n",
    "    return centroids"
   ]
  },
  {
   "cell_type": "code",
   "execution_count": 643,
   "metadata": {},
   "outputs": [],
   "source": [
    "def get_dissimilarity(clusters, centroids, marksheet_df):\n",
    "    dissimilarity = 0\n",
    "    for i in range(len(clusters)):\n",
    "        cluster_variance = 0\n",
    "        for j in range(len(clusters[i])):\n",
    "            cluster_variance += get_distance(marksheet_df.loc[clusters[i][j]], centroids[i])\n",
    "\n",
    "        dissimilarity += cluster_variance\n",
    "\n",
    "    return dissimilarity\n"
   ]
  },
  {
   "cell_type": "code",
   "execution_count": 644,
   "metadata": {},
   "outputs": [],
   "source": [
    "def fit(K, marksheet_df, num_iterations=100):\n",
    "    # Initialize the centroids\n",
    "    centroids = init_centroids(K, marksheet_df)\n",
    "    total_dissimilarity = []\n",
    "    clusters = [[] for _ in range(K)]\n",
    "    prev_clusters = [[] for _ in range(K)]\n",
    "\n",
    "    for m in range(num_iterations):\n",
    "        # Clusters are assigned with the prior knowledge of centroids\n",
    "        clusters = assign_clusters(K, centroids, marksheet_df)\n",
    "\n",
    "        # Centroids of each cluster are updated with the prior knowledge of clusters\n",
    "        centroids = update_centroids(K, clusters)\n",
    "\n",
    "        # Get dissimilarity score\n",
    "        dissimilarity_score = get_dissimilarity(clusters, centroids, marksheet_df)\n",
    "        total_dissimilarity.append(dissimilarity_score)\n",
    "\n",
    "        if (m % 10 == 0):\n",
    "            print(f'Completed iteration: {m} with dissimilarity score: {dissimilarity_score}')\n",
    "        \n",
    "        if (prev_clusters == clusters):\n",
    "            print(f'Algorithm Converged at iteration {m}')\n",
    "            break\n",
    "\n",
    "        prev_clusters = clusters\n",
    "\n",
    "    return clusters, centroids, total_dissimilarity"
   ]
  },
  {
   "cell_type": "code",
   "execution_count": 645,
   "metadata": {},
   "outputs": [
    {
     "name": "stdout",
     "output_type": "stream",
     "text": [
      "Completed iteration: 0 with dissimilarity score: 1983.9642682828432\n",
      "Algorithm Converged at iteration 7\n"
     ]
    }
   ],
   "source": [
    "K = 75\n",
    "clusters, centroids, total_dissimilarity = fit(K, marksheet_df)"
   ]
  },
  {
   "cell_type": "code",
   "execution_count": 646,
   "metadata": {},
   "outputs": [
    {
     "data": {
      "image/png": "[encoded data removed]",
      "text/plain": [
       "<Figure size 640x480 with 1 Axes>"
      ]
     },
     "metadata": {},
     "output_type": "display_data"
    }
   ],
   "source": [
    "# Plotting missclassifications against the number of iterations\n",
    "plt.plot(range(1, len(total_dissimilarity) + 1), total_dissimilarity)\n",
    "plt.xlabel('Number of Iterations')\n",
    "plt.ylabel('Dissimilarity')\n",
    "plt.title('Dissimilarity vs Number of Iterations')\n",
    "plt.grid(True)\n",
    "plt.show()"
   ]
  },
  {
   "cell_type": "code",
   "execution_count": 648,
   "metadata": {},
   "outputs": [
    {
     "name": "stdout",
     "output_type": "stream",
     "text": [
      "Group 0: \n",
      "[16 'Gilberta' 'Male' 15 'A' 53 30 90 64]\n",
      "[28 'Hanan' 'Male' 14 'A' 60 36 86 87]\n",
      "[96 'Georgia' 'Female' 15 'A' 58 10 99 44]\n",
      "Centroid: [ 0.7  0.8  0.  57.  25.3 91.7 65. ]\n",
      "\n",
      "Group 9: \n",
      "[11 'Dunn' 'Male' 15 'C' 100 93 87 81]\n",
      "[179 'Val' 'Male' 13 'B' 95 73 91 61]\n",
      "Centroid: [ 1.   0.5  1.5 97.5 83.  89.  71. ]\n",
      "\n",
      "Group 27: \n",
      "[24 'Valma' 'Female' 14 'C' 48 83 79 95]\n",
      "[79 'Rosalynd' 'Male' 13 'C' 27 96 89 49]\n",
      "[147 'Jaquenette' 'Male' 15 'C' 33 75 98 84]\n",
      "[209 'Zenia' 'Female' 14 'C' 59 94 94 47]\n",
      "Centroid: [ 0.5  0.5  2.  41.8 87.  90.  68.8]\n",
      "\n"
     ]
    }
   ],
   "source": [
    "# Print all groups\n",
    "# for i in range(len(clusters)):\n",
    "#     print(f'Group {i}: ')\n",
    "#     for j in range(len(clusters[i])):\n",
    "#         print(np.array(marksheet_df_copy.loc[clusters[i][j]]))\n",
    "#     print(f'Centroid: {np.array(centroids[i] * X_std + X_mean).round(1)}')\n",
    "#     print(\"\")\n",
    "\n",
    "# Print specific groups\n",
    "groups = [0, 9, 27]\n",
    "\n",
    "for i in groups:\n",
    "    print(f'Group {i}: ')\n",
    "    for j in range(len(clusters[i])):\n",
    "        print(np.array(marksheet_df_copy.loc[clusters[i][j]]))\n",
    "    print(f'Centroid: {np.array(centroids[i] * X_std + X_mean).round(1)}')\n",
    "    print(\"\")"
   ]
  }
 ],
 "metadata": {
  "kernelspec": {
   "display_name": "Python 3",
   "language": "python",
   "name": "python3"
  },
  "language_info": {
   "codemirror_mode": {
    "name": "ipython",
    "version": 3
   },
   "file_extension": ".py",
   "mimetype": "text/x-python",
   "name": "python",
   "nbconvert_exporter": "python",
   "pygments_lexer": "ipython3",
   "version": "3.11.0"
  }
 },
 "nbformat": 4,
 "nbformat_minor": 2
}
