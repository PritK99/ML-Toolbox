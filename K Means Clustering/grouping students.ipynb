{
 "cells": [
  {
   "cell_type": "markdown",
   "metadata": {},
   "source": [
    "## Grouping students based on marksheets using K Means Clustering"
   ]
  },
  {
   "cell_type": "code",
   "execution_count": 174,
   "metadata": {},
   "outputs": [],
   "source": [
    "# import all the required libraries\n",
    "import numpy as np\n",
    "import pandas as pd\n",
    "import matplotlib.pyplot as plt\n",
    "import random\n",
    "\n",
    "# random.seed(42)"
   ]
  },
  {
   "cell_type": "code",
   "execution_count": 175,
   "metadata": {},
   "outputs": [],
   "source": [
    "# obtain the raw csv \n",
    "data = \"../assets/data/student_marksheet.csv\"\n",
    "marksheet_df = pd.read_csv(data)"
   ]
  },
  {
   "cell_type": "code",
   "execution_count": 176,
   "metadata": {},
   "outputs": [
    {
     "name": "stdout",
     "output_type": "stream",
     "text": [
      "<class 'pandas.core.frame.DataFrame'>\n",
      "RangeIndex: 250 entries, 0 to 249\n",
      "Data columns (total 9 columns):\n",
      " #   Column   Non-Null Count  Dtype \n",
      "---  ------   --------------  ----- \n",
      " 0   id       250 non-null    int64 \n",
      " 1   Name     250 non-null    object\n",
      " 2   Gender   250 non-null    object\n",
      " 3   Age      250 non-null    int64 \n",
      " 4   Section  250 non-null    object\n",
      " 5   Science  250 non-null    int64 \n",
      " 6   English  250 non-null    int64 \n",
      " 7   History  250 non-null    int64 \n",
      " 8   Maths    250 non-null    int64 \n",
      "dtypes: int64(6), object(3)\n",
      "memory usage: 17.7+ KB\n",
      "None\n"
     ]
    }
   ],
   "source": [
    "print(marksheet_df.info())"
   ]
  },
  {
   "cell_type": "code",
   "execution_count": 177,
   "metadata": {},
   "outputs": [
    {
     "name": "stdout",
     "output_type": "stream",
     "text": [
      "   id     Name  Gender  Age Section  Science  English  History  Maths\n",
      "0   1  Bronnie  Female   13       C       21       81       62     49\n",
      "1   2   Lemmie    Male   15       B       29       41       17     40\n",
      "2   3    Danya  Female   14       C       12       87       16     96\n",
      "3   4    Denna  Female   14       B       15       53       82     33\n",
      "4   5  Jocelin    Male   14       A       43        6        3     21\n"
     ]
    }
   ],
   "source": [
    "print(marksheet_df.head())\n",
    "\n",
    "# Creating a copy for printing results\n",
    "marksheet_df_copy = marksheet_df.copy()"
   ]
  },
  {
   "cell_type": "code",
   "execution_count": 178,
   "metadata": {},
   "outputs": [
    {
     "name": "stdout",
     "output_type": "stream",
     "text": [
      "['Female' 'Male']\n",
      "['C' 'B' 'A']\n",
      "[13 15 14]\n"
     ]
    }
   ],
   "source": [
    "# Identifying categorical features\n",
    "print(marksheet_df[\"Gender\"].unique())\n",
    "print(marksheet_df[\"Section\"].unique())\n",
    "print(marksheet_df[\"Age\"].unique())"
   ]
  },
  {
   "cell_type": "code",
   "execution_count": 179,
   "metadata": {},
   "outputs": [],
   "source": [
    "# Converting categorical data to numeric data\n",
    "marksheet_df[\"Gender\"].replace({\"Female\": 0, \"Male\": 1}, inplace=True)\n",
    "marksheet_df[\"Section\"].replace({\"A\": 0, \"B\": 1, \"C\": 2}, inplace=True)\n",
    "marksheet_df[\"Age\"].replace({13: 0, 14: 0.5, 15: 1}, inplace=True)"
   ]
  },
  {
   "cell_type": "code",
   "execution_count": 180,
   "metadata": {},
   "outputs": [],
   "source": [
    "# Dropping name and id column because it will not be used for clustering\n",
    "marksheet_df.drop([\"Name\"], axis=1, inplace=True)\n",
    "marksheet_df.drop([\"id\"], axis=1, inplace=True)"
   ]
  },
  {
   "cell_type": "code",
   "execution_count": 181,
   "metadata": {},
   "outputs": [
    {
     "name": "stdout",
     "output_type": "stream",
     "text": [
      "(250, 7)\n",
      "   Gender  Age  Section  Science  English  History  Maths\n",
      "0       0  0.0        2       21       81       62     49\n",
      "1       1  1.0        1       29       41       17     40\n",
      "2       0  0.5        2       12       87       16     96\n",
      "3       0  0.5        1       15       53       82     33\n",
      "4       1  0.5        0       43        6        3     21\n"
     ]
    }
   ],
   "source": [
    "print(marksheet_df.shape)\n",
    "print(marksheet_df.head())"
   ]
  },
  {
   "cell_type": "code",
   "execution_count": 182,
   "metadata": {},
   "outputs": [
    {
     "name": "stdout",
     "output_type": "stream",
     "text": [
      "     Gender       Age   Section   Science   English   History     Maths\n",
      "0 -1.055542 -1.238469  1.146226 -1.038394  1.102541  0.362059 -0.146642\n",
      "1  0.943591  1.189901 -0.062873 -0.765492 -0.233063 -1.312763 -0.475272\n",
      "2 -1.055542 -0.024284  1.146226 -1.345409  1.302881 -1.349981  1.569537\n",
      "3 -1.055542 -0.024284 -0.062873 -1.243071  0.167618  1.106425 -0.730873\n",
      "4  0.943591 -0.024284 -1.271972 -0.287912 -1.401716 -1.833819 -1.169047\n"
     ]
    }
   ],
   "source": [
    "X_mean = marksheet_df.mean(axis=0, numeric_only=True)\n",
    "X_std = marksheet_df.std(axis=0, numeric_only=True)\n",
    "\n",
    "# Normalizing the data\n",
    "marksheet_df = (marksheet_df - X_mean) / X_std\n",
    "\n",
    "print(marksheet_df.head())"
   ]
  },
  {
   "cell_type": "code",
   "execution_count": 183,
   "metadata": {},
   "outputs": [],
   "source": [
    "# Calculates the distance between two data points based on gender, age, section, and marks.\n",
    "def get_distance(x, y):\n",
    "    dist = 0\n",
    "\n",
    "    # Difference in Gender and Section\n",
    "    if (x[0] != y[0]):\n",
    "        dist += 5\n",
    "    if (x[2] != y[2]):\n",
    "        dist += 5\n",
    "\n",
    "    # Difference between age\n",
    "    dist += 2.5*np.abs(x[1] - y[1])\n",
    "\n",
    "    # Difference between marks in Science, English, History and Maths\n",
    "    dist += 10*np.abs(x[3] - y[3])\n",
    "    dist += 10*np.abs(x[4] - y[4])\n",
    "    dist += 10*np.abs(x[5] - y[5])\n",
    "    dist += 10*np.abs(x[6] - y[6])\n",
    "\n",
    "    return dist\n",
    "\n",
    "# The distance function can be modified by either commenting out the features not required or by modifying weights"
   ]
  },
  {
   "cell_type": "code",
   "execution_count": 184,
   "metadata": {},
   "outputs": [],
   "source": [
    "# Initializes centroids for K-means clustering using random data points from the dataset.\n",
    "def init_centroids(K, marksheet_df):\n",
    "    centroids = set()\n",
    "\n",
    "    while(len(centroids) != K):\n",
    "        random_index = random.randint(0, len(marksheet_df)-1)\n",
    "        z = tuple(marksheet_df.iloc[random_index, -7:])\n",
    "        centroids.add(z)\n",
    "\n",
    "    # Convert the set to a list\n",
    "    centroids = list(centroids)\n",
    "\n",
    "    return centroids"
   ]
  },
  {
   "cell_type": "code",
   "execution_count": 185,
   "metadata": {},
   "outputs": [],
   "source": [
    "# Clusters are assigned with the prior knowledge of centroids\n",
    "def assign_clusters(K, centroids, marksheet_df):\n",
    "    clusters = [[] for _ in range(K)]\n",
    "    \n",
    "    # Assign each data point to its closest centroid\n",
    "    for i in range(len(marksheet_df)):\n",
    "        min_dist = float(\"inf\")\n",
    "        idx = 0\n",
    "        \n",
    "        for j in range(len(centroids)):\n",
    "            dist = get_distance(centroids[j], marksheet_df.loc[i])\n",
    "            if dist < min_dist:\n",
    "                min_dist = dist\n",
    "                idx = j\n",
    "\n",
    "        clusters[idx].append(i)  # Append index of data point\n",
    "    \n",
    "    return clusters"
   ]
  },
  {
   "cell_type": "code",
   "execution_count": 186,
   "metadata": {},
   "outputs": [],
   "source": [
    "# Centroids of each cluster are updated with the prior knowledge of clusters\n",
    "def update_centroids(K, clusters):\n",
    "    centroids = []\n",
    "    for i in range(K):\n",
    "        sum = 0\n",
    "        for j in range(len(clusters[i])):\n",
    "            sum += np.array(marksheet_df.iloc[clusters[i][j]])\n",
    "        \n",
    "        if (len(clusters[i]) == 0):\n",
    "            sum = 0\n",
    "            print(f'Warning: Reduce K')\n",
    "        else:\n",
    "            sum /= len(clusters[i])\n",
    "\n",
    "        centroids.append(sum)\n",
    "    \n",
    "    return centroids"
   ]
  },
  {
   "cell_type": "code",
   "execution_count": 187,
   "metadata": {},
   "outputs": [],
   "source": [
    "# Calculates the total dissimilarity of the clusters from their centroids.\n",
    "def get_dissimilarity(clusters, centroids, marksheet_df):\n",
    "    dissimilarity = 0\n",
    "    for i in range(len(clusters)):\n",
    "        cluster_variance = 0\n",
    "        for j in range(len(clusters[i])):\n",
    "            cluster_variance += get_distance(marksheet_df.loc[clusters[i][j]], centroids[i])\n",
    "\n",
    "        dissimilarity += cluster_variance\n",
    "\n",
    "    return dissimilarity\n"
   ]
  },
  {
   "cell_type": "code",
   "execution_count": 188,
   "metadata": {},
   "outputs": [],
   "source": [
    "# Fits a K-means clustering model to the given dataset.\n",
    "def fit(K, marksheet_df, num_iterations=100, res=False):\n",
    "    # Initialize the centroids\n",
    "    centroids = init_centroids(K, marksheet_df)\n",
    "    total_dissimilarity = []\n",
    "    clusters = [[] for _ in range(K)]\n",
    "    prev_clusters = [[] for _ in range(K)]\n",
    "\n",
    "    for m in range(num_iterations):\n",
    "        # Clusters are assigned with the prior knowledge of centroids\n",
    "        clusters = assign_clusters(K, centroids, marksheet_df)\n",
    "\n",
    "        # Centroids of each cluster are updated with the prior knowledge of clusters\n",
    "        centroids = update_centroids(K, clusters)\n",
    "\n",
    "        # Get dissimilarity score\n",
    "        dissimilarity_score = get_dissimilarity(clusters, centroids, marksheet_df)\n",
    "        total_dissimilarity.append(dissimilarity_score)\n",
    "\n",
    "        if (m % 10 == 0 and res):\n",
    "            print(f'Completed iteration: {m} with dissimilarity score: {dissimilarity_score}')\n",
    "        \n",
    "        if (prev_clusters == clusters):\n",
    "            if (res):\n",
    "                print(f'Algorithm Converged at iteration {m} with dissimilarity score: {dissimilarity_score}')\n",
    "            break\n",
    "\n",
    "        prev_clusters = clusters\n",
    "\n",
    "    return clusters, centroids, total_dissimilarity"
   ]
  },
  {
   "cell_type": "code",
   "execution_count": 192,
   "metadata": {},
   "outputs": [
    {
     "name": "stdout",
     "output_type": "stream",
     "text": [
      "Completed initialization iteration: 10\n",
      "Completed initialization iteration: 20\n",
      "Completed initialization iteration: 30\n",
      "Completed initialization iteration: 40\n",
      "Completed initialization iteration: 50\n",
      "Best dissimilarity score: 6282.818957708942\n"
     ]
    }
   ],
   "source": [
    "# Selecting the best result among M random initializations\n",
    "K = 25\n",
    "M = 50\n",
    "\n",
    "best_cluster = [[] for _ in range(K)]\n",
    "best_centroids = [[] for _ in range(K)]\n",
    "best_total_dissimilarity = [float(\"inf\")]\n",
    "\n",
    "for iter in range(M):\n",
    "    clusters, centroids, total_dissimilarity = fit(K, marksheet_df)\n",
    "\n",
    "    if (best_total_dissimilarity[-1] > total_dissimilarity[-1]):\n",
    "        best_total_dissimilarity = total_dissimilarity\n",
    "        best_centroids = centroids\n",
    "        best_cluster = clusters\n",
    "    \n",
    "    if ((iter+1) % 10 == 0):\n",
    "        print(f'Completed initialization iteration: {iter+1}')\n",
    "\n",
    "print(f'Best dissimilarity score: {best_total_dissimilarity[-1]}')\n",
    "\n",
    "# If the code stops running after giving warning for reducing K, that might be either due to a bad random initialization or a high value of K. Either run the cell again or reduce the value of K."
   ]
  },
  {
   "cell_type": "code",
   "execution_count": 193,
   "metadata": {},
   "outputs": [
    {
     "data": {
      "image/png": "[encoded data removed]",
      "text/plain": [
       "<Figure size 640x480 with 1 Axes>"
      ]
     },
     "metadata": {},
     "output_type": "display_data"
    }
   ],
   "source": [
    "# Plotting missclassifications against the number of iterations\n",
    "plt.plot(range(1, len(best_total_dissimilarity) + 1), best_total_dissimilarity)\n",
    "plt.xlabel('Number of Iterations')\n",
    "plt.ylabel('Dissimilarity')\n",
    "plt.title('Dissimilarity vs Number of Iterations')\n",
    "plt.grid(True)\n",
    "plt.show()"
   ]
  },
  {
   "cell_type": "code",
   "execution_count": 194,
   "metadata": {},
   "outputs": [
    {
     "name": "stdout",
     "output_type": "stream",
     "text": [
      "Group 0: \n",
      "[12 'Valaria' 'Male' 13 'B' 19 5 78 76]\n",
      "[29 'Adrian' 'Male' 13 'C' 19 8 76 75]\n",
      "[51 'Skipp' 'Male' 14 'C' 31 37 77 79]\n",
      "[68 'Drusi' 'Male' 15 'C' 39 7 100 70]\n",
      "[77 'David' 'Female' 13 'B' 27 2 63 100]\n",
      "[80 'Elton' 'Male' 13 'B' 13 18 80 82]\n",
      "[143 'Cristian' 'Male' 13 'B' 5 3 97 84]\n",
      "[155 'Emlyn' 'Male' 14 'C' 32 3 69 96]\n",
      "[192 'Jayme' 'Male' 13 'B' 39 14 77 53]\n",
      "[194 'Olivia' 'Female' 13 'B' 48 4 79 76]\n",
      "[230 'Kent' 'Male' 15 'C' 15 26 83 75]\n",
      "[235 'Fleming' 'Male' 13 'C' 31 9 79 54]\n",
      "[247 'Rog' 'Female' 13 'B' 1 4 68 65]\n",
      "Centroid: [ 0.8  0.2  1.5 24.5 10.8 78.9 75.8]\n",
      "\n",
      "Group 9: \n",
      "[42 'Hetty' 'Female' 13 'B' 21 89 72 84]\n",
      "[81 'Teresita' 'Male' 15 'A' 1 90 42 94]\n",
      "[88 'Sheffie' 'Female' 15 'C' 44 55 51 100]\n",
      "[98 'Silvia' 'Male' 14 'A' 40 61 63 80]\n",
      "[129 'Susy' 'Female' 15 'B' 28 94 61 72]\n",
      "[132 'Tymothy' 'Male' 13 'C' 13 73 76 95]\n",
      "[147 'Jaquenette' 'Male' 15 'C' 33 75 98 84]\n",
      "[149 'Adrianne' 'Female' 15 'C' 51 67 67 91]\n",
      "[152 'Candide' 'Female' 15 'A' 26 76 56 75]\n",
      "[171 'Fran' 'Female' 15 'B' 34 74 83 81]\n",
      "[206 'Rosalyn' 'Male' 15 'C' 54 89 59 88]\n",
      "[242 'Janey' 'Male' 15 'C' 3 49 67 96]\n",
      "Centroid: [ 0.5  0.8  1.2 29.  74.3 66.2 86.7]\n",
      "\n"
     ]
    }
   ],
   "source": [
    "# # Print all groups\n",
    "# for i in range(len(clusters)):\n",
    "#     print(f'Group {i}: ')\n",
    "#     for j in range(len(clusters[i])):\n",
    "#         print(np.array(marksheet_df_copy.loc[clusters[i][j]]))\n",
    "#     print(f'Centroid: {np.array(centroids[i] * X_std + X_mean).round(1)}')\n",
    "#     print(\"\")\n",
    "\n",
    "# Print specific groups\n",
    "groups = [0, 9]\n",
    "\n",
    "for i in groups:\n",
    "    print(f'Group {i}: ')\n",
    "    for j in range(len(clusters[i])):\n",
    "        print(np.array(marksheet_df_copy.loc[clusters[i][j]]))\n",
    "    print(f'Centroid: {np.array(centroids[i] * X_std + X_mean).round(1)}')\n",
    "    print(\"\")"
   ]
  }
 ],
 "metadata": {
  "kernelspec": {
   "display_name": "Python 3",
   "language": "python",
   "name": "python3"
  },
  "language_info": {
   "codemirror_mode": {
    "name": "ipython",
    "version": 3
   },
   "file_extension": ".py",
   "mimetype": "text/x-python",
   "name": "python",
   "nbconvert_exporter": "python",
   "pygments_lexer": "ipython3",
   "version": "3.11.0"
  }
 },
 "nbformat": 4,
 "nbformat_minor": 2
}
