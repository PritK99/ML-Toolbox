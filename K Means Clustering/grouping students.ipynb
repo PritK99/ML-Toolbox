{
 "cells": [
  {
   "cell_type": "markdown",
   "metadata": {},
   "source": [
    "## Grouping students based on their performance using K Means Clustering"
   ]
  },
  {
   "cell_type": "code",
   "execution_count": 932,
   "metadata": {},
   "outputs": [],
   "source": [
    "# import all the required libraries\n",
    "import numpy as np\n",
    "import pandas as pd\n",
    "import random\n",
    "import matplotlib.pyplot as plt\n",
    "\n",
    "# Setting a seed to ensure consistent results\n",
    "random.seed(42)"
   ]
  },
  {
   "cell_type": "code",
   "execution_count": 933,
   "metadata": {},
   "outputs": [],
   "source": [
    "# obtain the raw csv \n",
    "data = \"../assets/data/student_marksheet.csv\"\n",
    "marksheet_df = pd.read_csv(data)"
   ]
  },
  {
   "cell_type": "code",
   "execution_count": 934,
   "metadata": {},
   "outputs": [
    {
     "name": "stdout",
     "output_type": "stream",
     "text": [
      "<class 'pandas.core.frame.DataFrame'>\n",
      "RangeIndex: 250 entries, 0 to 249\n",
      "Data columns (total 9 columns):\n",
      " #   Column   Non-Null Count  Dtype \n",
      "---  ------   --------------  ----- \n",
      " 0   id       250 non-null    int64 \n",
      " 1   Name     250 non-null    object\n",
      " 2   Gender   250 non-null    object\n",
      " 3   Age      250 non-null    int64 \n",
      " 4   Section  250 non-null    object\n",
      " 5   Science  250 non-null    int64 \n",
      " 6   English  250 non-null    int64 \n",
      " 7   History  250 non-null    int64 \n",
      " 8   Maths    250 non-null    int64 \n",
      "dtypes: int64(6), object(3)\n",
      "memory usage: 17.7+ KB\n",
      "None\n"
     ]
    }
   ],
   "source": [
    "print(marksheet_df.info())"
   ]
  },
  {
   "cell_type": "code",
   "execution_count": 935,
   "metadata": {},
   "outputs": [
    {
     "name": "stdout",
     "output_type": "stream",
     "text": [
      "   id     Name  Gender  Age Section  Science  English  History  Maths\n",
      "0   1  Bronnie  Female   13       C       21       81       62     49\n",
      "1   2   Lemmie    Male   15       B       29       41       17     40\n",
      "2   3    Danya  Female   14       C       12       87       16     96\n",
      "3   4    Denna  Female   14       B       15       53       82     33\n",
      "4   5  Jocelin    Male   14       A       43        6        3     21\n"
     ]
    }
   ],
   "source": [
    "print(marksheet_df.head())"
   ]
  },
  {
   "cell_type": "code",
   "execution_count": 936,
   "metadata": {},
   "outputs": [
    {
     "name": "stdout",
     "output_type": "stream",
     "text": [
      "['Female' 'Male']\n",
      "['C' 'B' 'A']\n",
      "[13 15 14]\n"
     ]
    }
   ],
   "source": [
    "# Identifying categorical features\n",
    "print(marksheet_df[\"Gender\"].unique())\n",
    "print(marksheet_df[\"Section\"].unique())\n",
    "print(marksheet_df[\"Age\"].unique())"
   ]
  },
  {
   "cell_type": "code",
   "execution_count": 937,
   "metadata": {},
   "outputs": [],
   "source": [
    "# Dealing with categorical data\n",
    "marksheet_df[\"Gender\"].replace({\"Female\": 0, \"Male\": 1}, inplace=True)\n",
    "marksheet_df[\"Section\"].replace({\"A\": 0, \"B\": 1, \"C\": 2}, inplace=True)\n",
    "marksheet_df[\"Age\"].replace({\"13\": 0, \"14\": 1, \"15\": 2}, inplace=True)"
   ]
  },
  {
   "cell_type": "code",
   "execution_count": 938,
   "metadata": {},
   "outputs": [
    {
     "name": "stdout",
     "output_type": "stream",
     "text": [
      "(250, 9)\n",
      "   id     Name  Gender  Age  Section  Science  English  History  Maths\n",
      "0   1  Bronnie       0   13        2       21       81       62     49\n",
      "1   2   Lemmie       1   15        1       29       41       17     40\n",
      "2   3    Danya       0   14        2       12       87       16     96\n",
      "3   4    Denna       0   14        1       15       53       82     33\n",
      "4   5  Jocelin       1   14        0       43        6        3     21\n"
     ]
    }
   ],
   "source": [
    "print(marksheet_df.shape)\n",
    "print(marksheet_df.head())"
   ]
  },
  {
   "cell_type": "code",
   "execution_count": 939,
   "metadata": {},
   "outputs": [],
   "source": [
    "# In this scenario, we aim to create groups of students according to their performance.\n",
    "K = 50"
   ]
  },
  {
   "cell_type": "code",
   "execution_count": 940,
   "metadata": {},
   "outputs": [],
   "source": [
    "# Initialize the centroids randomly\n",
    "centroids = set()\n",
    "\n",
    "while(len(centroids) != K):\n",
    "    random_index = random.randint(0, len(marksheet_df)-1)\n",
    "    z = tuple(marksheet_df.iloc[random_index, -7:])\n",
    "    centroids.add(z)\n",
    "\n",
    "# Convert the set to a list\n",
    "centroids = list(centroids)\n",
    "\n",
    "# print(\"Initial Centroids: \")\n",
    "# for i in range(K):\n",
    "#     print(centroids[i])"
   ]
  },
  {
   "cell_type": "code",
   "execution_count": 941,
   "metadata": {},
   "outputs": [],
   "source": [
    "def get_distance(x, df, i):\n",
    "\n",
    "    # Handling Gender, Section and Age features\n",
    "    dist = 0\n",
    "    if (df.loc[i, \"Gender\"] != x[0]):\n",
    "        dist += 5\n",
    "    if (df.loc[i, \"Section\"] != x[2]):\n",
    "        dist += 5\n",
    "    dist += 2.5*(np.abs(df.loc[i, \"Age\"] - x[1]))\n",
    "\n",
    "    # Handling Marks\n",
    "    dist += 2*(np.abs(df.loc[i, \"Science\"] - x[3]))\n",
    "    dist += 2*(np.abs(df.loc[i, \"English\"] - x[4]))\n",
    "    dist += 2*(np.abs(df.loc[i, \"History\"] - x[5]))\n",
    "    dist += 2*(np.abs(df.loc[i, \"Maths\"] - x[6]))\n",
    "\n",
    "    return dist"
   ]
  },
  {
   "cell_type": "code",
   "execution_count": 942,
   "metadata": {},
   "outputs": [],
   "source": [
    "def get_dissimilarity(cluster, centroids, marksheet_df):\n",
    "    sum = 0\n",
    "    for i in range(len(cluster)): \n",
    "        for j in range(len(cluster[i])):\n",
    "            sum += get_distance(np.array(centroids[i]), marksheet_df, cluster[i][j])\n",
    "\n",
    "    return sum"
   ]
  },
  {
   "cell_type": "code",
   "execution_count": 943,
   "metadata": {},
   "outputs": [],
   "source": [
    "def fit(K, marksheet_df, centroids, num_iterations=100):\n",
    "    # Initialize clusters\n",
    "    clusters = [[] for _ in range(K)]\n",
    "    total_dissimilarity = []\n",
    "\n",
    "    for m in range(num_iterations):\n",
    "        # Reset clusters\n",
    "        clusters = [[] for _ in range(K)]\n",
    "        \n",
    "        # Assign each data point to the closest centroid\n",
    "        for i in range(len(marksheet_df)):\n",
    "            min_dist = float(\"inf\")\n",
    "            idx = 0\n",
    "            for j in range(len(centroids)):\n",
    "                dist = get_distance(np.array(centroids[j]), marksheet_df, i)\n",
    "                # dist = np.sum(np.abs(centroids[j] - vec))\n",
    "                if dist < min_dist:\n",
    "                    min_dist = dist\n",
    "                    idx = j\n",
    "            clusters[idx].append(i)  # Append index of data point\n",
    "        \n",
    "        # Update centroids\n",
    "        for i in range(len(clusters)):\n",
    "            if clusters[i]:\n",
    "                cluster_points = marksheet_df.iloc[clusters[i], -7:]\n",
    "                centroids[i] = np.mean(cluster_points, axis=0)\n",
    "        \n",
    "        # Get dissimilarity\n",
    "        dissimilarity = get_dissimilarity(clusters, centroids, marksheet_df)\n",
    "\n",
    "        if (m % 1 == 0):\n",
    "            print(f'Completed iteration {m}: {dissimilarity}')\n",
    "\n",
    "        # Check for convergence\n",
    "        if (m > 0 and dissimilarity == total_dissimilarity[-1]):\n",
    "            print(f'Algorithm Converged at {m}: {dissimilarity}')\n",
    "            break\n",
    "        else:\n",
    "            total_dissimilarity.append(dissimilarity)\n",
    "\n",
    "    return clusters, centroids, total_dissimilarity"
   ]
  },
  {
   "cell_type": "code",
   "execution_count": 944,
   "metadata": {},
   "outputs": [
    {
     "name": "stdout",
     "output_type": "stream",
     "text": [
      "Completed iteration 0: 18195.81471306471\n",
      "Completed iteration 1: 16982.947150072152\n",
      "Completed iteration 2: 16753.084920634923\n",
      "Completed iteration 3: 16753.084920634923\n",
      "Algorithm Converged at 3: 16753.084920634923\n"
     ]
    }
   ],
   "source": [
    "clusters, centroids, total_dissimilarity = fit(K, marksheet_df, centroids)"
   ]
  },
  {
   "cell_type": "code",
   "execution_count": 945,
   "metadata": {},
   "outputs": [
    {
     "data": {
      "image/png": "[encoded data removed]",
      "text/plain": [
       "<Figure size 640x480 with 1 Axes>"
      ]
     },
     "metadata": {},
     "output_type": "display_data"
    }
   ],
   "source": [
    "# Plotting missclassifications against the number of iterations\n",
    "plt.plot(range(1, len(total_dissimilarity) + 1), total_dissimilarity)\n",
    "plt.xlabel('Number of Iterations')\n",
    "plt.ylabel('Dissimilarity')\n",
    "plt.title('Dissimilarity vs Number of Iterations')\n",
    "plt.grid(True)\n",
    "plt.show()"
   ]
  },
  {
   "cell_type": "code",
   "execution_count": 946,
   "metadata": {},
   "outputs": [
    {
     "name": "stdout",
     "output_type": "stream",
     "text": [
      "Cherie: 1 15 2 32 31 89 30\n",
      "Vaughn: 1 14 2 11 30 83 17\n",
      "Ermina: 0 15 1 38 17 76 26\n",
      "Vivyan: 1 14 0 28 30 80 33\n"
     ]
    }
   ],
   "source": [
    "# Print all groups\n",
    "# for i in range(len(clusters)):\n",
    "#     print(f'Cluster {i+1}: ')\n",
    "#     for j in range(len(clusters[i])):\n",
    "#         vec = marksheet_df.iloc[clusters[i][j]]\n",
    "#         print(f'{vec[1]}: {vec[2]} {vec[3]} {vec[4]} {vec[5]} {vec[6]} {vec[7]}')\n",
    "#     print(\"\")\n",
    "\n",
    "# Print a specific group\n",
    "group = 0\n",
    "for i in range(len(clusters[group])):\n",
    "        vec = marksheet_df.iloc[clusters[group][i]]\n",
    "        print(f'{vec[1]}: {vec[2]} {vec[3]} {vec[4]} {vec[5]} {vec[6]} {vec[7]} {vec[8]}')"
   ]
  }
 ],
 "metadata": {
  "kernelspec": {
   "display_name": "Python 3",
   "language": "python",
   "name": "python3"
  },
  "language_info": {
   "codemirror_mode": {
    "name": "ipython",
    "version": 3
   },
   "file_extension": ".py",
   "mimetype": "text/x-python",
   "name": "python",
   "nbconvert_exporter": "python",
   "pygments_lexer": "ipython3",
   "version": "3.11.0"
  }
 },
 "nbformat": 4,
 "nbformat_minor": 2
}
