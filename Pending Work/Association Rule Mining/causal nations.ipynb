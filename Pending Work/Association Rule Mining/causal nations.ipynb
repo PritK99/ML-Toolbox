{
 "cells": [
  {
   "cell_type": "code",
   "execution_count": 1,
   "metadata": {},
   "outputs": [],
   "source": [
    "import pandas as pd"
   ]
  },
  {
   "cell_type": "code",
   "execution_count": 2,
   "metadata": {},
   "outputs": [],
   "source": [
    "# obtain the raw csv \n",
    "data = \"../assets/data/un_voting.csv\"\n",
    "voting_df = pd.read_csv(data, low_memory=False)"
   ]
  },
  {
   "cell_type": "code",
   "execution_count": 3,
   "metadata": {},
   "outputs": [
    {
     "name": "stdout",
     "output_type": "stream",
     "text": [
      "['Council', 'Date', 'Title', 'Resolution', 'TOTAL VOTES', 'NO-VOTE COUNT', 'ABSENT COUNT', 'NO COUNT', 'YES COUNT', 'Link', 'token', 'SENEGAL', 'MALAYSIA', 'VENEZUELA (BOLIVARIAN REPUBLIC OF)', 'UNITED KINGDOM', 'RUSSIAN FEDERATION', 'JAPAN', 'ANGOLA', 'URUGUAY', 'SPAIN', 'EGYPT', 'NEW ZEALAND', 'UNITED STATES', 'FRANCE', 'CHINA', 'UKRAINE', 'NIGER', 'SAINT VINCENT AND THE GRENADINES', 'ESTONIA', 'SOUTH AFRICA', 'VIET NAM', 'BELGIUM', 'GERMANY', 'TUNISIA', 'INDONESIA', 'DOMINICAN REPUBLIC', 'BRAZIL', 'UNITED REPUBLIC OF TANZANIA', 'PHILIPPINES', 'ALGERIA', 'BENIN', 'DENMARK', 'ROMANIA', 'ARGENTINA', 'GREECE', 'AUSTRIA', 'SWITZERLAND', 'CYPRUS', 'MOZAMBIQUE', 'SUDAN', 'FIJI', 'BULGARIA', 'CUBA', 'UGANDA', 'ZAMBIA', 'SOUTH SUDAN', 'MONACO', 'REPUBLIC OF KOREA', 'REPUBLIC OF MOLDOVA', 'SAN MARINO', 'YEMEN', 'ITALY', 'BURUNDI', 'HUNGARY', 'CAMBODIA', 'MALAWI', 'NAURU', 'NICARAGUA', 'BRUNEI DARUSSALAM', 'POLAND', 'THAILAND', 'MALDIVES', 'SIERRA LEONE', 'TURKEY', 'CABO VERDE', 'PAPUA NEW GUINEA', 'MARSHALL ISLANDS', 'AZERBAIJAN', 'MADAGASCAR', 'CAMEROON', 'SAUDI ARABIA', 'IRAN (ISLAMIC REPUBLIC OF)', 'NEPAL', 'SAMOA', 'IRAQ', 'LIBYA', 'BAHRAIN', 'GUINEA', 'EQUATORIAL GUINEA', 'KYRGYZSTAN', 'ERITREA', 'KUWAIT', 'ARMENIA', 'MAURITANIA', 'SINGAPORE', 'CENTRAL AFRICAN REPUBLIC', 'PERU', 'LIECHTENSTEIN', 'NETHERLANDS', 'SERBIA', 'HAITI', 'IRELAND', 'KAZAKHSTAN', 'DJIBOUTI', \"DEMOCRATIC PEOPLE'S REPUBLIC OF KOREA\", 'BOSNIA AND HERZEGOVINA', 'PAKISTAN', 'SWEDEN', 'ZIMBABWE', 'SOMALIA', 'SLOVAKIA', 'AUSTRALIA', 'KIRIBATI', 'QATAR', 'LITHUANIA', 'ICELAND', 'LUXEMBOURG', 'ETHIOPIA', 'COMOROS', 'SRI LANKA', 'GUYANA', 'TONGA', 'UZBEKISTAN', 'VANUATU', 'LESOTHO', 'COLOMBIA', 'GUINEA-BISSAU', 'BOTSWANA', 'COSTA RICA', 'TAJIKISTAN', 'LIBERIA', \"COTE D'IVOIRE\", 'GABON', 'INDIA', 'ECUADOR', 'ESWATINI', 'SEYCHELLES', 'SAINT KITTS AND NEVIS', 'SOLOMON ISLANDS', 'MAURITIUS', 'ANDORRA', 'SAO TOME AND PRINCIPE', 'BELARUS', 'PALAU', 'GEORGIA', 'MYANMAR', 'AFGHANISTAN', 'CZECHIA', 'MEXICO', 'BANGLADESH', 'FINLAND', 'ISRAEL', 'HONDURAS', 'MALI', 'NORTH MACEDONIA', 'LEBANON', 'BARBADOS', 'BHUTAN', 'MOROCCO', 'MALTA', 'SURINAME', 'CANADA', 'UNITED ARAB EMIRATES', 'CROATIA', 'KENYA', 'RWANDA', 'CONGO', 'GUATEMALA', 'ANTIGUA AND BARBUDA', 'LATVIA', 'TOGO', 'GRENADA', 'NAMIBIA', 'SYRIAN ARAB REPUBLIC', 'NORWAY', 'CHILE', 'DOMINICA', 'ALBANIA', 'TRINIDAD AND TOBAGO', 'PANAMA', 'MONTENEGRO', 'NIGERIA', 'GHANA', 'OMAN', 'SLOVENIA', 'BAHAMAS', 'JAMAICA', 'BOLIVIA (PLURINATIONAL STATE OF)', 'SAINT LUCIA', 'MONGOLIA', 'PORTUGAL', 'DEMOCRATIC REPUBLIC OF THE CONGO', 'EL SALVADOR', 'GAMBIA', 'TURKMENISTAN', 'MICRONESIA (FEDERATED STATES OF)', 'TIMOR-LESTE', 'BELIZE', 'CHAD', 'BURKINA FASO', \"LAO PEOPLE'S DEMOCRATIC REPUBLIC\", 'TUVALU', 'JORDAN', 'PARAGUAY', 'SERBIA AND MONTENEGRO', 'BOLIVIA', 'THE FORMER YUGOSLAV REPUBLIC OF MACEDONIA', 'CAPE VERDE', 'CZECH REPUBLIC', 'VENEZUELA', 'SWAZILAND', 'LIBYAN ARAB JAMAHIRIYA', 'YUGOSLAVIA', 'MOLDOVA', 'UPPER VOLTA', 'DEMOCRATIC YEMEN', 'IVORY COAST', 'UKRAINIAN SSR', \"LAO PEOPLE's DEMOCRATIC REPUBLIC\", 'BYELORUSSIAN SSR', 'DEMOCRATIC KAMPUCHEA', 'UNITED REPUBLIC OF CAMEROON', 'GERMAN DEMOCRATIC REPUBLIC', 'BURMA', 'ZAIRE', 'GERMANY, FEDERAL REPUBLIC OF', 'USSR', 'CZECHOSLOVAKIA', 'COTE D’IVOIRE', 'PLURINATIONAL STATE OF BOLIVIA', 'LIBYAN ARAB REPUBLIC', 'IRAN', 'KHMER REPUBLIC', 'LAOS', 'CEYLON', 'DAHOMEY', 'UNITED ARAB REPUBLIC', 'SYRIA', 'SOUTHERN YEMEN', 'CONGO (BRAZZAVILLE)', 'CONGO (LEOPOLDVILLE)', ' UNITED KINGDOM', ' UNITED STATES', 'Aa UNITED STATES', 'CENTRAL AFRICAN EMPIRE', 'MALDIVE ISLANDS', 'CHILEs ', 'AY DENMARK', 'UNION OF SOUTH AFRICA', 'FEDERATION OF MALAYA', 'TANGANYIKA', ' CHILE', ' SOMALIA', ' ALGERIA', 'SERBIAMONTENEGRO', 'DONOTKNOW', 'ZANZIBAR', 'BOLIVIA (PLURINATIOANL STATE OF)', 'AY UNION OF SOUTH AFRICA', 'AY SWEDEN', 'BOLIVIA (PLUNATIONAL STATE OF)', 'SIAM', 'REPULIC OF MOLDOVA', 'PHILIPPINE REPUBLIC', 'SURINAM', ' BELGIUM', 'SAINT CHRISTOPHER AND NEVIS', 'TKAZAKHSTAN', 'DEMOCRATIC CAMPUCHEA', 'CONGO (DEMOCRATIC REPUBLIC OF)']\n"
     ]
    }
   ],
   "source": [
    "# Now, print the full list of columns\n",
    "cols = voting_df.columns.to_list()\n",
    "print(cols)\n",
    "\n",
    "# Identifying redundant columns \n",
    "redundant_cols = cols[:11]\n"
   ]
  },
  {
   "cell_type": "code",
   "execution_count": 4,
   "metadata": {},
   "outputs": [],
   "source": [
    "# Dropping redundant columns\n",
    "voting_df.drop(redundant_cols, axis=1, inplace=True)\n"
   ]
  },
  {
   "cell_type": "code",
   "execution_count": 5,
   "metadata": {},
   "outputs": [
    {
     "name": "stdout",
     "output_type": "stream",
     "text": [
      "<class 'pandas.core.frame.DataFrame'>\n",
      "RangeIndex: 7855 entries, 0 to 7854\n",
      "Columns: 259 entries, SENEGAL to CONGO (DEMOCRATIC REPUBLIC OF)\n",
      "dtypes: object(259)\n",
      "memory usage: 15.5+ MB\n",
      "None\n"
     ]
    }
   ],
   "source": [
    "print(voting_df.info())"
   ]
  },
  {
   "cell_type": "code",
   "execution_count": 6,
   "metadata": {},
   "outputs": [],
   "source": [
    "idx_to_country = voting_df.columns.to_list()\n",
    "country_to_idx = {}\n",
    "\n",
    "key = 0\n",
    "for i in range(len(idx_to_country)):\n",
    "    country_to_idx[key] = idx_to_country[i]\n",
    "    key += 1 "
   ]
  },
  {
   "cell_type": "code",
   "execution_count": 7,
   "metadata": {},
   "outputs": [],
   "source": [
    "yes_transactions = []\n",
    "no_transactions = []\n",
    "abstain_transactions = []\n",
    "\n",
    "for i in range(len(voting_df)):\n",
    "    votes = voting_df.loc[i]\n",
    "    yes_vote = []\n",
    "    no_vote = []\n",
    "    abstain_vote = []\n",
    "    \n",
    "    for j in range(len(votes)):\n",
    "        if (votes[j] == \"Y\"):\n",
    "            yes_vote.append(j)\n",
    "        elif (votes[j] == \"N\"):\n",
    "            no_vote.append(j)\n",
    "        elif (votes[j] == \"A\"):\n",
    "            abstain_vote.append(j)\n",
    "        else:\n",
    "            continue\n",
    "\n",
    "    if (len(yes_vote) > 0):\n",
    "        yes_transactions.append(yes_vote)\n",
    "    if (len(no_vote) > 0):\n",
    "        no_transactions.append(no_vote)\n",
    "    if (len(abstain_vote) > 0):\n",
    "        abstain_transactions.append(abstain_vote)"
   ]
  },
  {
   "cell_type": "code",
   "execution_count": 8,
   "metadata": {},
   "outputs": [],
   "source": [
    "yes_itemsets = []\n",
    "\n",
    "yes_itemsets_dict = {}\n",
    "for i in range(len(yes_transactions)):\n",
    "    for j in range(len(yes_transactions[i])):\n",
    "        if yes_transactions[i][j] in yes_itemsets_dict.keys():\n",
    "            yes_itemsets_dict[yes_transactions[i][j]] += 1\n",
    "        else:\n",
    "            yes_itemsets_dict[yes_transactions[i][j]] = 1\n"
   ]
  },
  {
   "cell_type": "code",
   "execution_count": 18,
   "metadata": {},
   "outputs": [
    {
     "name": "stdout",
     "output_type": "stream",
     "text": [
      "The minimum support value is: 4686.0\n"
     ]
    }
   ],
   "source": [
    "min_support_percent = 60\n",
    "min_support = len(yes_transactions)*(min_support_percent/100)\n",
    "print(f'The minimum support value is: {min_support}')"
   ]
  },
  {
   "cell_type": "code",
   "execution_count": 24,
   "metadata": {},
   "outputs": [
    {
     "name": "stdout",
     "output_type": "stream",
     "text": [
      "[[0], [3]]\n"
     ]
    }
   ],
   "source": [
    "all_freq_itemsets = []\n",
    "\n",
    "# Constructing yes itemset 1\n",
    "yes_itemset1 = []\n",
    "\n",
    "for k in yes_itemsets_dict.keys():\n",
    "    if yes_itemsets_dict[k] >= min_support:\n",
    "        yes_itemset1.append(([k], yes_itemsets_dict[k]))\n",
    "\n",
    "loop = 1\n",
    "if (len(yes_itemset1) > 1):\n",
    "    check = loop - 1\n",
    "\n",
    "    for i in range(len(yes_itemset1)):\n",
    "        for j in range (i+1, len(yes_itemset1)):\n",
    "            all_freq_itemsets.append([yes_itemset1[i][0], yes_itemset1[j][0]])\n",
    "\n",
    "\n",
    "print(all_freq_itemsets[1])\n",
    "\n",
    "\n",
    "# flag = 1\n",
    "# while(flag):\n"
   ]
  },
  {
   "cell_type": "code",
   "execution_count": 17,
   "metadata": {},
   "outputs": [
    {
     "name": "stdout",
     "output_type": "stream",
     "text": [
      "SENEGAL\n",
      "MALAYSIA\n",
      "UNITED KINGDOM\n",
      "EGYPT\n",
      "FRANCE\n",
      "CHINA\n",
      "TUNISIA\n",
      "INDONESIA\n",
      "BRAZIL\n",
      "PHILIPPINES\n",
      "ARGENTINA\n",
      "THAILAND\n",
      "PERU\n",
      "ETHIOPIA\n",
      "COLOMBIA\n",
      "INDIA\n",
      "ECUADOR\n",
      "MEXICO\n",
      "MOROCCO\n",
      "CHILE\n",
      "PANAMA\n",
      "NIGERIA\n",
      "JORDAN\n",
      "PAKISTAN\n"
     ]
    }
   ],
   "source": [
    "for key in yes_itemsets_dict.keys():\n",
    "    if (yes_itemsets_dict[key] >= min_support):\n",
    "        print(idx_to_country[key])"
   ]
  },
  {
   "cell_type": "code",
   "execution_count": 11,
   "metadata": {},
   "outputs": [
    {
     "ename": "KeyError",
     "evalue": "'India'",
     "output_type": "error",
     "traceback": [
      "\u001b[1;31m---------------------------------------------------------------------------\u001b[0m",
      "\u001b[1;31mKeyError\u001b[0m                                  Traceback (most recent call last)",
      "Cell \u001b[1;32mIn[11], line 1\u001b[0m\n\u001b[1;32m----> 1\u001b[0m \u001b[38;5;28mprint\u001b[39m(\u001b[43mcountry_to_idx\u001b[49m\u001b[43m[\u001b[49m\u001b[38;5;124;43m\"\u001b[39;49m\u001b[38;5;124;43mIndia\u001b[39;49m\u001b[38;5;124;43m\"\u001b[39;49m\u001b[43m]\u001b[49m)\n",
      "\u001b[1;31mKeyError\u001b[0m: 'India'"
     ]
    }
   ],
   "source": [
    "print(country_to_idx[\"India\"])"
   ]
  },
  {
   "cell_type": "code",
   "execution_count": 58,
   "metadata": {},
   "outputs": [
    {
     "name": "stdout",
     "output_type": "stream",
     "text": [
      "{0: 4811, 1: 4901, 2: 1406, 3: 4893, 4: 3311, 5: 3915, 6: 3607, 7: 4637, 8: 3796, 9: 4714, 10: 3736, 11: 3820, 12: 4908, 13: 6570, 14: 2838, 15: 4205, 16: 2742, 17: 1575, 18: 2432, 19: 3833, 20: 3212, 21: 1995, 22: 4978, 23: 5064, 24: 4162, 25: 5216, 26: 4563, 27: 4942, 28: 4656, 29: 3884, 30: 3402, 31: 3952, 32: 5075, 33: 3801, 37: 3824, 38: 4516, 39: 3765, 41: 4407, 42: 4255, 44: 290, 49: 4504, 51: 4048, 53: 2947, 55: 636, 56: 4328, 57: 3079, 59: 4754, 60: 4169, 61: 4142, 63: 701, 64: 3400, 66: 2025, 67: 4176, 68: 3238, 69: 4543, 70: 3128, 71: 4610, 72: 3124, 73: 4009, 74: 1102, 75: 4498, 76: 4463, 77: 2367, 78: 1611, 79: 1838, 80: 4649, 82: 4337, 83: 4424, 84: 3054, 85: 5056, 91: 2030, 92: 3926, 101: 556, 102: 4449, 106: 4771, 107: 2819, 108: 4313, 109: 4584, 110: 962, 111: 1324, 112: 2440, 113: 3882, 114: 4923, 115: 3470, 116: 4234, 117: 4568, 118: 1556, 120: 2972, 121: 4201, 122: 4747, 123: 4847, 124: 230, 125: 2086, 126: 1706, 127: 2657, 128: 4318, 130: 2601, 132: 597, 134: 2904, 135: 4290, 137: 5169, 138: 4247, 141: 4282, 142: 4610, 144: 4551, 145: 4246, 146: 4014, 147: 4765, 149: 3626, 151: 4364, 153: 4543, 154: 3697, 155: 3859, 156: 4163, 157: 2917, 159: 4631, 160: 3037, 161: 2277, 162: 4169, 164: 4886, 165: 1558, 167: 4488, 168: 4738, 170: 4941, 171: 4628, 172: 4383, 174: 3842, 175: 4558, 176: 1041, 177: 3206, 178: 4100, 181: 4151, 182: 3290, 183: 1319, 185: 1322, 186: 2887, 187: 3698, 188: 3297, 189: 3012, 190: 944, 191: 4791, 192: 3894, 34: 3624, 36: 4155, 43: 4517, 48: 1470, 54: 3255, 86: 1653, 89: 3892, 90: 3558, 93: 1738, 96: 3739, 97: 3369, 98: 3219, 129: 1437, 139: 3424, 148: 3843, 194: 3651, 196: 3153, 198: 3657, 199: 3252, 200: 3176, 35: 1075, 40: 3662, 45: 1326, 47: 1336, 50: 3234, 52: 3618, 58: 3889, 62: 3985, 65: 1068, 81: 1662, 87: 3208, 94: 1398, 99: 1564, 100: 3247, 103: 1598, 104: 3236, 105: 2959, 119: 3572, 131: 2854, 133: 1280, 136: 337, 143: 176, 150: 3023, 152: 1533, 158: 1437, 163: 3511, 166: 2699, 169: 844, 173: 1607, 179: 3172, 184: 867, 46: 1709, 95: 5041, 193: 146, 195: 1228, 197: 1206, 140: 1559, 88: 864, 180: 1927, 202: 118, 201: 2851, 203: 1235, 204: 1979, 209: 459, 210: 908, 212: 1385, 213: 1050, 214: 853, 217: 1, 205: 1205, 219: 328, 220: 1391, 222: 563, 223: 336, 224: 454, 226: 316, 227: 86, 228: 172, 229: 218, 206: 1138, 208: 1137, 215: 2740, 216: 2172, 225: 234, 221: 251, 207: 684, 211: 1663, 233: 148, 235: 2, 234: 49, 237: 111, 238: 115, 239: 36, 240: 1, 241: 1, 242: 1, 243: 1, 244: 1, 246: 1, 249: 2, 250: 16, 251: 1, 252: 23, 253: 126, 257: 1, 258: 1, 218: 1}\n"
     ]
    }
   ],
   "source": [
    "print(yes_itemsets_dict)"
   ]
  },
  {
   "cell_type": "code",
   "execution_count": null,
   "metadata": {},
   "outputs": [],
   "source": []
  }
 ],
 "metadata": {
  "kernelspec": {
   "display_name": "Python 3",
   "language": "python",
   "name": "python3"
  },
  "language_info": {
   "codemirror_mode": {
    "name": "ipython",
    "version": 3
   },
   "file_extension": ".py",
   "mimetype": "text/x-python",
   "name": "python",
   "nbconvert_exporter": "python",
   "pygments_lexer": "ipython3",
   "version": "3.11.0"
  }
 },
 "nbformat": 4,
 "nbformat_minor": 2
}
