{
 "cells": [
  {
   "cell_type": "markdown",
   "metadata": {},
   "source": [
    "## Gender Classification with Kernelized Perceptron using First Names"
   ]
  },
  {
   "cell_type": "code",
   "execution_count": 1,
   "metadata": {},
   "outputs": [],
   "source": [
    "# import all the required libraries\n",
    "import numpy as np\n",
    "import pandas as pd\n",
    "import matplotlib.pyplot as plt"
   ]
  },
  {
   "cell_type": "code",
   "execution_count": 2,
   "metadata": {},
   "outputs": [],
   "source": [
    "# Read the dataset\n",
    "df = pd.read_csv(\"../../assets/data/gender.csv\")"
   ]
  },
  {
   "cell_type": "code",
   "execution_count": 3,
   "metadata": {},
   "outputs": [
    {
     "name": "stdout",
     "output_type": "stream",
     "text": [
      "<class 'pandas.core.frame.DataFrame'>\n",
      "RangeIndex: 1294 entries, 0 to 1293\n",
      "Data columns (total 2 columns):\n",
      " #   Column  Non-Null Count  Dtype \n",
      "---  ------  --------------  ----- \n",
      " 0   Name    1294 non-null   object\n",
      " 1   Target  1294 non-null   int64 \n",
      "dtypes: int64(1), object(1)\n",
      "memory usage: 20.3+ KB\n"
     ]
    }
   ],
   "source": [
    "df.info()"
   ]
  },
  {
   "cell_type": "code",
   "execution_count": 4,
   "metadata": {},
   "outputs": [
    {
     "data": {
      "text/html": [
       "<div>\n",
       "<style scoped>\n",
       "    .dataframe tbody tr th:only-of-type {\n",
       "        vertical-align: middle;\n",
       "    }\n",
       "\n",
       "    .dataframe tbody tr th {\n",
       "        vertical-align: top;\n",
       "    }\n",
       "\n",
       "    .dataframe thead th {\n",
       "        text-align: right;\n",
       "    }\n",
       "</style>\n",
       "<table border=\"1\" class=\"dataframe\">\n",
       "  <thead>\n",
       "    <tr style=\"text-align: right;\">\n",
       "      <th></th>\n",
       "      <th>Name</th>\n",
       "      <th>Target</th>\n",
       "    </tr>\n",
       "  </thead>\n",
       "  <tbody>\n",
       "    <tr>\n",
       "      <th>0</th>\n",
       "      <td>Yash</td>\n",
       "      <td>1</td>\n",
       "    </tr>\n",
       "    <tr>\n",
       "      <th>1</th>\n",
       "      <td>Prit</td>\n",
       "      <td>1</td>\n",
       "    </tr>\n",
       "    <tr>\n",
       "      <th>2</th>\n",
       "      <td>Meet</td>\n",
       "      <td>1</td>\n",
       "    </tr>\n",
       "    <tr>\n",
       "      <th>3</th>\n",
       "      <td>Drashti</td>\n",
       "      <td>0</td>\n",
       "    </tr>\n",
       "    <tr>\n",
       "      <th>4</th>\n",
       "      <td>Saloni</td>\n",
       "      <td>0</td>\n",
       "    </tr>\n",
       "  </tbody>\n",
       "</table>\n",
       "</div>"
      ],
      "text/plain": [
       "      Name  Target\n",
       "0     Yash       1\n",
       "1     Prit       1\n",
       "2     Meet       1\n",
       "3  Drashti       0\n",
       "4   Saloni       0"
      ]
     },
     "execution_count": 4,
     "metadata": {},
     "output_type": "execute_result"
    }
   ],
   "source": [
    "df.head()"
   ]
  },
  {
   "cell_type": "code",
   "execution_count": 5,
   "metadata": {},
   "outputs": [
    {
     "name": "stdout",
     "output_type": "stream",
     "text": [
      "(703,)\n",
      "1\n"
     ]
    }
   ],
   "source": [
    "# Convert each name to feature vector\n",
    "X = []\n",
    "y = []\n",
    "\n",
    "# Considering the last character, unigrams, and bigrams in name\n",
    "# num_feats = 26 + 26*26 + 26*26*26 + 1  # 26 letters + 26*26 bigrams + 26*26*26 Trigrams + 1 bias\n",
    "num_feats = 26 + 26*26 + 1  # 26 letters + 26*26 bigrams + 1 bias\n",
    "\n",
    "for i in range(len(df)):\n",
    "    name = df.iloc[i]['Name']\n",
    "    target = df.iloc[i]['Target']\n",
    "    name = name.lower()\n",
    "\n",
    "    vec = np.zeros(num_feats)\n",
    "    vec[num_feats-1] = 1   # Initialize bias term as 1\n",
    "\n",
    "    # Consider last character of name\n",
    "    vec[ord(name[-1]) - 97] += 1\n",
    "\n",
    "    # Consider all bigrams\n",
    "    for j in range(len(name)-1):\n",
    "        bigram = name[j:j+2]\n",
    "        index = 26 + (ord(bigram[0]) - 97)*26 + (ord(bigram[1]) - 97)\n",
    "        vec[index] += 1\n",
    "\n",
    "    # # Consider all trigrams\n",
    "    # for k in range(len(name)-2):\n",
    "    #     trigram = name[k:k+3]\n",
    "    #     index = 26*26 + (ord(trigram[0]) - 97)*26*26 + (ord(trigram[1]) - 97)*26 + (ord(trigram[2]) - 97)\n",
    "    #     vec[index] += 1\n",
    "\n",
    "    X.append(vec)\n",
    "\n",
    "    if target == 0:\n",
    "        # -1 represents girl\n",
    "        y.append(-1)\n",
    "    else:\n",
    "        # 1 represents boy\n",
    "        y.append(1)\n",
    "\n",
    "# Printing sample feature vector and label\n",
    "print(X[0].shape)\n",
    "print(y[0])\n"
   ]
  },
  {
   "cell_type": "code",
   "execution_count": 6,
   "metadata": {},
   "outputs": [
    {
     "name": "stdout",
     "output_type": "stream",
     "text": [
      "Number of training examples: 1035\n",
      "Number of validation examples: 129\n",
      "Number of test examples: 130\n"
     ]
    }
   ],
   "source": [
    "# Split data into train, val and test sets\n",
    "test_size = 0.1\n",
    "val_size = 0.1\n",
    "\n",
    "data = list(zip(X, y))\n",
    "\n",
    "split_index1 = int(len(data) * (1 - test_size - val_size))\n",
    "split_index2 = int(len(data) * (1 - test_size))\n",
    "train_data = data[:split_index1]\n",
    "val_data = data[split_index1:split_index2]\n",
    "test_data = data[split_index2:]\n",
    "\n",
    "X_train, y_train = zip(*train_data)\n",
    "X_test, y_test = zip(*test_data)\n",
    "X_val, y_val = zip(*val_data)\n",
    "\n",
    "X_train, X_test = np.array(X_train), np.array(X_test)\n",
    "y_train, y_test = np.array(y_train), np.array(y_test)\n",
    "X_val, y_val = np.array(X_val), np.array(y_val)\n",
    "\n",
    "y_train = y_train.reshape(-1, 1)\n",
    "y_test = y_test.reshape(-1, 1)\n",
    "y_val = y_val.reshape(-1, 1)\n",
    "\n",
    "print(f'Number of training examples: {len(X_train)}')\n",
    "print(f'Number of validation examples: {len(X_val)}')\n",
    "print(f'Number of test examples: {len(X_test)}')"
   ]
  },
  {
   "cell_type": "code",
   "execution_count": 7,
   "metadata": {},
   "outputs": [],
   "source": [
    "# Defining linear kernel function\n",
    "def linear_kernel(x1, x2):\n",
    "    return np.dot(x1, x2)"
   ]
  },
  {
   "cell_type": "code",
   "execution_count": 8,
   "metadata": {},
   "outputs": [],
   "source": [
    "# Defining polynomial kernel function\n",
    "def polynomial_kernel(x, y, p=3):\n",
    "    return (1 + np.dot(x, y)) ** p"
   ]
  },
  {
   "cell_type": "code",
   "execution_count": 9,
   "metadata": {},
   "outputs": [],
   "source": [
    "# Defining radial basis function kernel function\n",
    "def rbf_kernel(x, y, sigma=1.0):\n",
    "    return np.exp(-(np.linalg.norm(x-y)**2) / (2 * (sigma**2)))"
   ]
  },
  {
   "cell_type": "code",
   "execution_count": 10,
   "metadata": {},
   "outputs": [],
   "source": [
    "# Defining the kernel matrix\n",
    "num_samples = len(X_train)\n",
    "K = np.zeros((num_samples,num_samples))\n",
    "\n",
    "for i in range(num_samples):\n",
    "    for j in range(num_samples):\n",
    "        # Ensure the same kernel in get_accuracy and predict\n",
    "        K[i][j] = rbf_kernel(X_train[i], X_train[j], 1.5)"
   ]
  },
  {
   "cell_type": "code",
   "execution_count": 11,
   "metadata": {},
   "outputs": [],
   "source": [
    "# Defining the alpha vector\n",
    "alpha = np.zeros((num_samples,1))"
   ]
  },
  {
   "cell_type": "code",
   "execution_count": 12,
   "metadata": {},
   "outputs": [],
   "source": [
    "def fit(X, y, alpha, K, threshold=250):\n",
    "    m = X.shape[0]\n",
    "    num_iterations = 0\n",
    "    missclassifications = []  # List to store missclassifications at each iteration\n",
    "\n",
    "    # Continue till all examples are classified\n",
    "    while True:\n",
    "        miss = 0\n",
    "\n",
    "        for i in range(m):\n",
    "            ksum = 0\n",
    "            for j in range(m):\n",
    "                ksum += alpha[j]*K[i][j]\n",
    "\n",
    "            Z = y[i]*ksum\n",
    "\n",
    "            if (Z[0] <= 0):\n",
    "                miss += 1\n",
    "                alpha[i] += y[i]\n",
    "        \n",
    "        missclassifications.append(miss)\n",
    "        \n",
    "        if (num_iterations % 10 == 0):\n",
    "            print(f\"Iteration {num_iterations}: {miss} missclassifications\")\n",
    "            \n",
    "        num_iterations += 1\n",
    "\n",
    "        if (miss == 0):\n",
    "            print(f\"Iteration {num_iterations}: Converged!\")\n",
    "            break\n",
    "            \n",
    "        if (num_iterations > threshold):\n",
    "            print(\"Algorithm did not converge!\")\n",
    "            break\n",
    "    \n",
    "    return alpha, missclassifications"
   ]
  },
  {
   "cell_type": "code",
   "execution_count": 13,
   "metadata": {},
   "outputs": [
    {
     "name": "stdout",
     "output_type": "stream",
     "text": [
      "Iteration 0: 205 missclassifications\n",
      "Iteration 8: Converged!\n"
     ]
    }
   ],
   "source": [
    "alpha, missclassifications = fit(X_train, y_train, alpha, K)"
   ]
  },
  {
   "cell_type": "code",
   "execution_count": 14,
   "metadata": {},
   "outputs": [
    {
     "data": {
      "image/png": "[encoded data removed]",
      "text/plain": [
       "<Figure size 640x480 with 1 Axes>"
      ]
     },
     "metadata": {},
     "output_type": "display_data"
    }
   ],
   "source": [
    "# Visualizing missclassifications vs num_iterations\n",
    "plt.plot(range(1, len(missclassifications) + 1), missclassifications)\n",
    "plt.xlabel('Number of Iterations')\n",
    "plt.ylabel('Missclassifications')\n",
    "plt.title('Missclassifications vs Number of Iterations')\n",
    "plt.grid(True)\n",
    "plt.show()"
   ]
  },
  {
   "cell_type": "code",
   "execution_count": 15,
   "metadata": {},
   "outputs": [],
   "source": [
    "def get_accuracy(X, y, X_train, alpha):\n",
    "    m = X.shape[0]\n",
    "    n = X_train.shape[0]\n",
    "    print(f\"Total number of test samples: {m}\")\n",
    "\n",
    "    miss = 0\n",
    "    for i in range(m):\n",
    "        ksum = 0\n",
    "        for j in range(n):\n",
    "            # Use the same kernel as defined during kernel matrix\n",
    "            ksum += alpha[j]*rbf_kernel(X[i], X_train[j], 1.5)\n",
    "            \n",
    "        Z = y[i]*ksum\n",
    "        \n",
    "        if (Z[0] <= 0):\n",
    "            miss += 1\n",
    "    \n",
    "    print(f\"Number of missclassified samples: {miss}\")\n",
    "\n",
    "    return (m-miss)/m"
   ]
  },
  {
   "cell_type": "code",
   "execution_count": 16,
   "metadata": {},
   "outputs": [
    {
     "name": "stdout",
     "output_type": "stream",
     "text": [
      "Total number of test samples: 129\n",
      "Number of missclassified samples: 15\n",
      "Accuracy on validation set: 0.8837209302325582\n"
     ]
    }
   ],
   "source": [
    "# Tuning hyperparameters using validation set\n",
    "accuracy = get_accuracy(X_val, y_val, X_train, alpha)\n",
    "print(f\"Accuracy on validation set: {accuracy}\")"
   ]
  },
  {
   "cell_type": "code",
   "execution_count": 17,
   "metadata": {},
   "outputs": [],
   "source": [
    "# Training on both train and validation dataset\n",
    "X_train_val = np.concatenate((X_train, X_val))\n",
    "y_train_val = np.concatenate((y_train, y_val))\n",
    "\n",
    "# Defining the kernel matrix\n",
    "num_samples = len(X_train_val)\n",
    "K = np.zeros((num_samples,num_samples))\n",
    "\n",
    "for i in range(num_samples):\n",
    "    for j in range(num_samples):\n",
    "        K[i][j] = rbf_kernel(X_train_val[i], X_train_val[j], 1.5)\n",
    "\n",
    "# Defining the alpha vector\n",
    "alpha = np.zeros((num_samples,1))"
   ]
  },
  {
   "cell_type": "code",
   "execution_count": 18,
   "metadata": {},
   "outputs": [
    {
     "name": "stdout",
     "output_type": "stream",
     "text": [
      "Iteration 0: 223 missclassifications\n",
      "Iteration 10: 5 missclassifications\n",
      "Iteration 12: Converged!\n"
     ]
    }
   ],
   "source": [
    "\n",
    "alpha, missclassifications = fit(X_train_val, y_train_val, alpha, K)"
   ]
  },
  {
   "cell_type": "code",
   "execution_count": 19,
   "metadata": {},
   "outputs": [
    {
     "data": {
      "image/png": "[encoded data removed]",
      "text/plain": [
       "<Figure size 640x480 with 1 Axes>"
      ]
     },
     "metadata": {},
     "output_type": "display_data"
    }
   ],
   "source": [
    "# Visualizing missclassifications vs num_iterations\n",
    "plt.plot(range(1, len(missclassifications) + 1), missclassifications)\n",
    "plt.xlabel('Number of Iterations')\n",
    "plt.ylabel('Missclassifications')\n",
    "plt.title('Missclassifications vs Number of Iterations')\n",
    "plt.grid(True)\n",
    "plt.show()"
   ]
  },
  {
   "cell_type": "code",
   "execution_count": 20,
   "metadata": {},
   "outputs": [
    {
     "name": "stdout",
     "output_type": "stream",
     "text": [
      "Total number of test samples: 130\n",
      "Number of missclassified samples: 13\n",
      "Accuracy on test set: 0.9\n"
     ]
    }
   ],
   "source": [
    "# Tuning hyperparameters using validation set\n",
    "accuracy = get_accuracy(X_test, y_test, X_train_val, alpha)\n",
    "print(f\"Accuracy on test set: {accuracy}\")"
   ]
  },
  {
   "cell_type": "code",
   "execution_count": 21,
   "metadata": {},
   "outputs": [],
   "source": [
    "def predict(test_name):\n",
    "    # Convert name to feature vector\n",
    "\n",
    "    name = test_name.lower()\n",
    "\n",
    "    vec = np.zeros(num_feats)\n",
    "    vec[num_feats-1] = 1   # Initialize bias term as 1\n",
    "\n",
    "    # Consider last character of name\n",
    "    vec[ord(name[-1]) - 97] += 1\n",
    "\n",
    "    # Consider all bigrams\n",
    "    for i in range(len(name)-1):\n",
    "        bigram = name[i:i+2]\n",
    "        vec[26 + (ord(bigram[0]) - 97)*26 + (ord(bigram[1]) - 97)] += 1\n",
    "    \n",
    "    ksum = 0\n",
    "    for i in range(len(X_train_val)):\n",
    "        ksum += alpha[i]*rbf_kernel(vec, X_train_val[i], 1.5)\n",
    "\n",
    "    if ksum > 0:\n",
    "        print(\"I am sure \" + test_name + \" is a boy.\")\n",
    "    elif ksum < 0:\n",
    "        print(\"I am sure \" + test_name + \" is a girl.\")\n",
    "    else:\n",
    "        print(\"I am not sure if \" + test_name + \" is a boy or a girl.\")"
   ]
  },
  {
   "cell_type": "code",
   "execution_count": 22,
   "metadata": {},
   "outputs": [
    {
     "name": "stdout",
     "output_type": "stream",
     "text": [
      "I am sure Aarush is a boy.\n",
      "I am sure Aarushi is a girl.\n"
     ]
    }
   ],
   "source": [
    "# Testing with our own example\n",
    "predict(\"Aarush\")\n",
    "predict(\"Aarushi\")"
   ]
  }
 ],
 "metadata": {
  "kernelspec": {
   "display_name": "Python 3",
   "language": "python",
   "name": "python3"
  },
  "language_info": {
   "codemirror_mode": {
    "name": "ipython",
    "version": 3
   },
   "file_extension": ".py",
   "mimetype": "text/x-python",
   "name": "python",
   "nbconvert_exporter": "python",
   "pygments_lexer": "ipython3",
   "version": "3.11.0"
  }
 },
 "nbformat": 4,
 "nbformat_minor": 2
}
