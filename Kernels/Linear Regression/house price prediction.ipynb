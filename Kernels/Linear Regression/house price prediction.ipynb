{
 "cells": [
  {
   "cell_type": "markdown",
   "metadata": {},
   "source": [
    "## Mumbai House Price Prediction using Linear Regression"
   ]
  },
  {
   "cell_type": "code",
   "execution_count": 34,
   "metadata": {},
   "outputs": [],
   "source": [
    "# import all the required libraries\n",
    "import numpy as np\n",
    "import pandas as pd\n",
    "from geopy.geocoders import Nominatim"
   ]
  },
  {
   "cell_type": "code",
   "execution_count": 45,
   "metadata": {},
   "outputs": [
    {
     "name": "stdout",
     "output_type": "stream",
     "text": [
      "       bhk       type                                     locality  area  \\\n",
      "0        3  Apartment                              Rajhans Kshitij  1285   \n",
      "1        1  Apartment                        Ariha Ariha Signature   416   \n",
      "2        1  Apartment          Runwal Runwal Forests Tower 9 To 11   600   \n",
      "3        4  Apartment                          Vasant Vasant Vihar  2200   \n",
      "4        1  Apartment                     Dharti Riddheshwar Tower   671   \n",
      "...    ...        ...                                          ...   ...   \n",
      "15203    1  Apartment  MICL Aaradhya Highpark Project 1 Of Phase I   480   \n",
      "15204    2  Apartment                             Welcome C G Park   700   \n",
      "15205    4  Apartment               JP Codename Dream Home Tower C  1060   \n",
      "15206    3  Apartment                           Kalpataru Parkcity  1150   \n",
      "15207    1  Apartment                         Vihang Vihang Valley   550   \n",
      "\n",
      "       price price_unit          region              status      age  \n",
      "0      88.00          L           Vasai       Ready to move   Resale  \n",
      "1      83.00          L   Goregaon West  Under Construction      New  \n",
      "2      95.00          L      Kanjurmarg  Under Construction      New  \n",
      "3       2.25         Cr      Thane West       Ready to move  Unknown  \n",
      "4      58.00          L         Kamothe       Ready to move   Resale  \n",
      "...      ...        ...             ...                 ...      ...  \n",
      "15203  72.00          L  Bhayandar East       Ready to move      New  \n",
      "15204  26.50          L        Bhiwandi       Ready to move      New  \n",
      "15205  87.00          L  Mira Road East       Ready to move      New  \n",
      "15206   1.95         Cr      Thane West  Under Construction      New  \n",
      "15207  55.00          L      Thane West       Ready to move   Resale  \n",
      "\n",
      "[15208 rows x 9 columns]\n"
     ]
    }
   ],
   "source": [
    "# Obtain the raw csv\n",
    "data = \"../../assets/data/mumbai_house_prices.csv\"\n",
    "house_price = pd.read_csv(data)\n",
    "house_price = house_price.sample(frac=0.2)\n",
    "\n",
    "# Reset index\n",
    "house_price.reset_index(drop=True, inplace=True)\n",
    "\n",
    "print(house_price)\n"
   ]
  },
  {
   "cell_type": "code",
   "execution_count": 46,
   "metadata": {},
   "outputs": [
    {
     "name": "stdout",
     "output_type": "stream",
     "text": [
      "<class 'pandas.core.frame.DataFrame'>\n",
      "RangeIndex: 15208 entries, 0 to 15207\n",
      "Data columns (total 9 columns):\n",
      " #   Column      Non-Null Count  Dtype  \n",
      "---  ------      --------------  -----  \n",
      " 0   bhk         15208 non-null  int64  \n",
      " 1   type        15208 non-null  object \n",
      " 2   locality    15208 non-null  object \n",
      " 3   area        15208 non-null  int64  \n",
      " 4   price       15208 non-null  float64\n",
      " 5   price_unit  15208 non-null  object \n",
      " 6   region      15208 non-null  object \n",
      " 7   status      15208 non-null  object \n",
      " 8   age         15208 non-null  object \n",
      "dtypes: float64(1), int64(2), object(6)\n",
      "memory usage: 1.0+ MB\n",
      "None\n"
     ]
    }
   ],
   "source": [
    "# printing the info for dataset\n",
    "print(house_price.info())"
   ]
  },
  {
   "cell_type": "code",
   "execution_count": 47,
   "metadata": {},
   "outputs": [
    {
     "data": {
      "text/html": [
       "<div>\n",
       "<style scoped>\n",
       "    .dataframe tbody tr th:only-of-type {\n",
       "        vertical-align: middle;\n",
       "    }\n",
       "\n",
       "    .dataframe tbody tr th {\n",
       "        vertical-align: top;\n",
       "    }\n",
       "\n",
       "    .dataframe thead th {\n",
       "        text-align: right;\n",
       "    }\n",
       "</style>\n",
       "<table border=\"1\" class=\"dataframe\">\n",
       "  <thead>\n",
       "    <tr style=\"text-align: right;\">\n",
       "      <th></th>\n",
       "      <th>bhk</th>\n",
       "      <th>type</th>\n",
       "      <th>locality</th>\n",
       "      <th>area</th>\n",
       "      <th>price</th>\n",
       "      <th>price_unit</th>\n",
       "      <th>region</th>\n",
       "      <th>status</th>\n",
       "      <th>age</th>\n",
       "    </tr>\n",
       "  </thead>\n",
       "  <tbody>\n",
       "    <tr>\n",
       "      <th>0</th>\n",
       "      <td>3</td>\n",
       "      <td>Apartment</td>\n",
       "      <td>Rajhans Kshitij</td>\n",
       "      <td>1285</td>\n",
       "      <td>88.00</td>\n",
       "      <td>L</td>\n",
       "      <td>Vasai</td>\n",
       "      <td>Ready to move</td>\n",
       "      <td>Resale</td>\n",
       "    </tr>\n",
       "    <tr>\n",
       "      <th>1</th>\n",
       "      <td>1</td>\n",
       "      <td>Apartment</td>\n",
       "      <td>Ariha Ariha Signature</td>\n",
       "      <td>416</td>\n",
       "      <td>83.00</td>\n",
       "      <td>L</td>\n",
       "      <td>Goregaon West</td>\n",
       "      <td>Under Construction</td>\n",
       "      <td>New</td>\n",
       "    </tr>\n",
       "    <tr>\n",
       "      <th>2</th>\n",
       "      <td>1</td>\n",
       "      <td>Apartment</td>\n",
       "      <td>Runwal Runwal Forests Tower 9 To 11</td>\n",
       "      <td>600</td>\n",
       "      <td>95.00</td>\n",
       "      <td>L</td>\n",
       "      <td>Kanjurmarg</td>\n",
       "      <td>Under Construction</td>\n",
       "      <td>New</td>\n",
       "    </tr>\n",
       "    <tr>\n",
       "      <th>3</th>\n",
       "      <td>4</td>\n",
       "      <td>Apartment</td>\n",
       "      <td>Vasant Vasant Vihar</td>\n",
       "      <td>2200</td>\n",
       "      <td>2.25</td>\n",
       "      <td>Cr</td>\n",
       "      <td>Thane West</td>\n",
       "      <td>Ready to move</td>\n",
       "      <td>Unknown</td>\n",
       "    </tr>\n",
       "    <tr>\n",
       "      <th>4</th>\n",
       "      <td>1</td>\n",
       "      <td>Apartment</td>\n",
       "      <td>Dharti Riddheshwar Tower</td>\n",
       "      <td>671</td>\n",
       "      <td>58.00</td>\n",
       "      <td>L</td>\n",
       "      <td>Kamothe</td>\n",
       "      <td>Ready to move</td>\n",
       "      <td>Resale</td>\n",
       "    </tr>\n",
       "  </tbody>\n",
       "</table>\n",
       "</div>"
      ],
      "text/plain": [
       "   bhk       type                             locality  area  price  \\\n",
       "0    3  Apartment                      Rajhans Kshitij  1285  88.00   \n",
       "1    1  Apartment                Ariha Ariha Signature   416  83.00   \n",
       "2    1  Apartment  Runwal Runwal Forests Tower 9 To 11   600  95.00   \n",
       "3    4  Apartment                  Vasant Vasant Vihar  2200   2.25   \n",
       "4    1  Apartment             Dharti Riddheshwar Tower   671  58.00   \n",
       "\n",
       "  price_unit         region              status      age  \n",
       "0          L          Vasai       Ready to move   Resale  \n",
       "1          L  Goregaon West  Under Construction      New  \n",
       "2          L     Kanjurmarg  Under Construction      New  \n",
       "3         Cr     Thane West       Ready to move  Unknown  \n",
       "4          L        Kamothe       Ready to move   Resale  "
      ]
     },
     "execution_count": 47,
     "metadata": {},
     "output_type": "execute_result"
    }
   ],
   "source": [
    "house_price.head()"
   ]
  },
  {
   "cell_type": "code",
   "execution_count": 48,
   "metadata": {},
   "outputs": [
    {
     "name": "stdout",
     "output_type": "stream",
     "text": [
      "Total number of unique values:  162\n",
      "Geopy could not find the following regions:  ['Mira Road East', 'Ambernath East', 'Neral', 'Koper Khairane', 'Badlapur West', 'Bhayandar East', 'Ambernath West', 'Karjat', 'Ulhasnagar', 'Maneklal Estate', 'Ville Parle East', 'Nala Sopara', 'Karanjade', 'Patlipada', 'Badlapur East', 'Bhayandar West', 'Kasheli', 'Anjurdive', 'Dronagiri', 'Saphale', 'Taloje', 'Titwala', 'Koproli', 'Napeansea Road', 'Virar West', 'Usarghar Gaon', 'Nilje Gaon', 'Umroli', 'Vichumbe', 'Sector 17 Ulwe', 'Kewale', 'Virar East', 'Sector 19 Kharghar', 'Kalher', 'Sector 7 Kharghar', 'Vasai east', 'Owale', 'Palava', 'Vangani', 'Vevoor', 'Sector 20 Kamothe', 'Nalasopara East'] 42\n"
     ]
    }
   ],
   "source": [
    "# create a dictionary to map region to their latitude and longitude\n",
    "geo = Nominatim(user_agent=\"Geopy Library\", timeout=10)  # Adjust timeout value if error is raised\n",
    "unique_regions = house_price[\"region\"].unique()\n",
    "print(\"Total number of unique values: \", len(unique_regions))\n",
    "lat_long_dict = {}\n",
    "unknown_regions = []\n",
    "\n",
    "for r in unique_regions:\n",
    "    loc = geo.geocode(r + \", Mumbai\")\n",
    "    if (loc == None):\n",
    "        unknown_regions.append(r)\n",
    "        continue\n",
    "    else:\n",
    "        latitude = loc.latitude\n",
    "        longitude = loc.longitude\n",
    "        lat_long_dict[r] = [latitude, longitude]\n",
    "\n",
    "print(\"Geopy could not find the following regions: \", unknown_regions, len(unknown_regions))\n",
    "\n",
    "# This cell might take about 2 minutes to execute as it is geocoding each region"
   ]
  },
  {
   "cell_type": "code",
   "execution_count": 49,
   "metadata": {},
   "outputs": [],
   "source": [
    "# we remove all rows which contain unidentified regions and for all rows with identified regions, we add their latitiude and longitude to the data set.\n",
    "del_idx = []\n",
    "for i in range(len(house_price)):\n",
    "    region = house_price.loc[i, \"region\"]\n",
    "    if region in unknown_regions:\n",
    "        del_idx.append(i)\n",
    "    else:\n",
    "        lat_long = lat_long_dict[region]\n",
    "        house_price.at[i, \"latitude\"] = lat_long[0] \n",
    "        house_price.at[i, \"longitude\"] = lat_long[1]\n"
   ]
  },
  {
   "cell_type": "code",
   "execution_count": 50,
   "metadata": {},
   "outputs": [],
   "source": [
    "house_price.drop(del_idx, inplace=True)\n",
    "house_price = house_price.reset_index(drop=True)"
   ]
  },
  {
   "cell_type": "code",
   "execution_count": 51,
   "metadata": {},
   "outputs": [
    {
     "data": {
      "text/html": [
       "<div>\n",
       "<style scoped>\n",
       "    .dataframe tbody tr th:only-of-type {\n",
       "        vertical-align: middle;\n",
       "    }\n",
       "\n",
       "    .dataframe tbody tr th {\n",
       "        vertical-align: top;\n",
       "    }\n",
       "\n",
       "    .dataframe thead th {\n",
       "        text-align: right;\n",
       "    }\n",
       "</style>\n",
       "<table border=\"1\" class=\"dataframe\">\n",
       "  <thead>\n",
       "    <tr style=\"text-align: right;\">\n",
       "      <th></th>\n",
       "      <th>bhk</th>\n",
       "      <th>type</th>\n",
       "      <th>locality</th>\n",
       "      <th>area</th>\n",
       "      <th>price</th>\n",
       "      <th>price_unit</th>\n",
       "      <th>region</th>\n",
       "      <th>status</th>\n",
       "      <th>age</th>\n",
       "      <th>latitude</th>\n",
       "      <th>longitude</th>\n",
       "    </tr>\n",
       "  </thead>\n",
       "  <tbody>\n",
       "    <tr>\n",
       "      <th>0</th>\n",
       "      <td>3</td>\n",
       "      <td>Apartment</td>\n",
       "      <td>Rajhans Kshitij</td>\n",
       "      <td>1285</td>\n",
       "      <td>88.00</td>\n",
       "      <td>L</td>\n",
       "      <td>Vasai</td>\n",
       "      <td>Ready to move</td>\n",
       "      <td>Resale</td>\n",
       "      <td>19.318937</td>\n",
       "      <td>72.897951</td>\n",
       "    </tr>\n",
       "    <tr>\n",
       "      <th>1</th>\n",
       "      <td>1</td>\n",
       "      <td>Apartment</td>\n",
       "      <td>Ariha Ariha Signature</td>\n",
       "      <td>416</td>\n",
       "      <td>83.00</td>\n",
       "      <td>L</td>\n",
       "      <td>Goregaon West</td>\n",
       "      <td>Under Construction</td>\n",
       "      <td>New</td>\n",
       "      <td>19.163328</td>\n",
       "      <td>72.841200</td>\n",
       "    </tr>\n",
       "    <tr>\n",
       "      <th>2</th>\n",
       "      <td>1</td>\n",
       "      <td>Apartment</td>\n",
       "      <td>Runwal Runwal Forests Tower 9 To 11</td>\n",
       "      <td>600</td>\n",
       "      <td>95.00</td>\n",
       "      <td>L</td>\n",
       "      <td>Kanjurmarg</td>\n",
       "      <td>Under Construction</td>\n",
       "      <td>New</td>\n",
       "      <td>19.129687</td>\n",
       "      <td>72.928370</td>\n",
       "    </tr>\n",
       "    <tr>\n",
       "      <th>3</th>\n",
       "      <td>4</td>\n",
       "      <td>Apartment</td>\n",
       "      <td>Vasant Vasant Vihar</td>\n",
       "      <td>2200</td>\n",
       "      <td>2.25</td>\n",
       "      <td>Cr</td>\n",
       "      <td>Thane West</td>\n",
       "      <td>Ready to move</td>\n",
       "      <td>Unknown</td>\n",
       "      <td>19.026011</td>\n",
       "      <td>73.010167</td>\n",
       "    </tr>\n",
       "    <tr>\n",
       "      <th>4</th>\n",
       "      <td>1</td>\n",
       "      <td>Apartment</td>\n",
       "      <td>Dharti Riddheshwar Tower</td>\n",
       "      <td>671</td>\n",
       "      <td>58.00</td>\n",
       "      <td>L</td>\n",
       "      <td>Kamothe</td>\n",
       "      <td>Ready to move</td>\n",
       "      <td>Resale</td>\n",
       "      <td>19.016434</td>\n",
       "      <td>73.080655</td>\n",
       "    </tr>\n",
       "  </tbody>\n",
       "</table>\n",
       "</div>"
      ],
      "text/plain": [
       "   bhk       type                             locality  area  price  \\\n",
       "0    3  Apartment                      Rajhans Kshitij  1285  88.00   \n",
       "1    1  Apartment                Ariha Ariha Signature   416  83.00   \n",
       "2    1  Apartment  Runwal Runwal Forests Tower 9 To 11   600  95.00   \n",
       "3    4  Apartment                  Vasant Vasant Vihar  2200   2.25   \n",
       "4    1  Apartment             Dharti Riddheshwar Tower   671  58.00   \n",
       "\n",
       "  price_unit         region              status      age   latitude  longitude  \n",
       "0          L          Vasai       Ready to move   Resale  19.318937  72.897951  \n",
       "1          L  Goregaon West  Under Construction      New  19.163328  72.841200  \n",
       "2          L     Kanjurmarg  Under Construction      New  19.129687  72.928370  \n",
       "3         Cr     Thane West       Ready to move  Unknown  19.026011  73.010167  \n",
       "4          L        Kamothe       Ready to move   Resale  19.016434  73.080655  "
      ]
     },
     "execution_count": 51,
     "metadata": {},
     "output_type": "execute_result"
    }
   ],
   "source": [
    "house_price.head()"
   ]
  },
  {
   "cell_type": "code",
   "execution_count": 52,
   "metadata": {},
   "outputs": [
    {
     "data": {
      "text/plain": [
       "(12308, 11)"
      ]
     },
     "execution_count": 52,
     "metadata": {},
     "output_type": "execute_result"
    }
   ],
   "source": [
    "house_price.shape"
   ]
  },
  {
   "cell_type": "code",
   "execution_count": 53,
   "metadata": {},
   "outputs": [],
   "source": [
    "# remove columns locality and region since they do not hold with the idea of linear regression\n",
    "house_price.drop(['locality', 'region'], axis=1, inplace=True)"
   ]
  },
  {
   "cell_type": "code",
   "execution_count": 54,
   "metadata": {},
   "outputs": [
    {
     "name": "stdout",
     "output_type": "stream",
     "text": [
      "['Apartment' 'Studio Apartment' 'Villa' 'Independent House' 'Penthouse']\n",
      "['Resale' 'New' 'Unknown']\n",
      "['Ready to move' 'Under Construction']\n"
     ]
    }
   ],
   "source": [
    "# print all unique values of categorical columns\n",
    "print(house_price.type.unique())\n",
    "print(house_price.age.unique())\n",
    "print(house_price.status.unique())"
   ]
  },
  {
   "cell_type": "code",
   "execution_count": 55,
   "metadata": {},
   "outputs": [],
   "source": [
    "# dealing with categorical data\n",
    "house_price[\"type\"].replace({\"Studio Apartment\":0, \"Apartment\":0.2, \"Independent House\":0.4, \"Villa\": 0.6, \"Penthouse\": 1}, inplace=True)\n",
    "house_price[\"age\"].replace({\"New\":0, \"Resale\":1, \"Unknown\": 0.5}, inplace=True)\n",
    "house_price[\"status\"].replace({\"Ready to move\":0, \"Under Construction\":1}, inplace=True)"
   ]
  },
  {
   "cell_type": "code",
   "execution_count": 56,
   "metadata": {},
   "outputs": [],
   "source": [
    "# calculating price in Crores for each using price and price_unit\n",
    "for i in range(len(house_price)):  \n",
    "    price_unit = house_price.loc[i, \"price_unit\"]\n",
    "\n",
    "    if price_unit == \"L\":\n",
    "        house_price.at[i, \"price\"] = (house_price.at[i, \"price\"] / 100)\n",
    "  \n",
    "house_price.drop([\"price_unit\"], axis=1, inplace=True)"
   ]
  },
  {
   "cell_type": "code",
   "execution_count": 57,
   "metadata": {},
   "outputs": [
    {
     "data": {
      "text/html": [
       "<div>\n",
       "<style scoped>\n",
       "    .dataframe tbody tr th:only-of-type {\n",
       "        vertical-align: middle;\n",
       "    }\n",
       "\n",
       "    .dataframe tbody tr th {\n",
       "        vertical-align: top;\n",
       "    }\n",
       "\n",
       "    .dataframe thead th {\n",
       "        text-align: right;\n",
       "    }\n",
       "</style>\n",
       "<table border=\"1\" class=\"dataframe\">\n",
       "  <thead>\n",
       "    <tr style=\"text-align: right;\">\n",
       "      <th></th>\n",
       "      <th>bhk</th>\n",
       "      <th>type</th>\n",
       "      <th>area</th>\n",
       "      <th>price</th>\n",
       "      <th>status</th>\n",
       "      <th>age</th>\n",
       "      <th>latitude</th>\n",
       "      <th>longitude</th>\n",
       "    </tr>\n",
       "  </thead>\n",
       "  <tbody>\n",
       "    <tr>\n",
       "      <th>0</th>\n",
       "      <td>3</td>\n",
       "      <td>0.2</td>\n",
       "      <td>1285</td>\n",
       "      <td>0.88</td>\n",
       "      <td>0</td>\n",
       "      <td>1.0</td>\n",
       "      <td>19.318937</td>\n",
       "      <td>72.897951</td>\n",
       "    </tr>\n",
       "    <tr>\n",
       "      <th>1</th>\n",
       "      <td>1</td>\n",
       "      <td>0.2</td>\n",
       "      <td>416</td>\n",
       "      <td>0.83</td>\n",
       "      <td>1</td>\n",
       "      <td>0.0</td>\n",
       "      <td>19.163328</td>\n",
       "      <td>72.841200</td>\n",
       "    </tr>\n",
       "    <tr>\n",
       "      <th>2</th>\n",
       "      <td>1</td>\n",
       "      <td>0.2</td>\n",
       "      <td>600</td>\n",
       "      <td>0.95</td>\n",
       "      <td>1</td>\n",
       "      <td>0.0</td>\n",
       "      <td>19.129687</td>\n",
       "      <td>72.928370</td>\n",
       "    </tr>\n",
       "    <tr>\n",
       "      <th>3</th>\n",
       "      <td>4</td>\n",
       "      <td>0.2</td>\n",
       "      <td>2200</td>\n",
       "      <td>2.25</td>\n",
       "      <td>0</td>\n",
       "      <td>0.5</td>\n",
       "      <td>19.026011</td>\n",
       "      <td>73.010167</td>\n",
       "    </tr>\n",
       "    <tr>\n",
       "      <th>4</th>\n",
       "      <td>1</td>\n",
       "      <td>0.2</td>\n",
       "      <td>671</td>\n",
       "      <td>0.58</td>\n",
       "      <td>0</td>\n",
       "      <td>1.0</td>\n",
       "      <td>19.016434</td>\n",
       "      <td>73.080655</td>\n",
       "    </tr>\n",
       "  </tbody>\n",
       "</table>\n",
       "</div>"
      ],
      "text/plain": [
       "   bhk  type  area  price  status  age   latitude  longitude\n",
       "0    3   0.2  1285   0.88       0  1.0  19.318937  72.897951\n",
       "1    1   0.2   416   0.83       1  0.0  19.163328  72.841200\n",
       "2    1   0.2   600   0.95       1  0.0  19.129687  72.928370\n",
       "3    4   0.2  2200   2.25       0  0.5  19.026011  73.010167\n",
       "4    1   0.2   671   0.58       0  1.0  19.016434  73.080655"
      ]
     },
     "execution_count": 57,
     "metadata": {},
     "output_type": "execute_result"
    }
   ],
   "source": [
    "house_price.head()"
   ]
  },
  {
   "cell_type": "code",
   "execution_count": 58,
   "metadata": {},
   "outputs": [
    {
     "name": "stdout",
     "output_type": "stream",
     "text": [
      "The size of X_train is:  (7386, 7)\n",
      "The size of X_val is:  (2461, 7)\n",
      "The size of X_test is:  (2461, 7)\n",
      "The size of y_train is:  7386\n",
      "The size of y_val is:  2461\n",
      "The size of y_test is:  2461\n"
     ]
    }
   ],
   "source": [
    "import random\n",
    "\n",
    "# Define the ratios for train, test, and validation sets\n",
    "test_ratio = 0.2\n",
    "val_ratio = 0.2\n",
    "\n",
    "# Shuffle the indices of the dataset\n",
    "indices = list(house_price.index)\n",
    "random.shuffle(indices)\n",
    "\n",
    "# Calculate the number of samples for the testing and validation sets\n",
    "test_size = int(test_ratio * len(house_price))\n",
    "val_size = int(val_ratio * len(house_price))\n",
    "\n",
    "# Split the indices into training, testing, and validation sets\n",
    "test_indices = indices[:test_size]\n",
    "val_indices = indices[test_size:test_size+val_size]\n",
    "train_indices = indices[test_size+val_size:]\n",
    "\n",
    "# Create training, validation, and testing sets\n",
    "X_train = house_price.loc[train_indices]\n",
    "X_val = house_price.loc[val_indices]\n",
    "X_test = house_price.loc[test_indices]\n",
    "\n",
    "# Extract target variable\n",
    "y_train = X_train.pop(\"price\").tolist()\n",
    "y_val = X_val.pop(\"price\").tolist()\n",
    "y_test = X_test.pop(\"price\").tolist()\n",
    "\n",
    "print(\"The size of X_train is: \", X_train.shape)\n",
    "print(\"The size of X_val is: \", X_val.shape)\n",
    "print(\"The size of X_test is: \", X_test.shape)\n",
    "print(\"The size of y_train is: \", len(y_train))\n",
    "print(\"The size of y_val is: \", len(y_val))\n",
    "print(\"The size of y_test is: \", len(y_test))"
   ]
  },
  {
   "cell_type": "code",
   "execution_count": 59,
   "metadata": {},
   "outputs": [
    {
     "name": "stdout",
     "output_type": "stream",
     "text": [
      "            bhk      type      area    status       age  latitude  longitude\n",
      "1884  -1.188607  0.016345 -0.659658 -0.836825  0.164917  1.195190   1.477070\n",
      "12229 -0.130125  0.016345 -0.469614 -0.836825 -0.987473  0.718443  -0.048327\n",
      "3862  -1.188607  0.016345 -0.639297  1.194993  0.164917 -0.541864  -0.626380\n",
      "502   -1.188607  0.016345 -0.666446 -0.836825  1.317307 -0.851758   0.592144\n",
      "815   -0.130125  0.016345 -0.537487 -0.836825 -0.987473 -1.380500   0.700361\n"
     ]
    }
   ],
   "source": [
    "X_mean = np.mean(X_train, axis=0)\n",
    "X_std = np.std(X_train, axis=0)\n",
    "\n",
    "# Normalizing the data\n",
    "X_train = (X_train - X_mean)/X_std\n",
    "X_val = (X_val - X_mean)/X_std\n",
    "X_test = (X_test - X_mean)/X_std\n",
    "\n",
    "print(X_train.head())"
   ]
  },
  {
   "cell_type": "code",
   "execution_count": 28,
   "metadata": {},
   "outputs": [],
   "source": [
    "y_train = np.array(y_train)\n",
    "y_train = y_train.reshape(y_train.shape[0], 1)\n",
    "y_test = np.array(y_test)\n",
    "y_test = y_test.reshape(y_test.shape[0], 1)\n",
    "y_val = np.array(y_val)\n",
    "y_val = y_val.reshape(y_val.shape[0], 1)"
   ]
  },
  {
   "cell_type": "code",
   "execution_count": 29,
   "metadata": {},
   "outputs": [],
   "source": [
    "# Defining our kernel functions in terms of inner products\n",
    "def linear_kernel(x1, x2):\n",
    "    return np.dot(x1, x2)"
   ]
  },
  {
   "cell_type": "code",
   "execution_count": 30,
   "metadata": {},
   "outputs": [],
   "source": [
    "def polynomial_kernel(x, y, p=3):\n",
    "    return (1 + np.dot(x, y)) ** p"
   ]
  },
  {
   "cell_type": "code",
   "execution_count": 31,
   "metadata": {},
   "outputs": [],
   "source": [
    "def rbf_kernel(x, y, sigma=5.0):\n",
    "    return np.exp(-(np.linalg.norm(x-y)**2) / (2 * (sigma**2)))"
   ]
  },
  {
   "cell_type": "code",
   "execution_count": 74,
   "metadata": {},
   "outputs": [
    {
     "ename": "KeyError",
     "evalue": "2",
     "output_type": "error",
     "traceback": [
      "\u001b[1;31m---------------------------------------------------------------------------\u001b[0m",
      "\u001b[1;31mKeyError\u001b[0m                                  Traceback (most recent call last)",
      "File \u001b[1;32mc:\\Users\\pritp\\AppData\\Local\\Programs\\Python\\Python311\\Lib\\site-packages\\pandas\\core\\indexes\\base.py:3803\u001b[0m, in \u001b[0;36mIndex.get_loc\u001b[1;34m(self, key, method, tolerance)\u001b[0m\n\u001b[0;32m   3802\u001b[0m \u001b[38;5;28;01mtry\u001b[39;00m:\n\u001b[1;32m-> 3803\u001b[0m     \u001b[38;5;28;01mreturn\u001b[39;00m \u001b[38;5;28;43mself\u001b[39;49m\u001b[38;5;241;43m.\u001b[39;49m\u001b[43m_engine\u001b[49m\u001b[38;5;241;43m.\u001b[39;49m\u001b[43mget_loc\u001b[49m\u001b[43m(\u001b[49m\u001b[43mcasted_key\u001b[49m\u001b[43m)\u001b[49m\n\u001b[0;32m   3804\u001b[0m \u001b[38;5;28;01mexcept\u001b[39;00m \u001b[38;5;167;01mKeyError\u001b[39;00m \u001b[38;5;28;01mas\u001b[39;00m err:\n",
      "File \u001b[1;32mc:\\Users\\pritp\\AppData\\Local\\Programs\\Python\\Python311\\Lib\\site-packages\\pandas\\_libs\\index.pyx:138\u001b[0m, in \u001b[0;36mpandas._libs.index.IndexEngine.get_loc\u001b[1;34m()\u001b[0m\n",
      "File \u001b[1;32mc:\\Users\\pritp\\AppData\\Local\\Programs\\Python\\Python311\\Lib\\site-packages\\pandas\\_libs\\index.pyx:165\u001b[0m, in \u001b[0;36mpandas._libs.index.IndexEngine.get_loc\u001b[1;34m()\u001b[0m\n",
      "File \u001b[1;32mpandas\\_libs\\hashtable_class_helper.pxi:2263\u001b[0m, in \u001b[0;36mpandas._libs.hashtable.Int64HashTable.get_item\u001b[1;34m()\u001b[0m\n",
      "File \u001b[1;32mpandas\\_libs\\hashtable_class_helper.pxi:2273\u001b[0m, in \u001b[0;36mpandas._libs.hashtable.Int64HashTable.get_item\u001b[1;34m()\u001b[0m\n",
      "\u001b[1;31mKeyError\u001b[0m: 2",
      "\nThe above exception was the direct cause of the following exception:\n",
      "\u001b[1;31mKeyError\u001b[0m                                  Traceback (most recent call last)",
      "Cell \u001b[1;32mIn[74], line 8\u001b[0m\n\u001b[0;32m      6\u001b[0m \u001b[38;5;28;01mfor\u001b[39;00m i \u001b[38;5;129;01min\u001b[39;00m \u001b[38;5;28mrange\u001b[39m(num_samples):\n\u001b[0;32m      7\u001b[0m     \u001b[38;5;28;01mfor\u001b[39;00m j \u001b[38;5;129;01min\u001b[39;00m \u001b[38;5;28mrange\u001b[39m(num_samples):\n\u001b[1;32m----> 8\u001b[0m         K[i][j] \u001b[38;5;241m=\u001b[39m np\u001b[38;5;241m.\u001b[39mdot(\u001b[43mX_train\u001b[49m\u001b[38;5;241;43m.\u001b[39;49m\u001b[43mloc\u001b[49m\u001b[43m[\u001b[49m\u001b[43mi\u001b[49m\u001b[43m]\u001b[49m, X_train\u001b[38;5;241m.\u001b[39mloc[j])\n\u001b[0;32m      9\u001b[0m         \u001b[38;5;28;01mbreak\u001b[39;00m\n",
      "File \u001b[1;32mc:\\Users\\pritp\\AppData\\Local\\Programs\\Python\\Python311\\Lib\\site-packages\\pandas\\core\\indexing.py:1073\u001b[0m, in \u001b[0;36m_LocationIndexer.__getitem__\u001b[1;34m(self, key)\u001b[0m\n\u001b[0;32m   1070\u001b[0m axis \u001b[38;5;241m=\u001b[39m \u001b[38;5;28mself\u001b[39m\u001b[38;5;241m.\u001b[39maxis \u001b[38;5;129;01mor\u001b[39;00m \u001b[38;5;241m0\u001b[39m\n\u001b[0;32m   1072\u001b[0m maybe_callable \u001b[38;5;241m=\u001b[39m com\u001b[38;5;241m.\u001b[39mapply_if_callable(key, \u001b[38;5;28mself\u001b[39m\u001b[38;5;241m.\u001b[39mobj)\n\u001b[1;32m-> 1073\u001b[0m \u001b[38;5;28;01mreturn\u001b[39;00m \u001b[38;5;28;43mself\u001b[39;49m\u001b[38;5;241;43m.\u001b[39;49m\u001b[43m_getitem_axis\u001b[49m\u001b[43m(\u001b[49m\u001b[43mmaybe_callable\u001b[49m\u001b[43m,\u001b[49m\u001b[43m \u001b[49m\u001b[43maxis\u001b[49m\u001b[38;5;241;43m=\u001b[39;49m\u001b[43maxis\u001b[49m\u001b[43m)\u001b[49m\n",
      "File \u001b[1;32mc:\\Users\\pritp\\AppData\\Local\\Programs\\Python\\Python311\\Lib\\site-packages\\pandas\\core\\indexing.py:1312\u001b[0m, in \u001b[0;36m_LocIndexer._getitem_axis\u001b[1;34m(self, key, axis)\u001b[0m\n\u001b[0;32m   1310\u001b[0m \u001b[38;5;66;03m# fall thru to straight lookup\u001b[39;00m\n\u001b[0;32m   1311\u001b[0m \u001b[38;5;28mself\u001b[39m\u001b[38;5;241m.\u001b[39m_validate_key(key, axis)\n\u001b[1;32m-> 1312\u001b[0m \u001b[38;5;28;01mreturn\u001b[39;00m \u001b[38;5;28;43mself\u001b[39;49m\u001b[38;5;241;43m.\u001b[39;49m\u001b[43m_get_label\u001b[49m\u001b[43m(\u001b[49m\u001b[43mkey\u001b[49m\u001b[43m,\u001b[49m\u001b[43m \u001b[49m\u001b[43maxis\u001b[49m\u001b[38;5;241;43m=\u001b[39;49m\u001b[43maxis\u001b[49m\u001b[43m)\u001b[49m\n",
      "File \u001b[1;32mc:\\Users\\pritp\\AppData\\Local\\Programs\\Python\\Python311\\Lib\\site-packages\\pandas\\core\\indexing.py:1260\u001b[0m, in \u001b[0;36m_LocIndexer._get_label\u001b[1;34m(self, label, axis)\u001b[0m\n\u001b[0;32m   1258\u001b[0m \u001b[38;5;28;01mdef\u001b[39;00m \u001b[38;5;21m_get_label\u001b[39m(\u001b[38;5;28mself\u001b[39m, label, axis: \u001b[38;5;28mint\u001b[39m):\n\u001b[0;32m   1259\u001b[0m     \u001b[38;5;66;03m# GH#5567 this will fail if the label is not present in the axis.\u001b[39;00m\n\u001b[1;32m-> 1260\u001b[0m     \u001b[38;5;28;01mreturn\u001b[39;00m \u001b[38;5;28;43mself\u001b[39;49m\u001b[38;5;241;43m.\u001b[39;49m\u001b[43mobj\u001b[49m\u001b[38;5;241;43m.\u001b[39;49m\u001b[43mxs\u001b[49m\u001b[43m(\u001b[49m\u001b[43mlabel\u001b[49m\u001b[43m,\u001b[49m\u001b[43m \u001b[49m\u001b[43maxis\u001b[49m\u001b[38;5;241;43m=\u001b[39;49m\u001b[43maxis\u001b[49m\u001b[43m)\u001b[49m\n",
      "File \u001b[1;32mc:\\Users\\pritp\\AppData\\Local\\Programs\\Python\\Python311\\Lib\\site-packages\\pandas\\core\\generic.py:4056\u001b[0m, in \u001b[0;36mNDFrame.xs\u001b[1;34m(self, key, axis, level, drop_level)\u001b[0m\n\u001b[0;32m   4054\u001b[0m             new_index \u001b[38;5;241m=\u001b[39m index[loc]\n\u001b[0;32m   4055\u001b[0m \u001b[38;5;28;01melse\u001b[39;00m:\n\u001b[1;32m-> 4056\u001b[0m     loc \u001b[38;5;241m=\u001b[39m \u001b[43mindex\u001b[49m\u001b[38;5;241;43m.\u001b[39;49m\u001b[43mget_loc\u001b[49m\u001b[43m(\u001b[49m\u001b[43mkey\u001b[49m\u001b[43m)\u001b[49m\n\u001b[0;32m   4058\u001b[0m     \u001b[38;5;28;01mif\u001b[39;00m \u001b[38;5;28misinstance\u001b[39m(loc, np\u001b[38;5;241m.\u001b[39mndarray):\n\u001b[0;32m   4059\u001b[0m         \u001b[38;5;28;01mif\u001b[39;00m loc\u001b[38;5;241m.\u001b[39mdtype \u001b[38;5;241m==\u001b[39m np\u001b[38;5;241m.\u001b[39mbool_:\n",
      "File \u001b[1;32mc:\\Users\\pritp\\AppData\\Local\\Programs\\Python\\Python311\\Lib\\site-packages\\pandas\\core\\indexes\\base.py:3805\u001b[0m, in \u001b[0;36mIndex.get_loc\u001b[1;34m(self, key, method, tolerance)\u001b[0m\n\u001b[0;32m   3803\u001b[0m     \u001b[38;5;28;01mreturn\u001b[39;00m \u001b[38;5;28mself\u001b[39m\u001b[38;5;241m.\u001b[39m_engine\u001b[38;5;241m.\u001b[39mget_loc(casted_key)\n\u001b[0;32m   3804\u001b[0m \u001b[38;5;28;01mexcept\u001b[39;00m \u001b[38;5;167;01mKeyError\u001b[39;00m \u001b[38;5;28;01mas\u001b[39;00m err:\n\u001b[1;32m-> 3805\u001b[0m     \u001b[38;5;28;01mraise\u001b[39;00m \u001b[38;5;167;01mKeyError\u001b[39;00m(key) \u001b[38;5;28;01mfrom\u001b[39;00m \u001b[38;5;21;01merr\u001b[39;00m\n\u001b[0;32m   3806\u001b[0m \u001b[38;5;28;01mexcept\u001b[39;00m \u001b[38;5;167;01mTypeError\u001b[39;00m:\n\u001b[0;32m   3807\u001b[0m     \u001b[38;5;66;03m# If we have a listlike key, _check_indexing_error will raise\u001b[39;00m\n\u001b[0;32m   3808\u001b[0m     \u001b[38;5;66;03m#  InvalidIndexError. Otherwise we fall through and re-raise\u001b[39;00m\n\u001b[0;32m   3809\u001b[0m     \u001b[38;5;66;03m#  the TypeError.\u001b[39;00m\n\u001b[0;32m   3810\u001b[0m     \u001b[38;5;28mself\u001b[39m\u001b[38;5;241m.\u001b[39m_check_indexing_error(key)\n",
      "\u001b[1;31mKeyError\u001b[0m: 2"
     ]
    }
   ],
   "source": [
    "# Defining the kernel matrix\n",
    "num_samples = len(X_train)\n",
    "\n",
    "K = np.zeros((num_samples,num_samples))\n",
    "\n",
    "for i in range(num_samples):\n",
    "    for j in range(num_samples):\n",
    "        K[i][j] = np.dot(X_train.loc[i], X_train.loc[j])\n",
    "        break"
   ]
  },
  {
   "cell_type": "code",
   "execution_count": null,
   "metadata": {},
   "outputs": [],
   "source": [
    "def fit(X, y, W, b, learning_rate=0.1, num_iterations=1000, l2_lambda=0.01):\n",
    "    m = X.shape[0]\n",
    "\n",
    "    for i in range(num_iterations):\n",
    "        Z = np.dot(X, W) + b\n",
    "        diff = Z - y\n",
    "        dw = (1/m) * np.dot(X.T, diff) + (l2_lambda / m) * W  # L2 regularization\n",
    "        db = (1/m) * np.sum(diff)\n",
    "\n",
    "        W = W - learning_rate * dw\n",
    "        b = b - learning_rate * db\n",
    "        \n",
    "        if i % 100 == 0:\n",
    "            loss = (1/m) * np.sum(np.abs(diff))\n",
    "            # Add regularization term to loss\n",
    "            regularization_loss = (l2_lambda / (2 * m)) * np.sum(np.square(W))\n",
    "            total_loss = loss + regularization_loss\n",
    "            print(\"Loss after iteration %i: %f\" % (i, total_loss))\n",
    "        \n",
    "    return W, b"
   ]
  },
  {
   "cell_type": "code",
   "execution_count": null,
   "metadata": {},
   "outputs": [],
   "source": []
  },
  {
   "cell_type": "code",
   "execution_count": null,
   "metadata": {},
   "outputs": [],
   "source": []
  },
  {
   "cell_type": "code",
   "execution_count": null,
   "metadata": {},
   "outputs": [],
   "source": []
  },
  {
   "cell_type": "code",
   "execution_count": null,
   "metadata": {},
   "outputs": [],
   "source": []
  },
  {
   "cell_type": "code",
   "execution_count": null,
   "metadata": {},
   "outputs": [],
   "source": []
  },
  {
   "cell_type": "code",
   "execution_count": 19,
   "metadata": {},
   "outputs": [],
   "source": [
    "W = np.zeros((X_train.shape[1], 1))\n",
    "b = 0\n",
    "y_train = np.array(y_train)\n",
    "y_train = y_train.reshape(y_train.shape[0], 1)\n",
    "y_test = np.array(y_test)\n",
    "y_test = y_test.reshape(y_test.shape[0], 1)\n",
    "y_val = np.array(y_val)\n",
    "y_val = y_val.reshape(y_val.shape[0], 1)"
   ]
  },
  {
   "cell_type": "code",
   "execution_count": 74,
   "metadata": {},
   "outputs": [],
   "source": [
    "def fit(X, y, W, b, learning_rate=0.1, num_iterations=1000, l2_lambda=0.01):\n",
    "    m = X.shape[0]\n",
    "\n",
    "    for i in range(num_iterations):\n",
    "        Z = np.dot(X, W) + b\n",
    "        diff = Z - y\n",
    "        dw = (1/m) * np.dot(X.T, diff) + (l2_lambda / m) * W  # L2 regularization\n",
    "        db = (1/m) * np.sum(diff)\n",
    "\n",
    "        W = W - learning_rate * dw\n",
    "        b = b - learning_rate * db\n",
    "        \n",
    "        if i % 100 == 0:\n",
    "            loss = (1/m) * np.sum(np.abs(diff))\n",
    "            # Add regularization term to loss\n",
    "            regularization_loss = (l2_lambda / (2 * m)) * np.sum(np.square(W))\n",
    "            total_loss = loss + regularization_loss\n",
    "            print(\"Loss after iteration %i: %f\" % (i, total_loss))\n",
    "        \n",
    "    return W, b"
   ]
  },
  {
   "cell_type": "code",
   "execution_count": 92,
   "metadata": {},
   "outputs": [],
   "source": [
    "def predict(X, W, b):\n",
    "    z = np.dot(X, W) + b\n",
    "    # For all negative values, replace them with 0\n",
    "    z[z < 0] = 0\n",
    "    return z"
   ]
  },
  {
   "cell_type": "code",
   "execution_count": 76,
   "metadata": {},
   "outputs": [
    {
     "name": "stdout",
     "output_type": "stream",
     "text": [
      "Loss after iteration 0: 1.913733\n",
      "Loss after iteration 100: 0.711913\n",
      "Loss after iteration 200: 0.715573\n",
      "Loss after iteration 300: 0.716325\n",
      "Loss after iteration 400: 0.716437\n",
      "Loss after iteration 500: 0.716453\n",
      "Loss after iteration 600: 0.716455\n",
      "Loss after iteration 700: 0.716456\n",
      "Loss after iteration 800: 0.716456\n",
      "Loss after iteration 900: 0.716456\n",
      "0.6822603615645657\n"
     ]
    }
   ],
   "source": [
    "# Tuning hyperparameters using validation set\n",
    "W, b = fit(X_train, y_train, W, b, 0.1, 1000)\n",
    "\n",
    "# Calculate the mean absolute error on validation data in Cr\n",
    "z = predict(X_train, W, b)\n",
    "mae = np.sum(np.abs(z - y_train)) / len(y_train)\n",
    "print(mae)\n",
    "\n",
    "# Reset parameters\n",
    "W = np.zeros((X_train.shape[1], 1))\n",
    "b = 0"
   ]
  },
  {
   "cell_type": "code",
   "execution_count": 77,
   "metadata": {},
   "outputs": [
    {
     "name": "stdout",
     "output_type": "stream",
     "text": [
      "Loss after iteration 0: 1.910651\n",
      "Loss after iteration 100: 0.703065\n",
      "Loss after iteration 200: 0.706368\n",
      "Loss after iteration 300: 0.707122\n",
      "Loss after iteration 400: 0.707236\n",
      "Loss after iteration 500: 0.707253\n",
      "Loss after iteration 600: 0.707256\n",
      "Loss after iteration 700: 0.707256\n",
      "Loss after iteration 800: 0.707256\n",
      "Loss after iteration 900: 0.707256\n"
     ]
    }
   ],
   "source": [
    "# Train on both training and validation data\n",
    "W, b = fit(np.concatenate((X_train, X_val)), np.concatenate((y_train, y_val)), W, b, 0.1, 1000)"
   ]
  },
  {
   "cell_type": "code",
   "execution_count": 78,
   "metadata": {},
   "outputs": [
    {
     "name": "stdout",
     "output_type": "stream",
     "text": [
      "0.6803586287923034\n"
     ]
    }
   ],
   "source": [
    "# Calculate the mean absolute error on test data in Cr\n",
    "z = predict(X_test, W, b)\n",
    "mae = np.sum(np.abs(z - y_test)) / len(y_test)\n",
    "print(mae)"
   ]
  },
  {
   "cell_type": "code",
   "execution_count": 79,
   "metadata": {},
   "outputs": [
    {
     "name": "stdout",
     "output_type": "stream",
     "text": [
      "[[ 0.09478   ]\n",
      " [ 0.00430646]\n",
      " [ 1.69715741]\n",
      " [ 0.16633868]\n",
      " [-0.05334328]\n",
      " [-0.17034898]\n",
      " [-0.64124027]]\n",
      "1.9132840473456896\n"
     ]
    }
   ],
   "source": [
    "print(W)\n",
    "print(b)"
   ]
  },
  {
   "cell_type": "code",
   "execution_count": 97,
   "metadata": {},
   "outputs": [
    {
     "name": "stdout",
     "output_type": "stream",
     "text": [
      "The price of house in Cr:  [0.68984355]\n"
     ]
    }
   ],
   "source": [
    "# Testing with our own data\n",
    "X_test.loc[0, \"bhk\"] = 2\n",
    "X_test.loc[0, \"type\"] = 0.2\n",
    "X_test.loc[0, \"area\"] = 594\n",
    "X_test.loc[0, \"age\"] = 1\n",
    "X_test.loc[0, \"status\"] = 0\n",
    "X_test.loc[0, \"latitude\"] = 19.432762\n",
    "X_test.loc[0, \"longitude\"] = 72.84564\n",
    "\n",
    "# Normalizing the sample\n",
    "X_test.loc[0] = (X_test.loc[0] - X_mean) / X_std\n",
    "\n",
    "z = predict(X_test.loc[0], W, b)\n",
    "print(\"The price of house in Cr: \", z)"
   ]
  }
 ],
 "metadata": {
  "kernelspec": {
   "display_name": "Python 3",
   "language": "python",
   "name": "python3"
  },
  "language_info": {
   "codemirror_mode": {
    "name": "ipython",
    "version": 3
   },
   "file_extension": ".py",
   "mimetype": "text/x-python",
   "name": "python",
   "nbconvert_exporter": "python",
   "pygments_lexer": "ipython3",
   "version": "3.11.0"
  }
 },
 "nbformat": 4,
 "nbformat_minor": 2
}
