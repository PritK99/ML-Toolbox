{
 "cells": [
  {
   "cell_type": "markdown",
   "metadata": {},
   "source": [
    "## Mumbai House Price Prediction using Linear Regression"
   ]
  },
  {
   "cell_type": "code",
   "execution_count": 32,
   "metadata": {},
   "outputs": [],
   "source": [
    "# import all the required libraries\n",
    "import numpy as np\n",
    "import pandas as pd\n",
    "import matplotlib.pyplot as plt\n",
    "from geopy.geocoders import Nominatim"
   ]
  },
  {
   "cell_type": "code",
   "execution_count": 33,
   "metadata": {},
   "outputs": [],
   "source": [
    "# obtain the raw csv \n",
    "data = \"../../assets/data/mumbai_house_prices.csv\"\n",
    "house_price = pd.read_csv(data)"
   ]
  },
  {
   "cell_type": "code",
   "execution_count": 34,
   "metadata": {},
   "outputs": [],
   "source": [
    "# We select only a few regions to keep the dataset small\n",
    "selected_regions = [\"Ghatkopar West\", \"Ghatkopar East\"]\n",
    "selected_regions_df = house_price[house_price[\"region\"].isin(selected_regions)].copy()\n",
    "selected_regions_df.reset_index(drop=True, inplace=True)"
   ]
  },
  {
   "cell_type": "code",
   "execution_count": 35,
   "metadata": {},
   "outputs": [
    {
     "name": "stdout",
     "output_type": "stream",
     "text": [
      "<class 'pandas.core.frame.DataFrame'>\n",
      "RangeIndex: 1087 entries, 0 to 1086\n",
      "Data columns (total 9 columns):\n",
      " #   Column      Non-Null Count  Dtype  \n",
      "---  ------      --------------  -----  \n",
      " 0   bhk         1087 non-null   int64  \n",
      " 1   type        1087 non-null   object \n",
      " 2   locality    1087 non-null   object \n",
      " 3   area        1087 non-null   int64  \n",
      " 4   price       1087 non-null   float64\n",
      " 5   price_unit  1087 non-null   object \n",
      " 6   region      1087 non-null   object \n",
      " 7   status      1087 non-null   object \n",
      " 8   age         1087 non-null   object \n",
      "dtypes: float64(1), int64(2), object(6)\n",
      "memory usage: 76.6+ KB\n",
      "None\n"
     ]
    }
   ],
   "source": [
    "# printing the info for dataset\n",
    "print(selected_regions_df.info())"
   ]
  },
  {
   "cell_type": "code",
   "execution_count": 36,
   "metadata": {},
   "outputs": [
    {
     "data": {
      "text/html": [
       "<div>\n",
       "<style scoped>\n",
       "    .dataframe tbody tr th:only-of-type {\n",
       "        vertical-align: middle;\n",
       "    }\n",
       "\n",
       "    .dataframe tbody tr th {\n",
       "        vertical-align: top;\n",
       "    }\n",
       "\n",
       "    .dataframe thead th {\n",
       "        text-align: right;\n",
       "    }\n",
       "</style>\n",
       "<table border=\"1\" class=\"dataframe\">\n",
       "  <thead>\n",
       "    <tr style=\"text-align: right;\">\n",
       "      <th></th>\n",
       "      <th>bhk</th>\n",
       "      <th>type</th>\n",
       "      <th>locality</th>\n",
       "      <th>area</th>\n",
       "      <th>price</th>\n",
       "      <th>price_unit</th>\n",
       "      <th>region</th>\n",
       "      <th>status</th>\n",
       "      <th>age</th>\n",
       "    </tr>\n",
       "  </thead>\n",
       "  <tbody>\n",
       "    <tr>\n",
       "      <th>0</th>\n",
       "      <td>1</td>\n",
       "      <td>Apartment</td>\n",
       "      <td>Rishabraj Vicinia</td>\n",
       "      <td>448</td>\n",
       "      <td>1.34</td>\n",
       "      <td>Cr</td>\n",
       "      <td>Ghatkopar East</td>\n",
       "      <td>Under Construction</td>\n",
       "      <td>New</td>\n",
       "    </tr>\n",
       "    <tr>\n",
       "      <th>1</th>\n",
       "      <td>2</td>\n",
       "      <td>Apartment</td>\n",
       "      <td>Rishabraj Vicinia</td>\n",
       "      <td>639</td>\n",
       "      <td>1.91</td>\n",
       "      <td>Cr</td>\n",
       "      <td>Ghatkopar East</td>\n",
       "      <td>Under Construction</td>\n",
       "      <td>New</td>\n",
       "    </tr>\n",
       "    <tr>\n",
       "      <th>2</th>\n",
       "      <td>2</td>\n",
       "      <td>Apartment</td>\n",
       "      <td>Alag Olive</td>\n",
       "      <td>581</td>\n",
       "      <td>1.25</td>\n",
       "      <td>Cr</td>\n",
       "      <td>Ghatkopar East</td>\n",
       "      <td>Under Construction</td>\n",
       "      <td>Resale</td>\n",
       "    </tr>\n",
       "    <tr>\n",
       "      <th>3</th>\n",
       "      <td>1</td>\n",
       "      <td>Apartment</td>\n",
       "      <td>Swagat Builders Damodar Park Apartment</td>\n",
       "      <td>580</td>\n",
       "      <td>80.00</td>\n",
       "      <td>L</td>\n",
       "      <td>Ghatkopar West</td>\n",
       "      <td>Ready to move</td>\n",
       "      <td>Resale</td>\n",
       "    </tr>\n",
       "    <tr>\n",
       "      <th>4</th>\n",
       "      <td>3</td>\n",
       "      <td>Apartment</td>\n",
       "      <td>Runwal The Orchard Residency</td>\n",
       "      <td>1360</td>\n",
       "      <td>2.70</td>\n",
       "      <td>Cr</td>\n",
       "      <td>Ghatkopar West</td>\n",
       "      <td>Ready to move</td>\n",
       "      <td>Resale</td>\n",
       "    </tr>\n",
       "  </tbody>\n",
       "</table>\n",
       "</div>"
      ],
      "text/plain": [
       "   bhk       type                                locality  area  price  \\\n",
       "0    1  Apartment                       Rishabraj Vicinia   448   1.34   \n",
       "1    2  Apartment                       Rishabraj Vicinia   639   1.91   \n",
       "2    2  Apartment                              Alag Olive   581   1.25   \n",
       "3    1  Apartment  Swagat Builders Damodar Park Apartment   580  80.00   \n",
       "4    3  Apartment            Runwal The Orchard Residency  1360   2.70   \n",
       "\n",
       "  price_unit          region              status     age  \n",
       "0         Cr  Ghatkopar East  Under Construction     New  \n",
       "1         Cr  Ghatkopar East  Under Construction     New  \n",
       "2         Cr  Ghatkopar East  Under Construction  Resale  \n",
       "3          L  Ghatkopar West       Ready to move  Resale  \n",
       "4         Cr  Ghatkopar West       Ready to move  Resale  "
      ]
     },
     "execution_count": 36,
     "metadata": {},
     "output_type": "execute_result"
    }
   ],
   "source": [
    "selected_regions_df.head()"
   ]
  },
  {
   "cell_type": "code",
   "execution_count": 37,
   "metadata": {},
   "outputs": [
    {
     "name": "stdout",
     "output_type": "stream",
     "text": [
      "Total number of unique values:  2\n",
      "Geopy could not find the following regions:  [] 0\n"
     ]
    }
   ],
   "source": [
    "# create a dictionary to map region to their latitude and longitude\n",
    "geo = Nominatim(user_agent=\"Geopy Library\", timeout=10)  # Adjust timeout value if error is raised\n",
    "unique_regions = selected_regions_df[\"region\"].unique()\n",
    "print(\"Total number of unique values: \", len(unique_regions))\n",
    "lat_long_dict = {}\n",
    "unknown_regions = []\n",
    "\n",
    "for r in unique_regions:\n",
    "    loc = geo.geocode(r + \", Mumbai\")\n",
    "    if (loc == None):\n",
    "        unknown_regions.append(r)\n",
    "        continue\n",
    "    else:\n",
    "        latitude = loc.latitude\n",
    "        longitude = loc.longitude\n",
    "        lat_long_dict[r] = [latitude, longitude]\n",
    "\n",
    "print(\"Geopy could not find the following regions: \", unknown_regions, len(unknown_regions))"
   ]
  },
  {
   "cell_type": "code",
   "execution_count": 38,
   "metadata": {},
   "outputs": [],
   "source": [
    "# we remove all rows which contain unidentified regions and for all rows with identified regions, we add their latitiude and longitude to the data set.\n",
    "del_idx = []\n",
    "for i in range(len(selected_regions_df)):\n",
    "    region = selected_regions_df.loc[i, \"region\"]\n",
    "    if region in unknown_regions:\n",
    "        del_idx.append(i)\n",
    "    else:\n",
    "        lat_long = lat_long_dict[region]\n",
    "        selected_regions_df.loc[i, \"latitude\"] = lat_long[0] \n",
    "        selected_regions_df.loc[i, \"longitude\"] = lat_long[1]\n"
   ]
  },
  {
   "cell_type": "code",
   "execution_count": 39,
   "metadata": {},
   "outputs": [],
   "source": [
    "selected_regions_df.drop(del_idx, inplace=True)\n",
    "selected_regions_df = selected_regions_df.reset_index(drop=True)"
   ]
  },
  {
   "cell_type": "code",
   "execution_count": 40,
   "metadata": {},
   "outputs": [
    {
     "data": {
      "text/html": [
       "<div>\n",
       "<style scoped>\n",
       "    .dataframe tbody tr th:only-of-type {\n",
       "        vertical-align: middle;\n",
       "    }\n",
       "\n",
       "    .dataframe tbody tr th {\n",
       "        vertical-align: top;\n",
       "    }\n",
       "\n",
       "    .dataframe thead th {\n",
       "        text-align: right;\n",
       "    }\n",
       "</style>\n",
       "<table border=\"1\" class=\"dataframe\">\n",
       "  <thead>\n",
       "    <tr style=\"text-align: right;\">\n",
       "      <th></th>\n",
       "      <th>bhk</th>\n",
       "      <th>type</th>\n",
       "      <th>locality</th>\n",
       "      <th>area</th>\n",
       "      <th>price</th>\n",
       "      <th>price_unit</th>\n",
       "      <th>region</th>\n",
       "      <th>status</th>\n",
       "      <th>age</th>\n",
       "      <th>latitude</th>\n",
       "      <th>longitude</th>\n",
       "    </tr>\n",
       "  </thead>\n",
       "  <tbody>\n",
       "    <tr>\n",
       "      <th>0</th>\n",
       "      <td>1</td>\n",
       "      <td>Apartment</td>\n",
       "      <td>Rishabraj Vicinia</td>\n",
       "      <td>448</td>\n",
       "      <td>1.34</td>\n",
       "      <td>Cr</td>\n",
       "      <td>Ghatkopar East</td>\n",
       "      <td>Under Construction</td>\n",
       "      <td>New</td>\n",
       "      <td>19.083490</td>\n",
       "      <td>72.912025</td>\n",
       "    </tr>\n",
       "    <tr>\n",
       "      <th>1</th>\n",
       "      <td>2</td>\n",
       "      <td>Apartment</td>\n",
       "      <td>Rishabraj Vicinia</td>\n",
       "      <td>639</td>\n",
       "      <td>1.91</td>\n",
       "      <td>Cr</td>\n",
       "      <td>Ghatkopar East</td>\n",
       "      <td>Under Construction</td>\n",
       "      <td>New</td>\n",
       "      <td>19.083490</td>\n",
       "      <td>72.912025</td>\n",
       "    </tr>\n",
       "    <tr>\n",
       "      <th>2</th>\n",
       "      <td>2</td>\n",
       "      <td>Apartment</td>\n",
       "      <td>Alag Olive</td>\n",
       "      <td>581</td>\n",
       "      <td>1.25</td>\n",
       "      <td>Cr</td>\n",
       "      <td>Ghatkopar East</td>\n",
       "      <td>Under Construction</td>\n",
       "      <td>Resale</td>\n",
       "      <td>19.083490</td>\n",
       "      <td>72.912025</td>\n",
       "    </tr>\n",
       "    <tr>\n",
       "      <th>3</th>\n",
       "      <td>1</td>\n",
       "      <td>Apartment</td>\n",
       "      <td>Swagat Builders Damodar Park Apartment</td>\n",
       "      <td>580</td>\n",
       "      <td>80.00</td>\n",
       "      <td>L</td>\n",
       "      <td>Ghatkopar West</td>\n",
       "      <td>Ready to move</td>\n",
       "      <td>Resale</td>\n",
       "      <td>19.089719</td>\n",
       "      <td>72.904597</td>\n",
       "    </tr>\n",
       "    <tr>\n",
       "      <th>4</th>\n",
       "      <td>3</td>\n",
       "      <td>Apartment</td>\n",
       "      <td>Runwal The Orchard Residency</td>\n",
       "      <td>1360</td>\n",
       "      <td>2.70</td>\n",
       "      <td>Cr</td>\n",
       "      <td>Ghatkopar West</td>\n",
       "      <td>Ready to move</td>\n",
       "      <td>Resale</td>\n",
       "      <td>19.089719</td>\n",
       "      <td>72.904597</td>\n",
       "    </tr>\n",
       "  </tbody>\n",
       "</table>\n",
       "</div>"
      ],
      "text/plain": [
       "   bhk       type                                locality  area  price  \\\n",
       "0    1  Apartment                       Rishabraj Vicinia   448   1.34   \n",
       "1    2  Apartment                       Rishabraj Vicinia   639   1.91   \n",
       "2    2  Apartment                              Alag Olive   581   1.25   \n",
       "3    1  Apartment  Swagat Builders Damodar Park Apartment   580  80.00   \n",
       "4    3  Apartment            Runwal The Orchard Residency  1360   2.70   \n",
       "\n",
       "  price_unit          region              status     age   latitude  longitude  \n",
       "0         Cr  Ghatkopar East  Under Construction     New  19.083490  72.912025  \n",
       "1         Cr  Ghatkopar East  Under Construction     New  19.083490  72.912025  \n",
       "2         Cr  Ghatkopar East  Under Construction  Resale  19.083490  72.912025  \n",
       "3          L  Ghatkopar West       Ready to move  Resale  19.089719  72.904597  \n",
       "4         Cr  Ghatkopar West       Ready to move  Resale  19.089719  72.904597  "
      ]
     },
     "execution_count": 40,
     "metadata": {},
     "output_type": "execute_result"
    }
   ],
   "source": [
    "selected_regions_df.head()"
   ]
  },
  {
   "cell_type": "code",
   "execution_count": 41,
   "metadata": {},
   "outputs": [
    {
     "data": {
      "text/plain": [
       "(1087, 11)"
      ]
     },
     "execution_count": 41,
     "metadata": {},
     "output_type": "execute_result"
    }
   ],
   "source": [
    "selected_regions_df.shape"
   ]
  },
  {
   "cell_type": "code",
   "execution_count": 42,
   "metadata": {},
   "outputs": [],
   "source": [
    "# remove columns locality and region since they do not hold with the idea of linear regression\n",
    "selected_regions_df.drop(['locality', 'region'], axis=1, inplace=True)"
   ]
  },
  {
   "cell_type": "code",
   "execution_count": 43,
   "metadata": {},
   "outputs": [
    {
     "name": "stdout",
     "output_type": "stream",
     "text": [
      "['Apartment' 'Studio Apartment']\n",
      "['New' 'Resale' 'Unknown']\n",
      "['Under Construction' 'Ready to move']\n"
     ]
    }
   ],
   "source": [
    "# print all unique values of categorical columns\n",
    "print(selected_regions_df.type.unique())\n",
    "print(selected_regions_df.age.unique())\n",
    "print(selected_regions_df.status.unique())"
   ]
  },
  {
   "cell_type": "code",
   "execution_count": 44,
   "metadata": {},
   "outputs": [],
   "source": [
    "# dealing with categorical data\n",
    "selected_regions_df[\"type\"].replace({\"Studio Apartment\":0, \"Apartment\":1}, inplace=True)\n",
    "selected_regions_df[\"age\"].replace({\"New\":0, \"Resale\":1, \"Unknown\": 0.5}, inplace=True)\n",
    "selected_regions_df[\"status\"].replace({\"Ready to move\":0, \"Under Construction\":1}, inplace=True)"
   ]
  },
  {
   "cell_type": "code",
   "execution_count": 45,
   "metadata": {},
   "outputs": [],
   "source": [
    "# calculating price in Crores for each using price and price_unit\n",
    "for i in range(len(selected_regions_df)):  \n",
    "    price_unit = selected_regions_df.loc[i, \"price_unit\"]\n",
    "\n",
    "    if price_unit == \"L\":\n",
    "        selected_regions_df.at[i, \"price\"] = (selected_regions_df.at[i, \"price\"] / 100)\n",
    "  \n",
    "selected_regions_df.drop([\"price_unit\"], axis=1, inplace=True)"
   ]
  },
  {
   "cell_type": "code",
   "execution_count": 46,
   "metadata": {},
   "outputs": [
    {
     "data": {
      "text/html": [
       "<div>\n",
       "<style scoped>\n",
       "    .dataframe tbody tr th:only-of-type {\n",
       "        vertical-align: middle;\n",
       "    }\n",
       "\n",
       "    .dataframe tbody tr th {\n",
       "        vertical-align: top;\n",
       "    }\n",
       "\n",
       "    .dataframe thead th {\n",
       "        text-align: right;\n",
       "    }\n",
       "</style>\n",
       "<table border=\"1\" class=\"dataframe\">\n",
       "  <thead>\n",
       "    <tr style=\"text-align: right;\">\n",
       "      <th></th>\n",
       "      <th>bhk</th>\n",
       "      <th>type</th>\n",
       "      <th>area</th>\n",
       "      <th>price</th>\n",
       "      <th>status</th>\n",
       "      <th>age</th>\n",
       "      <th>latitude</th>\n",
       "      <th>longitude</th>\n",
       "    </tr>\n",
       "  </thead>\n",
       "  <tbody>\n",
       "    <tr>\n",
       "      <th>0</th>\n",
       "      <td>1</td>\n",
       "      <td>1</td>\n",
       "      <td>448</td>\n",
       "      <td>1.34</td>\n",
       "      <td>1</td>\n",
       "      <td>0.0</td>\n",
       "      <td>19.083490</td>\n",
       "      <td>72.912025</td>\n",
       "    </tr>\n",
       "    <tr>\n",
       "      <th>1</th>\n",
       "      <td>2</td>\n",
       "      <td>1</td>\n",
       "      <td>639</td>\n",
       "      <td>1.91</td>\n",
       "      <td>1</td>\n",
       "      <td>0.0</td>\n",
       "      <td>19.083490</td>\n",
       "      <td>72.912025</td>\n",
       "    </tr>\n",
       "    <tr>\n",
       "      <th>2</th>\n",
       "      <td>2</td>\n",
       "      <td>1</td>\n",
       "      <td>581</td>\n",
       "      <td>1.25</td>\n",
       "      <td>1</td>\n",
       "      <td>1.0</td>\n",
       "      <td>19.083490</td>\n",
       "      <td>72.912025</td>\n",
       "    </tr>\n",
       "    <tr>\n",
       "      <th>3</th>\n",
       "      <td>1</td>\n",
       "      <td>1</td>\n",
       "      <td>580</td>\n",
       "      <td>0.80</td>\n",
       "      <td>0</td>\n",
       "      <td>1.0</td>\n",
       "      <td>19.089719</td>\n",
       "      <td>72.904597</td>\n",
       "    </tr>\n",
       "    <tr>\n",
       "      <th>4</th>\n",
       "      <td>3</td>\n",
       "      <td>1</td>\n",
       "      <td>1360</td>\n",
       "      <td>2.70</td>\n",
       "      <td>0</td>\n",
       "      <td>1.0</td>\n",
       "      <td>19.089719</td>\n",
       "      <td>72.904597</td>\n",
       "    </tr>\n",
       "  </tbody>\n",
       "</table>\n",
       "</div>"
      ],
      "text/plain": [
       "   bhk  type  area  price  status  age   latitude  longitude\n",
       "0    1     1   448   1.34       1  0.0  19.083490  72.912025\n",
       "1    2     1   639   1.91       1  0.0  19.083490  72.912025\n",
       "2    2     1   581   1.25       1  1.0  19.083490  72.912025\n",
       "3    1     1   580   0.80       0  1.0  19.089719  72.904597\n",
       "4    3     1  1360   2.70       0  1.0  19.089719  72.904597"
      ]
     },
     "execution_count": 46,
     "metadata": {},
     "output_type": "execute_result"
    }
   ],
   "source": [
    "selected_regions_df.head()"
   ]
  },
  {
   "cell_type": "code",
   "execution_count": 47,
   "metadata": {},
   "outputs": [
    {
     "name": "stdout",
     "output_type": "stream",
     "text": [
      "The size of X_train is:  (871, 7)\n",
      "The size of X_val is:  (108, 7)\n",
      "The size of X_test is:  (108, 7)\n",
      "The size of y_train is:  871\n",
      "The size of y_val is:  108\n",
      "The size of y_test is:  108\n"
     ]
    }
   ],
   "source": [
    "# Define the ratios for train, test, and validation sets\n",
    "test_ratio = 0.1\n",
    "val_ratio = 0.1\n",
    "\n",
    "indices = list(selected_regions_df.index)\n",
    "\n",
    "# Calculate the number of samples for the testing and validation sets\n",
    "test_size = int(test_ratio * len(selected_regions_df))\n",
    "val_size = int(val_ratio * len(selected_regions_df))\n",
    "\n",
    "# Split the indices into training, testing, and validation sets\n",
    "test_indices = indices[:test_size]\n",
    "val_indices = indices[test_size:test_size+val_size]\n",
    "train_indices = indices[test_size+val_size:]\n",
    "\n",
    "# Create training, validation, and testing sets\n",
    "X_train = selected_regions_df.loc[train_indices]\n",
    "X_val = selected_regions_df.loc[val_indices]\n",
    "X_test = selected_regions_df.loc[test_indices]\n",
    "\n",
    "# Reset indices of each DataFrame\n",
    "X_train.reset_index(drop=True, inplace=True)\n",
    "X_val.reset_index(drop=True, inplace=True)\n",
    "X_test.reset_index(drop=True, inplace=True)\n",
    "\n",
    "# Extract target variable\n",
    "y_train = X_train.pop(\"price\").tolist()\n",
    "y_val = X_val.pop(\"price\").tolist()\n",
    "y_test = X_test.pop(\"price\").tolist()\n",
    "\n",
    "print(\"The size of X_train is: \", X_train.shape)\n",
    "print(\"The size of X_val is: \", X_val.shape)\n",
    "print(\"The size of X_test is: \", X_test.shape)\n",
    "print(\"The size of y_train is: \", len(y_train))\n",
    "print(\"The size of y_val is: \", len(y_val))\n",
    "print(\"The size of y_test is: \", len(y_test))"
   ]
  },
  {
   "cell_type": "code",
   "execution_count": 48,
   "metadata": {},
   "outputs": [
    {
     "name": "stdout",
     "output_type": "stream",
     "text": [
      "        bhk      type      area    status       age  latitude  longitude\n",
      "0  0.140216  0.096281  0.250361  0.620272 -0.662982 -0.382168   0.382168\n",
      "1 -1.172991  0.096281 -0.715977  0.620272 -0.662982 -0.382168   0.382168\n",
      "2  0.140216  0.096281  0.079328  0.620272 -0.662982 -0.382168   0.382168\n",
      "3  0.140216  0.096281 -0.108809  0.620272 -0.662982 -0.382168   0.382168\n",
      "4  1.453423  0.096281  2.251452  0.620272 -0.662982  2.616648  -2.616648\n"
     ]
    }
   ],
   "source": [
    "X_mean = np.mean(X_train, axis=0)\n",
    "X_std = np.std(X_train, axis=0)\n",
    "\n",
    "# Normalizing the data\n",
    "X_train = (X_train - X_mean)/X_std\n",
    "X_val = (X_val - X_mean)/X_std\n",
    "X_test = (X_test - X_mean)/X_std\n",
    "\n",
    "print(X_train.head())"
   ]
  },
  {
   "cell_type": "code",
   "execution_count": 49,
   "metadata": {},
   "outputs": [],
   "source": [
    "y_train = np.array(y_train)\n",
    "y_train = y_train.reshape(y_train.shape[0], 1)\n",
    "y_test = np.array(y_test)\n",
    "y_test = y_test.reshape(y_test.shape[0], 1)\n",
    "y_val = np.array(y_val)\n",
    "y_val = y_val.reshape(y_val.shape[0], 1)"
   ]
  },
  {
   "cell_type": "code",
   "execution_count": 50,
   "metadata": {},
   "outputs": [],
   "source": [
    "# Defining linear kernel function\n",
    "def linear_kernel(x1, x2):\n",
    "    return np.dot(x1, x2)"
   ]
  },
  {
   "cell_type": "code",
   "execution_count": 51,
   "metadata": {},
   "outputs": [],
   "source": [
    "# Defining polynomial kernel function\n",
    "def polynomial_kernel(x, y, p=3):\n",
    "    return (1 + np.dot(x, y)) ** p"
   ]
  },
  {
   "cell_type": "code",
   "execution_count": 52,
   "metadata": {},
   "outputs": [],
   "source": [
    "# Defining radial basis function kernel function\n",
    "def rbf_kernel(x, y, sigma=1.0):\n",
    "    return np.exp(-(np.linalg.norm(x-y)**2) / (2 * (sigma**2)))"
   ]
  },
  {
   "cell_type": "code",
   "execution_count": 53,
   "metadata": {},
   "outputs": [],
   "source": [
    "# Defining the kernel matrix\n",
    "num_samples = len(X_train)\n",
    "K = np.zeros((num_samples,num_samples))\n",
    "\n",
    "for i in range(num_samples):\n",
    "    for j in range(num_samples):\n",
    "        # Ensure the same kernel in get_accuracy and predict\n",
    "        K[i][j] = linear_kernel(X_train.loc[i], X_train.loc[j])"
   ]
  },
  {
   "cell_type": "code",
   "execution_count": 129,
   "metadata": {},
   "outputs": [],
   "source": [
    "alpha = np.zeros((X_train.shape[0], 1))"
   ]
  },
  {
   "cell_type": "code",
   "execution_count": 130,
   "metadata": {},
   "outputs": [],
   "source": [
    "def fit(X, y, alpha, K, learning_rate=0.1, num_iterations=2, l2_lambda=0.01):\n",
    "    m = X.shape[0]\n",
    "    total_losses = []\n",
    "    print(X.shape)\n",
    "    print(y.shape)\n",
    "    print(K.shape)\n",
    "    print(alpha.shape)\n",
    "\n",
    "    for i in range (num_iterations):\n",
    "\n",
    "        Z = np.dot(K, alpha)\n",
    "        diff = Z - y\n",
    "\n",
    "        d_alpha = diff\n",
    "        alpha = alpha - learning_rate*diff\n",
    "        \n",
    "        loss = (1/m) * np.sum(np.square(diff))\n",
    "\n",
    "        total_losses.append(loss)\n",
    "\n",
    "        if i % 1 == 0:\n",
    "            print(\"Loss after iteration %i: %f\" % (i, loss))\n",
    "        \n",
    "    return alpha, total_losses\n"
   ]
  },
  {
   "cell_type": "code",
   "execution_count": 131,
   "metadata": {},
   "outputs": [
    {
     "name": "stdout",
     "output_type": "stream",
     "text": [
      "(871, 7)\n",
      "(871, 1)\n",
      "(871, 871)\n",
      "(871, 1)\n",
      "Loss after iteration 0: 3.809238\n",
      "Loss after iteration 1: 17016.267322\n",
      "Loss after iteration 2: 589294811.246095\n",
      "Loss after iteration 3: 23505854779872.707031\n",
      "Loss after iteration 4: 1022838127202212480.000000\n",
      "Loss after iteration 5: 46668491760142817165312.000000\n",
      "Loss after iteration 6: 2180524219267648880419799040.000000\n",
      "Loss after iteration 7: 103048257665704334862564781457408.000000\n",
      "Loss after iteration 8: 4895916341064724031823404161191378944.000000\n",
      "Loss after iteration 9: 233183897275576477694613239550576512991232.000000\n"
     ]
    }
   ],
   "source": [
    "alpha, total_losses = fit(X_train, y_train, alpha, K, learning_rate=0.1, num_iterations=10)"
   ]
  },
  {
   "cell_type": "code",
   "execution_count": null,
   "metadata": {},
   "outputs": [],
   "source": []
  },
  {
   "cell_type": "code",
   "execution_count": null,
   "metadata": {},
   "outputs": [],
   "source": []
  },
  {
   "cell_type": "code",
   "execution_count": 24,
   "metadata": {},
   "outputs": [],
   "source": [
    "def fittos(X, y, alpha, learning_rate=0.1, num_iterations=10):\n",
    "    m = X.shape[0]\n",
    "    total_losses = []\n",
    "\n",
    "    for i in range(num_iterations):\n",
    "        loss = 0\n",
    "\n",
    "        for j in range(m):\n",
    "            Z = 0\n",
    "            ksum = 0\n",
    "            for k in range(m):\n",
    "                Z += alpha[k]*K[j][k]\n",
    "            \n",
    "            for k in range(m):\n",
    "                ksum += K[j][k]\n",
    "        \n",
    "            diff = Z - y[j]\n",
    "            gradient = 2*diff*ksum\n",
    "            alpha[j] = alpha[j] - learning_rate*gradient\n",
    "\n",
    "            loss += diff ** 2\n",
    "\n",
    "        loss /= m\n",
    "        total_losses.append(loss)\n",
    "        \n",
    "        if i % 1 == 0:\n",
    "            print(\"Loss after iteration %i: %f\" % (i, loss))\n",
    "        \n",
    "    return alpha, total_losses"
   ]
  },
  {
   "cell_type": "code",
   "execution_count": 25,
   "metadata": {},
   "outputs": [],
   "source": [
    "def predict(X, X_train, alpha):\n",
    "    m = X.shape[0]\n",
    "    z = 0\n",
    "\n",
    "    for i in range(m):\n",
    "        z += alpha[i]*linear_kernel(X, X_train[i])\n",
    "\n",
    "    # For all negative values, replace them with 0\n",
    "    z[z < 0] = 0\n",
    "    return z"
   ]
  },
  {
   "cell_type": "code",
   "execution_count": 26,
   "metadata": {},
   "outputs": [
    {
     "name": "stdout",
     "output_type": "stream",
     "text": [
      "Loss after iteration 0: 3.809237\n",
      "Loss after iteration 1: 3.809235\n",
      "Loss after iteration 2: 3.809234\n",
      "Loss after iteration 3: 3.809232\n",
      "Loss after iteration 4: 3.809231\n",
      "Loss after iteration 5: 3.809229\n",
      "Loss after iteration 6: 3.809228\n",
      "Loss after iteration 7: 3.809226\n",
      "Loss after iteration 8: 3.809225\n",
      "Loss after iteration 9: 3.809224\n"
     ]
    }
   ],
   "source": [
    "alpha, total_losses = fit(X_train, y_train, alpha, learning_rate=0.1, num_iterations=10)\n"
   ]
  },
  {
   "cell_type": "code",
   "execution_count": null,
   "metadata": {},
   "outputs": [],
   "source": []
  }
 ],
 "metadata": {
  "kernelspec": {
   "display_name": "Python 3",
   "language": "python",
   "name": "python3"
  },
  "language_info": {
   "codemirror_mode": {
    "name": "ipython",
    "version": 3
   },
   "file_extension": ".py",
   "mimetype": "text/x-python",
   "name": "python",
   "nbconvert_exporter": "python",
   "pygments_lexer": "ipython3",
   "version": "3.11.0"
  }
 },
 "nbformat": 4,
 "nbformat_minor": 2
}
