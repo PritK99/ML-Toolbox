{
 "cells": [
  {
   "cell_type": "markdown",
   "metadata": {},
   "source": [
    "## Mumbai House Price Prediction using Linear Regression"
   ]
  },
  {
   "cell_type": "code",
   "execution_count": 53,
   "metadata": {},
   "outputs": [],
   "source": [
    "# Import all the required libraries\n",
    "import numpy as np\n",
    "import pandas as pd\n",
    "import matplotlib.pyplot as plt"
   ]
  },
  {
   "cell_type": "code",
   "execution_count": 54,
   "metadata": {},
   "outputs": [],
   "source": [
    "# Obtain the modified csv \n",
    "data = \"../assets/data/modified_mumbai_house_prices.csv\"\n",
    "house_price = pd.read_csv(data)\n",
    "\n",
    "# Refer assets/scripts/house-price-dataset.py for preprocessing steps"
   ]
  },
  {
   "cell_type": "code",
   "execution_count": 55,
   "metadata": {},
   "outputs": [
    {
     "name": "stdout",
     "output_type": "stream",
     "text": [
      "<class 'pandas.core.frame.DataFrame'>\n",
      "RangeIndex: 75960 entries, 0 to 75959\n",
      "Data columns (total 8 columns):\n",
      " #   Column     Non-Null Count  Dtype  \n",
      "---  ------     --------------  -----  \n",
      " 0   bhk        75960 non-null  int64  \n",
      " 1   type       75960 non-null  float64\n",
      " 2   area       75960 non-null  int64  \n",
      " 3   price      75960 non-null  float64\n",
      " 4   status     75960 non-null  int64  \n",
      " 5   age        75960 non-null  float64\n",
      " 6   latitude   75960 non-null  float64\n",
      " 7   longitude  75960 non-null  float64\n",
      "dtypes: float64(5), int64(3)\n",
      "memory usage: 4.6 MB\n",
      "None\n"
     ]
    }
   ],
   "source": [
    "# printing the info for dataset\n",
    "print(house_price.info())"
   ]
  },
  {
   "cell_type": "code",
   "execution_count": 56,
   "metadata": {},
   "outputs": [
    {
     "data": {
      "text/html": [
       "<div>\n",
       "<style scoped>\n",
       "    .dataframe tbody tr th:only-of-type {\n",
       "        vertical-align: middle;\n",
       "    }\n",
       "\n",
       "    .dataframe tbody tr th {\n",
       "        vertical-align: top;\n",
       "    }\n",
       "\n",
       "    .dataframe thead th {\n",
       "        text-align: right;\n",
       "    }\n",
       "</style>\n",
       "<table border=\"1\" class=\"dataframe\">\n",
       "  <thead>\n",
       "    <tr style=\"text-align: right;\">\n",
       "      <th></th>\n",
       "      <th>bhk</th>\n",
       "      <th>type</th>\n",
       "      <th>area</th>\n",
       "      <th>price</th>\n",
       "      <th>status</th>\n",
       "      <th>age</th>\n",
       "      <th>latitude</th>\n",
       "      <th>longitude</th>\n",
       "    </tr>\n",
       "  </thead>\n",
       "  <tbody>\n",
       "    <tr>\n",
       "      <th>0</th>\n",
       "      <td>3</td>\n",
       "      <td>0.2</td>\n",
       "      <td>685</td>\n",
       "      <td>2.5000</td>\n",
       "      <td>1</td>\n",
       "      <td>1.0</td>\n",
       "      <td>19.111152</td>\n",
       "      <td>72.842896</td>\n",
       "    </tr>\n",
       "    <tr>\n",
       "      <th>1</th>\n",
       "      <td>2</td>\n",
       "      <td>0.2</td>\n",
       "      <td>640</td>\n",
       "      <td>0.5251</td>\n",
       "      <td>0</td>\n",
       "      <td>1.0</td>\n",
       "      <td>19.018051</td>\n",
       "      <td>72.845021</td>\n",
       "    </tr>\n",
       "    <tr>\n",
       "      <th>2</th>\n",
       "      <td>2</td>\n",
       "      <td>0.2</td>\n",
       "      <td>610</td>\n",
       "      <td>1.7300</td>\n",
       "      <td>0</td>\n",
       "      <td>1.0</td>\n",
       "      <td>19.155594</td>\n",
       "      <td>72.855254</td>\n",
       "    </tr>\n",
       "    <tr>\n",
       "      <th>3</th>\n",
       "      <td>2</td>\n",
       "      <td>0.2</td>\n",
       "      <td>876</td>\n",
       "      <td>0.5998</td>\n",
       "      <td>0</td>\n",
       "      <td>1.0</td>\n",
       "      <td>18.969048</td>\n",
       "      <td>72.821182</td>\n",
       "    </tr>\n",
       "    <tr>\n",
       "      <th>4</th>\n",
       "      <td>2</td>\n",
       "      <td>0.2</td>\n",
       "      <td>659</td>\n",
       "      <td>0.9411</td>\n",
       "      <td>0</td>\n",
       "      <td>1.0</td>\n",
       "      <td>19.283337</td>\n",
       "      <td>72.884026</td>\n",
       "    </tr>\n",
       "  </tbody>\n",
       "</table>\n",
       "</div>"
      ],
      "text/plain": [
       "   bhk  type  area   price  status  age   latitude  longitude\n",
       "0    3   0.2   685  2.5000       1  1.0  19.111152  72.842896\n",
       "1    2   0.2   640  0.5251       0  1.0  19.018051  72.845021\n",
       "2    2   0.2   610  1.7300       0  1.0  19.155594  72.855254\n",
       "3    2   0.2   876  0.5998       0  1.0  18.969048  72.821182\n",
       "4    2   0.2   659  0.9411       0  1.0  19.283337  72.884026"
      ]
     },
     "execution_count": 56,
     "metadata": {},
     "output_type": "execute_result"
    }
   ],
   "source": [
    "house_price.head()"
   ]
  },
  {
   "cell_type": "code",
   "execution_count": 57,
   "metadata": {},
   "outputs": [
    {
     "data": {
      "text/plain": [
       "(75960, 8)"
      ]
     },
     "execution_count": 57,
     "metadata": {},
     "output_type": "execute_result"
    }
   ],
   "source": [
    "house_price.shape"
   ]
  },
  {
   "cell_type": "code",
   "execution_count": 58,
   "metadata": {},
   "outputs": [
    {
     "name": "stdout",
     "output_type": "stream",
     "text": [
      "The size of X_train is:  (53172, 7)\n",
      "The size of X_val is:  (7596, 7)\n",
      "The size of X_test is:  (15192, 7)\n",
      "The size of y_train is:  53172\n",
      "The size of y_val is:  7596\n",
      "The size of y_test is:  15192\n"
     ]
    }
   ],
   "source": [
    "# Define the ratios for train, test, and validation sets\n",
    "test_ratio = 0.2\n",
    "val_ratio = 0.1\n",
    "\n",
    "indices = list(house_price.index)\n",
    "\n",
    "# Calculate the number of samples for the testing and validation sets\n",
    "test_size = int(test_ratio * len(house_price))\n",
    "val_size = int(val_ratio * len(house_price))\n",
    "\n",
    "# Split the indices into training, testing, and validation sets\n",
    "test_indices = indices[:test_size]\n",
    "val_indices = indices[test_size:test_size+val_size]\n",
    "train_indices = indices[test_size+val_size:]\n",
    "\n",
    "# Create training, validation, and testing sets\n",
    "X_train = house_price.loc[train_indices]\n",
    "X_val = house_price.loc[val_indices]\n",
    "X_test = house_price.loc[test_indices]\n",
    "\n",
    "# Extract target variable\n",
    "y_train = X_train.pop(\"price\").tolist()\n",
    "y_val = X_val.pop(\"price\").tolist()\n",
    "y_test = X_test.pop(\"price\").tolist()\n",
    "\n",
    "print(\"The size of X_train is: \", X_train.shape)\n",
    "print(\"The size of X_val is: \", X_val.shape)\n",
    "print(\"The size of X_test is: \", X_test.shape)\n",
    "print(\"The size of y_train is: \", len(y_train))\n",
    "print(\"The size of y_val is: \", len(y_val))\n",
    "print(\"The size of y_test is: \", len(y_test))"
   ]
  },
  {
   "cell_type": "code",
   "execution_count": 59,
   "metadata": {},
   "outputs": [
    {
     "name": "stdout",
     "output_type": "stream",
     "text": [
      "            bhk      type      area    status       age  latitude  longitude\n",
      "22788 -0.082017  0.022039  0.035487  0.873397  0.947936 -0.152895   0.075962\n",
      "22789 -0.082017  0.022039  0.098245  0.873397  0.947936 -0.152895   0.075962\n",
      "22790 -1.130840  0.022039 -0.494469  0.873397  0.947936 -0.152895   0.075962\n",
      "22791 -0.082017  0.022039  0.035487  0.873397  0.947936 -0.224314   0.015678\n",
      "22792 -1.130840  0.022039 -0.543281  0.873397  0.947936 -0.135678   0.068346\n"
     ]
    }
   ],
   "source": [
    "X_mean = np.mean(X_train, axis=0)\n",
    "X_std = np.std(X_train, axis=0)\n",
    "\n",
    "# Normalizing the data\n",
    "X_train = (X_train - X_mean)/X_std\n",
    "X_val = (X_val - X_mean)/X_std\n",
    "X_test = (X_test - X_mean)/X_std\n",
    "\n",
    "print(X_train.head())"
   ]
  },
  {
   "cell_type": "code",
   "execution_count": 60,
   "metadata": {},
   "outputs": [],
   "source": [
    "W = np.zeros((X_train.shape[1], 1))\n",
    "b = 0\n",
    "y_train = np.array(y_train)\n",
    "y_train = y_train.reshape(y_train.shape[0], 1)\n",
    "y_test = np.array(y_test)\n",
    "y_test = y_test.reshape(y_test.shape[0], 1)\n",
    "y_val = np.array(y_val)\n",
    "y_val = y_val.reshape(y_val.shape[0], 1)"
   ]
  },
  {
   "cell_type": "code",
   "execution_count": 61,
   "metadata": {},
   "outputs": [],
   "source": [
    "def fit(X, y, W, b, learning_rate=0.01, num_iterations=1000, l2_lambda=0.01):\n",
    "    m = X.shape[0]\n",
    "    total_losses = []\n",
    "\n",
    "    for i in range(num_iterations):\n",
    "        Z = np.dot(X, W) + b\n",
    "        diff = Z - y\n",
    "        dw = (1/m) * np.dot(X.T, diff) + (l2_lambda / m) * W  # L2 regularization\n",
    "        db = (1/m) * np.sum(diff)\n",
    "\n",
    "        W = W - learning_rate * dw\n",
    "        b = b - learning_rate * db\n",
    "\n",
    "        loss = (1/m) * np.sum(np.abs(diff))\n",
    "        regularization_loss = (l2_lambda / (2 * m)) * np.sum(np.square(W))\n",
    "        total_loss = loss + regularization_loss\n",
    "\n",
    "        total_losses.append(total_loss)\n",
    "        \n",
    "        if i % 100 == 0:\n",
    "            print(\"Loss after iteration %i: %f\" % (i, total_loss))\n",
    "        \n",
    "    return W, b, total_losses"
   ]
  },
  {
   "cell_type": "code",
   "execution_count": 62,
   "metadata": {},
   "outputs": [],
   "source": [
    "def predict(X, W, b):\n",
    "    z = np.dot(X, W) + b\n",
    "    # For all negative values, replace them with 0\n",
    "    z[z < 0] = 0\n",
    "    return z"
   ]
  },
  {
   "cell_type": "code",
   "execution_count": 63,
   "metadata": {},
   "outputs": [
    {
     "name": "stdout",
     "output_type": "stream",
     "text": [
      "Loss after iteration 0: 1.797079\n",
      "Loss after iteration 100: 0.884025\n",
      "Loss after iteration 200: 0.785281\n",
      "Loss after iteration 300: 0.772818\n",
      "Loss after iteration 400: 0.772119\n",
      "Loss after iteration 500: 0.771712\n",
      "Loss after iteration 600: 0.771381\n",
      "Loss after iteration 700: 0.771251\n",
      "Loss after iteration 800: 0.771312\n",
      "Loss after iteration 900: 0.771498\n",
      "0.732761246974495\n"
     ]
    }
   ],
   "source": [
    "# Tuning hyperparameters using validation set\n",
    "W, b, total_losses = fit(X_train, y_train, W, b, 0.01, 1000, 0.01)\n",
    "\n",
    "# Calculate the mean absolute error on validation data in Cr\n",
    "z = predict(X_val, W, b)\n",
    "mae = np.sum(np.abs(z - y_val)) / len(y_val)\n",
    "print(mae)\n",
    "\n",
    "# Reset parameters\n",
    "W = np.zeros((X_train.shape[1], 1))\n",
    "b = 0"
   ]
  },
  {
   "cell_type": "code",
   "execution_count": 64,
   "metadata": {},
   "outputs": [
    {
     "name": "stdout",
     "output_type": "stream",
     "text": [
      "Loss after iteration 0: 1.769847\n",
      "Loss after iteration 100: 0.877413\n",
      "Loss after iteration 200: 0.781933\n",
      "Loss after iteration 300: 0.770030\n",
      "Loss after iteration 400: 0.769163\n",
      "Loss after iteration 500: 0.768745\n",
      "Loss after iteration 600: 0.768360\n",
      "Loss after iteration 700: 0.768177\n",
      "Loss after iteration 800: 0.768191\n",
      "Loss after iteration 900: 0.768375\n"
     ]
    }
   ],
   "source": [
    "# Train on both training and validation data\n",
    "W, b, total_losses = fit(np.concatenate((X_train, X_val)), np.concatenate((y_train, y_val)), W, b)"
   ]
  },
  {
   "cell_type": "code",
   "execution_count": 65,
   "metadata": {},
   "outputs": [
    {
     "data": {
      "image/png": "[encoded data removed]",
      "text/plain": [
       "<Figure size 640x480 with 1 Axes>"
      ]
     },
     "metadata": {},
     "output_type": "display_data"
    }
   ],
   "source": [
    "# Plotting missclassifications against the number of iterations\n",
    "import matplotlib.pyplot as plt\n",
    "plt.plot(range(1, len(total_losses) + 1), total_losses)\n",
    "plt.xlabel('Number of Iterations')\n",
    "plt.ylabel('Loss')\n",
    "plt.title('Loss vs Number of Iterations')\n",
    "plt.grid(True)\n",
    "plt.show()"
   ]
  },
  {
   "cell_type": "code",
   "execution_count": 66,
   "metadata": {},
   "outputs": [
    {
     "name": "stdout",
     "output_type": "stream",
     "text": [
      "Mean Squared Error: 1.9532173203781618\n",
      "Mean Absolute Error: 0.6764770533018729\n"
     ]
    }
   ],
   "source": [
    "# Calculate the mean absolute error on test data in Cr\n",
    "z = predict(X_test, W, b)\n",
    "mae = np.sum(np.abs(z - y_test)) / len(y_test)\n",
    "mse = np.sum(np.square(z - y_test)) / len(y_test)\n",
    "\n",
    "print(\"Mean Squared Error:\", mse)\n",
    "print(\"Mean Absolute Error:\", mae)"
   ]
  },
  {
   "cell_type": "code",
   "execution_count": 67,
   "metadata": {},
   "outputs": [
    {
     "name": "stdout",
     "output_type": "stream",
     "text": [
      "[[ 0.34191374]\n",
      " [-0.05967052]\n",
      " [ 1.44796293]\n",
      " [-0.16837757]\n",
      " [ 0.03045218]\n",
      " [ 0.01040912]\n",
      " [ 0.01052244]]\n",
      "1.7929065781060696\n"
     ]
    }
   ],
   "source": [
    "print(W)\n",
    "print(b)"
   ]
  },
  {
   "cell_type": "code",
   "execution_count": 68,
   "metadata": {},
   "outputs": [
    {
     "name": "stdout",
     "output_type": "stream",
     "text": [
      "The price of house in Cr:  [3.5043049]\n"
     ]
    }
   ],
   "source": [
    "# Testing with our own data\n",
    "X_test.loc[0, \"bhk\"] = 4\n",
    "X_test.loc[0, \"type\"] = 0.2\n",
    "X_test.loc[0, \"area\"] = 1620\n",
    "X_test.loc[0, \"age\"] = 1\n",
    "X_test.loc[0, \"status\"] = 1\n",
    "X_test.loc[0, \"latitude\"] = 19.1386\n",
    "X_test.loc[0, \"longitude\"] = 72.8429\n",
    "\n",
    "# Normalizing the sample\n",
    "X_test.loc[0] = (X_test.loc[0] - X_mean) / X_std\n",
    "\n",
    "z = predict(X_test.loc[0], W, b)\n",
    "print(\"The price of house in Cr: \", z)"
   ]
  },
  {
   "cell_type": "code",
   "execution_count": 71,
   "metadata": {},
   "outputs": [
    {
     "name": "stdout",
     "output_type": "stream",
     "text": [
      "Mean Squared Error using scikit learn: 1.9160765129439474\n",
      "Mean Absolute Error using scikit learn: 0.6833298828316735\n"
     ]
    }
   ],
   "source": [
    "# Verifying implementation using scikit learn\n",
    "from sklearn.linear_model import LinearRegression\n",
    "from sklearn.metrics import mean_squared_error, mean_absolute_error\n",
    "\n",
    "# Initialize the Linear Regression model\n",
    "model = LinearRegression()\n",
    "model.fit(np.concatenate((X_train.values, X_val.values)), np.concatenate((y_train, y_val)))\n",
    "y_pred = model.predict(X_test.values)\n",
    "\n",
    "# Evaluate the model\n",
    "mse = mean_squared_error(y_test, y_pred)\n",
    "mae = mean_absolute_error(y_test, y_pred)\n",
    "\n",
    "print(\"Mean Squared Error using scikit learn:\", mse)\n",
    "print(\"Mean Absolute Error using scikit learn:\", mae)"
   ]
  }
 ],
 "metadata": {
  "kernelspec": {
   "display_name": "Python 3",
   "language": "python",
   "name": "python3"
  },
  "language_info": {
   "codemirror_mode": {
    "name": "ipython",
    "version": 3
   },
   "file_extension": ".py",
   "mimetype": "text/x-python",
   "name": "python",
   "nbconvert_exporter": "python",
   "pygments_lexer": "ipython3",
   "version": "3.11.0"
  }
 },
 "nbformat": 4,
 "nbformat_minor": 2
}
