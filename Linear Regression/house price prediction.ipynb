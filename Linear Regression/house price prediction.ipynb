{
 "cells": [
  {
   "cell_type": "markdown",
   "metadata": {},
   "source": [
    "## Mumbai House Price Prediction using Linear Regression"
   ]
  },
  {
   "cell_type": "code",
   "execution_count": 23,
   "metadata": {},
   "outputs": [],
   "source": [
    "# import all the required libraries\n",
    "import numpy as np\n",
    "import pandas as pd\n",
    "import matplotlib.pyplot as plt\n",
    "from geopy.geocoders import Nominatim"
   ]
  },
  {
   "cell_type": "code",
   "execution_count": 24,
   "metadata": {},
   "outputs": [],
   "source": [
    "# obtain the raw csv \n",
    "data = \"../assets/data/mumbai_house_prices.csv\"\n",
    "house_price = pd.read_csv(data)"
   ]
  },
  {
   "cell_type": "code",
   "execution_count": 25,
   "metadata": {},
   "outputs": [
    {
     "name": "stdout",
     "output_type": "stream",
     "text": [
      "<class 'pandas.core.frame.DataFrame'>\n",
      "RangeIndex: 76038 entries, 0 to 76037\n",
      "Data columns (total 9 columns):\n",
      " #   Column      Non-Null Count  Dtype  \n",
      "---  ------      --------------  -----  \n",
      " 0   bhk         76038 non-null  int64  \n",
      " 1   type        76038 non-null  object \n",
      " 2   locality    76038 non-null  object \n",
      " 3   area        76038 non-null  int64  \n",
      " 4   price       76038 non-null  float64\n",
      " 5   price_unit  76038 non-null  object \n",
      " 6   region      76038 non-null  object \n",
      " 7   status      76038 non-null  object \n",
      " 8   age         76038 non-null  object \n",
      "dtypes: float64(1), int64(2), object(6)\n",
      "memory usage: 5.2+ MB\n",
      "None\n"
     ]
    }
   ],
   "source": [
    "# printing the info for dataset\n",
    "print(house_price.info())"
   ]
  },
  {
   "cell_type": "code",
   "execution_count": 26,
   "metadata": {},
   "outputs": [
    {
     "data": {
      "text/html": [
       "<div>\n",
       "<style scoped>\n",
       "    .dataframe tbody tr th:only-of-type {\n",
       "        vertical-align: middle;\n",
       "    }\n",
       "\n",
       "    .dataframe tbody tr th {\n",
       "        vertical-align: top;\n",
       "    }\n",
       "\n",
       "    .dataframe thead th {\n",
       "        text-align: right;\n",
       "    }\n",
       "</style>\n",
       "<table border=\"1\" class=\"dataframe\">\n",
       "  <thead>\n",
       "    <tr style=\"text-align: right;\">\n",
       "      <th></th>\n",
       "      <th>bhk</th>\n",
       "      <th>type</th>\n",
       "      <th>locality</th>\n",
       "      <th>area</th>\n",
       "      <th>price</th>\n",
       "      <th>price_unit</th>\n",
       "      <th>region</th>\n",
       "      <th>status</th>\n",
       "      <th>age</th>\n",
       "    </tr>\n",
       "  </thead>\n",
       "  <tbody>\n",
       "    <tr>\n",
       "      <th>0</th>\n",
       "      <td>3</td>\n",
       "      <td>Apartment</td>\n",
       "      <td>Lak And Hanware The Residency Tower</td>\n",
       "      <td>685</td>\n",
       "      <td>2.50</td>\n",
       "      <td>Cr</td>\n",
       "      <td>Andheri West</td>\n",
       "      <td>Ready to move</td>\n",
       "      <td>New</td>\n",
       "    </tr>\n",
       "    <tr>\n",
       "      <th>1</th>\n",
       "      <td>2</td>\n",
       "      <td>Apartment</td>\n",
       "      <td>Radheya Sai Enclave Building No 2</td>\n",
       "      <td>640</td>\n",
       "      <td>52.51</td>\n",
       "      <td>L</td>\n",
       "      <td>Naigaon East</td>\n",
       "      <td>Under Construction</td>\n",
       "      <td>New</td>\n",
       "    </tr>\n",
       "    <tr>\n",
       "      <th>2</th>\n",
       "      <td>2</td>\n",
       "      <td>Apartment</td>\n",
       "      <td>Romell Serene</td>\n",
       "      <td>610</td>\n",
       "      <td>1.73</td>\n",
       "      <td>Cr</td>\n",
       "      <td>Borivali West</td>\n",
       "      <td>Under Construction</td>\n",
       "      <td>New</td>\n",
       "    </tr>\n",
       "    <tr>\n",
       "      <th>3</th>\n",
       "      <td>2</td>\n",
       "      <td>Apartment</td>\n",
       "      <td>Soundlines Codename Urban Rainforest</td>\n",
       "      <td>876</td>\n",
       "      <td>59.98</td>\n",
       "      <td>L</td>\n",
       "      <td>Panvel</td>\n",
       "      <td>Under Construction</td>\n",
       "      <td>New</td>\n",
       "    </tr>\n",
       "    <tr>\n",
       "      <th>4</th>\n",
       "      <td>2</td>\n",
       "      <td>Apartment</td>\n",
       "      <td>Origin Oriana</td>\n",
       "      <td>659</td>\n",
       "      <td>94.11</td>\n",
       "      <td>L</td>\n",
       "      <td>Mira Road East</td>\n",
       "      <td>Under Construction</td>\n",
       "      <td>New</td>\n",
       "    </tr>\n",
       "  </tbody>\n",
       "</table>\n",
       "</div>"
      ],
      "text/plain": [
       "   bhk       type                              locality  area  price  \\\n",
       "0    3  Apartment   Lak And Hanware The Residency Tower   685   2.50   \n",
       "1    2  Apartment     Radheya Sai Enclave Building No 2   640  52.51   \n",
       "2    2  Apartment                         Romell Serene   610   1.73   \n",
       "3    2  Apartment  Soundlines Codename Urban Rainforest   876  59.98   \n",
       "4    2  Apartment                         Origin Oriana   659  94.11   \n",
       "\n",
       "  price_unit          region              status  age  \n",
       "0         Cr    Andheri West       Ready to move  New  \n",
       "1          L    Naigaon East  Under Construction  New  \n",
       "2         Cr   Borivali West  Under Construction  New  \n",
       "3          L          Panvel  Under Construction  New  \n",
       "4          L  Mira Road East  Under Construction  New  "
      ]
     },
     "execution_count": 26,
     "metadata": {},
     "output_type": "execute_result"
    }
   ],
   "source": [
    "house_price.head()"
   ]
  },
  {
   "cell_type": "code",
   "execution_count": 27,
   "metadata": {},
   "outputs": [
    {
     "name": "stdout",
     "output_type": "stream",
     "text": [
      "Total number of unique values:  228\n",
      "Geopy could not find the following regions:  ['Mira Road East', 'Badlapur East', 'Badlapur West', 'Ambernath West', 'Ulhasnagar', 'Kewale', 'Nala Sopara', 'Karanjade', 'Neral', 'Karjat', 'Dronagiri', 'Navade', 'Owale', 'Ville Parle East', 'Vangani', 'Bhayandar East', 'Ambernath East', 'Nilje Gaon', 'Titwala', 'Koper Khairane', 'Napeansea Road', 'Koproli', 'Anjurdive', 'Taloje', 'Vasai West', 'Vasai east', 'Nalasopara East', 'Saphale', 'Kasheli', 'Panch Pakhdi', 'Hiranandani Estates', 'Vichumbe', 'Sector 17 Ulwe', 'Sector 23 Ulwe', 'Sector 20 Kamothe', 'Sector 30 Kharghar', 'Virar East', 'Sector 8 New panvel', 'Bhayandar West', 'Sector 20 Ulwe', 'Virar West', 'Palava', 'Greater Khanda', 'Sector-35D Kharghar', 'Umroli', 'Sector-9 Ulwe', 'Sector-3 Ulwe', 'kasaradavali thane west', 'Sector 19 Kharghar', 'Kalher', 'Sector 21 Kharghar', 'Usarghar Gaon', 'Patlipada', 'Vevoor', 'Sector 7 Kharghar', 'Badlapur', 'Khanda Colony', 'Gauripada', 'Warai', 'Khatiwali', 'Manjarli', 'Sector 18 Kharghar', 'Palidevad', 'Adaigaon', 'Sector-4 New Panvel', 'Pen', 'Maneklal Estate'] 67\n"
     ]
    }
   ],
   "source": [
    "# create a dictionary to map region to their latitude and longitude\n",
    "geo = Nominatim(user_agent=\"Geopy Library\", timeout=10)  # Adjust timeout value if error is raised\n",
    "unique_regions = house_price[\"region\"].unique()\n",
    "print(\"Total number of unique values: \", len(unique_regions))\n",
    "lat_long_dict = {}\n",
    "unknown_regions = []\n",
    "\n",
    "for r in unique_regions:\n",
    "    loc = geo.geocode(r + \", Mumbai\")\n",
    "    if (loc == None):\n",
    "        unknown_regions.append(r)\n",
    "        continue\n",
    "    else:\n",
    "        latitude = loc.latitude\n",
    "        longitude = loc.longitude\n",
    "        lat_long_dict[r] = [latitude, longitude]\n",
    "\n",
    "print(\"Geopy could not find the following regions: \", unknown_regions, len(unknown_regions))\n",
    "\n",
    "# This cell might take about 2 minutes to execute as it is geocoding each region"
   ]
  },
  {
   "cell_type": "code",
   "execution_count": 28,
   "metadata": {},
   "outputs": [],
   "source": [
    "# we remove all rows which contain unidentified regions and for all rows with identified regions, we add their latitiude and longitude to the data set.\n",
    "del_idx = []\n",
    "for i in range(len(house_price)):\n",
    "    region = house_price.loc[i, \"region\"]\n",
    "    if region in unknown_regions:\n",
    "        del_idx.append(i)\n",
    "    else:\n",
    "        lat_long = lat_long_dict[region]\n",
    "        house_price.at[i, \"latitude\"] = lat_long[0] \n",
    "        house_price.at[i, \"longitude\"] = lat_long[1]\n"
   ]
  },
  {
   "cell_type": "code",
   "execution_count": 29,
   "metadata": {},
   "outputs": [],
   "source": [
    "house_price.drop(del_idx, inplace=True)\n",
    "house_price = house_price.reset_index(drop=True)"
   ]
  },
  {
   "cell_type": "code",
   "execution_count": 30,
   "metadata": {},
   "outputs": [
    {
     "data": {
      "text/html": [
       "<div>\n",
       "<style scoped>\n",
       "    .dataframe tbody tr th:only-of-type {\n",
       "        vertical-align: middle;\n",
       "    }\n",
       "\n",
       "    .dataframe tbody tr th {\n",
       "        vertical-align: top;\n",
       "    }\n",
       "\n",
       "    .dataframe thead th {\n",
       "        text-align: right;\n",
       "    }\n",
       "</style>\n",
       "<table border=\"1\" class=\"dataframe\">\n",
       "  <thead>\n",
       "    <tr style=\"text-align: right;\">\n",
       "      <th></th>\n",
       "      <th>bhk</th>\n",
       "      <th>type</th>\n",
       "      <th>locality</th>\n",
       "      <th>area</th>\n",
       "      <th>price</th>\n",
       "      <th>price_unit</th>\n",
       "      <th>region</th>\n",
       "      <th>status</th>\n",
       "      <th>age</th>\n",
       "      <th>latitude</th>\n",
       "      <th>longitude</th>\n",
       "    </tr>\n",
       "  </thead>\n",
       "  <tbody>\n",
       "    <tr>\n",
       "      <th>0</th>\n",
       "      <td>3</td>\n",
       "      <td>Apartment</td>\n",
       "      <td>Lak And Hanware The Residency Tower</td>\n",
       "      <td>685</td>\n",
       "      <td>2.50</td>\n",
       "      <td>Cr</td>\n",
       "      <td>Andheri West</td>\n",
       "      <td>Ready to move</td>\n",
       "      <td>New</td>\n",
       "      <td>19.117249</td>\n",
       "      <td>72.833968</td>\n",
       "    </tr>\n",
       "    <tr>\n",
       "      <th>1</th>\n",
       "      <td>2</td>\n",
       "      <td>Apartment</td>\n",
       "      <td>Radheya Sai Enclave Building No 2</td>\n",
       "      <td>640</td>\n",
       "      <td>52.51</td>\n",
       "      <td>L</td>\n",
       "      <td>Naigaon East</td>\n",
       "      <td>Under Construction</td>\n",
       "      <td>New</td>\n",
       "      <td>19.013755</td>\n",
       "      <td>72.846294</td>\n",
       "    </tr>\n",
       "    <tr>\n",
       "      <th>2</th>\n",
       "      <td>2</td>\n",
       "      <td>Apartment</td>\n",
       "      <td>Romell Serene</td>\n",
       "      <td>610</td>\n",
       "      <td>1.73</td>\n",
       "      <td>Cr</td>\n",
       "      <td>Borivali West</td>\n",
       "      <td>Under Construction</td>\n",
       "      <td>New</td>\n",
       "      <td>19.229456</td>\n",
       "      <td>72.847990</td>\n",
       "    </tr>\n",
       "    <tr>\n",
       "      <th>3</th>\n",
       "      <td>2</td>\n",
       "      <td>Apartment</td>\n",
       "      <td>Soundlines Codename Urban Rainforest</td>\n",
       "      <td>876</td>\n",
       "      <td>59.98</td>\n",
       "      <td>L</td>\n",
       "      <td>Panvel</td>\n",
       "      <td>Under Construction</td>\n",
       "      <td>New</td>\n",
       "      <td>18.990978</td>\n",
       "      <td>73.065553</td>\n",
       "    </tr>\n",
       "    <tr>\n",
       "      <th>4</th>\n",
       "      <td>2</td>\n",
       "      <td>Apartment</td>\n",
       "      <td>Bhoomi Simana Wing A Phase 1</td>\n",
       "      <td>826</td>\n",
       "      <td>3.30</td>\n",
       "      <td>Cr</td>\n",
       "      <td>Parel</td>\n",
       "      <td>Under Construction</td>\n",
       "      <td>New</td>\n",
       "      <td>19.009482</td>\n",
       "      <td>72.837661</td>\n",
       "    </tr>\n",
       "  </tbody>\n",
       "</table>\n",
       "</div>"
      ],
      "text/plain": [
       "   bhk       type                              locality  area  price  \\\n",
       "0    3  Apartment   Lak And Hanware The Residency Tower   685   2.50   \n",
       "1    2  Apartment     Radheya Sai Enclave Building No 2   640  52.51   \n",
       "2    2  Apartment                         Romell Serene   610   1.73   \n",
       "3    2  Apartment  Soundlines Codename Urban Rainforest   876  59.98   \n",
       "4    2  Apartment          Bhoomi Simana Wing A Phase 1   826   3.30   \n",
       "\n",
       "  price_unit         region              status  age   latitude  longitude  \n",
       "0         Cr   Andheri West       Ready to move  New  19.117249  72.833968  \n",
       "1          L   Naigaon East  Under Construction  New  19.013755  72.846294  \n",
       "2         Cr  Borivali West  Under Construction  New  19.229456  72.847990  \n",
       "3          L         Panvel  Under Construction  New  18.990978  73.065553  \n",
       "4         Cr          Parel  Under Construction  New  19.009482  72.837661  "
      ]
     },
     "execution_count": 30,
     "metadata": {},
     "output_type": "execute_result"
    }
   ],
   "source": [
    "house_price.head()"
   ]
  },
  {
   "cell_type": "code",
   "execution_count": 31,
   "metadata": {},
   "outputs": [
    {
     "data": {
      "text/plain": [
       "(61217, 11)"
      ]
     },
     "execution_count": 31,
     "metadata": {},
     "output_type": "execute_result"
    }
   ],
   "source": [
    "house_price.shape"
   ]
  },
  {
   "cell_type": "code",
   "execution_count": 32,
   "metadata": {},
   "outputs": [],
   "source": [
    "# remove columns locality and region since they do not hold with the idea of linear regression\n",
    "house_price.drop(['locality', 'region'], axis=1, inplace=True)"
   ]
  },
  {
   "cell_type": "code",
   "execution_count": 33,
   "metadata": {},
   "outputs": [
    {
     "name": "stdout",
     "output_type": "stream",
     "text": [
      "['Apartment' 'Villa' 'Independent House' 'Studio Apartment' 'Penthouse']\n",
      "['New' 'Resale' 'Unknown']\n",
      "['Ready to move' 'Under Construction']\n"
     ]
    }
   ],
   "source": [
    "# print all unique values of categorical columns\n",
    "print(house_price.type.unique())\n",
    "print(house_price.age.unique())\n",
    "print(house_price.status.unique())"
   ]
  },
  {
   "cell_type": "code",
   "execution_count": 34,
   "metadata": {},
   "outputs": [],
   "source": [
    "# dealing with categorical data\n",
    "house_price[\"type\"].replace({\"Studio Apartment\":0, \"Apartment\":0.2, \"Independent House\":0.4, \"Villa\": 0.6, \"Penthouse\": 1}, inplace=True)\n",
    "house_price[\"age\"].replace({\"New\":0, \"Resale\":1, \"Unknown\": 0.5}, inplace=True)\n",
    "house_price[\"status\"].replace({\"Ready to move\":0, \"Under Construction\":1}, inplace=True)"
   ]
  },
  {
   "cell_type": "code",
   "execution_count": 35,
   "metadata": {},
   "outputs": [],
   "source": [
    "# calculating price in Crores for each using price and price_unit\n",
    "for i in range(len(house_price)):  \n",
    "    price_unit = house_price.loc[i, \"price_unit\"]\n",
    "\n",
    "    if price_unit == \"L\":\n",
    "        house_price.at[i, \"price\"] = (house_price.at[i, \"price\"] / 100)\n",
    "  \n",
    "house_price.drop([\"price_unit\"], axis=1, inplace=True)"
   ]
  },
  {
   "cell_type": "code",
   "execution_count": 36,
   "metadata": {},
   "outputs": [
    {
     "data": {
      "text/html": [
       "<div>\n",
       "<style scoped>\n",
       "    .dataframe tbody tr th:only-of-type {\n",
       "        vertical-align: middle;\n",
       "    }\n",
       "\n",
       "    .dataframe tbody tr th {\n",
       "        vertical-align: top;\n",
       "    }\n",
       "\n",
       "    .dataframe thead th {\n",
       "        text-align: right;\n",
       "    }\n",
       "</style>\n",
       "<table border=\"1\" class=\"dataframe\">\n",
       "  <thead>\n",
       "    <tr style=\"text-align: right;\">\n",
       "      <th></th>\n",
       "      <th>bhk</th>\n",
       "      <th>type</th>\n",
       "      <th>area</th>\n",
       "      <th>price</th>\n",
       "      <th>status</th>\n",
       "      <th>age</th>\n",
       "      <th>latitude</th>\n",
       "      <th>longitude</th>\n",
       "    </tr>\n",
       "  </thead>\n",
       "  <tbody>\n",
       "    <tr>\n",
       "      <th>0</th>\n",
       "      <td>3</td>\n",
       "      <td>0.2</td>\n",
       "      <td>685</td>\n",
       "      <td>2.5000</td>\n",
       "      <td>0</td>\n",
       "      <td>0.0</td>\n",
       "      <td>19.117249</td>\n",
       "      <td>72.833968</td>\n",
       "    </tr>\n",
       "    <tr>\n",
       "      <th>1</th>\n",
       "      <td>2</td>\n",
       "      <td>0.2</td>\n",
       "      <td>640</td>\n",
       "      <td>0.5251</td>\n",
       "      <td>1</td>\n",
       "      <td>0.0</td>\n",
       "      <td>19.013755</td>\n",
       "      <td>72.846294</td>\n",
       "    </tr>\n",
       "    <tr>\n",
       "      <th>2</th>\n",
       "      <td>2</td>\n",
       "      <td>0.2</td>\n",
       "      <td>610</td>\n",
       "      <td>1.7300</td>\n",
       "      <td>1</td>\n",
       "      <td>0.0</td>\n",
       "      <td>19.229456</td>\n",
       "      <td>72.847990</td>\n",
       "    </tr>\n",
       "    <tr>\n",
       "      <th>3</th>\n",
       "      <td>2</td>\n",
       "      <td>0.2</td>\n",
       "      <td>876</td>\n",
       "      <td>0.5998</td>\n",
       "      <td>1</td>\n",
       "      <td>0.0</td>\n",
       "      <td>18.990978</td>\n",
       "      <td>73.065553</td>\n",
       "    </tr>\n",
       "    <tr>\n",
       "      <th>4</th>\n",
       "      <td>2</td>\n",
       "      <td>0.2</td>\n",
       "      <td>826</td>\n",
       "      <td>3.3000</td>\n",
       "      <td>1</td>\n",
       "      <td>0.0</td>\n",
       "      <td>19.009482</td>\n",
       "      <td>72.837661</td>\n",
       "    </tr>\n",
       "  </tbody>\n",
       "</table>\n",
       "</div>"
      ],
      "text/plain": [
       "   bhk  type  area   price  status  age   latitude  longitude\n",
       "0    3   0.2   685  2.5000       0  0.0  19.117249  72.833968\n",
       "1    2   0.2   640  0.5251       1  0.0  19.013755  72.846294\n",
       "2    2   0.2   610  1.7300       1  0.0  19.229456  72.847990\n",
       "3    2   0.2   876  0.5998       1  0.0  18.990978  73.065553\n",
       "4    2   0.2   826  3.3000       1  0.0  19.009482  72.837661"
      ]
     },
     "execution_count": 36,
     "metadata": {},
     "output_type": "execute_result"
    }
   ],
   "source": [
    "house_price.head()"
   ]
  },
  {
   "cell_type": "code",
   "execution_count": 72,
   "metadata": {},
   "outputs": [
    {
     "name": "stdout",
     "output_type": "stream",
     "text": [
      "The size of X_train is:  (42853, 7)\n",
      "The size of X_val is:  (6121, 7)\n",
      "The size of X_test is:  (12243, 7)\n",
      "The size of y_train is:  42853\n",
      "The size of y_val is:  6121\n",
      "The size of y_test is:  12243\n"
     ]
    }
   ],
   "source": [
    "# Define the ratios for train, test, and validation sets\n",
    "test_ratio = 0.2\n",
    "val_ratio = 0.1\n",
    "\n",
    "indices = list(house_price.index)\n",
    "\n",
    "# Calculate the number of samples for the testing and validation sets\n",
    "test_size = int(test_ratio * len(house_price))\n",
    "val_size = int(val_ratio * len(house_price))\n",
    "\n",
    "# Split the indices into training, testing, and validation sets\n",
    "test_indices = indices[:test_size]\n",
    "val_indices = indices[test_size:test_size+val_size]\n",
    "train_indices = indices[test_size+val_size:]\n",
    "\n",
    "# Create training, validation, and testing sets\n",
    "X_train = house_price.loc[train_indices]\n",
    "X_val = house_price.loc[val_indices]\n",
    "X_test = house_price.loc[test_indices]\n",
    "\n",
    "# Extract target variable\n",
    "y_train = X_train.pop(\"price\").tolist()\n",
    "y_val = X_val.pop(\"price\").tolist()\n",
    "y_test = X_test.pop(\"price\").tolist()\n",
    "\n",
    "print(\"The size of X_train is: \", X_train.shape)\n",
    "print(\"The size of X_val is: \", X_val.shape)\n",
    "print(\"The size of X_test is: \", X_test.shape)\n",
    "print(\"The size of y_train is: \", len(y_train))\n",
    "print(\"The size of y_val is: \", len(y_val))\n",
    "print(\"The size of y_test is: \", len(y_test))"
   ]
  },
  {
   "cell_type": "code",
   "execution_count": 73,
   "metadata": {},
   "outputs": [
    {
     "name": "stdout",
     "output_type": "stream",
     "text": [
      "            bhk      type      area    status       age  latitude  longitude\n",
      "18364 -0.186069  0.015261 -0.220277 -0.857327  1.461599 -0.855333   0.629832\n",
      "18365 -1.214391  0.015261 -0.640261 -0.857327  1.461599 -0.855333   0.629832\n",
      "18366 -0.186069  0.015261 -0.277845 -0.857327  1.461599 -0.855333   0.629832\n",
      "18367 -0.186069  0.015261 -0.277845 -0.857327  1.461599 -0.855333   0.629832\n",
      "18368 -0.186069  0.015261 -0.199343 -0.857327  1.461599 -0.855333   0.629832\n"
     ]
    }
   ],
   "source": [
    "X_mean = np.mean(X_train, axis=0)\n",
    "X_std = np.std(X_train, axis=0)\n",
    "\n",
    "# Normalizing the data\n",
    "X_train = (X_train - X_mean)/X_std\n",
    "X_val = (X_val - X_mean)/X_std\n",
    "X_test = (X_test - X_mean)/X_std\n",
    "\n",
    "print(X_train.head())"
   ]
  },
  {
   "cell_type": "code",
   "execution_count": 74,
   "metadata": {},
   "outputs": [],
   "source": [
    "W = np.zeros((X_train.shape[1], 1))\n",
    "b = 0\n",
    "y_train = np.array(y_train)\n",
    "y_train = y_train.reshape(y_train.shape[0], 1)\n",
    "y_test = np.array(y_test)\n",
    "y_test = y_test.reshape(y_test.shape[0], 1)\n",
    "y_val = np.array(y_val)\n",
    "y_val = y_val.reshape(y_val.shape[0], 1)"
   ]
  },
  {
   "cell_type": "code",
   "execution_count": 75,
   "metadata": {},
   "outputs": [],
   "source": [
    "def fit(X, y, W, b, learning_rate=0.1, num_iterations=500, l2_lambda=0.01):\n",
    "    m = X.shape[0]\n",
    "    total_losses = []\n",
    "\n",
    "    for i in range(num_iterations):\n",
    "        Z = np.dot(X, W) + b\n",
    "        diff = Z - y\n",
    "        dw = (1/m) * np.dot(X.T, diff) + (l2_lambda / m) * W  # L2 regularization\n",
    "        db = (1/m) * np.sum(diff)\n",
    "\n",
    "        W = W - learning_rate * dw\n",
    "        b = b - learning_rate * db\n",
    "\n",
    "        loss = (1/m) * np.sum(np.abs(diff))\n",
    "        regularization_loss = (l2_lambda / (2 * m)) * np.sum(np.square(W))\n",
    "        total_loss = loss + regularization_loss\n",
    "\n",
    "        total_losses.append(total_loss)\n",
    "        \n",
    "        if i % 100 == 0:\n",
    "            print(\"Loss after iteration %i: %f\" % (i, total_loss))\n",
    "        \n",
    "    return W, b, total_losses"
   ]
  },
  {
   "cell_type": "code",
   "execution_count": 76,
   "metadata": {},
   "outputs": [],
   "source": [
    "def predict(X, W, b):\n",
    "    z = np.dot(X, W) + b\n",
    "    # For all negative values, replace them with 0\n",
    "    z[z < 0] = 0\n",
    "    return z"
   ]
  },
  {
   "cell_type": "code",
   "execution_count": 77,
   "metadata": {},
   "outputs": [
    {
     "name": "stdout",
     "output_type": "stream",
     "text": [
      "Loss after iteration 0: 2.023829\n",
      "Loss after iteration 100: 0.707657\n",
      "Loss after iteration 200: 0.710135\n",
      "Loss after iteration 300: 0.710935\n",
      "Loss after iteration 400: 0.711078\n",
      "0.6819135792348553\n"
     ]
    }
   ],
   "source": [
    "# Tuning hyperparameters using validation set\n",
    "W, b, total_losses = fit(X_train, y_train, W, b, 0.1)\n",
    "\n",
    "# Calculate the mean absolute error on validation data in Cr\n",
    "z = predict(X_train, W, b)\n",
    "mae = np.sum(np.abs(z - y_train)) / len(y_train)\n",
    "print(mae)\n",
    "\n",
    "# Reset parameters\n",
    "W = np.zeros((X_train.shape[1], 1))\n",
    "b = 0"
   ]
  },
  {
   "cell_type": "code",
   "execution_count": 78,
   "metadata": {},
   "outputs": [
    {
     "name": "stdout",
     "output_type": "stream",
     "text": [
      "Loss after iteration 0: 1.980784\n",
      "Loss after iteration 100: 0.699005\n",
      "Loss after iteration 200: 0.700996\n",
      "Loss after iteration 300: 0.701796\n",
      "Loss after iteration 400: 0.701951\n"
     ]
    }
   ],
   "source": [
    "# Train on both training and validation data\n",
    "W, b, total_losses = fit(np.concatenate((X_train, X_val)), np.concatenate((y_train, y_val)), W, b, 0.1)"
   ]
  },
  {
   "cell_type": "code",
   "execution_count": 79,
   "metadata": {},
   "outputs": [
    {
     "data": {
      "image/png": "[encoded data removed]",
      "text/plain": [
       "<Figure size 640x480 with 1 Axes>"
      ]
     },
     "metadata": {},
     "output_type": "display_data"
    }
   ],
   "source": [
    "# Plotting missclassifications against the number of iterations\n",
    "plt.plot(range(1, len(total_losses) + 1), total_losses)\n",
    "plt.xlabel('Number of Iterations')\n",
    "plt.ylabel('Loss')\n",
    "plt.title('Loss vs Number of Iterations')\n",
    "plt.grid(True)\n",
    "plt.show()"
   ]
  },
  {
   "cell_type": "code",
   "execution_count": 80,
   "metadata": {},
   "outputs": [
    {
     "name": "stdout",
     "output_type": "stream",
     "text": [
      "0.6345467583586093\n"
     ]
    }
   ],
   "source": [
    "# Calculate the mean absolute error on test data in Cr\n",
    "z = predict(X_test, W, b)\n",
    "mae = np.sum(np.abs(z - y_test)) / len(y_test)\n",
    "print(mae)"
   ]
  },
  {
   "cell_type": "code",
   "execution_count": 81,
   "metadata": {},
   "outputs": [
    {
     "name": "stdout",
     "output_type": "stream",
     "text": [
      "[[ 0.1547163 ]\n",
      " [-0.04002516]\n",
      " [ 1.66889565]\n",
      " [ 0.17196924]\n",
      " [-0.05643254]\n",
      " [-0.19802677]\n",
      " [-0.67265214]]\n",
      "2.0332545211306745\n"
     ]
    }
   ],
   "source": [
    "print(W)\n",
    "print(b)"
   ]
  },
  {
   "cell_type": "code",
   "execution_count": 82,
   "metadata": {},
   "outputs": [
    {
     "name": "stdout",
     "output_type": "stream",
     "text": [
      "The price of house in Cr:  [0.67643085]\n"
     ]
    }
   ],
   "source": [
    "# Testing with our own data\n",
    "X_test.loc[0, \"bhk\"] = 2\n",
    "X_test.loc[0, \"type\"] = 0.2\n",
    "X_test.loc[0, \"area\"] = 594\n",
    "X_test.loc[0, \"status\"] = 0\n",
    "X_test.loc[0, \"age\"] = 1\n",
    "X_test.loc[0, \"latitude\"] = 19.432762\n",
    "X_test.loc[0, \"longitude\"] = 72.84564\n",
    "\n",
    "# Normalizing the sample\n",
    "X_test.loc[0] = (X_test.loc[0] - X_mean) / X_std\n",
    "\n",
    "z = predict(X_test.loc[0], W, b)\n",
    "print(\"The price of house in Cr: \", z)"
   ]
  }
 ],
 "metadata": {
  "kernelspec": {
   "display_name": "Python 3",
   "language": "python",
   "name": "python3"
  },
  "language_info": {
   "codemirror_mode": {
    "name": "ipython",
    "version": 3
   },
   "file_extension": ".py",
   "mimetype": "text/x-python",
   "name": "python",
   "nbconvert_exporter": "python",
   "pygments_lexer": "ipython3",
   "version": "3.11.0"
  }
 },
 "nbformat": 4,
 "nbformat_minor": 2
}
