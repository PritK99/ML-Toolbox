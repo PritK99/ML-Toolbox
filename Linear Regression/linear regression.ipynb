{
 "cells": [
  {
   "cell_type": "markdown",
   "metadata": {},
   "source": [
    "## Mumbai House Price Prediction using Linear Regression"
   ]
  },
  {
   "cell_type": "code",
   "execution_count": 79,
   "metadata": {},
   "outputs": [],
   "source": [
    "# import all the required libraries\n",
    "import numpy as np\n",
    "import pandas as pd\n",
    "import matplotlib.pyplot as plt\n",
    "import seaborn as sns\n",
    "from geopy.geocoders import Nominatim"
   ]
  },
  {
   "cell_type": "code",
   "execution_count": 80,
   "metadata": {},
   "outputs": [],
   "source": [
    "# obtain the raw csv \n",
    "data = \"./data/mumbai_house_prices.csv\"\n",
    "house_price = pd.read_csv(data)"
   ]
  },
  {
   "cell_type": "code",
   "execution_count": 81,
   "metadata": {},
   "outputs": [
    {
     "name": "stdout",
     "output_type": "stream",
     "text": [
      "<class 'pandas.core.frame.DataFrame'>\n",
      "RangeIndex: 76038 entries, 0 to 76037\n",
      "Data columns (total 9 columns):\n",
      " #   Column      Non-Null Count  Dtype  \n",
      "---  ------      --------------  -----  \n",
      " 0   bhk         76038 non-null  int64  \n",
      " 1   type        76038 non-null  object \n",
      " 2   locality    76038 non-null  object \n",
      " 3   area        76038 non-null  int64  \n",
      " 4   price       76038 non-null  float64\n",
      " 5   price_unit  76038 non-null  object \n",
      " 6   region      76038 non-null  object \n",
      " 7   status      76038 non-null  object \n",
      " 8   age         76038 non-null  object \n",
      "dtypes: float64(1), int64(2), object(6)\n",
      "memory usage: 5.2+ MB\n",
      "None\n"
     ]
    }
   ],
   "source": [
    "# printing the info for dataset\n",
    "print(house_price.info())"
   ]
  },
  {
   "cell_type": "code",
   "execution_count": 82,
   "metadata": {},
   "outputs": [
    {
     "data": {
      "text/html": [
       "<div>\n",
       "<style scoped>\n",
       "    .dataframe tbody tr th:only-of-type {\n",
       "        vertical-align: middle;\n",
       "    }\n",
       "\n",
       "    .dataframe tbody tr th {\n",
       "        vertical-align: top;\n",
       "    }\n",
       "\n",
       "    .dataframe thead th {\n",
       "        text-align: right;\n",
       "    }\n",
       "</style>\n",
       "<table border=\"1\" class=\"dataframe\">\n",
       "  <thead>\n",
       "    <tr style=\"text-align: right;\">\n",
       "      <th></th>\n",
       "      <th>bhk</th>\n",
       "      <th>type</th>\n",
       "      <th>locality</th>\n",
       "      <th>area</th>\n",
       "      <th>price</th>\n",
       "      <th>price_unit</th>\n",
       "      <th>region</th>\n",
       "      <th>status</th>\n",
       "      <th>age</th>\n",
       "    </tr>\n",
       "  </thead>\n",
       "  <tbody>\n",
       "    <tr>\n",
       "      <th>0</th>\n",
       "      <td>3</td>\n",
       "      <td>Apartment</td>\n",
       "      <td>Lak And Hanware The Residency Tower</td>\n",
       "      <td>685</td>\n",
       "      <td>2.50</td>\n",
       "      <td>Cr</td>\n",
       "      <td>Andheri West</td>\n",
       "      <td>Ready to move</td>\n",
       "      <td>New</td>\n",
       "    </tr>\n",
       "    <tr>\n",
       "      <th>1</th>\n",
       "      <td>2</td>\n",
       "      <td>Apartment</td>\n",
       "      <td>Radheya Sai Enclave Building No 2</td>\n",
       "      <td>640</td>\n",
       "      <td>52.51</td>\n",
       "      <td>L</td>\n",
       "      <td>Naigaon East</td>\n",
       "      <td>Under Construction</td>\n",
       "      <td>New</td>\n",
       "    </tr>\n",
       "    <tr>\n",
       "      <th>2</th>\n",
       "      <td>2</td>\n",
       "      <td>Apartment</td>\n",
       "      <td>Romell Serene</td>\n",
       "      <td>610</td>\n",
       "      <td>1.73</td>\n",
       "      <td>Cr</td>\n",
       "      <td>Borivali West</td>\n",
       "      <td>Under Construction</td>\n",
       "      <td>New</td>\n",
       "    </tr>\n",
       "    <tr>\n",
       "      <th>3</th>\n",
       "      <td>2</td>\n",
       "      <td>Apartment</td>\n",
       "      <td>Soundlines Codename Urban Rainforest</td>\n",
       "      <td>876</td>\n",
       "      <td>59.98</td>\n",
       "      <td>L</td>\n",
       "      <td>Panvel</td>\n",
       "      <td>Under Construction</td>\n",
       "      <td>New</td>\n",
       "    </tr>\n",
       "    <tr>\n",
       "      <th>4</th>\n",
       "      <td>2</td>\n",
       "      <td>Apartment</td>\n",
       "      <td>Origin Oriana</td>\n",
       "      <td>659</td>\n",
       "      <td>94.11</td>\n",
       "      <td>L</td>\n",
       "      <td>Mira Road East</td>\n",
       "      <td>Under Construction</td>\n",
       "      <td>New</td>\n",
       "    </tr>\n",
       "  </tbody>\n",
       "</table>\n",
       "</div>"
      ],
      "text/plain": [
       "   bhk       type                              locality  area  price  \\\n",
       "0    3  Apartment   Lak And Hanware The Residency Tower   685   2.50   \n",
       "1    2  Apartment     Radheya Sai Enclave Building No 2   640  52.51   \n",
       "2    2  Apartment                         Romell Serene   610   1.73   \n",
       "3    2  Apartment  Soundlines Codename Urban Rainforest   876  59.98   \n",
       "4    2  Apartment                         Origin Oriana   659  94.11   \n",
       "\n",
       "  price_unit          region              status  age  \n",
       "0         Cr    Andheri West       Ready to move  New  \n",
       "1          L    Naigaon East  Under Construction  New  \n",
       "2         Cr   Borivali West  Under Construction  New  \n",
       "3          L          Panvel  Under Construction  New  \n",
       "4          L  Mira Road East  Under Construction  New  "
      ]
     },
     "execution_count": 82,
     "metadata": {},
     "output_type": "execute_result"
    }
   ],
   "source": [
    "house_price.head()"
   ]
  },
  {
   "cell_type": "code",
   "execution_count": 83,
   "metadata": {},
   "outputs": [],
   "source": [
    "# remove columns locality and region since they do not hold with the idea of linear regression\n",
    "house_price.drop(['locality', 'region'], axis=1, inplace=True)"
   ]
  },
  {
   "cell_type": "code",
   "execution_count": 84,
   "metadata": {},
   "outputs": [
    {
     "data": {
      "text/plain": [
       "(76038, 7)"
      ]
     },
     "execution_count": 84,
     "metadata": {},
     "output_type": "execute_result"
    }
   ],
   "source": [
    "house_price.shape"
   ]
  },
  {
   "cell_type": "code",
   "execution_count": 85,
   "metadata": {},
   "outputs": [
    {
     "name": "stdout",
     "output_type": "stream",
     "text": [
      "['Apartment' 'Villa' 'Studio Apartment' 'Independent House' 'Penthouse']\n",
      "['New' 'Resale' 'Unknown']\n",
      "['Ready to move' 'Under Construction']\n"
     ]
    }
   ],
   "source": [
    "# print all unique values of categorical columns\n",
    "print(house_price.type.unique())\n",
    "print(house_price.age.unique())\n",
    "print(house_price.status.unique())"
   ]
  },
  {
   "cell_type": "code",
   "execution_count": 86,
   "metadata": {},
   "outputs": [],
   "source": [
    "# dealing with categorical data\n",
    "house_price[\"type\"].replace({\"Studio Apartment\":0, \"Apartment\":1, \"Independent House\":2, \"Villa\": 3, \"Penthouse\": 4}, inplace=True)\n",
    "house_price[\"age\"].replace({\"New\":0, \"Resale\":1, \"Unknown\": 0}, inplace=True)\n",
    "house_price[\"status\"].replace({\"Ready to move\":0, \"Under Construction\":1}, inplace=True)"
   ]
  },
  {
   "cell_type": "code",
   "execution_count": 87,
   "metadata": {},
   "outputs": [
    {
     "data": {
      "text/html": [
       "<div>\n",
       "<style scoped>\n",
       "    .dataframe tbody tr th:only-of-type {\n",
       "        vertical-align: middle;\n",
       "    }\n",
       "\n",
       "    .dataframe tbody tr th {\n",
       "        vertical-align: top;\n",
       "    }\n",
       "\n",
       "    .dataframe thead th {\n",
       "        text-align: right;\n",
       "    }\n",
       "</style>\n",
       "<table border=\"1\" class=\"dataframe\">\n",
       "  <thead>\n",
       "    <tr style=\"text-align: right;\">\n",
       "      <th></th>\n",
       "      <th>bhk</th>\n",
       "      <th>type</th>\n",
       "      <th>area</th>\n",
       "      <th>price</th>\n",
       "      <th>price_unit</th>\n",
       "      <th>status</th>\n",
       "      <th>age</th>\n",
       "    </tr>\n",
       "  </thead>\n",
       "  <tbody>\n",
       "    <tr>\n",
       "      <th>0</th>\n",
       "      <td>3</td>\n",
       "      <td>1</td>\n",
       "      <td>685</td>\n",
       "      <td>2.50</td>\n",
       "      <td>Cr</td>\n",
       "      <td>0</td>\n",
       "      <td>0</td>\n",
       "    </tr>\n",
       "    <tr>\n",
       "      <th>1</th>\n",
       "      <td>2</td>\n",
       "      <td>1</td>\n",
       "      <td>640</td>\n",
       "      <td>52.51</td>\n",
       "      <td>L</td>\n",
       "      <td>1</td>\n",
       "      <td>0</td>\n",
       "    </tr>\n",
       "    <tr>\n",
       "      <th>2</th>\n",
       "      <td>2</td>\n",
       "      <td>1</td>\n",
       "      <td>610</td>\n",
       "      <td>1.73</td>\n",
       "      <td>Cr</td>\n",
       "      <td>1</td>\n",
       "      <td>0</td>\n",
       "    </tr>\n",
       "    <tr>\n",
       "      <th>3</th>\n",
       "      <td>2</td>\n",
       "      <td>1</td>\n",
       "      <td>876</td>\n",
       "      <td>59.98</td>\n",
       "      <td>L</td>\n",
       "      <td>1</td>\n",
       "      <td>0</td>\n",
       "    </tr>\n",
       "    <tr>\n",
       "      <th>4</th>\n",
       "      <td>2</td>\n",
       "      <td>1</td>\n",
       "      <td>659</td>\n",
       "      <td>94.11</td>\n",
       "      <td>L</td>\n",
       "      <td>1</td>\n",
       "      <td>0</td>\n",
       "    </tr>\n",
       "  </tbody>\n",
       "</table>\n",
       "</div>"
      ],
      "text/plain": [
       "   bhk  type  area  price price_unit  status  age\n",
       "0    3     1   685   2.50         Cr       0    0\n",
       "1    2     1   640  52.51          L       1    0\n",
       "2    2     1   610   1.73         Cr       1    0\n",
       "3    2     1   876  59.98          L       1    0\n",
       "4    2     1   659  94.11          L       1    0"
      ]
     },
     "execution_count": 87,
     "metadata": {},
     "output_type": "execute_result"
    }
   ],
   "source": [
    "house_price.head()"
   ]
  },
  {
   "cell_type": "code",
   "execution_count": 88,
   "metadata": {},
   "outputs": [],
   "source": [
    "# calculating price in Lakhs for each using price and price_unit\n",
    "for i in range(len(house_price)):  \n",
    "    price_unit = house_price.loc[i, \"price_unit\"]\n",
    "\n",
    "    if price_unit == \"L\":\n",
    "        house_price.at[i, \"price\"] = (house_price.at[i, \"price\"] / 100)\n",
    "  \n",
    "house_price.drop([\"price_unit\"], axis=1, inplace=True)"
   ]
  },
  {
   "cell_type": "code",
   "execution_count": 89,
   "metadata": {},
   "outputs": [
    {
     "data": {
      "text/html": [
       "<div>\n",
       "<style scoped>\n",
       "    .dataframe tbody tr th:only-of-type {\n",
       "        vertical-align: middle;\n",
       "    }\n",
       "\n",
       "    .dataframe tbody tr th {\n",
       "        vertical-align: top;\n",
       "    }\n",
       "\n",
       "    .dataframe thead th {\n",
       "        text-align: right;\n",
       "    }\n",
       "</style>\n",
       "<table border=\"1\" class=\"dataframe\">\n",
       "  <thead>\n",
       "    <tr style=\"text-align: right;\">\n",
       "      <th></th>\n",
       "      <th>bhk</th>\n",
       "      <th>type</th>\n",
       "      <th>area</th>\n",
       "      <th>price</th>\n",
       "      <th>status</th>\n",
       "      <th>age</th>\n",
       "    </tr>\n",
       "  </thead>\n",
       "  <tbody>\n",
       "    <tr>\n",
       "      <th>0</th>\n",
       "      <td>3</td>\n",
       "      <td>1</td>\n",
       "      <td>685</td>\n",
       "      <td>2.5000</td>\n",
       "      <td>0</td>\n",
       "      <td>0</td>\n",
       "    </tr>\n",
       "    <tr>\n",
       "      <th>1</th>\n",
       "      <td>2</td>\n",
       "      <td>1</td>\n",
       "      <td>640</td>\n",
       "      <td>0.5251</td>\n",
       "      <td>1</td>\n",
       "      <td>0</td>\n",
       "    </tr>\n",
       "    <tr>\n",
       "      <th>2</th>\n",
       "      <td>2</td>\n",
       "      <td>1</td>\n",
       "      <td>610</td>\n",
       "      <td>1.7300</td>\n",
       "      <td>1</td>\n",
       "      <td>0</td>\n",
       "    </tr>\n",
       "    <tr>\n",
       "      <th>3</th>\n",
       "      <td>2</td>\n",
       "      <td>1</td>\n",
       "      <td>876</td>\n",
       "      <td>0.5998</td>\n",
       "      <td>1</td>\n",
       "      <td>0</td>\n",
       "    </tr>\n",
       "    <tr>\n",
       "      <th>4</th>\n",
       "      <td>2</td>\n",
       "      <td>1</td>\n",
       "      <td>659</td>\n",
       "      <td>0.9411</td>\n",
       "      <td>1</td>\n",
       "      <td>0</td>\n",
       "    </tr>\n",
       "  </tbody>\n",
       "</table>\n",
       "</div>"
      ],
      "text/plain": [
       "   bhk  type  area   price  status  age\n",
       "0    3     1   685  2.5000       0    0\n",
       "1    2     1   640  0.5251       1    0\n",
       "2    2     1   610  1.7300       1    0\n",
       "3    2     1   876  0.5998       1    0\n",
       "4    2     1   659  0.9411       1    0"
      ]
     },
     "execution_count": 89,
     "metadata": {},
     "output_type": "execute_result"
    }
   ],
   "source": [
    "house_price.head()"
   ]
  },
  {
   "cell_type": "code",
   "execution_count": 90,
   "metadata": {},
   "outputs": [
    {
     "name": "stdout",
     "output_type": "stream",
     "text": [
      "The size of X_train is:  (68435, 5)\n",
      "The size of X_test is:  (7603, 5)\n",
      "The size of y_train is:  68435\n",
      "The size of y_test is:  7603\n",
      "   bhk  type  area  status  age\n",
      "0    3     1   685       0    0\n",
      "1    2     1   640       1    0\n",
      "2    2     1   610       1    0\n",
      "3    2     1   876       1    0\n",
      "4    2     1   659       1    0\n",
      "[2.5, 0.5251, 1.73, 0.5998, 0.9411]\n",
      "   bhk  type  area  status  age\n",
      "0    3     1  1420       1    0\n",
      "1    1     1   610       0    1\n",
      "2    1     1   550       0    0\n",
      "3    3     1  1159       1    0\n",
      "4    1     1   684       0    1\n",
      "[2.25, 0.38, 0.26, 2.25, 0.325]\n"
     ]
    }
   ],
   "source": [
    "# split into train and test dataset\n",
    "test_ratio = 0.1\n",
    "test_size = int(test_ratio*len(house_price))\n",
    "test_indices = house_price.sample(test_size).index\n",
    "X_train = house_price.drop(test_indices)\n",
    "X_test = house_price.loc[test_indices]\n",
    "X_train = X_train.reset_index(drop=True)\n",
    "X_test = X_test.reset_index(drop=True)\n",
    "y_train = X_train.pop(\"price\").tolist()\n",
    "y_test = X_test.pop(\"price\").tolist()\n",
    "print(\"The size of X_train is: \", X_train.shape)\n",
    "print(\"The size of X_test is: \", X_test.shape)\n",
    "print(\"The size of y_train is: \", len(y_train))\n",
    "print(\"The size of y_test is: \", len(y_test))\n",
    "print(X_train.head())\n",
    "print(y_train[0:5])\n",
    "print(X_test.head())\n",
    "print(y_test[0:5])"
   ]
  },
  {
   "cell_type": "code",
   "execution_count": 91,
   "metadata": {},
   "outputs": [
    {
     "name": "stdout",
     "output_type": "stream",
     "text": [
      "        bhk      type      area    status       age\n",
      "0  1.066462  0.028621 -0.506048 -0.831494 -0.666097\n",
      "1 -0.016409  0.028621 -0.573270  1.202655 -0.666097\n",
      "2 -0.016409  0.028621 -0.618086  1.202655 -0.666097\n",
      "3 -0.016409  0.028621 -0.220724  1.202655 -0.666097\n",
      "4 -0.016409  0.028621 -0.544888  1.202655 -0.666097\n"
     ]
    }
   ],
   "source": [
    "X_mean = np.mean(X_train, axis=0)\n",
    "X_std = np.std(X_train, axis=0)\n",
    "\n",
    "# print(X_mean, X_std)\n",
    "\n",
    "# Normalizing the data\n",
    "X_train = (X_train - X_mean)/X_std\n",
    "X_test = (X_test - X_mean)/X_std\n",
    "\n",
    "print(X_train.head())"
   ]
  },
  {
   "cell_type": "code",
   "execution_count": 94,
   "metadata": {},
   "outputs": [],
   "source": [
    "W = np.zeros((X_train.shape[1], 1))\n",
    "b = 0\n",
    "y_train = np.array(y_train)\n",
    "y_train = y_train.reshape(y_train.shape[0], 1)\n",
    "y_test = np.array(y_test)\n",
    "y_test = y_test.reshape(y_test.shape[0], 1)"
   ]
  },
  {
   "cell_type": "code",
   "execution_count": 95,
   "metadata": {},
   "outputs": [],
   "source": [
    "def fit(X, y, W, b, learning_rate = 0.01, num_iterations = 1000):\n",
    "    m = X.shape[0]\n",
    "\n",
    "    for i in range(num_iterations):\n",
    "        Z = np.dot(X, W) + b\n",
    "        diff = Z - y\n",
    "        dw = (1/m) * np.dot(X.T, diff)\n",
    "        db = (1/m) * np.sum(diff)\n",
    "\n",
    "        W = W - learning_rate * dw\n",
    "        b = b - learning_rate * db\n",
    "        \n",
    "        if i % 100 == 0:\n",
    "            loss = (1/m) * np.sum(np.abs(diff))\n",
    "            print(\"Loss after iteration %i: %f\" %(i, loss))\n",
    "        \n",
    "    return W, b"
   ]
  },
  {
   "cell_type": "code",
   "execution_count": 96,
   "metadata": {},
   "outputs": [
    {
     "name": "stdout",
     "output_type": "stream",
     "text": [
      "Loss after iteration 0: 1.683023\n",
      "Loss after iteration 100: 0.858385\n",
      "Loss after iteration 200: 0.776200\n",
      "Loss after iteration 300: 0.760707\n",
      "Loss after iteration 400: 0.758236\n",
      "Loss after iteration 500: 0.758177\n",
      "Loss after iteration 600: 0.758719\n",
      "Loss after iteration 700: 0.759449\n",
      "Loss after iteration 800: 0.760275\n",
      "Loss after iteration 900: 0.761099\n"
     ]
    }
   ],
   "source": [
    "W, b = fit(X_train, y_train, W, b)"
   ]
  },
  {
   "cell_type": "code",
   "execution_count": 97,
   "metadata": {},
   "outputs": [
    {
     "name": "stdout",
     "output_type": "stream",
     "text": [
      "[[ 0.27081373]\n",
      " [-0.03391198]\n",
      " [ 1.47639864]\n",
      " [ 0.24035162]\n",
      " [ 0.11277351]]\n",
      "1.6829499588961028\n"
     ]
    }
   ],
   "source": [
    "print(W)\n",
    "print(b)"
   ]
  },
  {
   "cell_type": "code",
   "execution_count": 98,
   "metadata": {},
   "outputs": [
    {
     "name": "stdout",
     "output_type": "stream",
     "text": [
      "[3.05865121]\n",
      "[2.25]\n"
     ]
    }
   ],
   "source": [
    "def predict(X, W, b):\n",
    "    z = np.dot(X, W) + b\n",
    "    # For all negative values, replace them with 0\n",
    "    z[z < 0] = 0\n",
    "    return z\n",
    "\n",
    "price_pred = predict(X_test.loc[0], W, b)\n",
    "print(price_pred)\n",
    "print(y_test[0])"
   ]
  },
  {
   "cell_type": "code",
   "execution_count": 99,
   "metadata": {},
   "outputs": [
    {
     "name": "stdout",
     "output_type": "stream",
     "text": [
      "0.7577421374818527\n"
     ]
    }
   ],
   "source": [
    "# Calculate the mean absolute error on training data in Cr\n",
    "z = predict(X_train, W, b)\n",
    "mae = np.sum(np.abs(z - y_train)) / len(y_train)\n",
    "print(mae)"
   ]
  },
  {
   "cell_type": "code",
   "execution_count": 100,
   "metadata": {},
   "outputs": [
    {
     "name": "stdout",
     "output_type": "stream",
     "text": [
      "0.7507560010771124\n"
     ]
    }
   ],
   "source": [
    "# Calculate the mean absolute error on testing data in Cr\n",
    "z = predict(X_test, W, b)\n",
    "mae = np.sum(np.abs(z - y_test)) / len(y_test)\n",
    "print(mae)"
   ]
  },
  {
   "cell_type": "code",
   "execution_count": 101,
   "metadata": {},
   "outputs": [
    {
     "name": "stdout",
     "output_type": "stream",
     "text": [
      "The price of house in Cr:  [0.76483971]\n"
     ]
    }
   ],
   "source": [
    "# Testing with our own data\n",
    "X_test.loc[0, \"bhk\"] = 2\n",
    "X_test.loc[0, \"type\"] = 2\n",
    "X_test.loc[0, \"area\"] = 720\n",
    "X_test.loc[0, \"status\"] = 0\n",
    "X_test.loc[0, \"age\"] = 1\n",
    "\n",
    "# Normalizing the sample\n",
    "X_test.loc[0] = (X_test.loc[0] - X_mean) / X_std\n",
    "\n",
    "z = predict(X_test.loc[0], W, b)\n",
    "print(\"The price of house in Cr: \", z)"
   ]
  }
 ],
 "metadata": {
  "kernelspec": {
   "display_name": "Python 3",
   "language": "python",
   "name": "python3"
  },
  "language_info": {
   "codemirror_mode": {
    "name": "ipython",
    "version": 3
   },
   "file_extension": ".py",
   "mimetype": "text/x-python",
   "name": "python",
   "nbconvert_exporter": "python",
   "pygments_lexer": "ipython3",
   "version": "3.11.0"
  }
 },
 "nbformat": 4,
 "nbformat_minor": 2
}
