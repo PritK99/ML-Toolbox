{
 "cells": [
  {
   "cell_type": "markdown",
   "metadata": {},
   "source": [
    "## Gender Classification with Naive Bayes using First Names"
   ]
  },
  {
   "cell_type": "code",
   "execution_count": 32,
   "metadata": {},
   "outputs": [],
   "source": [
    "# import all the required libraries\n",
    "import numpy as np\n",
    "import pandas as pd"
   ]
  },
  {
   "cell_type": "code",
   "execution_count": 33,
   "metadata": {},
   "outputs": [],
   "source": [
    "# Read the dataset\n",
    "df = pd.read_csv(\"../assets/data/gender.csv\")"
   ]
  },
  {
   "cell_type": "code",
   "execution_count": 34,
   "metadata": {},
   "outputs": [
    {
     "name": "stdout",
     "output_type": "stream",
     "text": [
      "<class 'pandas.core.frame.DataFrame'>\n",
      "RangeIndex: 1294 entries, 0 to 1293\n",
      "Data columns (total 2 columns):\n",
      " #   Column  Non-Null Count  Dtype \n",
      "---  ------  --------------  ----- \n",
      " 0   Name    1294 non-null   object\n",
      " 1   Target  1294 non-null   int64 \n",
      "dtypes: int64(1), object(1)\n",
      "memory usage: 20.3+ KB\n"
     ]
    }
   ],
   "source": [
    "df.info()"
   ]
  },
  {
   "cell_type": "code",
   "execution_count": 35,
   "metadata": {},
   "outputs": [
    {
     "data": {
      "text/html": [
       "<div>\n",
       "<style scoped>\n",
       "    .dataframe tbody tr th:only-of-type {\n",
       "        vertical-align: middle;\n",
       "    }\n",
       "\n",
       "    .dataframe tbody tr th {\n",
       "        vertical-align: top;\n",
       "    }\n",
       "\n",
       "    .dataframe thead th {\n",
       "        text-align: right;\n",
       "    }\n",
       "</style>\n",
       "<table border=\"1\" class=\"dataframe\">\n",
       "  <thead>\n",
       "    <tr style=\"text-align: right;\">\n",
       "      <th></th>\n",
       "      <th>Name</th>\n",
       "      <th>Target</th>\n",
       "    </tr>\n",
       "  </thead>\n",
       "  <tbody>\n",
       "    <tr>\n",
       "      <th>0</th>\n",
       "      <td>Yash</td>\n",
       "      <td>1</td>\n",
       "    </tr>\n",
       "    <tr>\n",
       "      <th>1</th>\n",
       "      <td>Prit</td>\n",
       "      <td>1</td>\n",
       "    </tr>\n",
       "    <tr>\n",
       "      <th>2</th>\n",
       "      <td>Meet</td>\n",
       "      <td>1</td>\n",
       "    </tr>\n",
       "    <tr>\n",
       "      <th>3</th>\n",
       "      <td>Drashti</td>\n",
       "      <td>0</td>\n",
       "    </tr>\n",
       "    <tr>\n",
       "      <th>4</th>\n",
       "      <td>Saloni</td>\n",
       "      <td>0</td>\n",
       "    </tr>\n",
       "  </tbody>\n",
       "</table>\n",
       "</div>"
      ],
      "text/plain": [
       "      Name  Target\n",
       "0     Yash       1\n",
       "1     Prit       1\n",
       "2     Meet       1\n",
       "3  Drashti       0\n",
       "4   Saloni       0"
      ]
     },
     "execution_count": 35,
     "metadata": {},
     "output_type": "execute_result"
    }
   ],
   "source": [
    "df.head()"
   ]
  },
  {
   "cell_type": "code",
   "execution_count": 79,
   "metadata": {},
   "outputs": [
    {
     "name": "stdout",
     "output_type": "stream",
     "text": [
      "Training set size: 1164\n",
      "Test set size: 130\n"
     ]
    }
   ],
   "source": [
    "# Split data in train and test set\n",
    "test_size = 0.1\n",
    "\n",
    "num_rows = len(df)\n",
    "\n",
    "train_rows = int(num_rows * (1-test_size))\n",
    "\n",
    "# Create separate DataFrames for each set\n",
    "train_df = df.iloc[:train_rows]\n",
    "test_df = df.iloc[train_rows:]\n",
    "\n",
    "print(\"Training set size:\", len(train_df))\n",
    "print(\"Test set size:\", len(test_df))"
   ]
  },
  {
   "cell_type": "code",
   "execution_count": 80,
   "metadata": {},
   "outputs": [
    {
     "name": "stdout",
     "output_type": "stream",
     "text": [
      "Number of girls: 591\n",
      "Number of boys: 573\n"
     ]
    }
   ],
   "source": [
    "female_count = train_df[train_df['Target'] == 0].shape[0]\n",
    "male_count = train_df[train_df['Target'] == 1].shape[0]  \n",
    "\n",
    "print(f\"Number of girls: {female_count}\")\n",
    "print(f\"Number of boys: {male_count}\")"
   ]
  },
  {
   "cell_type": "code",
   "execution_count": 81,
   "metadata": {},
   "outputs": [],
   "source": [
    "# Names can generally be distinguished by the last character and bigrams. \n",
    "def create_dict(name, dir):\n",
    "    key = name[-1]\n",
    "    dir[key] = dir.get(key, 0) + 1\n",
    "\n",
    "    # Bigrams\n",
    "    for i in range(0, len(name)-1):\n",
    "        key = name[i:i+2]\n",
    "        dir[key] = dir.get(key, 0) + 1\n",
    "\n",
    "    return dir\n"
   ]
  },
  {
   "cell_type": "code",
   "execution_count": 82,
   "metadata": {},
   "outputs": [],
   "source": [
    "# Creating probability dictionary from train set\n",
    "\n",
    "girls_dir = {}\n",
    "boys_dir = {}\n",
    "\n",
    "# Names can generally be distinguished by the last character, use of vowels, bigrams and trigrams. Hence we consider features such as vowels, bigrams, trigrams etc.\n",
    "for i in range(len(train_df)):\n",
    "    name = train_df.iloc[i, 0].lower()\n",
    "    gender = train_df.iloc[i, 1]\n",
    "\n",
    "    # print(name, gender)\n",
    "\n",
    "    if gender == 1:\n",
    "        boys_dir = create_dict(name, boys_dir)\n",
    "    else:\n",
    "        girls_dir = create_dict(name, girls_dir)"
   ]
  },
  {
   "cell_type": "code",
   "execution_count": 83,
   "metadata": {},
   "outputs": [
    {
     "name": "stdout",
     "output_type": "stream",
     "text": [
      "702\n"
     ]
    }
   ],
   "source": [
    "total_features = 26 + 26*26\n",
    "print(total_features)"
   ]
  },
  {
   "cell_type": "code",
   "execution_count": 89,
   "metadata": {},
   "outputs": [
    {
     "name": "stdout",
     "output_type": "stream",
     "text": [
      "3352\n",
      "3411\n"
     ]
    }
   ],
   "source": [
    "total_boys_count = sum(boys_dir.values())\n",
    "print(total_boys_count)\n",
    "total_girls_count = sum(girls_dir.values())\n",
    "print(total_girls_count)"
   ]
  },
  {
   "cell_type": "code",
   "execution_count": 90,
   "metadata": {},
   "outputs": [],
   "source": [
    "def test_gender(name):\n",
    "    name = name.lower()\n",
    "    girls_prob = 0\n",
    "    boys_prob = 0\n",
    "    \n",
    "    # Performing Laplace Smoothing for each parameter\n",
    "    K = 1\n",
    "\n",
    "    # Last Character\n",
    "    girls_prob += np.log((girls_dir.get(name[-1], 0) + K)/(total_girls_count + K*total_features))\n",
    "    boys_prob += np.log((boys_dir.get(name[-1], 0) + K)/(total_boys_count + K*total_features)) \n",
    "\n",
    "    # Bigrams\n",
    "    for i in range(0, len(name)-1):\n",
    "        key = name[i] + name[i+1]\n",
    "        girls_prob += np.log((girls_dir.get(key, 0)+ K)/(total_girls_count + K*total_features))\n",
    "        boys_prob += np.log((boys_dir.get(key, 0)+ K)/(total_boys_count + K*total_features))  \n",
    "\n",
    "    if (girls_prob > boys_prob):\n",
    "        return \"girl\", girls_prob, boys_prob\n",
    "    else:\n",
    "        return \"boy\", girls_prob, boys_prob"
   ]
  },
  {
   "cell_type": "code",
   "execution_count": 91,
   "metadata": {},
   "outputs": [],
   "source": [
    "# Train Accuracy\n",
    "def get_accuracy(test):\n",
    "    miss = 0\n",
    "    performance_matrix = [[0, 0], [0, 0]]\n",
    "\n",
    "    for i in range(len(test)):\n",
    "        name = test.iloc[i, 0]\n",
    "        gender = test.iloc[i, 1]\n",
    "\n",
    "        pred, girls_prob, boys_prob = test_gender(name)\n",
    "        if (gender == 0 and pred == \"girl\"):\n",
    "            performance_matrix[0][0] += 1\n",
    "        elif (gender == 0 and pred == \"boy\"):\n",
    "            performance_matrix[0][1] += 1\n",
    "            miss += 1\n",
    "        elif (gender == 1 and pred == \"girl\"):\n",
    "            performance_matrix[1][0] += 1\n",
    "            miss += 1\n",
    "        elif (gender == 1 and pred == \"boy\"):\n",
    "            performance_matrix[1][1] += 1\n",
    "\n",
    "    return miss, performance_matrix"
   ]
  },
  {
   "cell_type": "code",
   "execution_count": 92,
   "metadata": {},
   "outputs": [
    {
     "name": "stdout",
     "output_type": "stream",
     "text": [
      "15 130\n",
      "test accuracy:  0.8846153846153846\n",
      "Confusion Matrix: [[77, 11], [4, 38]]\n"
     ]
    }
   ],
   "source": [
    "miss, performance_matrix = get_accuracy(test_df)\n",
    "\n",
    "print(miss, len(test_df))\n",
    "print(\"test accuracy: \", 1 - miss/(len(test_df)))\n",
    "print(\"Confusion Matrix:\", performance_matrix)"
   ]
  },
  {
   "cell_type": "code",
   "execution_count": null,
   "metadata": {},
   "outputs": [
    {
     "name": "stdout",
     "output_type": "stream",
     "text": [
      "I am sure Raavan is a boy.\n",
      "-29.4727117399137\n",
      "-26.656246203469784\n",
      "I am sure Mandodari is a girl.\n",
      "-46.64303289816588\n",
      "-48.36583309977995\n"
     ]
    }
   ],
   "source": [
    "# Testing with our own example\n",
    "name = \"Raavan\"\n",
    "gender, girls_prob, boys_prob = test_gender(name)\n",
    "print(\"I am sure \" + name + \" is a \" + gender + \".\")\n",
    "print(girls_prob)\n",
    "print(boys_prob)\n",
    "\n",
    "name = \"Mandodari\"\n",
    "gender, girls_prob, boys_prob = test_gender(name)\n",
    "print(\"I am sure \" + name + \" is a \" + gender + \".\")\n",
    "print(girls_prob)\n",
    "print(boys_prob)"
   ]
  }
 ],
 "metadata": {
  "kernelspec": {
   "display_name": "Python 3",
   "language": "python",
   "name": "python3"
  },
  "language_info": {
   "codemirror_mode": {
    "name": "ipython",
    "version": 3
   },
   "file_extension": ".py",
   "mimetype": "text/x-python",
   "name": "python",
   "nbconvert_exporter": "python",
   "pygments_lexer": "ipython3",
   "version": "3.13.3"
  }
 },
 "nbformat": 4,
 "nbformat_minor": 2
}
