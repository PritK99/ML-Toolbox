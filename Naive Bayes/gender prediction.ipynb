{
 "cells": [
  {
   "cell_type": "code",
   "execution_count": null,
   "metadata": {},
   "outputs": [],
   "source": [
    "# import all the required libraries\n",
    "import random"
   ]
  },
  {
   "cell_type": "code",
   "execution_count": 99,
   "metadata": {},
   "outputs": [
    {
     "name": "stdout",
     "output_type": "stream",
     "text": [
      "222 280\n",
      "['aaradhya', 'adah', 'adhira', 'alisha', 'amoli', 'anaisha', 'ananya', 'anika', 'anushka', 'asmee', 'avni', 'carina', 'chara', 'drishti', 'ela', 'eshika', 'geetika', 'gulika', 'hiya', 'hiral', 'ira', 'ishana', 'ishita', 'jeevika', 'kaia', 'kashvi', 'keya', 'kimaya', 'krisha', 'larisa', 'laasya', 'mahika', 'mayra', 'mehar', 'mirai', 'mishka', 'naitee', 'navya', 'nyra', 'nehrika', 'neysa', 'pavati', 'prisha', 'ryka', 'rebecca', 'saanvi', 'sahana', 'sai', 'saisha', 'saira', 'saloni', 'shanaya', 'shrishti', 'sneha', 'turvi', 'taahira', 'taara', 'tanvi', 'viti', 'zara', 'aagya', 'aaina', 'aas', 'akaljeet', 'amanroop', 'anika', 'birva', 'bisanpreet', 'charanpreet', 'dilreet', 'ekkam', 'faal', 'gurleen', 'gurmeet', 'heer', 'harleen', 'harveen', 'ikamroop', 'isha', 'ishmeet', 'katiya', 'mehr', 'nihaara', 'paakhi', 'parminder', 'simrat', 'sukhdeep', 'sukhleen', 'shirina', 'tavleen', 'ami', 'askini', 'anvi', 'bandhini', 'bansari', 'charmi', 'chavi', 'charul', 'drisna', 'dhara', 'dhruvi', 'jaisnavi', 'inika', 'vaidarbhi', 'ujas', 'urvashi', 'unnati', 'tejshri', 'tapti', 'sachi', 'sudakshima', 'sujal', 'saiyeisha', 'saurya', 'nandani', 'manayi', 'jagruti', 'jheel', 'jasodhara', 'revathy', 'reesha', 'priyanshi', 'preshti', 'preeksha', 'pragyawati', 'niradhara', 'vaani', 'vaidehi', 'yashi', 'yuvati', 'alekhya', 'amolika', 'aaghnya', 'bethina', 'brishti', 'cauvery', 'dayanita', 'elavarasi', 'garvita', 'kshyanika', 'lokini', 'lithiksha', 'mythri', 'mriganayani', 'naomi', 'odathi', 'oeshi', 'prushti', 'rajisha', 'rency', 'ramyadevi', 'rajshree', 'rethushana', 'rupeshwari', 'revanthi', 'rukumani', 'tritiya', 'tejshri', 'utalika', 'vrusti', 'aadarshini', 'aadhilakshmi', 'alaimagal', 'amrapali', 'bhaskari', 'bhuvaneshwari', 'brahmani', 'chandika', 'damayanti', 'devaki', 'dhanyalakshmi', 'eswari', 'ezhil rani', 'indhumathi', 'keshini', 'meenakshi', 'nithya', 'sri kalavathi', 'vadivukkarasi', 'velvizhi', 'aakriti', 'anuja', 'aradhana', 'aaruni', 'akshata', 'anupriya', 'anuradha', 'bhavani', 'bimla', 'chhaya', 'chitra', 'damini', 'dhanashri', 'divya', 'ekta', 'gargi', 'gayatri', 'gauri', 'hardika', 'jahnavi', 'kavita', 'kalpana', 'kinjal', 'lavanya', 'nikita', 'renuka', 'saraswati', 'shivani', 'tanuja', 'ujwala', 'abhilasha', 'achala', 'alka', 'aghanashini', 'ashalata', 'bhanuni', 'bhagyalakshmi', 'mandakini', 'madhumita', 'chandraprabha', 'chandrika', 'deepika', 'sukhmani', 'tredha', 'ekantika', 'ecchumati', 'methra', 'chitragandha', 'kiranmayi', 'kundanika', 'shubhada', 'iksha', 'indumukhi', 'jini', 'harinakshi', 'reneeka', 'vallari', 'yashmita', 'vajra', 'zena', 'anam', 'aasma', 'alfiya', 'adeeba', 'badr', 'breshna', 'daneen', 'eirna', 'erum', 'fatheha', 'fatima', 'farzeen', 'gulnar', 'gulnaz', 'heena', 'hayat', 'idris', 'iqra', 'kalima', 'kubra', 'kyra', 'mehar', 'madeeha', 'mahira', 'maisha', 'mishka', 'noor', 'nazia', 'quasar', 'qayanat', 'rabhya', 'sara', 'shaheen', 'sabiha', 'sahana', 'samaira', 'wafiya', 'zaida', 'zaha', 'zur']\n",
      "['aahva', 'aadiv', 'aahan', 'aarav', 'akanksh', 'alex', 'anant', 'atiksh', 'ayaan', 'bhuv', 'bhavin', 'brijesh', 'dasya', 'gian', 'hem', 'himanshu', 'hemant', 'hritik', 'hridhan', 'idhant', 'ishank', 'jash', 'jay', 'joseph', 'kabir', 'kahaan', 'kairav', 'kevin', 'laksh', 'luv', 'manan', 'mohammad', 'naksh', 'nimit', 'nirav', 'pahal', 'parv', 'pranay', 'rachit', 'raj', 'ranbir', 'ranveer', 'rishabh', 'raunak', 'reyansh', 'rishaan', 'rishit', 'rohan', 'rudra', 'rushil', 'sadhil', 'sarthak', 'taarush', 'taksh', 'ved', 'vihaan', 'vivaan', 'yash', 'yug', 'zuber', 'aneeldeep', 'amardeep', 'angad', 'bhagatveer', 'charanjeet', 'daler', 'deepinder', 'fatehbir', 'guneet', 'harbir', 'harbhajan', 'inderpal', 'karanveer', 'kuwarjeet', 'lavindeep', 'manandeep', 'maanas', 'navjot', 'paramjot', 'raunaq', 'raftaar', 'sikandar', 'sarabjit', 'surjan', 'tanvir', 'upinder', 'umed', 'wasimjit', 'yuvraj', 'yogender', 'aarsh', 'amish', 'batuk', 'bhavesh', 'bhavik', 'bhavin', 'chintan', 'chirayu', 'daiwik', 'daksh', 'darsh', 'deval', 'dhaval', 'dharmesh', 'falgun', 'girish', 'hemendra', 'harsh', 'herik', 'ishanyu', 'jainam', 'jigar', 'joshil', 'jignesh', 'parth', 'preetesh', 'pujesh', 'priyanshu', 'sunil', 'yug', 'aadrik', 'aarv', 'bhargava', 'charish', 'dignesh', 'geetham', 'geethik', 'govindaram', 'kalaparan', 'kshatragna', 'mullinti', 'nayanesh', 'nihant', 'prajith', 'reshvind', 'rajasekaran', 'thanvye', 'srivasthav', 'sridhara', 'vishu', 'vijayrathna', 'venkatesh', 'aadithyakethu', 'aadhirai', 'bala subramani', 'bhagyanandana', 'chithravarma', 'chitrasen', 'devayan', 'girinath', 'jayadeva', 'navamani', 'nakulesh', 'oshin', 'prasannatmane', 'parasmaijyotishe', 'sudharma', 'samarpana', 'sriharsha', 'vishveshwara', 'vijayrathna', 'venkatesh', 'abhinay', 'ajinkya', 'amey', 'bhushan', 'chinmay', 'gajanan', 'gandharv', 'harshal', 'harshavardhan', 'lavnik', 'mandar', 'mayur', 'pranay', 'prathamesh', 'pushkar', 'sankalp', 'sanket', 'shantanu', 'shashank', 'siddhesh', 'ayushya', 'arulappan', 'arindham', 'bal mukund', 'balaark', 'chellamuthu', 'cheranraj', 'chidakash', 'chellamani', 'daithyakulantaka', 'dhyutidhara', 'eeswar', 'elilvendan', 'ethiraj', 'murlimanohar', 'maandavik', 'mal marugan', 'tusya udarchis', 'tatvagyanaprada', 'vighnarajendra', 'adib', 'basir', 'chafik', 'diya al din', 'ehan', 'fadil', 'hussain', 'ijaz', 'jabeer', 'karim', 'liban', 'mastan', 'najeeb', 'owez', 'parvez', 'qadir', 'riyad', 'suhail', 'taabish', 'umraa']\n"
     ]
    }
   ],
   "source": [
    "# Read the dataset\n",
    "f = open(\"data/girls.txt\", \"r\")\n",
    "girls = []\n",
    "for girl in f:\n",
    "    girls.append(girl[:-1].lower())\n",
    "\n",
    "f = open(\"data/boys.txt\", \"r\")\n",
    "boys = []\n",
    "for boy in f:\n",
    "    boys.append(boy[:-1].lower())\n",
    "\n",
    "print(len(boys), len(girls))\n",
    "print(girls)\n",
    "print(boys)"
   ]
  },
  {
   "cell_type": "code",
   "execution_count": 100,
   "metadata": {},
   "outputs": [
    {
     "name": "stdout",
     "output_type": "stream",
     "text": [
      "22 28\n",
      "['harbir', 'daiwik', 'chellamuthu', 'govindaram', 'parv', 'yuvraj', 'surjan', 'jash', 'jignesh', 'aadhirai', 'pushkar', 'chirayu', 'pujesh', 'hussain', 'fatehbir', 'vighnarajendra', 'suhail', 'aneeldeep', 'himanshu', 'sudharma', 'mohammad', 'sadhil']\n",
      "['sukhmani', 'utalika', 'simrat', 'yuvati', 'shrishti', 'shaheen', 'ishana', 'revanthi', 'amrapali', 'prushti', 'taahira', 'ecchumati', 'charmi', 'aaruni', 'drishti', 'garvita', 'mehr', 'kinjal', 'mahika', 'anika', 'chitra', 'odathi', 'badr', 'preeksha', 'fatheha', 'sahana', 'tejshri', 'madeeha']\n",
      "200 252\n"
     ]
    }
   ],
   "source": [
    "# split training and test data\n",
    "\n",
    "test_girls = []\n",
    "test_boys = []\n",
    "\n",
    "split_ratio = 0.1\n",
    "\n",
    "test_boys_size = int(len(boys) * split_ratio)\n",
    "test_girls_size = int(len(girls) * split_ratio)\n",
    "\n",
    "test_boys_indices = random.sample(boys, test_boys_size)\n",
    "test_girls_indices = random.sample(girls, test_girls_size)\n",
    "\n",
    "for i in test_boys_indices:\n",
    "    test_boys.append(i)\n",
    "    boys.remove(i)\n",
    "\n",
    "for i in test_girls_indices:\n",
    "    test_girls.append(i)\n",
    "    girls.remove(i)\n",
    "    \n",
    "print(len(test_boys), len(test_girls))\n",
    "print(test_boys)\n",
    "print(test_girls)\n",
    "print(len(boys), len(girls))"
   ]
  },
  {
   "cell_type": "code",
   "execution_count": 101,
   "metadata": {},
   "outputs": [],
   "source": [
    "# Indian names can generally be distinguished by the last character, use of vowels, bigrams and trigrams. Hence we consider features such as vowels, bigrams, trigrams etc.\n",
    "\n",
    "girls_dir = {}\n",
    "boys_dir = {}\n",
    "\n",
    "# Last character for girls\n",
    "for girl in girls:\n",
    "    key = girl[-1]\n",
    "    girls_dir[key] = girls_dir.get(key, 0) + 1\n",
    "\n",
    "# Bigrams for girls\n",
    "for girl in girls:\n",
    "    for i in range(0, len(girl)-1):\n",
    "        key = girl[i:i+2]\n",
    "        girls_dir[key] = girls_dir.get(key, 0) + 1\n",
    "\n",
    "# Trigrams for girls\n",
    "for girl in girls:\n",
    "    for i in range(0, len(girl)-2):\n",
    "        key = girl[i:i+3]\n",
    "        girls_dir[key] = girls_dir.get(key, 0) + 1\n",
    "\n",
    "# Quadgrams for girls\n",
    "# for girl in girls:\n",
    "#     for i in range(0, len(girl)-3):\n",
    "#         key = girl[i:i+4]\n",
    "#         girls_dir[key] = girls_dir.get(key, 0) + 1\n",
    "\n",
    "# Last character for boys\n",
    "for boy in boys:\n",
    "    key = boy[-1]\n",
    "    boys_dir[key] = boys_dir.get(key, 0) + 1\n",
    "\n",
    "# Bigrams for boys\n",
    "for boy in boys:\n",
    "    for i in range(0, len(boy)-1):\n",
    "        key = boy[i:i+2]\n",
    "        boys_dir[key] = boys_dir.get(key, 0) + 1\n",
    "\n",
    "# Trigrams for boys\n",
    "for boy in boys:\n",
    "    for i in range(0, len(boy)-2):\n",
    "        key = boy[i:i+3]\n",
    "        boys_dir[key] = boys_dir.get(key, 0) + 1\n",
    "\n",
    "# Quadgrams for boys\n",
    "# for boy in boys:\n",
    "#     for i in range(0, len(boy)-3):\n",
    "#         key = boy[i:i+4]\n",
    "#         boys_dir[key] = boys_dir.get(key, 0) + 1"
   ]
  },
  {
   "cell_type": "code",
   "execution_count": 102,
   "metadata": {},
   "outputs": [
    {
     "name": "stdout",
     "output_type": "stream",
     "text": [
      "2398\n",
      "2820\n"
     ]
    }
   ],
   "source": [
    "total_boys_count = sum(boys_dir.values())\n",
    "print(total_boys_count)\n",
    "total_girls_count = sum(girls_dir.values())\n",
    "print(total_girls_count)"
   ]
  },
  {
   "cell_type": "code",
   "execution_count": 103,
   "metadata": {},
   "outputs": [],
   "source": [
    "def test_gender(name):\n",
    "    name = name.lower()\n",
    "    girls_prob = 0\n",
    "    boys_prob = 0\n",
    "    \n",
    "    # performing laplace smoothing\n",
    "\n",
    "    # Last Character\n",
    "    girls_prob += (girls_dir.get(name[-1], 0)+ 1)/(total_girls_count + len(girls_dir))\n",
    "    boys_prob += (boys_dir.get(name[-1], 0)+ 1)/(total_boys_count + len(boys_dir))  \n",
    "\n",
    "    # Bigrams\n",
    "    for i in range(0, len(name)-1):\n",
    "        key = name[i] + name[i+1]\n",
    "        girls_prob += (girls_dir.get(key, 0)+ 1)/(total_girls_count + len(girls_dir))\n",
    "        boys_prob += (boys_dir.get(key, 0)+ 1)/(total_boys_count + len(boys_dir))  \n",
    "    \n",
    "    # Trigrams\n",
    "    for i in range(0, len(name)-2):\n",
    "        key = name[i] + name[i+1] + name[i+2]\n",
    "        girls_prob += (girls_dir.get(key, 0)+ 1)/(total_girls_count + len(girls_dir))\n",
    "        boys_prob += (boys_dir.get(key, 0)+ 1)/(total_boys_count + len(boys_dir))  \n",
    "    \n",
    "    # Quadgrams\n",
    "    # for i in range(0, len(name)-3):\n",
    "    #     key = name[i] + name[i+1] + name[i+2] + name[i+3]\n",
    "    #     girls_prob += girls_dir.get(key, 1/total_girls_count)\n",
    "    #     boys_prob += boys_dir.get(key, 1/total_boys_count)\n",
    "\n",
    "    if (girls_prob > boys_prob):\n",
    "        return \"girl\"\n",
    "    else:\n",
    "        return \"boy\""
   ]
  },
  {
   "cell_type": "code",
   "execution_count": 104,
   "metadata": {},
   "outputs": [
    {
     "name": "stdout",
     "output_type": "stream",
     "text": [
      "60 452\n",
      "train accuracy:  0.8672566371681416\n",
      "Confusion Matrix: [[163, 37], [23, 229]]\n"
     ]
    }
   ],
   "source": [
    "# Train Accuracy\n",
    "\n",
    "miss = 0\n",
    "performance_matrix = [[0, 0], [0, 0]]\n",
    "\n",
    "for girl in girls:\n",
    "    gender = test_gender(girl)\n",
    "    if (gender == \"boy\"):\n",
    "        miss += 1\n",
    "        performance_matrix[1][0] += 1\n",
    "    else:\n",
    "        performance_matrix[1][1] += 1\n",
    "\n",
    "for boy in boys:\n",
    "    gender = test_gender(boy)\n",
    "    if (gender == \"girl\"):\n",
    "        miss += 1\n",
    "        performance_matrix[0][1] += 1\n",
    "    else:\n",
    "        performance_matrix[0][0] += 1\n",
    "\n",
    "print(miss, len(girls)+len(boys))\n",
    "print(\"train accuracy: \", 1 - miss/(len(girls)+len(boys)))\n",
    "print(\"Confusion Matrix:\", performance_matrix)"
   ]
  },
  {
   "cell_type": "code",
   "execution_count": 105,
   "metadata": {},
   "outputs": [
    {
     "name": "stdout",
     "output_type": "stream",
     "text": [
      "10 50\n",
      "test accuracy:  0.8\n",
      "Confusion Matrix: [[17, 5], [5, 23]]\n"
     ]
    }
   ],
   "source": [
    "# Test Accuracy\n",
    "\n",
    "miss = 0\n",
    "performance_matrix = [[0, 0], [0, 0]]\n",
    "\n",
    "for girl in test_girls:\n",
    "    gender = test_gender(girl)\n",
    "    if (gender == \"boy\"):\n",
    "        miss += 1\n",
    "        performance_matrix[1][0] += 1\n",
    "    else:\n",
    "        performance_matrix[1][1] += 1\n",
    "\n",
    "for boy in test_boys:\n",
    "    gender = test_gender(boy)\n",
    "    if (gender == \"girl\"):\n",
    "        miss += 1\n",
    "        performance_matrix[0][1] += 1\n",
    "    else:\n",
    "        performance_matrix[0][0] += 1\n",
    "\n",
    "print(miss, len(test_girls)+len(test_boys))\n",
    "print(\"test accuracy: \", 1 - miss/(len(test_girls)+len(test_boys)))\n",
    "print(\"Confusion Matrix:\", performance_matrix)"
   ]
  },
  {
   "cell_type": "code",
   "execution_count": 111,
   "metadata": {},
   "outputs": [
    {
     "name": "stdout",
     "output_type": "stream",
     "text": [
      "I am sure Chandan is a boy.\n",
      "I am sure Chandanbala is a girl.\n"
     ]
    }
   ],
   "source": [
    "# The above results show that number of misclassification in boys name is slightly greater than in girls name. We achieve 80% accuracy for test dataset and 86.7 for train data.\n",
    "\n",
    "#Sample Input\n",
    "name = \"Chandan\"\n",
    "\n",
    "gender = test_gender(name)\n",
    "print(\"I am sure \" + name + \" is a \" + gender + \".\")\n",
    "\n",
    "#Sample Input\n",
    "name = \"Chandanbala\"\n",
    "\n",
    "gender = test_gender(name)\n",
    "print(\"I am sure \" + name + \" is a \" + gender + \".\")"
   ]
  }
 ],
 "metadata": {
  "kernelspec": {
   "display_name": "Python 3",
   "language": "python",
   "name": "python3"
  },
  "language_info": {
   "codemirror_mode": {
    "name": "ipython",
    "version": 3
   },
   "file_extension": ".py",
   "mimetype": "text/x-python",
   "name": "python",
   "nbconvert_exporter": "python",
   "pygments_lexer": "ipython3",
   "version": "3.11.0"
  }
 },
 "nbformat": 4,
 "nbformat_minor": 2
}
