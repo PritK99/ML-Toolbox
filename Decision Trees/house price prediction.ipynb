{
 "cells": [
  {
   "cell_type": "markdown",
   "metadata": {},
   "source": [
    "## Mumbai House Price Prediction using Decision Trees ( Regression Trees )"
   ]
  },
  {
   "cell_type": "code",
   "execution_count": 1,
   "metadata": {},
   "outputs": [],
   "source": [
    "# Import all the required libraries\n",
    "import numpy as np\n",
    "import pandas as pd\n",
    "import matplotlib.pyplot as plt"
   ]
  },
  {
   "cell_type": "code",
   "execution_count": 2,
   "metadata": {},
   "outputs": [],
   "source": [
    "# Obtain the modified csv \n",
    "data = \"../assets/data/modified_mumbai_house_prices.csv\"\n",
    "house_price = pd.read_csv(data)\n",
    "\n",
    "# Refer assets/scripts/house-price-dataset.py for preprocessing steps"
   ]
  },
  {
   "cell_type": "code",
   "execution_count": 3,
   "metadata": {},
   "outputs": [
    {
     "name": "stdout",
     "output_type": "stream",
     "text": [
      "<class 'pandas.core.frame.DataFrame'>\n",
      "RangeIndex: 76038 entries, 0 to 76037\n",
      "Data columns (total 8 columns):\n",
      " #   Column     Non-Null Count  Dtype  \n",
      "---  ------     --------------  -----  \n",
      " 0   bhk        76038 non-null  int64  \n",
      " 1   type       76038 non-null  float64\n",
      " 2   area       76038 non-null  int64  \n",
      " 3   price      76038 non-null  float64\n",
      " 4   status     76038 non-null  int64  \n",
      " 5   age        76038 non-null  float64\n",
      " 6   latitude   76038 non-null  float64\n",
      " 7   longitude  76038 non-null  float64\n",
      "dtypes: float64(5), int64(3)\n",
      "memory usage: 4.6 MB\n",
      "None\n"
     ]
    }
   ],
   "source": [
    "# printing the info for dataset\n",
    "print(house_price.info())"
   ]
  },
  {
   "cell_type": "code",
   "execution_count": 4,
   "metadata": {},
   "outputs": [
    {
     "data": {
      "text/html": [
       "<div>\n",
       "<style scoped>\n",
       "    .dataframe tbody tr th:only-of-type {\n",
       "        vertical-align: middle;\n",
       "    }\n",
       "\n",
       "    .dataframe tbody tr th {\n",
       "        vertical-align: top;\n",
       "    }\n",
       "\n",
       "    .dataframe thead th {\n",
       "        text-align: right;\n",
       "    }\n",
       "</style>\n",
       "<table border=\"1\" class=\"dataframe\">\n",
       "  <thead>\n",
       "    <tr style=\"text-align: right;\">\n",
       "      <th></th>\n",
       "      <th>bhk</th>\n",
       "      <th>type</th>\n",
       "      <th>area</th>\n",
       "      <th>price</th>\n",
       "      <th>status</th>\n",
       "      <th>age</th>\n",
       "      <th>latitude</th>\n",
       "      <th>longitude</th>\n",
       "    </tr>\n",
       "  </thead>\n",
       "  <tbody>\n",
       "    <tr>\n",
       "      <th>0</th>\n",
       "      <td>3</td>\n",
       "      <td>0.25</td>\n",
       "      <td>685</td>\n",
       "      <td>2.5000</td>\n",
       "      <td>1</td>\n",
       "      <td>1.0</td>\n",
       "      <td>19.112122</td>\n",
       "      <td>72.867676</td>\n",
       "    </tr>\n",
       "    <tr>\n",
       "      <th>1</th>\n",
       "      <td>2</td>\n",
       "      <td>0.25</td>\n",
       "      <td>640</td>\n",
       "      <td>0.5251</td>\n",
       "      <td>0</td>\n",
       "      <td>1.0</td>\n",
       "      <td>18.969048</td>\n",
       "      <td>72.821182</td>\n",
       "    </tr>\n",
       "    <tr>\n",
       "      <th>2</th>\n",
       "      <td>2</td>\n",
       "      <td>0.25</td>\n",
       "      <td>610</td>\n",
       "      <td>1.7300</td>\n",
       "      <td>0</td>\n",
       "      <td>1.0</td>\n",
       "      <td>18.563005</td>\n",
       "      <td>73.906578</td>\n",
       "    </tr>\n",
       "    <tr>\n",
       "      <th>3</th>\n",
       "      <td>2</td>\n",
       "      <td>0.25</td>\n",
       "      <td>876</td>\n",
       "      <td>0.5998</td>\n",
       "      <td>0</td>\n",
       "      <td>1.0</td>\n",
       "      <td>18.999653</td>\n",
       "      <td>73.126328</td>\n",
       "    </tr>\n",
       "    <tr>\n",
       "      <th>4</th>\n",
       "      <td>2</td>\n",
       "      <td>0.25</td>\n",
       "      <td>659</td>\n",
       "      <td>0.9411</td>\n",
       "      <td>0</td>\n",
       "      <td>1.0</td>\n",
       "      <td>18.969048</td>\n",
       "      <td>72.821182</td>\n",
       "    </tr>\n",
       "  </tbody>\n",
       "</table>\n",
       "</div>"
      ],
      "text/plain": [
       "   bhk  type  area   price  status  age   latitude  longitude\n",
       "0    3  0.25   685  2.5000       1  1.0  19.112122  72.867676\n",
       "1    2  0.25   640  0.5251       0  1.0  18.969048  72.821182\n",
       "2    2  0.25   610  1.7300       0  1.0  18.563005  73.906578\n",
       "3    2  0.25   876  0.5998       0  1.0  18.999653  73.126328\n",
       "4    2  0.25   659  0.9411       0  1.0  18.969048  72.821182"
      ]
     },
     "execution_count": 4,
     "metadata": {},
     "output_type": "execute_result"
    }
   ],
   "source": [
    "house_price.head()"
   ]
  },
  {
   "cell_type": "code",
   "execution_count": 5,
   "metadata": {},
   "outputs": [
    {
     "data": {
      "text/plain": [
       "(76038, 8)"
      ]
     },
     "execution_count": 5,
     "metadata": {},
     "output_type": "execute_result"
    }
   ],
   "source": [
    "house_price.shape"
   ]
  },
  {
   "cell_type": "code",
   "execution_count": 15,
   "metadata": {},
   "outputs": [
    {
     "name": "stdout",
     "output_type": "stream",
     "text": [
      "The size of X_train is:  (68436, 7)\n",
      "The size of y_train is:  68436\n",
      "The size of X_val is:  (3801, 7)\n",
      "The size of y_val is:  3801\n",
      "The size of X_test is:  (3801, 7)\n",
      "The size of y_test is:  3801\n"
     ]
    }
   ],
   "source": [
    "# Define the ratios for train, test, and validation sets\n",
    "test_ratio = 0.05\n",
    "val_ratio = 0.05\n",
    "\n",
    "indices = list(house_price.index)\n",
    "\n",
    "# Calculate the number of samples for the testing and validation sets\n",
    "test_size = int(test_ratio * len(house_price))\n",
    "val_size = int(val_ratio * len(house_price))\n",
    "\n",
    "# Split the indices into training, testing, and validation sets\n",
    "test_indices = indices[:test_size]\n",
    "val_indices = indices[test_size:test_size+val_size]\n",
    "train_indices = indices[test_size+val_size:]\n",
    "\n",
    "# Create training, validation, and testing sets\n",
    "X_train = house_price.loc[train_indices]\n",
    "X_val = house_price.loc[val_indices]\n",
    "X_test = house_price.loc[test_indices]\n",
    "\n",
    "# Extract target variable\n",
    "y_train = X_train.pop(\"price\")\n",
    "y_val = X_val.pop(\"price\")\n",
    "y_test = X_test.pop(\"price\")\n",
    "\n",
    "print(\"The size of X_train is: \", X_train.shape)\n",
    "print(\"The size of y_train is: \", len(y_train))\n",
    "print(\"The size of X_val is: \", X_val.shape)\n",
    "print(\"The size of y_val is: \", len(y_val))\n",
    "print(\"The size of X_test is: \", X_test.shape)\n",
    "print(\"The size of y_test is: \", len(y_test))"
   ]
  },
  {
   "cell_type": "code",
   "execution_count": 16,
   "metadata": {},
   "outputs": [],
   "source": [
    "# First we define a decision node using class\n",
    "class Node:\n",
    "   def __init__(self, dim, val, left, right):\n",
    "      self.left = None\n",
    "      self.right = None\n",
    "      self.dim = dim\n",
    "      self.val = val\n",
    "\n",
    "# Defining class for a leaf node\n",
    "class Leaf:\n",
    "   def __init__(self, data):\n",
    "      self.data = data"
   ]
  },
  {
   "cell_type": "code",
   "execution_count": 17,
   "metadata": {},
   "outputs": [],
   "source": [
    "# MAE loss\n",
    "def calculate_loss(y):\n",
    "    if len(y) == 0:\n",
    "        return 0\n",
    "    return (abs(y - y.mean())).mean()"
   ]
  },
  {
   "cell_type": "code",
   "execution_count": 38,
   "metadata": {},
   "outputs": [],
   "source": [
    "def get_best_split(X_train, y_train):\n",
    "    best_loss = 999999\n",
    "    best_split_val = 0\n",
    "    best_split_dim = 0\n",
    "    for col in X_train.columns:\n",
    "        print(\"Testing: \", col)\n",
    "        data = X_train[col].sort_values().reset_index(drop=True)\n",
    "\n",
    "        for i in range(len(data) - 1):\n",
    "            split_val = (data.iloc[i] + data.iloc[i + 1]) / 2\n",
    "            \n",
    "            left_mask = X_train[col] <= split_val  \n",
    "            right_mask = X_train[col] > split_val\n",
    "\n",
    "            X_left = X_train[left_mask]\n",
    "            y_left = y_train[left_mask]\n",
    "\n",
    "            X_right = X_train[right_mask]\n",
    "            y_right = y_train[right_mask]\n",
    "\n",
    "            left_loss = calculate_loss(y_left)\n",
    "            right_loss = calculate_loss(y_right)  \n",
    "\n",
    "            total_loss = (len(X_left)/len(X_train))*left_loss + (len(X_right)/len(X_train))*right_loss\n",
    "\n",
    "            if total_loss < best_loss:\n",
    "                best_loss = total_loss\n",
    "                best_split_val = split_val\n",
    "                best_split_dim = col\n",
    "    \n",
    "    left_mask = X_train[best_split_dim] <= best_split_val  \n",
    "    right_mask = X_train[best_split_dim] > best_split_val\n",
    "\n",
    "    X_left = X_train[left_mask]\n",
    "    y_left = y_train[left_mask]\n",
    "\n",
    "    X_right = X_train[right_mask]\n",
    "    y_right = y_train[right_mask]\n",
    "    \n",
    "    return best_split_dim, best_split_val, X_left, y_left, X_right, y_right\n"
   ]
  },
  {
   "cell_type": "code",
   "execution_count": 39,
   "metadata": {},
   "outputs": [
    {
     "name": "stdout",
     "output_type": "stream",
     "text": [
      "Testing:  bhk\n",
      "Testing:  type\n"
     ]
    },
    {
     "ename": "KeyboardInterrupt",
     "evalue": "",
     "output_type": "error",
     "traceback": [
      "\u001b[1;31m---------------------------------------------------------------------------\u001b[0m",
      "\u001b[1;31mKeyboardInterrupt\u001b[0m                         Traceback (most recent call last)",
      "Cell \u001b[1;32mIn[39], line 1\u001b[0m\n\u001b[1;32m----> 1\u001b[0m best_split_dim, best_split_val, X_left, y_left, X_right, y_right \u001b[38;5;241m=\u001b[39m \u001b[43mget_best_split\u001b[49m\u001b[43m(\u001b[49m\u001b[43mX_train\u001b[49m\u001b[43m,\u001b[49m\u001b[43m \u001b[49m\u001b[43my_train\u001b[49m\u001b[43m)\u001b[49m\n",
      "Cell \u001b[1;32mIn[38], line 21\u001b[0m, in \u001b[0;36mget_best_split\u001b[1;34m(X_train, y_train)\u001b[0m\n\u001b[0;32m     18\u001b[0m X_right \u001b[38;5;241m=\u001b[39m X_train[right_mask]\n\u001b[0;32m     19\u001b[0m y_right \u001b[38;5;241m=\u001b[39m y_train[right_mask]\n\u001b[1;32m---> 21\u001b[0m left_loss \u001b[38;5;241m=\u001b[39m \u001b[43mcalculate_loss\u001b[49m\u001b[43m(\u001b[49m\u001b[43my_left\u001b[49m\u001b[43m)\u001b[49m\n\u001b[0;32m     22\u001b[0m right_loss \u001b[38;5;241m=\u001b[39m calculate_loss(y_right)  \n\u001b[0;32m     24\u001b[0m total_loss \u001b[38;5;241m=\u001b[39m (\u001b[38;5;28mlen\u001b[39m(X_left)\u001b[38;5;241m/\u001b[39m\u001b[38;5;28mlen\u001b[39m(X_train))\u001b[38;5;241m*\u001b[39mleft_loss \u001b[38;5;241m+\u001b[39m (\u001b[38;5;28mlen\u001b[39m(X_right)\u001b[38;5;241m/\u001b[39m\u001b[38;5;28mlen\u001b[39m(X_train))\u001b[38;5;241m*\u001b[39mright_loss\n",
      "Cell \u001b[1;32mIn[17], line 5\u001b[0m, in \u001b[0;36mcalculate_loss\u001b[1;34m(y)\u001b[0m\n\u001b[0;32m      3\u001b[0m \u001b[38;5;28;01mif\u001b[39;00m \u001b[38;5;28mlen\u001b[39m(y) \u001b[38;5;241m==\u001b[39m \u001b[38;5;241m0\u001b[39m:\n\u001b[0;32m      4\u001b[0m     \u001b[38;5;28;01mreturn\u001b[39;00m \u001b[38;5;241m0\u001b[39m\n\u001b[1;32m----> 5\u001b[0m \u001b[38;5;28;01mreturn\u001b[39;00m \u001b[43m(\u001b[49m\u001b[38;5;28;43mabs\u001b[39;49m\u001b[43m(\u001b[49m\u001b[43my\u001b[49m\u001b[43m \u001b[49m\u001b[38;5;241;43m-\u001b[39;49m\u001b[43m \u001b[49m\u001b[43my\u001b[49m\u001b[38;5;241;43m.\u001b[39;49m\u001b[43mmean\u001b[49m\u001b[43m(\u001b[49m\u001b[43m)\u001b[49m\u001b[43m)\u001b[49m\u001b[43m)\u001b[49m\u001b[38;5;241;43m.\u001b[39;49m\u001b[43mmean\u001b[49m\u001b[43m(\u001b[49m\u001b[43m)\u001b[49m\n",
      "File \u001b[1;32mc:\\Users\\pritp\\AppData\\Local\\Programs\\Python\\Python311\\Lib\\site-packages\\pandas\\core\\generic.py:11847\u001b[0m, in \u001b[0;36mNDFrame._add_numeric_operations.<locals>.mean\u001b[1;34m(self, axis, skipna, level, numeric_only, **kwargs)\u001b[0m\n\u001b[0;32m  11829\u001b[0m \u001b[38;5;129m@doc\u001b[39m(\n\u001b[0;32m  11830\u001b[0m     _num_doc,\n\u001b[0;32m  11831\u001b[0m     desc\u001b[38;5;241m=\u001b[39m\u001b[38;5;124m\"\u001b[39m\u001b[38;5;124mReturn the mean of the values over the requested axis.\u001b[39m\u001b[38;5;124m\"\u001b[39m,\n\u001b[1;32m   (...)\u001b[0m\n\u001b[0;32m  11845\u001b[0m     \u001b[38;5;241m*\u001b[39m\u001b[38;5;241m*\u001b[39mkwargs,\n\u001b[0;32m  11846\u001b[0m ):\n\u001b[1;32m> 11847\u001b[0m     \u001b[38;5;28;01mreturn\u001b[39;00m \u001b[43mNDFrame\u001b[49m\u001b[38;5;241;43m.\u001b[39;49m\u001b[43mmean\u001b[49m\u001b[43m(\u001b[49m\u001b[38;5;28;43mself\u001b[39;49m\u001b[43m,\u001b[49m\u001b[43m \u001b[49m\u001b[43maxis\u001b[49m\u001b[43m,\u001b[49m\u001b[43m \u001b[49m\u001b[43mskipna\u001b[49m\u001b[43m,\u001b[49m\u001b[43m \u001b[49m\u001b[43mlevel\u001b[49m\u001b[43m,\u001b[49m\u001b[43m \u001b[49m\u001b[43mnumeric_only\u001b[49m\u001b[43m,\u001b[49m\u001b[43m \u001b[49m\u001b[38;5;241;43m*\u001b[39;49m\u001b[38;5;241;43m*\u001b[39;49m\u001b[43mkwargs\u001b[49m\u001b[43m)\u001b[49m\n",
      "File \u001b[1;32mc:\\Users\\pritp\\AppData\\Local\\Programs\\Python\\Python311\\Lib\\site-packages\\pandas\\core\\generic.py:11401\u001b[0m, in \u001b[0;36mNDFrame.mean\u001b[1;34m(self, axis, skipna, level, numeric_only, **kwargs)\u001b[0m\n\u001b[0;32m  11393\u001b[0m \u001b[38;5;28;01mdef\u001b[39;00m \u001b[38;5;21mmean\u001b[39m(\n\u001b[0;32m  11394\u001b[0m     \u001b[38;5;28mself\u001b[39m,\n\u001b[0;32m  11395\u001b[0m     axis: Axis \u001b[38;5;241m|\u001b[39m \u001b[38;5;28;01mNone\u001b[39;00m \u001b[38;5;241m|\u001b[39m lib\u001b[38;5;241m.\u001b[39mNoDefault \u001b[38;5;241m=\u001b[39m lib\u001b[38;5;241m.\u001b[39mno_default,\n\u001b[1;32m   (...)\u001b[0m\n\u001b[0;32m  11399\u001b[0m     \u001b[38;5;241m*\u001b[39m\u001b[38;5;241m*\u001b[39mkwargs,\n\u001b[0;32m  11400\u001b[0m ) \u001b[38;5;241m-\u001b[39m\u001b[38;5;241m>\u001b[39m Series \u001b[38;5;241m|\u001b[39m \u001b[38;5;28mfloat\u001b[39m:\n\u001b[1;32m> 11401\u001b[0m     \u001b[38;5;28;01mreturn\u001b[39;00m \u001b[38;5;28;43mself\u001b[39;49m\u001b[38;5;241;43m.\u001b[39;49m\u001b[43m_stat_function\u001b[49m\u001b[43m(\u001b[49m\n\u001b[0;32m  11402\u001b[0m \u001b[43m        \u001b[49m\u001b[38;5;124;43m\"\u001b[39;49m\u001b[38;5;124;43mmean\u001b[39;49m\u001b[38;5;124;43m\"\u001b[39;49m\u001b[43m,\u001b[49m\u001b[43m \u001b[49m\u001b[43mnanops\u001b[49m\u001b[38;5;241;43m.\u001b[39;49m\u001b[43mnanmean\u001b[49m\u001b[43m,\u001b[49m\u001b[43m \u001b[49m\u001b[43maxis\u001b[49m\u001b[43m,\u001b[49m\u001b[43m \u001b[49m\u001b[43mskipna\u001b[49m\u001b[43m,\u001b[49m\u001b[43m \u001b[49m\u001b[43mlevel\u001b[49m\u001b[43m,\u001b[49m\u001b[43m \u001b[49m\u001b[43mnumeric_only\u001b[49m\u001b[43m,\u001b[49m\u001b[43m \u001b[49m\u001b[38;5;241;43m*\u001b[39;49m\u001b[38;5;241;43m*\u001b[39;49m\u001b[43mkwargs\u001b[49m\n\u001b[0;32m  11403\u001b[0m \u001b[43m    \u001b[49m\u001b[43m)\u001b[49m\n",
      "File \u001b[1;32mc:\\Users\\pritp\\AppData\\Local\\Programs\\Python\\Python311\\Lib\\site-packages\\pandas\\core\\generic.py:11353\u001b[0m, in \u001b[0;36mNDFrame._stat_function\u001b[1;34m(self, name, func, axis, skipna, level, numeric_only, **kwargs)\u001b[0m\n\u001b[0;32m  11343\u001b[0m     warnings\u001b[38;5;241m.\u001b[39mwarn(\n\u001b[0;32m  11344\u001b[0m         \u001b[38;5;124m\"\u001b[39m\u001b[38;5;124mUsing the level keyword in DataFrame and Series aggregations is \u001b[39m\u001b[38;5;124m\"\u001b[39m\n\u001b[0;32m  11345\u001b[0m         \u001b[38;5;124m\"\u001b[39m\u001b[38;5;124mdeprecated and will be removed in a future version. Use groupby \u001b[39m\u001b[38;5;124m\"\u001b[39m\n\u001b[1;32m   (...)\u001b[0m\n\u001b[0;32m  11348\u001b[0m         stacklevel\u001b[38;5;241m=\u001b[39mfind_stack_level(),\n\u001b[0;32m  11349\u001b[0m     )\n\u001b[0;32m  11350\u001b[0m     \u001b[38;5;28;01mreturn\u001b[39;00m \u001b[38;5;28mself\u001b[39m\u001b[38;5;241m.\u001b[39m_agg_by_level(\n\u001b[0;32m  11351\u001b[0m         name, axis\u001b[38;5;241m=\u001b[39maxis, level\u001b[38;5;241m=\u001b[39mlevel, skipna\u001b[38;5;241m=\u001b[39mskipna, numeric_only\u001b[38;5;241m=\u001b[39mnumeric_only\n\u001b[0;32m  11352\u001b[0m     )\n\u001b[1;32m> 11353\u001b[0m \u001b[38;5;28;01mreturn\u001b[39;00m \u001b[38;5;28;43mself\u001b[39;49m\u001b[38;5;241;43m.\u001b[39;49m\u001b[43m_reduce\u001b[49m\u001b[43m(\u001b[49m\n\u001b[0;32m  11354\u001b[0m \u001b[43m    \u001b[49m\u001b[43mfunc\u001b[49m\u001b[43m,\u001b[49m\u001b[43m \u001b[49m\u001b[43mname\u001b[49m\u001b[38;5;241;43m=\u001b[39;49m\u001b[43mname\u001b[49m\u001b[43m,\u001b[49m\u001b[43m \u001b[49m\u001b[43maxis\u001b[49m\u001b[38;5;241;43m=\u001b[39;49m\u001b[43maxis\u001b[49m\u001b[43m,\u001b[49m\u001b[43m \u001b[49m\u001b[43mskipna\u001b[49m\u001b[38;5;241;43m=\u001b[39;49m\u001b[43mskipna\u001b[49m\u001b[43m,\u001b[49m\u001b[43m \u001b[49m\u001b[43mnumeric_only\u001b[49m\u001b[38;5;241;43m=\u001b[39;49m\u001b[43mnumeric_only\u001b[49m\n\u001b[0;32m  11355\u001b[0m \u001b[43m\u001b[49m\u001b[43m)\u001b[49m\n",
      "File \u001b[1;32mc:\\Users\\pritp\\AppData\\Local\\Programs\\Python\\Python311\\Lib\\site-packages\\pandas\\core\\series.py:4816\u001b[0m, in \u001b[0;36mSeries._reduce\u001b[1;34m(self, op, name, axis, skipna, numeric_only, filter_type, **kwds)\u001b[0m\n\u001b[0;32m   4812\u001b[0m     \u001b[38;5;28;01mraise\u001b[39;00m \u001b[38;5;167;01mNotImplementedError\u001b[39;00m(\n\u001b[0;32m   4813\u001b[0m         \u001b[38;5;124mf\u001b[39m\u001b[38;5;124m\"\u001b[39m\u001b[38;5;124mSeries.\u001b[39m\u001b[38;5;132;01m{\u001b[39;00mname\u001b[38;5;132;01m}\u001b[39;00m\u001b[38;5;124m does not implement \u001b[39m\u001b[38;5;132;01m{\u001b[39;00mkwd_name\u001b[38;5;132;01m}\u001b[39;00m\u001b[38;5;124m.\u001b[39m\u001b[38;5;124m\"\u001b[39m\n\u001b[0;32m   4814\u001b[0m     )\n\u001b[0;32m   4815\u001b[0m \u001b[38;5;28;01mwith\u001b[39;00m np\u001b[38;5;241m.\u001b[39merrstate(\u001b[38;5;28mall\u001b[39m\u001b[38;5;241m=\u001b[39m\u001b[38;5;124m\"\u001b[39m\u001b[38;5;124mignore\u001b[39m\u001b[38;5;124m\"\u001b[39m):\n\u001b[1;32m-> 4816\u001b[0m     \u001b[38;5;28;01mreturn\u001b[39;00m \u001b[43mop\u001b[49m\u001b[43m(\u001b[49m\u001b[43mdelegate\u001b[49m\u001b[43m,\u001b[49m\u001b[43m \u001b[49m\u001b[43mskipna\u001b[49m\u001b[38;5;241;43m=\u001b[39;49m\u001b[43mskipna\u001b[49m\u001b[43m,\u001b[49m\u001b[43m \u001b[49m\u001b[38;5;241;43m*\u001b[39;49m\u001b[38;5;241;43m*\u001b[39;49m\u001b[43mkwds\u001b[49m\u001b[43m)\u001b[49m\n",
      "File \u001b[1;32mc:\\Users\\pritp\\AppData\\Local\\Programs\\Python\\Python311\\Lib\\site-packages\\pandas\\core\\nanops.py:93\u001b[0m, in \u001b[0;36mdisallow.__call__.<locals>._f\u001b[1;34m(*args, **kwargs)\u001b[0m\n\u001b[0;32m     91\u001b[0m \u001b[38;5;28;01mtry\u001b[39;00m:\n\u001b[0;32m     92\u001b[0m     \u001b[38;5;28;01mwith\u001b[39;00m np\u001b[38;5;241m.\u001b[39merrstate(invalid\u001b[38;5;241m=\u001b[39m\u001b[38;5;124m\"\u001b[39m\u001b[38;5;124mignore\u001b[39m\u001b[38;5;124m\"\u001b[39m):\n\u001b[1;32m---> 93\u001b[0m         \u001b[38;5;28;01mreturn\u001b[39;00m \u001b[43mf\u001b[49m\u001b[43m(\u001b[49m\u001b[38;5;241;43m*\u001b[39;49m\u001b[43margs\u001b[49m\u001b[43m,\u001b[49m\u001b[43m \u001b[49m\u001b[38;5;241;43m*\u001b[39;49m\u001b[38;5;241;43m*\u001b[39;49m\u001b[43mkwargs\u001b[49m\u001b[43m)\u001b[49m\n\u001b[0;32m     94\u001b[0m \u001b[38;5;28;01mexcept\u001b[39;00m \u001b[38;5;167;01mValueError\u001b[39;00m \u001b[38;5;28;01mas\u001b[39;00m e:\n\u001b[0;32m     95\u001b[0m     \u001b[38;5;66;03m# we want to transform an object array\u001b[39;00m\n\u001b[0;32m     96\u001b[0m     \u001b[38;5;66;03m# ValueError message to the more typical TypeError\u001b[39;00m\n\u001b[0;32m     97\u001b[0m     \u001b[38;5;66;03m# e.g. this is normally a disallowed function on\u001b[39;00m\n\u001b[0;32m     98\u001b[0m     \u001b[38;5;66;03m# object arrays that contain strings\u001b[39;00m\n\u001b[0;32m     99\u001b[0m     \u001b[38;5;28;01mif\u001b[39;00m is_object_dtype(args[\u001b[38;5;241m0\u001b[39m]):\n",
      "File \u001b[1;32mc:\\Users\\pritp\\AppData\\Local\\Programs\\Python\\Python311\\Lib\\site-packages\\pandas\\core\\nanops.py:155\u001b[0m, in \u001b[0;36mbottleneck_switch.__call__.<locals>.f\u001b[1;34m(values, axis, skipna, **kwds)\u001b[0m\n\u001b[0;32m    153\u001b[0m         result \u001b[38;5;241m=\u001b[39m alt(values, axis\u001b[38;5;241m=\u001b[39maxis, skipna\u001b[38;5;241m=\u001b[39mskipna, \u001b[38;5;241m*\u001b[39m\u001b[38;5;241m*\u001b[39mkwds)\n\u001b[0;32m    154\u001b[0m \u001b[38;5;28;01melse\u001b[39;00m:\n\u001b[1;32m--> 155\u001b[0m     result \u001b[38;5;241m=\u001b[39m \u001b[43malt\u001b[49m\u001b[43m(\u001b[49m\u001b[43mvalues\u001b[49m\u001b[43m,\u001b[49m\u001b[43m \u001b[49m\u001b[43maxis\u001b[49m\u001b[38;5;241;43m=\u001b[39;49m\u001b[43maxis\u001b[49m\u001b[43m,\u001b[49m\u001b[43m \u001b[49m\u001b[43mskipna\u001b[49m\u001b[38;5;241;43m=\u001b[39;49m\u001b[43mskipna\u001b[49m\u001b[43m,\u001b[49m\u001b[43m \u001b[49m\u001b[38;5;241;43m*\u001b[39;49m\u001b[38;5;241;43m*\u001b[39;49m\u001b[43mkwds\u001b[49m\u001b[43m)\u001b[49m\n\u001b[0;32m    157\u001b[0m \u001b[38;5;28;01mreturn\u001b[39;00m result\n",
      "File \u001b[1;32mc:\\Users\\pritp\\AppData\\Local\\Programs\\Python\\Python311\\Lib\\site-packages\\pandas\\core\\nanops.py:418\u001b[0m, in \u001b[0;36m_datetimelike_compat.<locals>.new_func\u001b[1;34m(values, axis, skipna, mask, **kwargs)\u001b[0m\n\u001b[0;32m    415\u001b[0m \u001b[38;5;28;01mif\u001b[39;00m datetimelike \u001b[38;5;129;01mand\u001b[39;00m mask \u001b[38;5;129;01mis\u001b[39;00m \u001b[38;5;28;01mNone\u001b[39;00m:\n\u001b[0;32m    416\u001b[0m     mask \u001b[38;5;241m=\u001b[39m isna(values)\n\u001b[1;32m--> 418\u001b[0m result \u001b[38;5;241m=\u001b[39m \u001b[43mfunc\u001b[49m\u001b[43m(\u001b[49m\u001b[43mvalues\u001b[49m\u001b[43m,\u001b[49m\u001b[43m \u001b[49m\u001b[43maxis\u001b[49m\u001b[38;5;241;43m=\u001b[39;49m\u001b[43maxis\u001b[49m\u001b[43m,\u001b[49m\u001b[43m \u001b[49m\u001b[43mskipna\u001b[49m\u001b[38;5;241;43m=\u001b[39;49m\u001b[43mskipna\u001b[49m\u001b[43m,\u001b[49m\u001b[43m \u001b[49m\u001b[43mmask\u001b[49m\u001b[38;5;241;43m=\u001b[39;49m\u001b[43mmask\u001b[49m\u001b[43m,\u001b[49m\u001b[43m \u001b[49m\u001b[38;5;241;43m*\u001b[39;49m\u001b[38;5;241;43m*\u001b[39;49m\u001b[43mkwargs\u001b[49m\u001b[43m)\u001b[49m\n\u001b[0;32m    420\u001b[0m \u001b[38;5;28;01mif\u001b[39;00m datetimelike:\n\u001b[0;32m    421\u001b[0m     result \u001b[38;5;241m=\u001b[39m _wrap_results(result, orig_values\u001b[38;5;241m.\u001b[39mdtype, fill_value\u001b[38;5;241m=\u001b[39miNaT)\n",
      "File \u001b[1;32mc:\\Users\\pritp\\AppData\\Local\\Programs\\Python\\Python311\\Lib\\site-packages\\pandas\\core\\nanops.py:690\u001b[0m, in \u001b[0;36mnanmean\u001b[1;34m(values, axis, skipna, mask)\u001b[0m\n\u001b[0;32m    656\u001b[0m \u001b[38;5;129m@disallow\u001b[39m(PeriodDtype)\n\u001b[0;32m    657\u001b[0m \u001b[38;5;129m@bottleneck_switch\u001b[39m()\n\u001b[0;32m    658\u001b[0m \u001b[38;5;129m@_datetimelike_compat\u001b[39m\n\u001b[1;32m   (...)\u001b[0m\n\u001b[0;32m    664\u001b[0m     mask: npt\u001b[38;5;241m.\u001b[39mNDArray[np\u001b[38;5;241m.\u001b[39mbool_] \u001b[38;5;241m|\u001b[39m \u001b[38;5;28;01mNone\u001b[39;00m \u001b[38;5;241m=\u001b[39m \u001b[38;5;28;01mNone\u001b[39;00m,\n\u001b[0;32m    665\u001b[0m ) \u001b[38;5;241m-\u001b[39m\u001b[38;5;241m>\u001b[39m \u001b[38;5;28mfloat\u001b[39m:\n\u001b[0;32m    666\u001b[0m \u001b[38;5;250m    \u001b[39m\u001b[38;5;124;03m\"\"\"\u001b[39;00m\n\u001b[0;32m    667\u001b[0m \u001b[38;5;124;03m    Compute the mean of the element along an axis ignoring NaNs\u001b[39;00m\n\u001b[0;32m    668\u001b[0m \n\u001b[1;32m   (...)\u001b[0m\n\u001b[0;32m    688\u001b[0m \u001b[38;5;124;03m    1.5\u001b[39;00m\n\u001b[0;32m    689\u001b[0m \u001b[38;5;124;03m    \"\"\"\u001b[39;00m\n\u001b[1;32m--> 690\u001b[0m     values, mask, dtype, dtype_max, _ \u001b[38;5;241m=\u001b[39m \u001b[43m_get_values\u001b[49m\u001b[43m(\u001b[49m\n\u001b[0;32m    691\u001b[0m \u001b[43m        \u001b[49m\u001b[43mvalues\u001b[49m\u001b[43m,\u001b[49m\u001b[43m \u001b[49m\u001b[43mskipna\u001b[49m\u001b[43m,\u001b[49m\u001b[43m \u001b[49m\u001b[43mfill_value\u001b[49m\u001b[38;5;241;43m=\u001b[39;49m\u001b[38;5;241;43m0\u001b[39;49m\u001b[43m,\u001b[49m\u001b[43m \u001b[49m\u001b[43mmask\u001b[49m\u001b[38;5;241;43m=\u001b[39;49m\u001b[43mmask\u001b[49m\n\u001b[0;32m    692\u001b[0m \u001b[43m    \u001b[49m\u001b[43m)\u001b[49m\n\u001b[0;32m    693\u001b[0m     dtype_sum \u001b[38;5;241m=\u001b[39m dtype_max\n\u001b[0;32m    694\u001b[0m     dtype_count \u001b[38;5;241m=\u001b[39m np\u001b[38;5;241m.\u001b[39mdtype(np\u001b[38;5;241m.\u001b[39mfloat64)\n",
      "File \u001b[1;32mc:\\Users\\pritp\\AppData\\Local\\Programs\\Python\\Python311\\Lib\\site-packages\\pandas\\core\\nanops.py:312\u001b[0m, in \u001b[0;36m_get_values\u001b[1;34m(values, skipna, fill_value, fill_value_typ, mask)\u001b[0m\n\u001b[0;32m    308\u001b[0m \u001b[38;5;66;03m# error: Incompatible types in assignment (expression has type \"Union[Any,\u001b[39;00m\n\u001b[0;32m    309\u001b[0m \u001b[38;5;66;03m# Union[ExtensionArray, ndarray]]\", variable has type \"ndarray\")\u001b[39;00m\n\u001b[0;32m    310\u001b[0m values \u001b[38;5;241m=\u001b[39m extract_array(values, extract_numpy\u001b[38;5;241m=\u001b[39m\u001b[38;5;28;01mTrue\u001b[39;00m)  \u001b[38;5;66;03m# type: ignore[assignment]\u001b[39;00m\n\u001b[1;32m--> 312\u001b[0m mask \u001b[38;5;241m=\u001b[39m \u001b[43m_maybe_get_mask\u001b[49m\u001b[43m(\u001b[49m\u001b[43mvalues\u001b[49m\u001b[43m,\u001b[49m\u001b[43m \u001b[49m\u001b[43mskipna\u001b[49m\u001b[43m,\u001b[49m\u001b[43m \u001b[49m\u001b[43mmask\u001b[49m\u001b[43m)\u001b[49m\n\u001b[0;32m    314\u001b[0m dtype \u001b[38;5;241m=\u001b[39m values\u001b[38;5;241m.\u001b[39mdtype\n\u001b[0;32m    316\u001b[0m datetimelike \u001b[38;5;241m=\u001b[39m \u001b[38;5;28;01mFalse\u001b[39;00m\n",
      "File \u001b[1;32mc:\\Users\\pritp\\AppData\\Local\\Programs\\Python\\Python311\\Lib\\site-packages\\pandas\\core\\nanops.py:256\u001b[0m, in \u001b[0;36m_maybe_get_mask\u001b[1;34m(values, skipna, mask)\u001b[0m\n\u001b[0;32m    253\u001b[0m         \u001b[38;5;28;01mreturn\u001b[39;00m \u001b[38;5;28;01mNone\u001b[39;00m\n\u001b[0;32m    255\u001b[0m     \u001b[38;5;28;01mif\u001b[39;00m skipna \u001b[38;5;129;01mor\u001b[39;00m needs_i8_conversion(values\u001b[38;5;241m.\u001b[39mdtype):\n\u001b[1;32m--> 256\u001b[0m         mask \u001b[38;5;241m=\u001b[39m \u001b[43misna\u001b[49m\u001b[43m(\u001b[49m\u001b[43mvalues\u001b[49m\u001b[43m)\u001b[49m\n\u001b[0;32m    258\u001b[0m \u001b[38;5;28;01mreturn\u001b[39;00m mask\n",
      "File \u001b[1;32mc:\\Users\\pritp\\AppData\\Local\\Programs\\Python\\Python311\\Lib\\site-packages\\pandas\\core\\dtypes\\missing.py:185\u001b[0m, in \u001b[0;36misna\u001b[1;34m(obj)\u001b[0m\n\u001b[0;32m    108\u001b[0m \u001b[38;5;28;01mdef\u001b[39;00m \u001b[38;5;21misna\u001b[39m(obj: \u001b[38;5;28mobject\u001b[39m) \u001b[38;5;241m-\u001b[39m\u001b[38;5;241m>\u001b[39m \u001b[38;5;28mbool\u001b[39m \u001b[38;5;241m|\u001b[39m npt\u001b[38;5;241m.\u001b[39mNDArray[np\u001b[38;5;241m.\u001b[39mbool_] \u001b[38;5;241m|\u001b[39m NDFrame:\n\u001b[0;32m    109\u001b[0m \u001b[38;5;250m    \u001b[39m\u001b[38;5;124;03m\"\"\"\u001b[39;00m\n\u001b[0;32m    110\u001b[0m \u001b[38;5;124;03m    Detect missing values for an array-like object.\u001b[39;00m\n\u001b[0;32m    111\u001b[0m \n\u001b[1;32m   (...)\u001b[0m\n\u001b[0;32m    183\u001b[0m \u001b[38;5;124;03m    Name: 1, dtype: bool\u001b[39;00m\n\u001b[0;32m    184\u001b[0m \u001b[38;5;124;03m    \"\"\"\u001b[39;00m\n\u001b[1;32m--> 185\u001b[0m     \u001b[38;5;28;01mreturn\u001b[39;00m \u001b[43m_isna\u001b[49m\u001b[43m(\u001b[49m\u001b[43mobj\u001b[49m\u001b[43m)\u001b[49m\n",
      "File \u001b[1;32mc:\\Users\\pritp\\AppData\\Local\\Programs\\Python\\Python311\\Lib\\site-packages\\pandas\\core\\dtypes\\missing.py:214\u001b[0m, in \u001b[0;36m_isna\u001b[1;34m(obj, inf_as_na)\u001b[0m\n\u001b[0;32m    212\u001b[0m     \u001b[38;5;28;01mreturn\u001b[39;00m \u001b[38;5;28;01mFalse\u001b[39;00m\n\u001b[0;32m    213\u001b[0m \u001b[38;5;28;01melif\u001b[39;00m \u001b[38;5;28misinstance\u001b[39m(obj, (np\u001b[38;5;241m.\u001b[39mndarray, ABCExtensionArray)):\n\u001b[1;32m--> 214\u001b[0m     \u001b[38;5;28;01mreturn\u001b[39;00m \u001b[43m_isna_array\u001b[49m\u001b[43m(\u001b[49m\u001b[43mobj\u001b[49m\u001b[43m,\u001b[49m\u001b[43m \u001b[49m\u001b[43minf_as_na\u001b[49m\u001b[38;5;241;43m=\u001b[39;49m\u001b[43minf_as_na\u001b[49m\u001b[43m)\u001b[49m\n\u001b[0;32m    215\u001b[0m \u001b[38;5;28;01melif\u001b[39;00m \u001b[38;5;28misinstance\u001b[39m(obj, ABCIndex):\n\u001b[0;32m    216\u001b[0m     \u001b[38;5;66;03m# Try to use cached isna, which also short-circuits for integer dtypes\u001b[39;00m\n\u001b[0;32m    217\u001b[0m     \u001b[38;5;66;03m#  and avoids materializing RangeIndex._values\u001b[39;00m\n\u001b[0;32m    218\u001b[0m     \u001b[38;5;28;01mif\u001b[39;00m \u001b[38;5;129;01mnot\u001b[39;00m obj\u001b[38;5;241m.\u001b[39m_can_hold_na:\n",
      "File \u001b[1;32mc:\\Users\\pritp\\AppData\\Local\\Programs\\Python\\Python311\\Lib\\site-packages\\pandas\\core\\dtypes\\missing.py:304\u001b[0m, in \u001b[0;36m_isna_array\u001b[1;34m(values, inf_as_na)\u001b[0m\n\u001b[0;32m    302\u001b[0m         result \u001b[38;5;241m=\u001b[39m \u001b[38;5;241m~\u001b[39mnp\u001b[38;5;241m.\u001b[39misfinite(values)\n\u001b[0;32m    303\u001b[0m     \u001b[38;5;28;01melse\u001b[39;00m:\n\u001b[1;32m--> 304\u001b[0m         result \u001b[38;5;241m=\u001b[39m \u001b[43mnp\u001b[49m\u001b[38;5;241;43m.\u001b[39;49m\u001b[43misnan\u001b[49m\u001b[43m(\u001b[49m\u001b[43mvalues\u001b[49m\u001b[43m)\u001b[49m\n\u001b[0;32m    306\u001b[0m \u001b[38;5;28;01mreturn\u001b[39;00m result\n",
      "\u001b[1;31mKeyboardInterrupt\u001b[0m: "
     ]
    }
   ],
   "source": [
    "best_split_dim, best_split_val, X_left, y_left, X_right, y_right = get_best_split(X_train, y_train)"
   ]
  },
  {
   "cell_type": "code",
   "execution_count": 26,
   "metadata": {},
   "outputs": [
    {
     "name": "stdout",
     "output_type": "stream",
     "text": [
      "bhk 2.0\n"
     ]
    }
   ],
   "source": [
    "print(best_split_dim, best_split_val)"
   ]
  },
  {
   "cell_type": "code",
   "execution_count": 27,
   "metadata": {},
   "outputs": [
    {
     "name": "stdout",
     "output_type": "stream",
     "text": [
      "      bhk  type  area  status  age   latitude  longitude\n",
      "1       2  0.25   640       0  1.0  18.969048  72.821182\n",
      "2       2  0.25   610       0  1.0  18.563005  73.906578\n",
      "3       2  0.25   876       0  1.0  18.999653  73.126328\n",
      "4       2  0.25   659       0  1.0  18.969048  72.821182\n",
      "5       2  0.25   826       0  1.0  19.004976  72.853554\n",
      "...   ...   ...   ...     ...  ...        ...        ...\n",
      "3795    1  0.25   711       1  1.0  18.969048  72.821182\n",
      "3796    2  0.25  1010       1  1.0  18.969048  72.821182\n",
      "3798    2  0.25  1200       1  1.0  19.306516  72.861934\n",
      "3799    2  0.25  1010       1  1.0  18.969048  72.821182\n",
      "3800    2  0.25  1010       1  1.0  18.969048  72.821182\n",
      "\n",
      "[3266 rows x 7 columns]\n"
     ]
    }
   ],
   "source": [
    "print(X_left)"
   ]
  },
  {
   "cell_type": "code",
   "execution_count": 28,
   "metadata": {},
   "outputs": [
    {
     "name": "stdout",
     "output_type": "stream",
     "text": [
      "      bhk  type  area  status  age   latitude  longitude\n",
      "0       3  0.25   685       1  1.0  19.112122  72.867676\n",
      "6       5  0.75  2921       0  1.0  18.969048  72.821182\n",
      "7       3  0.25   778       0  1.0  19.074877  72.858879\n",
      "12      3  0.25   753       0  1.0  18.969048  72.821182\n",
      "17      3  0.25  1259       1  1.0  19.129242  73.001350\n",
      "...   ...   ...   ...     ...  ...        ...        ...\n",
      "3774    5  0.25  2500       1  0.0  19.129242  73.001350\n",
      "3784    3  0.25  1575       1  0.0  18.999653  73.126328\n",
      "3787    3  0.25  1134       1  0.0  18.969048  72.821182\n",
      "3791    3  0.25  1600       1  0.0  18.969048  72.821182\n",
      "3797    4  0.25  1110       1  1.0  18.969048  72.821182\n",
      "\n",
      "[535 rows x 7 columns]\n"
     ]
    }
   ],
   "source": [
    "print(X_right)"
   ]
  },
  {
   "cell_type": "code",
   "execution_count": 29,
   "metadata": {},
   "outputs": [],
   "source": [
    "best_split_dim, best_split_val, X_left, y_left, X_right, y_right = get_best_split(X_left, y_left)"
   ]
  },
  {
   "cell_type": "code",
   "execution_count": 30,
   "metadata": {},
   "outputs": [
    {
     "name": "stdout",
     "output_type": "stream",
     "text": [
      "bhk 1.0\n"
     ]
    }
   ],
   "source": [
    "print(best_split_dim, best_split_val)"
   ]
  },
  {
   "cell_type": "code",
   "execution_count": 31,
   "metadata": {},
   "outputs": [
    {
     "name": "stdout",
     "output_type": "stream",
     "text": [
      "      bhk  type  area  status  age   latitude  longitude\n",
      "8       1  0.25   396       1  1.0  18.969048  72.821182\n",
      "10      1  0.00   502       0  1.0  18.969048  72.821182\n",
      "14      1  0.25   557       0  1.0  19.430656  72.964874\n",
      "16      1  0.25   450       0  1.0  18.969048  72.821182\n",
      "21      1  0.25   483       0  1.0  19.271147  73.039871\n",
      "...   ...   ...   ...     ...  ...        ...        ...\n",
      "3786    1  0.25   610       1  0.0  18.969048  72.821182\n",
      "3789    1  0.25   770       1  0.0  18.969048  72.821182\n",
      "3792    1  0.25   710       1  1.0  18.969048  72.821182\n",
      "3794    1  0.25   710       1  0.0  18.969048  72.821182\n",
      "3795    1  0.25   711       1  1.0  18.969048  72.821182\n",
      "\n",
      "[1714 rows x 7 columns]\n"
     ]
    }
   ],
   "source": [
    "print(X_left)"
   ]
  },
  {
   "cell_type": "code",
   "execution_count": 33,
   "metadata": {},
   "outputs": [],
   "source": [
    "best_split_dim, best_split_val, X_left, y_left, X_right, y_right = get_best_split(X_left, y_left)"
   ]
  },
  {
   "cell_type": "code",
   "execution_count": 34,
   "metadata": {},
   "outputs": [
    {
     "name": "stdout",
     "output_type": "stream",
     "text": [
      "longitude 72.866081235\n"
     ]
    }
   ],
   "source": [
    "print(best_split_dim, best_split_val)"
   ]
  },
  {
   "cell_type": "code",
   "execution_count": 35,
   "metadata": {},
   "outputs": [
    {
     "name": "stdout",
     "output_type": "stream",
     "text": [
      "      bhk  type  area  status  age   latitude  longitude\n",
      "8       1  0.25   396       1  1.0  18.969048  72.821182\n",
      "10      1  0.00   502       0  1.0  18.969048  72.821182\n",
      "16      1  0.25   450       0  1.0  18.969048  72.821182\n",
      "22      1  0.25   320       0  1.0  18.969048  72.821182\n",
      "23      1  0.25   396       0  1.0  18.969048  72.821182\n",
      "...   ...   ...   ...     ...  ...        ...        ...\n",
      "3786    1  0.25   610       1  0.0  18.969048  72.821182\n",
      "3789    1  0.25   770       1  0.0  18.969048  72.821182\n",
      "3792    1  0.25   710       1  1.0  18.969048  72.821182\n",
      "3794    1  0.25   710       1  0.0  18.969048  72.821182\n",
      "3795    1  0.25   711       1  1.0  18.969048  72.821182\n",
      "\n",
      "[841 rows x 7 columns]\n"
     ]
    }
   ],
   "source": [
    "print(X_left)"
   ]
  },
  {
   "cell_type": "code",
   "execution_count": null,
   "metadata": {},
   "outputs": [],
   "source": [
    "def BuildTree(X_train, y_train, K=2):\n",
    "    if (len(X_train) <= K):\n",
    "        # Returing average of nodes\n",
    "        return Leaf(np.mean(y_train))\n",
    "    else:\n",
    "        split_dim, split_val, left_X, left_y, right_X, right_y = get_best_split(X_train, y_train)\n",
    "        return Node(split_dim, split_val, BuildTree(left_X, left_y), BuildTree(right_X, right_y))"
   ]
  },
  {
   "cell_type": "code",
   "execution_count": null,
   "metadata": {},
   "outputs": [],
   "source": []
  },
  {
   "cell_type": "code",
   "execution_count": null,
   "metadata": {},
   "outputs": [],
   "source": [
    "def split"
   ]
  },
  {
   "cell_type": "code",
   "execution_count": null,
   "metadata": {},
   "outputs": [],
   "source": []
  },
  {
   "cell_type": "code",
   "execution_count": null,
   "metadata": {},
   "outputs": [],
   "source": []
  },
  {
   "cell_type": "code",
   "execution_count": null,
   "metadata": {},
   "outputs": [],
   "source": []
  },
  {
   "cell_type": "code",
   "execution_count": 8,
   "metadata": {},
   "outputs": [],
   "source": [
    "W = np.zeros((X_train.shape[1], 1))\n",
    "b = 0\n",
    "y_train = np.array(y_train)\n",
    "y_train = y_train.reshape(y_train.shape[0], 1)\n",
    "y_test = np.array(y_test)\n",
    "y_test = y_test.reshape(y_test.shape[0], 1)\n",
    "y_val = np.array(y_val)\n",
    "y_val = y_val.reshape(y_val.shape[0], 1)"
   ]
  },
  {
   "cell_type": "code",
   "execution_count": 35,
   "metadata": {},
   "outputs": [],
   "source": [
    "def fit(X, y, W, b, learning_rate=0.01, num_iterations=1000, l2_lambda=0.01):\n",
    "    m = X.shape[0]\n",
    "    total_losses = []\n",
    "\n",
    "    for i in range(num_iterations):\n",
    "        Z = np.dot(X, W) + b\n",
    "        diff = Z - y\n",
    "        dw = (2/m) * np.dot(X.T, diff) + (l2_lambda / m) * W  # L2 regularization\n",
    "        db = (2/m) * np.sum(diff)\n",
    "\n",
    "        W = W - learning_rate * dw\n",
    "        b = b - learning_rate * db\n",
    "\n",
    "        loss = (1/m) * np.sum(np.abs(diff))\n",
    "        regularization_loss = (l2_lambda / (2 * m)) * np.sum(np.square(W))\n",
    "        total_loss = loss + regularization_loss\n",
    "\n",
    "        total_losses.append(total_loss)\n",
    "        \n",
    "        if (i+1) % 500 == 0:\n",
    "            print(\"Loss after iteration %i: %f\" % (i+1, total_loss))\n",
    "        \n",
    "    return W, b, total_losses"
   ]
  },
  {
   "cell_type": "code",
   "execution_count": 36,
   "metadata": {},
   "outputs": [],
   "source": [
    "def predict(X, W, b):\n",
    "    z = np.dot(X, W) + b\n",
    "    # For all negative values, replace them with 0\n",
    "    z[z < 0] = 0\n",
    "    return z"
   ]
  },
  {
   "cell_type": "code",
   "execution_count": 37,
   "metadata": {},
   "outputs": [
    {
     "name": "stdout",
     "output_type": "stream",
     "text": [
      "Loss after iteration 500: 0.891111\n",
      "Loss after iteration 1000: 0.801873\n",
      "Loss after iteration 1500: 0.788157\n",
      "Loss after iteration 2000: 0.785861\n",
      "Mean absolute error on validation set: 0.5668883910629853\n",
      "Mean squared error on validation set: 0.6264488918184407\n"
     ]
    }
   ],
   "source": [
    "# Tuning hyperparameters using validation set\n",
    "W, b, total_losses = fit(X_train, y_train, W, b, 0.001, 2000, 0.1)\n",
    "\n",
    "# Calculate the mean absolute error on validation data in Cr\n",
    "z = predict(X_val, W, b)\n",
    "mae = np.sum(np.abs(z - y_val)) / len(y_val)\n",
    "mse = np.sum(np.square(z - y_val)) / len(y_val)\n",
    "print(f'Mean absolute error on validation set: {mae}')\n",
    "print(f'Mean squared error on validation set: {mse}')\n",
    "\n",
    "# Reset parameters\n",
    "W = np.zeros((X_train.shape[1], 1))\n",
    "b = 0"
   ]
  },
  {
   "cell_type": "code",
   "execution_count": 38,
   "metadata": {},
   "outputs": [
    {
     "name": "stdout",
     "output_type": "stream",
     "text": [
      "Loss after iteration 500: 0.873261\n",
      "Loss after iteration 1000: 0.786423\n",
      "Loss after iteration 1500: 0.773221\n",
      "Loss after iteration 2000: 0.771628\n"
     ]
    }
   ],
   "source": [
    "# Train on both training and validation data\n",
    "W, b, total_losses = fit(np.concatenate((X_train, X_val)), np.concatenate((y_train, y_val)), W, b, 0.001, 2000, 0.1)"
   ]
  },
  {
   "cell_type": "code",
   "execution_count": 39,
   "metadata": {},
   "outputs": [
    {
     "data": {
      "image/png": "[encoded data removed]",
      "text/plain": [
       "<Figure size 640x480 with 1 Axes>"
      ]
     },
     "metadata": {},
     "output_type": "display_data"
    }
   ],
   "source": [
    "# Plotting missclassifications against the number of iterations\n",
    "import matplotlib.pyplot as plt\n",
    "plt.plot(range(1, len(total_losses) + 1), total_losses)\n",
    "plt.xlabel('Number of Iterations')\n",
    "plt.ylabel('Loss')\n",
    "plt.title('Loss vs Number of Iterations')\n",
    "plt.grid(True)\n",
    "plt.show()"
   ]
  },
  {
   "cell_type": "code",
   "execution_count": 40,
   "metadata": {},
   "outputs": [
    {
     "name": "stdout",
     "output_type": "stream",
     "text": [
      "Mean Squared Error: 0.7016635197303815\n",
      "Mean Absolute Error: 0.554220297616918\n"
     ]
    }
   ],
   "source": [
    "# Calculate the mean absolute error on test data in Cr\n",
    "z = predict(X_test, W, b)\n",
    "mae = np.sum(np.abs(z - y_test)) / len(y_test)\n",
    "mse = np.sum(np.square(z - y_test)) / len(y_test)\n",
    "\n",
    "print(\"Mean Squared Error:\", mse)\n",
    "print(\"Mean Absolute Error:\", mae)"
   ]
  },
  {
   "cell_type": "code",
   "execution_count": 41,
   "metadata": {},
   "outputs": [
    {
     "name": "stdout",
     "output_type": "stream",
     "text": [
      "[[ 0.49672108]\n",
      " [ 0.00182022]\n",
      " [ 1.26634035]\n",
      " [-0.1212638 ]\n",
      " [ 0.02979267]\n",
      " [ 0.02336477]\n",
      " [-0.03191551]]\n",
      "1.7101168090464274\n"
     ]
    }
   ],
   "source": [
    "print(W)\n",
    "print(b)"
   ]
  },
  {
   "cell_type": "code",
   "execution_count": 42,
   "metadata": {},
   "outputs": [
    {
     "name": "stdout",
     "output_type": "stream",
     "text": [
      "The price of house in Cr:  [3.75480043]\n"
     ]
    }
   ],
   "source": [
    "# Testing with our own data\n",
    "X_test.loc[0, \"bhk\"] = 4\n",
    "X_test.loc[0, \"type\"] = 0.2\n",
    "X_test.loc[0, \"area\"] = 1620\n",
    "X_test.loc[0, \"age\"] = 1\n",
    "X_test.loc[0, \"status\"] = 1\n",
    "X_test.loc[0, \"latitude\"] = 19.1386\n",
    "X_test.loc[0, \"longitude\"] = 72.8429\n",
    "\n",
    "# Normalizing the sample\n",
    "X_test.loc[0] = (X_test.loc[0] - X_mean) / X_std\n",
    "\n",
    "z = predict(X_test.loc[0], W, b)\n",
    "print(\"The price of house in Cr: \", z)"
   ]
  },
  {
   "cell_type": "code",
   "execution_count": 43,
   "metadata": {},
   "outputs": [
    {
     "name": "stdout",
     "output_type": "stream",
     "text": [
      "Mean Squared Error using scikit learn: 0.7406033976904457\n",
      "Mean Absolute Error using scikit learn: 0.5876999543103888\n"
     ]
    }
   ],
   "source": [
    "# Verifying implementation using scikit learn\n",
    "from sklearn.linear_model import LinearRegression\n",
    "from sklearn.metrics import mean_squared_error, mean_absolute_error\n",
    "\n",
    "# Initialize the Linear Regression model\n",
    "model = LinearRegression()\n",
    "model.fit(np.concatenate((X_train.values, X_val.values)), np.concatenate((y_train, y_val)))\n",
    "y_pred = model.predict(X_test.values)\n",
    "\n",
    "# Evaluate the model\n",
    "mse = mean_squared_error(y_test, y_pred)\n",
    "mae = mean_absolute_error(y_test, y_pred)\n",
    "\n",
    "print(\"Mean Squared Error using scikit learn:\", mse)\n",
    "print(\"Mean Absolute Error using scikit learn:\", mae)"
   ]
  }
 ],
 "metadata": {
  "kernelspec": {
   "display_name": "Python 3",
   "language": "python",
   "name": "python3"
  },
  "language_info": {
   "codemirror_mode": {
    "name": "ipython",
    "version": 3
   },
   "file_extension": ".py",
   "mimetype": "text/x-python",
   "name": "python",
   "nbconvert_exporter": "python",
   "pygments_lexer": "ipython3",
   "version": "3.11.0"
  }
 },
 "nbformat": 4,
 "nbformat_minor": 2
}
