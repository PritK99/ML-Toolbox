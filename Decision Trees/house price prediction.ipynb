{
 "cells": [
  {
   "cell_type": "markdown",
   "metadata": {},
   "source": [
    "## Mumbai House Price Prediction using Decision Trees ( Regression Trees )"
   ]
  },
  {
   "cell_type": "code",
   "execution_count": 3,
   "metadata": {},
   "outputs": [],
   "source": [
    "# Import all the required libraries\n",
    "import numpy as np\n",
    "import pandas as pd\n",
    "import matplotlib.pyplot as plt"
   ]
  },
  {
   "cell_type": "code",
   "execution_count": 4,
   "metadata": {},
   "outputs": [],
   "source": [
    "# Obtain the modified csv \n",
    "data = \"../assets/data/modified_mumbai_house_prices.csv\"\n",
    "house_price = pd.read_csv(data)\n",
    "\n",
    "# Refer assets/scripts/house-price-dataset.py for preprocessing steps"
   ]
  },
  {
   "cell_type": "code",
   "execution_count": 5,
   "metadata": {},
   "outputs": [
    {
     "name": "stdout",
     "output_type": "stream",
     "text": [
      "<class 'pandas.core.frame.DataFrame'>\n",
      "RangeIndex: 76038 entries, 0 to 76037\n",
      "Data columns (total 8 columns):\n",
      " #   Column     Non-Null Count  Dtype  \n",
      "---  ------     --------------  -----  \n",
      " 0   bhk        76038 non-null  int64  \n",
      " 1   type       76038 non-null  float64\n",
      " 2   area       76038 non-null  int64  \n",
      " 3   price      76038 non-null  float64\n",
      " 4   status     76038 non-null  int64  \n",
      " 5   age        76038 non-null  float64\n",
      " 6   latitude   76038 non-null  float64\n",
      " 7   longitude  76038 non-null  float64\n",
      "dtypes: float64(5), int64(3)\n",
      "memory usage: 4.6 MB\n",
      "None\n"
     ]
    }
   ],
   "source": [
    "# printing the info for dataset\n",
    "print(house_price.info())"
   ]
  },
  {
   "cell_type": "code",
   "execution_count": 6,
   "metadata": {},
   "outputs": [
    {
     "data": {
      "text/html": [
       "<div>\n",
       "<style scoped>\n",
       "    .dataframe tbody tr th:only-of-type {\n",
       "        vertical-align: middle;\n",
       "    }\n",
       "\n",
       "    .dataframe tbody tr th {\n",
       "        vertical-align: top;\n",
       "    }\n",
       "\n",
       "    .dataframe thead th {\n",
       "        text-align: right;\n",
       "    }\n",
       "</style>\n",
       "<table border=\"1\" class=\"dataframe\">\n",
       "  <thead>\n",
       "    <tr style=\"text-align: right;\">\n",
       "      <th></th>\n",
       "      <th>bhk</th>\n",
       "      <th>type</th>\n",
       "      <th>area</th>\n",
       "      <th>price</th>\n",
       "      <th>status</th>\n",
       "      <th>age</th>\n",
       "      <th>latitude</th>\n",
       "      <th>longitude</th>\n",
       "    </tr>\n",
       "  </thead>\n",
       "  <tbody>\n",
       "    <tr>\n",
       "      <th>0</th>\n",
       "      <td>3</td>\n",
       "      <td>0.25</td>\n",
       "      <td>685</td>\n",
       "      <td>2.5000</td>\n",
       "      <td>1</td>\n",
       "      <td>1.0</td>\n",
       "      <td>19.112122</td>\n",
       "      <td>72.867676</td>\n",
       "    </tr>\n",
       "    <tr>\n",
       "      <th>1</th>\n",
       "      <td>2</td>\n",
       "      <td>0.25</td>\n",
       "      <td>640</td>\n",
       "      <td>0.5251</td>\n",
       "      <td>0</td>\n",
       "      <td>1.0</td>\n",
       "      <td>18.969048</td>\n",
       "      <td>72.821182</td>\n",
       "    </tr>\n",
       "    <tr>\n",
       "      <th>2</th>\n",
       "      <td>2</td>\n",
       "      <td>0.25</td>\n",
       "      <td>610</td>\n",
       "      <td>1.7300</td>\n",
       "      <td>0</td>\n",
       "      <td>1.0</td>\n",
       "      <td>18.563005</td>\n",
       "      <td>73.906578</td>\n",
       "    </tr>\n",
       "    <tr>\n",
       "      <th>3</th>\n",
       "      <td>2</td>\n",
       "      <td>0.25</td>\n",
       "      <td>876</td>\n",
       "      <td>0.5998</td>\n",
       "      <td>0</td>\n",
       "      <td>1.0</td>\n",
       "      <td>18.999653</td>\n",
       "      <td>73.126328</td>\n",
       "    </tr>\n",
       "    <tr>\n",
       "      <th>4</th>\n",
       "      <td>2</td>\n",
       "      <td>0.25</td>\n",
       "      <td>659</td>\n",
       "      <td>0.9411</td>\n",
       "      <td>0</td>\n",
       "      <td>1.0</td>\n",
       "      <td>18.969048</td>\n",
       "      <td>72.821182</td>\n",
       "    </tr>\n",
       "  </tbody>\n",
       "</table>\n",
       "</div>"
      ],
      "text/plain": [
       "   bhk  type  area   price  status  age   latitude  longitude\n",
       "0    3  0.25   685  2.5000       1  1.0  19.112122  72.867676\n",
       "1    2  0.25   640  0.5251       0  1.0  18.969048  72.821182\n",
       "2    2  0.25   610  1.7300       0  1.0  18.563005  73.906578\n",
       "3    2  0.25   876  0.5998       0  1.0  18.999653  73.126328\n",
       "4    2  0.25   659  0.9411       0  1.0  18.969048  72.821182"
      ]
     },
     "execution_count": 6,
     "metadata": {},
     "output_type": "execute_result"
    }
   ],
   "source": [
    "house_price.head()"
   ]
  },
  {
   "cell_type": "code",
   "execution_count": 7,
   "metadata": {},
   "outputs": [
    {
     "data": {
      "text/plain": [
       "(76038, 8)"
      ]
     },
     "execution_count": 7,
     "metadata": {},
     "output_type": "execute_result"
    }
   ],
   "source": [
    "house_price.shape"
   ]
  },
  {
   "cell_type": "code",
   "execution_count": 8,
   "metadata": {},
   "outputs": [
    {
     "name": "stdout",
     "output_type": "stream",
     "text": [
      "The size of X_train is:  (68436, 7)\n",
      "The size of y_train is:  (68436,)\n",
      "The size of X_val is:  (3801, 7)\n",
      "The size of y_val is:  (3801,)\n",
      "The size of X_test is:  (3801, 7)\n",
      "The size of y_test is:  (3801,)\n"
     ]
    }
   ],
   "source": [
    "# Define the ratios for train, test, and validation sets\n",
    "test_ratio = 0.05\n",
    "val_ratio = 0.05\n",
    "\n",
    "indices = list(house_price.index)\n",
    "\n",
    "# Calculate the number of samples for the testing and validation sets\n",
    "test_size = int(test_ratio * len(house_price))\n",
    "val_size = int(val_ratio * len(house_price))\n",
    "\n",
    "# Split the indices into training, testing, and validation sets\n",
    "test_indices = indices[:test_size]\n",
    "val_indices = indices[test_size:test_size+val_size]\n",
    "train_indices = indices[test_size+val_size:]\n",
    "\n",
    "# Create training, validation, and testing sets\n",
    "X_train = house_price.loc[train_indices]\n",
    "X_val = house_price.loc[val_indices]\n",
    "X_test = house_price.loc[test_indices]\n",
    "\n",
    "# Extract target variable\n",
    "y_train = X_train.pop(\"price\")\n",
    "y_val = X_val.pop(\"price\")\n",
    "y_test = X_test.pop(\"price\")\n",
    "\n",
    "print(\"The size of X_train is: \", X_train.shape)\n",
    "print(\"The size of y_train is: \", y_train.shape)\n",
    "print(\"The size of X_val is: \", X_val.shape)\n",
    "print(\"The size of y_val is: \", y_val.shape)\n",
    "print(\"The size of X_test is: \", X_test.shape)\n",
    "print(\"The size of y_test is: \", y_test.shape)"
   ]
  },
  {
   "cell_type": "code",
   "execution_count": 126,
   "metadata": {},
   "outputs": [],
   "source": [
    "# MSE and MAE loss\n",
    "def calculate_loss(x):\n",
    "    if len(x) == 0:\n",
    "        return 0\n",
    "\n",
    "    # return ((x - x.mean())**2).mean()\n",
    "    return (np.abs(x - x.mean())).mean()\n",
    "\n",
    "# MSE Loss doesn't scale well with our dataset. Thus we also define a dynamic way to calculate MSE loss"
   ]
  },
  {
   "cell_type": "code",
   "execution_count": 127,
   "metadata": {},
   "outputs": [],
   "source": [
    "def get_best_split(X, y, depth):\n",
    "    best_loss = float('inf') \n",
    "    best_split_val = 0\n",
    "    best_split_dim = 0\n",
    "\n",
    "    for col in X.columns:\n",
    "        # print(f\"Trying split at depth {depth} for column: {col}\")\n",
    "        # Sort the data for given column\n",
    "        data = X[col].drop_duplicates().sort_values().reset_index(drop=True)\n",
    "\n",
    "        # Test all split values for given column\n",
    "        for i in range(len(data) - 1):\n",
    "            split_val = (data.iloc[i] + data.iloc[i + 1]) / 2\n",
    "            \n",
    "            left_mask = X[col] <= split_val  \n",
    "            right_mask = X[col] > split_val\n",
    "\n",
    "            X_left = X[left_mask]\n",
    "            y_left = y[left_mask]\n",
    "\n",
    "            X_right = X[right_mask]\n",
    "            y_right = y[right_mask]\n",
    "\n",
    "            left_loss  = calculate_loss(y_left)\n",
    "            right_loss  = calculate_loss(y_right)\n",
    "            # left_loss, right_loss, pre_loss  = calculate_loss_dynamic(y_left, y_right)  \n",
    "\n",
    "            total_loss = (len(X_left)/len(X))*left_loss + (len(X_right)/len(X))*right_loss\n",
    "\n",
    "            if total_loss < best_loss:\n",
    "                best_loss = total_loss\n",
    "                best_split_val = split_val\n",
    "                best_split_dim = col\n",
    "    \n",
    "    # Splitting data based on best value\n",
    "    left_mask = X[best_split_dim] <= best_split_val  \n",
    "    right_mask = X[best_split_dim] > best_split_val\n",
    "\n",
    "    X_left = X[left_mask]\n",
    "    y_left = y[left_mask]\n",
    "\n",
    "    X_right = X[right_mask]\n",
    "    y_right = y[right_mask]\n",
    "    \n",
    "    return best_split_dim, best_split_val, X_left, y_left, X_right, y_right\n"
   ]
  },
  {
   "cell_type": "code",
   "execution_count": 128,
   "metadata": {},
   "outputs": [],
   "source": [
    "# First we define a decision node using class\n",
    "class Node:\n",
    "   def __init__(self, dim, val, left, right):\n",
    "      self.left = left\n",
    "      self.right = right\n",
    "      self.dim = dim\n",
    "      self.val = val\n",
    "\n",
    "# Defining class for a leaf node\n",
    "class Leaf:\n",
    "   def __init__(self, data):\n",
    "      self.data = data"
   ]
  },
  {
   "cell_type": "code",
   "execution_count": 129,
   "metadata": {},
   "outputs": [],
   "source": [
    "# Building the decision tree\n",
    "def BuildTree(X_train, y_train, K, max_depth, min_instances):\n",
    "    if (len(X_train) <= min_instances):\n",
    "        return Leaf(np.mean(y_train))\n",
    "    elif (K > max_depth):\n",
    "        # Returing average of nodes\n",
    "        return Leaf(np.mean(y_train))\n",
    "    else:\n",
    "        split_dim, split_val, left_X, left_y, right_X, right_y = get_best_split(X_train, y_train, K)\n",
    "        return Node(split_dim, split_val, BuildTree(left_X, left_y, K+1, max_depth, min_instances), BuildTree(right_X, right_y, K+1, max_depth, min_instances))"
   ]
  },
  {
   "cell_type": "code",
   "execution_count": 130,
   "metadata": {},
   "outputs": [],
   "source": [
    "# Traversing the tree using depth first search\n",
    "def traverse_tree(node):\n",
    "    # If the node is a Leaf, print its value\n",
    "    if isinstance(node, Leaf):\n",
    "        print(f\"Leaf value: {node.data}\")\n",
    "\n",
    "    # If the node is a regular Node, print its dimension and value\n",
    "    elif isinstance(node, Node):\n",
    "        print(f\"Node dim: {node.dim}, val: {node.val}\")\n",
    "        traverse_tree(node.left)\n",
    "        traverse_tree(node.right)"
   ]
  },
  {
   "cell_type": "code",
   "execution_count": 131,
   "metadata": {},
   "outputs": [],
   "source": [
    "max_depth = 10\n",
    "min_instances = 50\n",
    "root = BuildTree(X_train, y_train, 0, max_depth, min_instances)\n",
    "# traverse_tree(root)"
   ]
  },
  {
   "cell_type": "code",
   "execution_count": 132,
   "metadata": {},
   "outputs": [],
   "source": [
    "# Evaluate a given instance\n",
    "def evaluate_instance(X, root):\n",
    "        \n",
    "    current_node = root\n",
    "\n",
    "    # Traverse the tree until a leaf node is reached\n",
    "    while isinstance(current_node, Node):\n",
    "        if X[current_node.dim] <= current_node.val:\n",
    "            current_node = current_node.left\n",
    "        else: \n",
    "            current_node = current_node.right\n",
    "\n",
    "    if isinstance(current_node, Leaf):\n",
    "        return current_node.data\n",
    "\n",
    "    # If the root is a leaf node (directly passed), just return its value\n",
    "    return current_node.data"
   ]
  },
  {
   "cell_type": "code",
   "execution_count": 136,
   "metadata": {},
   "outputs": [],
   "source": [
    "def evaluate(X, y):\n",
    "    y_hat = np.zeros(y.shape)\n",
    "    for i in range (len(X)):\n",
    "        y_hat[i] = evaluate_instance(X.iloc[i], root)\n",
    "    # loss = ((y_hat - y)**2).mean()\n",
    "    loss = (np.abs(y_hat - y)).mean()\n",
    "    return loss\n"
   ]
  },
  {
   "cell_type": "code",
   "execution_count": 137,
   "metadata": {},
   "outputs": [
    {
     "name": "stdout",
     "output_type": "stream",
     "text": [
      "Loss on validation set: 0.272673669539347\n"
     ]
    }
   ],
   "source": [
    "# This is done to tune height and min_instances\n",
    "val_loss = evaluate(X_val, y_val)\n",
    "print(f\"Loss on validation set: {val_loss}\")"
   ]
  },
  {
   "cell_type": "code",
   "execution_count": 138,
   "metadata": {},
   "outputs": [
    {
     "name": "stdout",
     "output_type": "stream",
     "text": [
      "Loss on test set: 0.33680512218810493\n"
     ]
    }
   ],
   "source": [
    "test_loss = evaluate(X_test, y_test)\n",
    "print(f\"Loss on test set: {test_loss}\")"
   ]
  }
 ],
 "metadata": {
  "kernelspec": {
   "display_name": "Python 3",
   "language": "python",
   "name": "python3"
  },
  "language_info": {
   "codemirror_mode": {
    "name": "ipython",
    "version": 3
   },
   "file_extension": ".py",
   "mimetype": "text/x-python",
   "name": "python",
   "nbconvert_exporter": "python",
   "pygments_lexer": "ipython3",
   "version": "3.11.0"
  }
 },
 "nbformat": 4,
 "nbformat_minor": 2
}
