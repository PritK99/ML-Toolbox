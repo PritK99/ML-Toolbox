{
 "cells": [
  {
   "cell_type": "markdown",
   "metadata": {},
   "source": [
    "## Gender Classification with Decision Trees using First Names"
   ]
  },
  {
   "cell_type": "code",
   "execution_count": 9,
   "metadata": {},
   "outputs": [],
   "source": [
    "# import all the required libraries\n",
    "import numpy as np\n",
    "import pandas as pd\n",
    "import matplotlib.pyplot as plt"
   ]
  },
  {
   "cell_type": "code",
   "execution_count": 10,
   "metadata": {},
   "outputs": [],
   "source": [
    "# Read the dataset\n",
    "df = pd.read_csv(\"../assets/data/gender.csv\")"
   ]
  },
  {
   "cell_type": "code",
   "execution_count": 11,
   "metadata": {},
   "outputs": [
    {
     "name": "stdout",
     "output_type": "stream",
     "text": [
      "<class 'pandas.core.frame.DataFrame'>\n",
      "RangeIndex: 1294 entries, 0 to 1293\n",
      "Data columns (total 2 columns):\n",
      " #   Column  Non-Null Count  Dtype \n",
      "---  ------  --------------  ----- \n",
      " 0   Name    1294 non-null   object\n",
      " 1   Target  1294 non-null   int64 \n",
      "dtypes: int64(1), object(1)\n",
      "memory usage: 20.3+ KB\n"
     ]
    }
   ],
   "source": [
    "df.info()"
   ]
  },
  {
   "cell_type": "code",
   "execution_count": 12,
   "metadata": {},
   "outputs": [
    {
     "data": {
      "text/html": [
       "<div>\n",
       "<style scoped>\n",
       "    .dataframe tbody tr th:only-of-type {\n",
       "        vertical-align: middle;\n",
       "    }\n",
       "\n",
       "    .dataframe tbody tr th {\n",
       "        vertical-align: top;\n",
       "    }\n",
       "\n",
       "    .dataframe thead th {\n",
       "        text-align: right;\n",
       "    }\n",
       "</style>\n",
       "<table border=\"1\" class=\"dataframe\">\n",
       "  <thead>\n",
       "    <tr style=\"text-align: right;\">\n",
       "      <th></th>\n",
       "      <th>Name</th>\n",
       "      <th>Target</th>\n",
       "    </tr>\n",
       "  </thead>\n",
       "  <tbody>\n",
       "    <tr>\n",
       "      <th>0</th>\n",
       "      <td>Yash</td>\n",
       "      <td>1</td>\n",
       "    </tr>\n",
       "    <tr>\n",
       "      <th>1</th>\n",
       "      <td>Prit</td>\n",
       "      <td>1</td>\n",
       "    </tr>\n",
       "    <tr>\n",
       "      <th>2</th>\n",
       "      <td>Meet</td>\n",
       "      <td>1</td>\n",
       "    </tr>\n",
       "    <tr>\n",
       "      <th>3</th>\n",
       "      <td>Drashti</td>\n",
       "      <td>0</td>\n",
       "    </tr>\n",
       "    <tr>\n",
       "      <th>4</th>\n",
       "      <td>Saloni</td>\n",
       "      <td>0</td>\n",
       "    </tr>\n",
       "  </tbody>\n",
       "</table>\n",
       "</div>"
      ],
      "text/plain": [
       "      Name  Target\n",
       "0     Yash       1\n",
       "1     Prit       1\n",
       "2     Meet       1\n",
       "3  Drashti       0\n",
       "4   Saloni       0"
      ]
     },
     "execution_count": 12,
     "metadata": {},
     "output_type": "execute_result"
    }
   ],
   "source": [
    "df.head()"
   ]
  },
  {
   "cell_type": "code",
   "execution_count": 13,
   "metadata": {},
   "outputs": [
    {
     "data": {
      "text/html": [
       "<div>\n",
       "<style scoped>\n",
       "    .dataframe tbody tr th:only-of-type {\n",
       "        vertical-align: middle;\n",
       "    }\n",
       "\n",
       "    .dataframe tbody tr th {\n",
       "        vertical-align: top;\n",
       "    }\n",
       "\n",
       "    .dataframe thead th {\n",
       "        text-align: right;\n",
       "    }\n",
       "</style>\n",
       "<table border=\"1\" class=\"dataframe\">\n",
       "  <thead>\n",
       "    <tr style=\"text-align: right;\">\n",
       "      <th></th>\n",
       "      <th>Name</th>\n",
       "      <th>Target</th>\n",
       "    </tr>\n",
       "  </thead>\n",
       "  <tbody>\n",
       "    <tr>\n",
       "      <th>0</th>\n",
       "      <td>yash</td>\n",
       "      <td>1</td>\n",
       "    </tr>\n",
       "    <tr>\n",
       "      <th>1</th>\n",
       "      <td>prit</td>\n",
       "      <td>1</td>\n",
       "    </tr>\n",
       "    <tr>\n",
       "      <th>2</th>\n",
       "      <td>meet</td>\n",
       "      <td>1</td>\n",
       "    </tr>\n",
       "    <tr>\n",
       "      <th>3</th>\n",
       "      <td>drashti</td>\n",
       "      <td>0</td>\n",
       "    </tr>\n",
       "    <tr>\n",
       "      <th>4</th>\n",
       "      <td>saloni</td>\n",
       "      <td>0</td>\n",
       "    </tr>\n",
       "  </tbody>\n",
       "</table>\n",
       "</div>"
      ],
      "text/plain": [
       "      Name  Target\n",
       "0     yash       1\n",
       "1     prit       1\n",
       "2     meet       1\n",
       "3  drashti       0\n",
       "4   saloni       0"
      ]
     },
     "execution_count": 13,
     "metadata": {},
     "output_type": "execute_result"
    }
   ],
   "source": [
    "# Converting all names to lowercase\n",
    "df['Name'] = df['Name'].str.lower()\n",
    "df.head()"
   ]
  },
  {
   "cell_type": "code",
   "execution_count": 30,
   "metadata": {},
   "outputs": [
    {
     "name": "stdout",
     "output_type": "stream",
     "text": [
      "(702, 1)\n",
      "1\n"
     ]
    }
   ],
   "source": [
    "# Convert each name to feature vector\n",
    "X = []\n",
    "y = []\n",
    "\n",
    "# Considering the last character and bigrams in name\n",
    "num_feats = 702    # 26 letters + 26*26 bigrams = 702 features\n",
    "\n",
    "for i in range(len(df)):\n",
    "  name = df.iloc[i]['Name']\n",
    "  target = df.iloc[i]['Target']\n",
    "\n",
    "  vec = np.zeros(num_feats)\n",
    "\n",
    "  # Consider last character\n",
    "  key = name[-1]\n",
    "  if (ord(key) < 97 or ord(key) > 122):\n",
    "    continue\n",
    "  vec[ord(key)-97] +=1\n",
    "\n",
    "  # Consider all bigrams\n",
    "  for i in range(len(name)-1):\n",
    "    bigram = name[i:i+2]\n",
    "    # Skipping whitespace and extra characters if any\n",
    "    if (ord(bigram[0]) < 97 or ord(bigram[0]) > 122 or ord(bigram[1]) < 97 or ord(bigram[1]) > 122):\n",
    "      continue\n",
    "    vec[26 + (ord(bigram[0]) - 97)*26 + (ord(bigram[1]) - 97)] += 1\n",
    "\n",
    "  vec = vec.reshape(-1, 1)\n",
    "  X.append(vec)\n",
    "\n",
    "  if target == 0:\n",
    "    # 0 represents girl\n",
    "    y.append(0)\n",
    "  else:\n",
    "    # 1 represents boy\n",
    "    y.append(1)\n",
    "\n",
    "# Printing sample feature vector and label\n",
    "print(X[0].shape)\n",
    "print(y[0])"
   ]
  },
  {
   "cell_type": "code",
   "execution_count": 41,
   "metadata": {},
   "outputs": [
    {
     "name": "stdout",
     "output_type": "stream",
     "text": [
      "Number of training examples: 1034\n",
      "Number of validation examples: 129\n",
      "Number of test examples: 130\n"
     ]
    }
   ],
   "source": [
    "# Split data into train, val and test sets\n",
    "test_size = 0.1\n",
    "val_size = 0.1\n",
    "\n",
    "data = list(zip(X, y))\n",
    "\n",
    "split_index1 = int(len(data) * (1 - test_size - val_size))\n",
    "split_index2 = int(len(data) * (1 - test_size))\n",
    "train_data = data[:split_index1]\n",
    "val_data = data[split_index1:split_index2]\n",
    "test_data = data[split_index2:]\n",
    "\n",
    "X_train, y_train = zip(*train_data)\n",
    "X_test, y_test = zip(*test_data)\n",
    "X_val, y_val = zip(*val_data)\n",
    "\n",
    "X_train, X_test = np.array(X_train), np.array(X_test)\n",
    "y_train, y_test = np.array(y_train), np.array(y_test)\n",
    "X_val, y_val = np.array(X_val), np.array(y_val)\n",
    "\n",
    "X_train = pd.DataFrame(X_train.squeeze())\n",
    "X_val = pd.DataFrame(X_val.squeeze())\n",
    "X_test = pd.DataFrame(X_test.squeeze())\n",
    "\n",
    "y_train = pd.DataFrame(y_train)\n",
    "y_val = pd.DataFrame(y_val)\n",
    "y_test = pd.DataFrame(y_test)\n",
    "\n",
    "# y_train = y_train.reshape(-1, 1)\n",
    "# y_test = y_test.reshape(-1, 1)\n",
    "# y_val = y_val.reshape(-1, 1)\n",
    "\n",
    "print(f'Number of training examples: {len(X_train)}')\n",
    "print(f'Number of validation examples: {len(X_val)}')\n",
    "print(f'Number of test examples: {len(X_test)}')"
   ]
  },
  {
   "cell_type": "code",
   "execution_count": 64,
   "metadata": {},
   "outputs": [],
   "source": [
    "def calculate_entropy(y1, y2):\n",
    "    epsilon = 1e-10\n",
    "    total_len = len(y1) + len(y2)\n",
    "    \n",
    "    male_mask = y1 == 1  \n",
    "    female_mask = y1 == 0 \n",
    "\n",
    "    y1_male = y1[male_mask] \n",
    "    y1_female = y1[female_mask]\n",
    "\n",
    "    p1 = len(y1_male)/len(y1)\n",
    "    p2 = len(y1_female)/len(y1)\n",
    "\n",
    "    entropy1 = -(p1*np.log(p1+epsilon) + p2*np.log(p2+epsilon))\n",
    "\n",
    "    male_mask = y2 == 1  \n",
    "    female_mask = y2 == 0 \n",
    "\n",
    "    y2_male = y2[male_mask] \n",
    "    y2_female = y2[female_mask]\n",
    "\n",
    "    p1 = len(y2_male)/len(y2)\n",
    "    p2 = len(y2_female)/len(y2)\n",
    "\n",
    "    entropy2 = -(p1*np.log(p1 + epsilon) + p2*np.log(p2 + epsilon))\n",
    "    \n",
    "    return ((len(y1)/total_len)*entropy1 + (len(y2)/total_len)*entropy2)"
   ]
  },
  {
   "cell_type": "code",
   "execution_count": 198,
   "metadata": {},
   "outputs": [],
   "source": [
    "def get_best_split(X, y, depth):\n",
    "    best_entropy = float('inf') \n",
    "    best_split_val = 0\n",
    "    best_split_dim = 0\n",
    "\n",
    "    for col in X.columns:\n",
    "        # print(f\"Trying split at depth {depth} for column: {col}\")\n",
    "        # Sort the data for given column\n",
    "        data = X[col].drop_duplicates().sort_values().reset_index(drop=True)\n",
    "\n",
    "        # Test all split values for given column\n",
    "        for i in range(len(data) - 1):\n",
    "            split_val = (data.iloc[i] + data.iloc[i + 1]) / 2\n",
    "            \n",
    "            left_mask = X[col] <= split_val  \n",
    "            right_mask = X[col] > split_val\n",
    "\n",
    "            X_left = X[left_mask]\n",
    "            y_left = y[left_mask]\n",
    "\n",
    "            X_right = X[right_mask]\n",
    "            y_right = y[right_mask]\n",
    "\n",
    "            entropy = calculate_entropy(y_left, y_right)\n",
    "\n",
    "            if entropy < best_entropy:\n",
    "                best_entropy = entropy\n",
    "                best_split_val = split_val\n",
    "                best_split_dim = col\n",
    "    \n",
    "    # Splitting data based on best value\n",
    "    left_mask = X[best_split_dim] <= best_split_val  \n",
    "    right_mask = X[best_split_dim] > best_split_val\n",
    "\n",
    "    X_left = X[left_mask]\n",
    "    y_left = y[left_mask]\n",
    "\n",
    "    X_right = X[right_mask]\n",
    "    y_right = y[right_mask]\n",
    "    \n",
    "    return best_split_dim, best_split_val, X_left, y_left, X_right, y_right, best_entropy\n"
   ]
  },
  {
   "cell_type": "code",
   "execution_count": 199,
   "metadata": {},
   "outputs": [],
   "source": [
    "# First we define a decision node using class\n",
    "class Node:\n",
    "   def __init__(self, dim, val, left, right):\n",
    "      self.left = left\n",
    "      self.right = right\n",
    "      self.dim = dim\n",
    "      self.val = val\n",
    "\n",
    "# Defining class for a leaf node\n",
    "class Leaf:\n",
    "   def __init__(self, data):\n",
    "      self.data = data"
   ]
  },
  {
   "cell_type": "code",
   "execution_count": 215,
   "metadata": {},
   "outputs": [],
   "source": [
    "# Building the decision tree\n",
    "def BuildTree(X_train, y_train, K, max_depth, min_instances):\n",
    "    y_train = np.ravel(y_train)\n",
    "    if (len(X_train) <= min_instances):\n",
    "        most_frequent_class = np.bincount(y_train).argmax()\n",
    "        return Leaf(most_frequent_class)\n",
    "    elif (K > max_depth):\n",
    "        # Returing average of nodes\n",
    "        most_frequent_class = np.bincount(y_train).argmax()\n",
    "        return Leaf(most_frequent_class)\n",
    "    else:\n",
    "        split_dim, split_val, left_X, left_y, right_X, right_y, best_entropy = get_best_split(X_train, y_train, K)\n",
    "        if (best_entropy <= 1e-2):\n",
    "            most_frequent_class = np.bincount(y_train).argmax()\n",
    "            return Leaf(most_frequent_class)\n",
    "        return Node(split_dim, split_val, BuildTree(left_X, left_y, K+1, max_depth, min_instances), BuildTree(right_X, right_y, K+1, max_depth, min_instances))"
   ]
  },
  {
   "cell_type": "code",
   "execution_count": 216,
   "metadata": {},
   "outputs": [],
   "source": [
    "# Traversing the tree using depth first search\n",
    "def traverse_tree(node):\n",
    "    # If the node is a Leaf, print its value\n",
    "    if isinstance(node, Leaf):\n",
    "            print(f\"Gender: {node.data}\")\n",
    "\n",
    "    # If the node is a regular Node, print its dimension and value\n",
    "    elif isinstance(node, Node):\n",
    "        if (node.dim < 26):\n",
    "            # This is case for unigrams\n",
    "            print(f\"character: {chr(65 + node.dim)} with value {node.val}\")\n",
    "        else:\n",
    "            # This is case for bigrams\n",
    "            temp = node.dim - 26\n",
    "            first = temp // 26\n",
    "            second = temp % 26\n",
    "            print(f\"character: {chr(65 + first)}{chr(65 + second)} with value {node.val}\")\n",
    "\n",
    "        traverse_tree(node.left)\n",
    "        traverse_tree(node.right)"
   ]
  },
  {
   "cell_type": "code",
   "execution_count": 229,
   "metadata": {},
   "outputs": [
    {
     "name": "stdout",
     "output_type": "stream",
     "text": [
      "character: A with value 0.5\n",
      "character: I with value 0.5\n",
      "character: AL with value 0.5\n",
      "character: U with value 0.5\n",
      "character: OO with value 0.5\n",
      "Gender: 1\n",
      "Gender: 0\n",
      "character: BH with value 0.5\n",
      "Gender: 0\n",
      "Gender: 1\n",
      "character: IN with value 0.5\n",
      "character: VA with value 0.5\n",
      "Gender: 1\n",
      "Gender: 1\n",
      "Gender: 0\n",
      "character: JI with value 0.5\n",
      "character: AN with value 0.5\n",
      "character: RS with value 0.5\n",
      "Gender: 0\n",
      "Gender: 1\n",
      "Gender: 0\n",
      "Gender: 1\n",
      "character: DR with value 0.5\n",
      "character: AU with value 0.5\n",
      "character: AP with value 0.5\n",
      "character: HN with value 0.5\n",
      "Gender: 0\n",
      "Gender: 1\n",
      "Gender: 1\n",
      "Gender: 1\n",
      "character: EN with value 0.5\n",
      "Gender: 0\n",
      "Gender: 1\n"
     ]
    }
   ],
   "source": [
    "max_depth = 4\n",
    "min_instances = 5\n",
    "root = BuildTree(X_train, y_train, 0, max_depth, min_instances)\n",
    "traverse_tree(root)"
   ]
  },
  {
   "cell_type": "code",
   "execution_count": 230,
   "metadata": {},
   "outputs": [],
   "source": [
    "# Evaluate a given instance\n",
    "def evaluate_instance(X, root):\n",
    "        \n",
    "    current_node = root\n",
    "\n",
    "    # Traverse the tree until a leaf node is reached\n",
    "    while isinstance(current_node, Node):\n",
    "        if X[current_node.dim] <= current_node.val:\n",
    "            current_node = current_node.left\n",
    "        else: \n",
    "            current_node = current_node.right\n",
    "\n",
    "    if isinstance(current_node, Leaf):\n",
    "        return current_node.data\n",
    "\n",
    "    # If the root is a leaf node (directly passed), just return its value\n",
    "    return current_node.data"
   ]
  },
  {
   "cell_type": "code",
   "execution_count": 231,
   "metadata": {},
   "outputs": [],
   "source": [
    "def evaluate(X, y):\n",
    "    y = np.array(y)\n",
    "    y_hat = np.zeros(y.shape)\n",
    "    for i in range (len(X)):\n",
    "        y_hat[i] = evaluate_instance(X.iloc[i], root)\n",
    "\n",
    "    # Confusion Matrix\n",
    "    conf_matrix = [[0, 0], [0, 0]]\n",
    "    for i in range(len(y)):\n",
    "        conf_matrix[int(y_hat[i])][int(y[i])] += 1\n",
    "        \n",
    "    # Accuracy\n",
    "    accuracy = np.sum(y == y_hat) / len(y)\n",
    "    return accuracy, conf_matrix"
   ]
  },
  {
   "cell_type": "code",
   "execution_count": 232,
   "metadata": {},
   "outputs": [
    {
     "name": "stdout",
     "output_type": "stream",
     "text": [
      "Accuracy for validation set: 0.8992248062015504\n",
      "[[61, 5], [8, 55]]\n"
     ]
    }
   ],
   "source": [
    "# This is done to tune height and min_instances\n",
    "val_accuracy, conf_matrix = evaluate(X_val, y_val)\n",
    "print(f\"Accuracy for validation set: {val_accuracy}\")\n",
    "print(conf_matrix)"
   ]
  },
  {
   "cell_type": "code",
   "execution_count": 233,
   "metadata": {},
   "outputs": [
    {
     "name": "stdout",
     "output_type": "stream",
     "text": [
      "Accuracy for test set: 0.8615384615384616\n",
      "[[74, 4], [14, 38]]\n"
     ]
    }
   ],
   "source": [
    "# This is done to tune height and min_instances\n",
    "test_accuracy, conf_matrix = evaluate(X_test, y_test)\n",
    "print(f\"Accuracy for test set: {test_accuracy}\")\n",
    "print(conf_matrix)"
   ]
  }
 ],
 "metadata": {
  "kernelspec": {
   "display_name": "Python 3",
   "language": "python",
   "name": "python3"
  },
  "language_info": {
   "codemirror_mode": {
    "name": "ipython",
    "version": 3
   },
   "file_extension": ".py",
   "mimetype": "text/x-python",
   "name": "python",
   "nbconvert_exporter": "python",
   "pygments_lexer": "ipython3",
   "version": "3.11.0"
  }
 },
 "nbformat": 4,
 "nbformat_minor": 2
}
