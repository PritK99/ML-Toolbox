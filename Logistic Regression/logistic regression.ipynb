{
 "cells": [
  {
   "cell_type": "markdown",
   "metadata": {},
   "source": [
    "## Digit Binary Classification using Logitsic Regression"
   ]
  },
  {
   "cell_type": "code",
   "execution_count": 1,
   "metadata": {},
   "outputs": [],
   "source": [
    "# Import required libraries\n",
    "import numpy as np\n",
    "from sklearn.datasets import load_digits\n",
    "import random"
   ]
  },
  {
   "cell_type": "code",
   "execution_count": 2,
   "metadata": {},
   "outputs": [],
   "source": [
    "# Set up the task. class1 and class2 represents the numbers we want to distinguish.\n",
    "class1 = 7\n",
    "class2 = 0"
   ]
  },
  {
   "cell_type": "code",
   "execution_count": 3,
   "metadata": {},
   "outputs": [
    {
     "name": "stdout",
     "output_type": "stream",
     "text": [
      "357 357\n"
     ]
    }
   ],
   "source": [
    "# Load dataset\n",
    "digits = load_digits()\n",
    "\n",
    "X_list = []\n",
    "y_list = []\n",
    "for i in range(digits.target.shape[0]):\n",
    "    if digits.target[i] == class1:\n",
    "        X_list.append(digits.data[i])\n",
    "        y_list.append(0)\n",
    "    elif digits.target[i] == class2:\n",
    "        X_list.append(digits.data[i])\n",
    "        y_list.append(1)\n",
    "\n",
    "print(len(X_list), len(y_list))"
   ]
  },
  {
   "cell_type": "code",
   "execution_count": 4,
   "metadata": {},
   "outputs": [
    {
     "name": "stdout",
     "output_type": "stream",
     "text": [
      "(322, 64) (322, 1)\n",
      "(35, 64) (35, 1)\n"
     ]
    }
   ],
   "source": [
    "# Train Test split\n",
    "test_size = int(0.1 * len(X_list))\n",
    "\n",
    "# Generate random test indices\n",
    "test_indices = random.sample(range(len(X_list)), test_size)\n",
    "\n",
    "# Create test and train lists\n",
    "X_test = [X_list[i] for i in test_indices]\n",
    "y_test = [y_list[i] for i in test_indices]\n",
    "X_train = [X_list[i] for i in range(len(X_list)) if i not in test_indices]\n",
    "y_train = [y_list[i] for i in range(len(X_list)) if i not in test_indices]\n",
    "\n",
    "X_train = np.array(X_train)\n",
    "y_train = np.array(y_train)\n",
    "y_train = y_train.reshape(-1,1)\n",
    "X_test = np.array(X_test)\n",
    "y_test = np.array(y_test)\n",
    "y_test = y_test.reshape(-1,1)\n",
    "\n",
    "print(X_train.shape, y_train.shape)\n",
    "print(X_test.shape, y_test.shape)\n"
   ]
  },
  {
   "cell_type": "code",
   "execution_count": 5,
   "metadata": {},
   "outputs": [],
   "source": [
    "def sigmoid(z):\n",
    "    return (1.0 / (1 + np.exp(-z)))"
   ]
  },
  {
   "cell_type": "code",
   "execution_count": 6,
   "metadata": {},
   "outputs": [],
   "source": [
    "def forward(X, W, b):\n",
    "    return sigmoid(np.dot(X, W) + b)"
   ]
  },
  {
   "cell_type": "code",
   "execution_count": 7,
   "metadata": {},
   "outputs": [],
   "source": [
    "def loss(y, y_hat):\n",
    "    epsilon = 1e-10\n",
    "    return -np.sum(y * np.log(y_hat + epsilon) + (1 - y) * np.log(1 - y_hat + epsilon))"
   ]
  },
  {
   "cell_type": "code",
   "execution_count": 8,
   "metadata": {},
   "outputs": [],
   "source": [
    "def train(X, y, W, b, learning_rate=0.01, num_iterations=2000):\n",
    "    m = X.shape[0]\n",
    "\n",
    "    for i in range(num_iterations):\n",
    "        z = np.dot(X, W) + b\n",
    "        a = sigmoid(z)\n",
    "        if (i % 100 == 0):\n",
    "            print(\"Loss at iteration\", i, \"is\", loss(y, a))\n",
    "        dz = a - y\n",
    "        dW = (1 / m) * np.dot(dz.T, X)\n",
    "        db = (1 / m) * np.sum(dz)\n",
    "        W = W - (learning_rate*(dW.T))\n",
    "        b = b - (learning_rate * db)\n",
    "    \n",
    "    return W, b"
   ]
  },
  {
   "cell_type": "code",
   "execution_count": 9,
   "metadata": {},
   "outputs": [],
   "source": [
    "# Defining weights and bias\n",
    "W = np.random.randn(64, 1)\n",
    "b = 0"
   ]
  },
  {
   "cell_type": "code",
   "execution_count": 10,
   "metadata": {},
   "outputs": [
    {
     "name": "stdout",
     "output_type": "stream",
     "text": [
      "Loss at iteration 0 is 2775.978471719015\n",
      "Loss at iteration 100 is 75.99645282451607\n",
      "Loss at iteration 200 is 16.388592998736847\n",
      "Loss at iteration 300 is 4.885880397341427\n",
      "Loss at iteration 400 is 0.8706497674749949\n",
      "Loss at iteration 500 is 0.3550169022169262\n",
      "Loss at iteration 600 is 0.21549816963599996\n",
      "Loss at iteration 700 is 0.15409708729266597\n",
      "Loss at iteration 800 is 0.12008987728644394\n",
      "Loss at iteration 900 is 0.09862235578538825\n",
      "Loss at iteration 1000 is 0.08388200924595929\n",
      "Loss at iteration 1100 is 0.07315073704633647\n",
      "Loss at iteration 1200 is 0.06499423832256918\n",
      "Loss at iteration 1300 is 0.05858649205597418\n",
      "Loss at iteration 1400 is 0.053419193985428846\n",
      "Loss at iteration 1500 is 0.04916286041164778\n",
      "Loss at iteration 1600 is 0.04559478388908423\n",
      "Loss at iteration 1700 is 0.04255914953364853\n",
      "Loss at iteration 1800 is 0.0399437485605085\n",
      "Loss at iteration 1900 is 0.037665766029103966\n"
     ]
    }
   ],
   "source": [
    "W, b = train(X_train, y_train, W, b)"
   ]
  },
  {
   "cell_type": "code",
   "execution_count": 11,
   "metadata": {},
   "outputs": [
    {
     "name": "stdout",
     "output_type": "stream",
     "text": [
      "Train Accuracy:  1.0\n",
      "Test Accuracy:  0.9714285714285714\n"
     ]
    }
   ],
   "source": [
    "def get_accuracy(X, y):\n",
    "    miss = 0\n",
    "    z = forward(X, W, b)\n",
    "    res = (z >= 0.5).astype(int)\n",
    "\n",
    "    for i in range(len(y)):\n",
    "        if (res[i]!= y[i]):\n",
    "            miss += 1\n",
    "\n",
    "    accuracy = (len(y) - miss) / len(y)\n",
    "    return accuracy\n",
    "\n",
    "accuracy = get_accuracy(X_train, y_train)\n",
    "print(\"Train Accuracy: \", accuracy)\n",
    "accuracy = get_accuracy(X_test, y_test)\n",
    "print(\"Test Accuracy: \", accuracy)"
   ]
  },
  {
   "cell_type": "code",
   "execution_count": 12,
   "metadata": {},
   "outputs": [
    {
     "data": {
      "text/plain": [
       "7"
      ]
     },
     "execution_count": 12,
     "metadata": {},
     "output_type": "execute_result"
    }
   ],
   "source": [
    "def predict(X):\n",
    "    res = forward(X, W, b)\n",
    "    label = 0\n",
    "    if (res >= 0.5):\n",
    "        label = 1\n",
    "    \n",
    "    if (label == 0):\n",
    "        return class1\n",
    "    else:\n",
    "        return class2\n",
    "    \n",
    "predict(X_test[3])\n"
   ]
  }
 ],
 "metadata": {
  "kernelspec": {
   "display_name": "Python 3",
   "language": "python",
   "name": "python3"
  },
  "language_info": {
   "codemirror_mode": {
    "name": "ipython",
    "version": 3
   },
   "file_extension": ".py",
   "mimetype": "text/x-python",
   "name": "python",
   "nbconvert_exporter": "python",
   "pygments_lexer": "ipython3",
   "version": "3.11.0"
  }
 },
 "nbformat": 4,
 "nbformat_minor": 2
}
